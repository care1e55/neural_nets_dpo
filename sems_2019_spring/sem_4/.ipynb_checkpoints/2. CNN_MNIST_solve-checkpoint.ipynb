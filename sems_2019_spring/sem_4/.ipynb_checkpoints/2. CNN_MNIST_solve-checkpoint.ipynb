{
 "cells": [
  {
   "cell_type": "markdown",
   "metadata": {},
   "source": [
    "# Наша первая свёрточная нейросеть \n",
    "\n",
    "Пришло время построить нашу первую свёрточную нейросеть. Будем использовать для этого датасет [MNIST.](https://www.cs.toronto.edu/~kriz/cifar.html) Набор данных включает в себя изображения рукописных цифр.  \n",
    "\n",
    "<img src=\"https://cdn-images-1.medium.com/max/1600/1*Riqqoa7vKHXnFHvaGfDFjA.png\" style=\"width:90%\">"
   ]
  },
  {
   "cell_type": "code",
   "execution_count": 1,
   "metadata": {},
   "outputs": [
    {
     "name": "stderr",
     "output_type": "stream",
     "text": [
      "/usr/local/lib/python3.6/site-packages/h5py/__init__.py:36: FutureWarning: Conversion of the second argument of issubdtype from `float` to `np.floating` is deprecated. In future, it will be treated as `np.float64 == np.dtype(float).type`.\n",
      "  from ._conv import register_converters as _register_converters\n",
      "Using TensorFlow backend.\n",
      "/usr/local/Cellar/python/3.6.4_4/Frameworks/Python.framework/Versions/3.6/lib/python3.6/importlib/_bootstrap.py:219: RuntimeWarning: compiletime version 3.5 of module 'tensorflow.python.framework.fast_tensor_util' does not match runtime version 3.6\n",
      "  return f(*args, **kwds)\n"
     ]
    }
   ],
   "source": [
    "# подгружаем пакеты\n",
    "import numpy as np\n",
    "import random\n",
    "from tqdm import tqdm\n",
    "\n",
    "import keras\n",
    "from keras import backend as K\n",
    "\n",
    "%matplotlib inline\n",
    "import matplotlib.pyplot as plt"
   ]
  },
  {
   "cell_type": "markdown",
   "metadata": {},
   "source": [
    "## 1. Смотрим на данные \n",
    "\n",
    "Скачаеми приготовим данные. Буквально через минуту в наших руках окажутся $60 000$ картинок размера $28 \\times 28$."
   ]
  },
  {
   "cell_type": "code",
   "execution_count": 2,
   "metadata": {},
   "outputs": [],
   "source": [
    "from keras.datasets import mnist\n",
    "(x_tr, y_tr), (x_ts, y_ts) = mnist.load_data()"
   ]
  },
  {
   "cell_type": "code",
   "execution_count": 3,
   "metadata": {},
   "outputs": [
    {
     "name": "stdout",
     "output_type": "stream",
     "text": [
      "Train samples: (60000, 28, 28) (60000,)\n",
      "Test samples: (10000, 28, 28) (10000,)\n"
     ]
    }
   ],
   "source": [
    "print(\"Train samples:\", x_tr.shape, y_tr.shape)\n",
    "print(\"Test samples:\", x_ts.shape, y_ts.shape)"
   ]
  },
  {
   "cell_type": "markdown",
   "metadata": {},
   "source": [
    "Нарисуем несколько рандомных картинок из тренировочной выборки. "
   ]
  },
  {
   "cell_type": "code",
   "execution_count": 6,
   "metadata": {},
   "outputs": [
    {
     "data": {
      "image/png": "[encoded data removed]",
      "text/plain": [
       "<matplotlib.figure.Figure at 0x1121f8208>"
      ]
     },
     "metadata": {},
     "output_type": "display_data"
    }
   ],
   "source": [
    "cols = 8\n",
    "rows = 2\n",
    "fig = plt.figure(figsize=(2 * cols - 1, 2.5 * rows - 1))\n",
    "for i in range(cols):\n",
    "    for j in range(rows):\n",
    "        random_index = np.random.randint(0, len(y_tr))\n",
    "        ax = fig.add_subplot(rows, cols, i * rows + j + 1)\n",
    "        ax.grid('off')\n",
    "        ax.axis('off')\n",
    "        ax.imshow(x_tr[random_index, :], cmap = 'gray')\n",
    "plt.show()"
   ]
  },
  {
   "cell_type": "markdown",
   "metadata": {},
   "source": [
    "Отлично! Как вы помните, если пронормаровать данные, то сетка будет сходиться на порядок быстрее. \n",
    "\n",
    "Также, как вы помните из предыдущих скриптов, картинка - это тензор из циферок. Каждая циферка сообщает нам о яркости конкретного пикселя. Яркость измеряется по шкале от 0 до 255. В связи с этим фактом, нормализация будет немного странной: \n",
    "\n",
    "$$\n",
    "x_{norm} = \\frac{x}{255}\n",
    "$$"
   ]
  },
  {
   "cell_type": "code",
   "execution_count": 7,
   "metadata": {},
   "outputs": [],
   "source": [
    "# делай раз\n",
    "x_train = x_tr/255\n",
    "x_test =  x_ts/255\n",
    "\n",
    "# Оставляем одну размерность на число каналов\n",
    "x_train = np.reshape(x_train, (len(x_train), 28, 28, 1))  \n",
    "x_test = np.reshape(x_test, (len(x_test), 28, 28, 1))     "
   ]
  },
  {
   "cell_type": "markdown",
   "metadata": {},
   "source": [
    "Также мы помним, что классы нужно конвертировать одним горячи кодированием (one-hot encoding) в набор из дамми-переменных. \n",
    "\n",
    "```\n",
    "0 → [1, 0, 0, 0, 0, 0, 0, 0, 0]\n",
    "1 → [0, 1, 0, 0, 0, 0, 0, 0, 0]\n",
    "2 → [0, 0, 1, 0, 0, 0, 0, 0, 0]\n",
    "3 → [0, 0, 0, 1, 0, 0, 0, 0, 0]\n",
    "etc...\n",
    "```"
   ]
  },
  {
   "cell_type": "code",
   "execution_count": 8,
   "metadata": {},
   "outputs": [
    {
     "data": {
      "text/plain": [
       "array([[0., 0., 0., ..., 1., 0., 0.],\n",
       "       [0., 0., 1., ..., 0., 0., 0.],\n",
       "       [0., 1., 0., ..., 0., 0., 0.],\n",
       "       ...,\n",
       "       [0., 0., 0., ..., 0., 0., 0.],\n",
       "       [0., 0., 0., ..., 0., 0., 0.],\n",
       "       [0., 0., 0., ..., 0., 0., 0.]])"
      ]
     },
     "execution_count": 8,
     "metadata": {},
     "output_type": "execute_result"
    }
   ],
   "source": [
    "# делай два! \n",
    "y_train = keras.utils.to_categorical(y_tr,10)\n",
    "y_test = keras.utils.to_categorical(y_ts,10)\n",
    "\n",
    "# Размерность после конвертации будет вот такой: (?, NUM_CLASSES)\n",
    "y_test"
   ]
  },
  {
   "cell_type": "code",
   "execution_count": 9,
   "metadata": {},
   "outputs": [
    {
     "name": "stdout",
     "output_type": "stream",
     "text": [
      "(60000, 28, 28, 1)\n",
      "(10000, 28, 28, 1)\n"
     ]
    }
   ],
   "source": [
    "print(x_train.shape)\n",
    "print(x_test.shape)"
   ]
  },
  {
   "cell_type": "markdown",
   "metadata": {},
   "source": [
    "## 2.  Выбираем для нашей нейросети архитектуру\n",
    "\n",
    "Свёрточная нейронная сеть строится из нескольких разных типов слоёв: \n",
    "\n",
    "* [Conv2D](https://keras.io/layers/convolutional/#conv2d) - Конволюция:\n",
    "    - **filters**: число выходных каналов; \n",
    "    - **kernel_size**: размер окна для свёртки;\n",
    "    - **padding**: padding=\"same\" добавляет нулевую каёмку по краям картинки, чтбы после свёртки размеры картинки не изменялись; padding='valid' ничего не добавляет;\n",
    "    - **activation**: \"relu\", \"tanh\", etc.\n",
    "    - **input_shape**: размер входа\n",
    "* [MaxPooling2D](https://keras.io/layers/pooling/#maxpooling2d) - макспулинг\n",
    "* [Flatten](https://keras.io/layers/core/#flatten) - разворачивает картинку в вектор \n",
    "* [Dense](https://keras.io/layers/core/#dense) - полносвязный слой (fully-connected layer)\n",
    "* [Activation](https://keras.io/layers/core/#activation) - функция активации\n",
    "* [LeakyReLU](https://keras.io/layers/advanced-activations/#leakyrelu) - leaky relu активация\n",
    "* [Dropout](https://keras.io/layers/core/#dropout) - дропаут.\n",
    "\n",
    "\n",
    "В модели, которую мы определим ниже, на вход будет идти тензоры размера __(None, 28, 28, 1)__ и __(None, 10)__. На выходе мы будем получать вероятноть того, что объект относится к конкретному классу. Разменость __None__ заготовлена для размерности батча. "
   ]
  },
  {
   "cell_type": "code",
   "execution_count": 10,
   "metadata": {},
   "outputs": [],
   "source": [
    "# подгружаем важные строительные блоки\n",
    "from keras.models import Sequential\n",
    "from keras.layers import Conv2D, MaxPooling2D, Flatten, Dense, Activation, Dropout, InputLayer\n",
    "from keras.layers.advanced_activations import LeakyReLU"
   ]
  },
  {
   "cell_type": "markdown",
   "metadata": {},
   "source": [
    "### 2.1 Полносвязная сетка \n",
    "\n",
    "Соберём двухслойную полносвязную сетку: \n",
    "\n",
    "* Вход\n",
    "* Развернём картинку в вектор \n",
    "* Полносвязный слой с 64 нейронами\n",
    "* RELU \n",
    "* Полносвязный слой с 32 нейронами \n",
    "* Dropout с вероятностью 0.5 \n",
    "* RELU \n",
    "* Полносвязный слой с 16 нейронами \n",
    "* Dropout с вероятностью 0.5 \n",
    "* RELU \n",
    "* Слой с 10 нейронами для клссов, в качестве активации используйте Softmax"
   ]
  },
  {
   "cell_type": "code",
   "execution_count": 11,
   "metadata": {},
   "outputs": [],
   "source": [
    "model_1 = Sequential( )\n",
    "\n",
    "model_1.add(InputLayer([28, 28, 1]))\n",
    "model_1.add(Flatten()) \n",
    "\n",
    "model_1.add(Dense(64))\n",
    "model_1.add(Activation('relu'))\n",
    "\n",
    "model_1.add(Dense(32))\n",
    "model_1.add(Dropout(0.5))\n",
    "model_1.add(Activation('relu'))\n",
    "\n",
    "model_1.add(Dense(16))\n",
    "model_1.add(Dropout(0.5))\n",
    "model_1.add(Activation('relu'))\n",
    "\n",
    "model_1.add(Dense(10, activation='softmax'))\n",
    "\n",
    "model_1.compile(\"adam\", \"categorical_crossentropy\", metrics=[\"accuracy\"])"
   ]
  },
  {
   "cell_type": "code",
   "execution_count": 12,
   "metadata": {},
   "outputs": [
    {
     "name": "stdout",
     "output_type": "stream",
     "text": [
      "_________________________________________________________________\n",
      "Layer (type)                 Output Shape              Param #   \n",
      "=================================================================\n",
      "input_1 (InputLayer)         (None, 28, 28, 1)         0         \n",
      "_________________________________________________________________\n",
      "flatten_1 (Flatten)          (None, 784)               0         \n",
      "_________________________________________________________________\n",
      "dense_1 (Dense)              (None, 64)                50240     \n",
      "_________________________________________________________________\n",
      "activation_1 (Activation)    (None, 64)                0         \n",
      "_________________________________________________________________\n",
      "dense_2 (Dense)              (None, 32)                2080      \n",
      "_________________________________________________________________\n",
      "dropout_1 (Dropout)          (None, 32)                0         \n",
      "_________________________________________________________________\n",
      "activation_2 (Activation)    (None, 32)                0         \n",
      "_________________________________________________________________\n",
      "dense_3 (Dense)              (None, 16)                528       \n",
      "_________________________________________________________________\n",
      "dropout_2 (Dropout)          (None, 16)                0         \n",
      "_________________________________________________________________\n",
      "activation_3 (Activation)    (None, 16)                0         \n",
      "_________________________________________________________________\n",
      "dense_4 (Dense)              (None, 10)                170       \n",
      "=================================================================\n",
      "Total params: 53,018\n",
      "Trainable params: 53,018\n",
      "Non-trainable params: 0\n",
      "_________________________________________________________________\n"
     ]
    }
   ],
   "source": [
    "model_1.summary()"
   ]
  },
  {
   "cell_type": "markdown",
   "metadata": {},
   "source": [
    "Можно визуализировать внутренними средствами keras сетку, которую мы собираем. "
   ]
  },
  {
   "cell_type": "code",
   "execution_count": 13,
   "metadata": {},
   "outputs": [
    {
     "data": {
      "image/svg+xml": [
       "<svg height=\"863pt\" viewBox=\"0.00 0.00 303.68 863.00\" width=\"304pt\" xmlns=\"http://www.w3.org/2000/svg\" xmlns:xlink=\"http://www.w3.org/1999/xlink\">\n",
       "<g class=\"graph\" id=\"graph0\" transform=\"scale(1 1) rotate(0) translate(4 859)\">\n",
       "<title>G</title>\n",
       "<polygon fill=\"#ffffff\" points=\"-4,4 -4,-859 299.6797,-859 299.6797,4 -4,4\" stroke=\"transparent\"/>\n",
       "<!-- 4668050568 -->\n",
       "<g class=\"node\" id=\"node1\">\n",
       "<title>4668050568</title>\n",
       "<polygon fill=\"none\" points=\"0,-810.5 0,-854.5 295.6797,-854.5 295.6797,-810.5 0,-810.5\" stroke=\"#000000\"/>\n",
       "<text fill=\"#000000\" font-family=\"Times,serif\" font-size=\"14.00\" text-anchor=\"middle\" x=\"64.1812\" y=\"-828.3\">input_1: InputLayer</text>\n",
       "<polyline fill=\"none\" points=\"128.3623,-810.5 128.3623,-854.5 \" stroke=\"#000000\"/>\n",
       "<text fill=\"#000000\" font-family=\"Times,serif\" font-size=\"14.00\" text-anchor=\"middle\" x=\"156.1968\" y=\"-839.3\">input:</text>\n",
       "<polyline fill=\"none\" points=\"128.3623,-832.5 184.0313,-832.5 \" stroke=\"#000000\"/>\n",
       "<text fill=\"#000000\" font-family=\"Times,serif\" font-size=\"14.00\" text-anchor=\"middle\" x=\"156.1968\" y=\"-817.3\">output:</text>\n",
       "<polyline fill=\"none\" points=\"184.0313,-810.5 184.0313,-854.5 \" stroke=\"#000000\"/>\n",
       "<text fill=\"#000000\" font-family=\"Times,serif\" font-size=\"14.00\" text-anchor=\"middle\" x=\"239.8555\" y=\"-839.3\">(None, 28, 28, 1)</text>\n",
       "<polyline fill=\"none\" points=\"184.0313,-832.5 295.6797,-832.5 \" stroke=\"#000000\"/>\n",
       "<text fill=\"#000000\" font-family=\"Times,serif\" font-size=\"14.00\" text-anchor=\"middle\" x=\"239.8555\" y=\"-817.3\">(None, 28, 28, 1)</text>\n",
       "</g>\n",
       "<!-- 4660306160 -->\n",
       "<g class=\"node\" id=\"node2\">\n",
       "<title>4660306160</title>\n",
       "<polygon fill=\"none\" points=\"8.5483,-729.5 8.5483,-773.5 287.1313,-773.5 287.1313,-729.5 8.5483,-729.5\" stroke=\"#000000\"/>\n",
       "<text fill=\"#000000\" font-family=\"Times,serif\" font-size=\"14.00\" text-anchor=\"middle\" x=\"64.1812\" y=\"-747.3\">flatten_1: Flatten</text>\n",
       "<polyline fill=\"none\" points=\"119.814,-729.5 119.814,-773.5 \" stroke=\"#000000\"/>\n",
       "<text fill=\"#000000\" font-family=\"Times,serif\" font-size=\"14.00\" text-anchor=\"middle\" x=\"147.6484\" y=\"-758.3\">input:</text>\n",
       "<polyline fill=\"none\" points=\"119.814,-751.5 175.4829,-751.5 \" stroke=\"#000000\"/>\n",
       "<text fill=\"#000000\" font-family=\"Times,serif\" font-size=\"14.00\" text-anchor=\"middle\" x=\"147.6484\" y=\"-736.3\">output:</text>\n",
       "<polyline fill=\"none\" points=\"175.4829,-729.5 175.4829,-773.5 \" stroke=\"#000000\"/>\n",
       "<text fill=\"#000000\" font-family=\"Times,serif\" font-size=\"14.00\" text-anchor=\"middle\" x=\"231.3071\" y=\"-758.3\">(None, 28, 28, 1)</text>\n",
       "<polyline fill=\"none\" points=\"175.4829,-751.5 287.1313,-751.5 \" stroke=\"#000000\"/>\n",
       "<text fill=\"#000000\" font-family=\"Times,serif\" font-size=\"14.00\" text-anchor=\"middle\" x=\"231.3071\" y=\"-736.3\">(None, 784)</text>\n",
       "</g>\n",
       "<!-- 4668050568&#45;&gt;4660306160 -->\n",
       "<g class=\"edge\" id=\"edge1\">\n",
       "<title>4668050568-&gt;4660306160</title>\n",
       "<path d=\"M147.8398,-810.3664C147.8398,-802.1516 147.8398,-792.6579 147.8398,-783.7252\" fill=\"none\" stroke=\"#000000\"/>\n",
       "<polygon fill=\"#000000\" points=\"151.3399,-783.6068 147.8398,-773.6068 144.3399,-783.6069 151.3399,-783.6068\" stroke=\"#000000\"/>\n",
       "</g>\n",
       "<!-- 4669754224 -->\n",
       "<g class=\"node\" id=\"node3\">\n",
       "<title>4669754224</title>\n",
       "<polygon fill=\"none\" points=\"26.0552,-648.5 26.0552,-692.5 269.6245,-692.5 269.6245,-648.5 26.0552,-648.5\" stroke=\"#000000\"/>\n",
       "<text fill=\"#000000\" font-family=\"Times,serif\" font-size=\"14.00\" text-anchor=\"middle\" x=\"78.1812\" y=\"-666.3\">dense_1: Dense</text>\n",
       "<polyline fill=\"none\" points=\"130.3071,-648.5 130.3071,-692.5 \" stroke=\"#000000\"/>\n",
       "<text fill=\"#000000\" font-family=\"Times,serif\" font-size=\"14.00\" text-anchor=\"middle\" x=\"158.1416\" y=\"-677.3\">input:</text>\n",
       "<polyline fill=\"none\" points=\"130.3071,-670.5 185.9761,-670.5 \" stroke=\"#000000\"/>\n",
       "<text fill=\"#000000\" font-family=\"Times,serif\" font-size=\"14.00\" text-anchor=\"middle\" x=\"158.1416\" y=\"-655.3\">output:</text>\n",
       "<polyline fill=\"none\" points=\"185.9761,-648.5 185.9761,-692.5 \" stroke=\"#000000\"/>\n",
       "<text fill=\"#000000\" font-family=\"Times,serif\" font-size=\"14.00\" text-anchor=\"middle\" x=\"227.8003\" y=\"-677.3\">(None, 784)</text>\n",
       "<polyline fill=\"none\" points=\"185.9761,-670.5 269.6245,-670.5 \" stroke=\"#000000\"/>\n",
       "<text fill=\"#000000\" font-family=\"Times,serif\" font-size=\"14.00\" text-anchor=\"middle\" x=\"227.8003\" y=\"-655.3\">(None, 64)</text>\n",
       "</g>\n",
       "<!-- 4660306160&#45;&gt;4669754224 -->\n",
       "<g class=\"edge\" id=\"edge2\">\n",
       "<title>4660306160-&gt;4669754224</title>\n",
       "<path d=\"M147.8398,-729.3664C147.8398,-721.1516 147.8398,-711.6579 147.8398,-702.7252\" fill=\"none\" stroke=\"#000000\"/>\n",
       "<polygon fill=\"#000000\" points=\"151.3399,-702.6068 147.8398,-692.6068 144.3399,-702.6069 151.3399,-702.6068\" stroke=\"#000000\"/>\n",
       "</g>\n",
       "<!-- 4671705328 -->\n",
       "<g class=\"node\" id=\"node4\">\n",
       "<title>4671705328</title>\n",
       "<polygon fill=\"none\" points=\"6.2207,-567.5 6.2207,-611.5 289.459,-611.5 289.459,-567.5 6.2207,-567.5\" stroke=\"#000000\"/>\n",
       "<text fill=\"#000000\" font-family=\"Times,serif\" font-size=\"14.00\" text-anchor=\"middle\" x=\"81.6812\" y=\"-585.3\">activation_1: Activation</text>\n",
       "<polyline fill=\"none\" points=\"157.1416,-567.5 157.1416,-611.5 \" stroke=\"#000000\"/>\n",
       "<text fill=\"#000000\" font-family=\"Times,serif\" font-size=\"14.00\" text-anchor=\"middle\" x=\"184.9761\" y=\"-596.3\">input:</text>\n",
       "<polyline fill=\"none\" points=\"157.1416,-589.5 212.8105,-589.5 \" stroke=\"#000000\"/>\n",
       "<text fill=\"#000000\" font-family=\"Times,serif\" font-size=\"14.00\" text-anchor=\"middle\" x=\"184.9761\" y=\"-574.3\">output:</text>\n",
       "<polyline fill=\"none\" points=\"212.8105,-567.5 212.8105,-611.5 \" stroke=\"#000000\"/>\n",
       "<text fill=\"#000000\" font-family=\"Times,serif\" font-size=\"14.00\" text-anchor=\"middle\" x=\"251.1348\" y=\"-596.3\">(None, 64)</text>\n",
       "<polyline fill=\"none\" points=\"212.8105,-589.5 289.459,-589.5 \" stroke=\"#000000\"/>\n",
       "<text fill=\"#000000\" font-family=\"Times,serif\" font-size=\"14.00\" text-anchor=\"middle\" x=\"251.1348\" y=\"-574.3\">(None, 64)</text>\n",
       "</g>\n",
       "<!-- 4669754224&#45;&gt;4671705328 -->\n",
       "<g class=\"edge\" id=\"edge3\">\n",
       "<title>4669754224-&gt;4671705328</title>\n",
       "<path d=\"M147.8398,-648.3664C147.8398,-640.1516 147.8398,-630.6579 147.8398,-621.7252\" fill=\"none\" stroke=\"#000000\"/>\n",
       "<polygon fill=\"#000000\" points=\"151.3399,-621.6068 147.8398,-611.6068 144.3399,-621.6069 151.3399,-621.6068\" stroke=\"#000000\"/>\n",
       "</g>\n",
       "<!-- 4671771648 -->\n",
       "<g class=\"node\" id=\"node5\">\n",
       "<title>4671771648</title>\n",
       "<polygon fill=\"none\" points=\"29.5552,-486.5 29.5552,-530.5 266.1245,-530.5 266.1245,-486.5 29.5552,-486.5\" stroke=\"#000000\"/>\n",
       "<text fill=\"#000000\" font-family=\"Times,serif\" font-size=\"14.00\" text-anchor=\"middle\" x=\"81.6812\" y=\"-504.3\">dense_2: Dense</text>\n",
       "<polyline fill=\"none\" points=\"133.8071,-486.5 133.8071,-530.5 \" stroke=\"#000000\"/>\n",
       "<text fill=\"#000000\" font-family=\"Times,serif\" font-size=\"14.00\" text-anchor=\"middle\" x=\"161.6416\" y=\"-515.3\">input:</text>\n",
       "<polyline fill=\"none\" points=\"133.8071,-508.5 189.4761,-508.5 \" stroke=\"#000000\"/>\n",
       "<text fill=\"#000000\" font-family=\"Times,serif\" font-size=\"14.00\" text-anchor=\"middle\" x=\"161.6416\" y=\"-493.3\">output:</text>\n",
       "<polyline fill=\"none\" points=\"189.4761,-486.5 189.4761,-530.5 \" stroke=\"#000000\"/>\n",
       "<text fill=\"#000000\" font-family=\"Times,serif\" font-size=\"14.00\" text-anchor=\"middle\" x=\"227.8003\" y=\"-515.3\">(None, 64)</text>\n",
       "<polyline fill=\"none\" points=\"189.4761,-508.5 266.1245,-508.5 \" stroke=\"#000000\"/>\n",
       "<text fill=\"#000000\" font-family=\"Times,serif\" font-size=\"14.00\" text-anchor=\"middle\" x=\"227.8003\" y=\"-493.3\">(None, 32)</text>\n",
       "</g>\n",
       "<!-- 4671705328&#45;&gt;4671771648 -->\n",
       "<g class=\"edge\" id=\"edge4\">\n",
       "<title>4671705328-&gt;4671771648</title>\n",
       "<path d=\"M147.8398,-567.3664C147.8398,-559.1516 147.8398,-549.6579 147.8398,-540.7252\" fill=\"none\" stroke=\"#000000\"/>\n",
       "<polygon fill=\"#000000\" points=\"151.3399,-540.6068 147.8398,-530.6068 144.3399,-540.6069 151.3399,-540.6068\" stroke=\"#000000\"/>\n",
       "</g>\n",
       "<!-- 4671770696 -->\n",
       "<g class=\"node\" id=\"node6\">\n",
       "<title>4671770696</title>\n",
       "<polygon fill=\"none\" points=\"17.8794,-405.5 17.8794,-449.5 277.8003,-449.5 277.8003,-405.5 17.8794,-405.5\" stroke=\"#000000\"/>\n",
       "<text fill=\"#000000\" font-family=\"Times,serif\" font-size=\"14.00\" text-anchor=\"middle\" x=\"81.6812\" y=\"-423.3\">dropout_1: Dropout</text>\n",
       "<polyline fill=\"none\" points=\"145.4829,-405.5 145.4829,-449.5 \" stroke=\"#000000\"/>\n",
       "<text fill=\"#000000\" font-family=\"Times,serif\" font-size=\"14.00\" text-anchor=\"middle\" x=\"173.3174\" y=\"-434.3\">input:</text>\n",
       "<polyline fill=\"none\" points=\"145.4829,-427.5 201.1519,-427.5 \" stroke=\"#000000\"/>\n",
       "<text fill=\"#000000\" font-family=\"Times,serif\" font-size=\"14.00\" text-anchor=\"middle\" x=\"173.3174\" y=\"-412.3\">output:</text>\n",
       "<polyline fill=\"none\" points=\"201.1519,-405.5 201.1519,-449.5 \" stroke=\"#000000\"/>\n",
       "<text fill=\"#000000\" font-family=\"Times,serif\" font-size=\"14.00\" text-anchor=\"middle\" x=\"239.4761\" y=\"-434.3\">(None, 32)</text>\n",
       "<polyline fill=\"none\" points=\"201.1519,-427.5 277.8003,-427.5 \" stroke=\"#000000\"/>\n",
       "<text fill=\"#000000\" font-family=\"Times,serif\" font-size=\"14.00\" text-anchor=\"middle\" x=\"239.4761\" y=\"-412.3\">(None, 32)</text>\n",
       "</g>\n",
       "<!-- 4671771648&#45;&gt;4671770696 -->\n",
       "<g class=\"edge\" id=\"edge5\">\n",
       "<title>4671771648-&gt;4671770696</title>\n",
       "<path d=\"M147.8398,-486.3664C147.8398,-478.1516 147.8398,-468.6579 147.8398,-459.7252\" fill=\"none\" stroke=\"#000000\"/>\n",
       "<polygon fill=\"#000000\" points=\"151.3399,-459.6068 147.8398,-449.6068 144.3399,-459.6069 151.3399,-459.6068\" stroke=\"#000000\"/>\n",
       "</g>\n",
       "<!-- 5118143232 -->\n",
       "<g class=\"node\" id=\"node7\">\n",
       "<title>5118143232</title>\n",
       "<polygon fill=\"none\" points=\"6.2207,-324.5 6.2207,-368.5 289.459,-368.5 289.459,-324.5 6.2207,-324.5\" stroke=\"#000000\"/>\n",
       "<text fill=\"#000000\" font-family=\"Times,serif\" font-size=\"14.00\" text-anchor=\"middle\" x=\"81.6812\" y=\"-342.3\">activation_2: Activation</text>\n",
       "<polyline fill=\"none\" points=\"157.1416,-324.5 157.1416,-368.5 \" stroke=\"#000000\"/>\n",
       "<text fill=\"#000000\" font-family=\"Times,serif\" font-size=\"14.00\" text-anchor=\"middle\" x=\"184.9761\" y=\"-353.3\">input:</text>\n",
       "<polyline fill=\"none\" points=\"157.1416,-346.5 212.8105,-346.5 \" stroke=\"#000000\"/>\n",
       "<text fill=\"#000000\" font-family=\"Times,serif\" font-size=\"14.00\" text-anchor=\"middle\" x=\"184.9761\" y=\"-331.3\">output:</text>\n",
       "<polyline fill=\"none\" points=\"212.8105,-324.5 212.8105,-368.5 \" stroke=\"#000000\"/>\n",
       "<text fill=\"#000000\" font-family=\"Times,serif\" font-size=\"14.00\" text-anchor=\"middle\" x=\"251.1348\" y=\"-353.3\">(None, 32)</text>\n",
       "<polyline fill=\"none\" points=\"212.8105,-346.5 289.459,-346.5 \" stroke=\"#000000\"/>\n",
       "<text fill=\"#000000\" font-family=\"Times,serif\" font-size=\"14.00\" text-anchor=\"middle\" x=\"251.1348\" y=\"-331.3\">(None, 32)</text>\n",
       "</g>\n",
       "<!-- 4671770696&#45;&gt;5118143232 -->\n",
       "<g class=\"edge\" id=\"edge6\">\n",
       "<title>4671770696-&gt;5118143232</title>\n",
       "<path d=\"M147.8398,-405.3664C147.8398,-397.1516 147.8398,-387.6579 147.8398,-378.7252\" fill=\"none\" stroke=\"#000000\"/>\n",
       "<polygon fill=\"#000000\" points=\"151.3399,-378.6068 147.8398,-368.6068 144.3399,-378.6069 151.3399,-378.6068\" stroke=\"#000000\"/>\n",
       "</g>\n",
       "<!-- 5118142840 -->\n",
       "<g class=\"node\" id=\"node8\">\n",
       "<title>5118142840</title>\n",
       "<polygon fill=\"none\" points=\"29.5552,-243.5 29.5552,-287.5 266.1245,-287.5 266.1245,-243.5 29.5552,-243.5\" stroke=\"#000000\"/>\n",
       "<text fill=\"#000000\" font-family=\"Times,serif\" font-size=\"14.00\" text-anchor=\"middle\" x=\"81.6812\" y=\"-261.3\">dense_3: Dense</text>\n",
       "<polyline fill=\"none\" points=\"133.8071,-243.5 133.8071,-287.5 \" stroke=\"#000000\"/>\n",
       "<text fill=\"#000000\" font-family=\"Times,serif\" font-size=\"14.00\" text-anchor=\"middle\" x=\"161.6416\" y=\"-272.3\">input:</text>\n",
       "<polyline fill=\"none\" points=\"133.8071,-265.5 189.4761,-265.5 \" stroke=\"#000000\"/>\n",
       "<text fill=\"#000000\" font-family=\"Times,serif\" font-size=\"14.00\" text-anchor=\"middle\" x=\"161.6416\" y=\"-250.3\">output:</text>\n",
       "<polyline fill=\"none\" points=\"189.4761,-243.5 189.4761,-287.5 \" stroke=\"#000000\"/>\n",
       "<text fill=\"#000000\" font-family=\"Times,serif\" font-size=\"14.00\" text-anchor=\"middle\" x=\"227.8003\" y=\"-272.3\">(None, 32)</text>\n",
       "<polyline fill=\"none\" points=\"189.4761,-265.5 266.1245,-265.5 \" stroke=\"#000000\"/>\n",
       "<text fill=\"#000000\" font-family=\"Times,serif\" font-size=\"14.00\" text-anchor=\"middle\" x=\"227.8003\" y=\"-250.3\">(None, 16)</text>\n",
       "</g>\n",
       "<!-- 5118143232&#45;&gt;5118142840 -->\n",
       "<g class=\"edge\" id=\"edge7\">\n",
       "<title>5118143232-&gt;5118142840</title>\n",
       "<path d=\"M147.8398,-324.3664C147.8398,-316.1516 147.8398,-306.6579 147.8398,-297.7252\" fill=\"none\" stroke=\"#000000\"/>\n",
       "<polygon fill=\"#000000\" points=\"151.3399,-297.6068 147.8398,-287.6068 144.3399,-297.6069 151.3399,-297.6068\" stroke=\"#000000\"/>\n",
       "</g>\n",
       "<!-- 5118364696 -->\n",
       "<g class=\"node\" id=\"node9\">\n",
       "<title>5118364696</title>\n",
       "<polygon fill=\"none\" points=\"17.8794,-162.5 17.8794,-206.5 277.8003,-206.5 277.8003,-162.5 17.8794,-162.5\" stroke=\"#000000\"/>\n",
       "<text fill=\"#000000\" font-family=\"Times,serif\" font-size=\"14.00\" text-anchor=\"middle\" x=\"81.6812\" y=\"-180.3\">dropout_2: Dropout</text>\n",
       "<polyline fill=\"none\" points=\"145.4829,-162.5 145.4829,-206.5 \" stroke=\"#000000\"/>\n",
       "<text fill=\"#000000\" font-family=\"Times,serif\" font-size=\"14.00\" text-anchor=\"middle\" x=\"173.3174\" y=\"-191.3\">input:</text>\n",
       "<polyline fill=\"none\" points=\"145.4829,-184.5 201.1519,-184.5 \" stroke=\"#000000\"/>\n",
       "<text fill=\"#000000\" font-family=\"Times,serif\" font-size=\"14.00\" text-anchor=\"middle\" x=\"173.3174\" y=\"-169.3\">output:</text>\n",
       "<polyline fill=\"none\" points=\"201.1519,-162.5 201.1519,-206.5 \" stroke=\"#000000\"/>\n",
       "<text fill=\"#000000\" font-family=\"Times,serif\" font-size=\"14.00\" text-anchor=\"middle\" x=\"239.4761\" y=\"-191.3\">(None, 16)</text>\n",
       "<polyline fill=\"none\" points=\"201.1519,-184.5 277.8003,-184.5 \" stroke=\"#000000\"/>\n",
       "<text fill=\"#000000\" font-family=\"Times,serif\" font-size=\"14.00\" text-anchor=\"middle\" x=\"239.4761\" y=\"-169.3\">(None, 16)</text>\n",
       "</g>\n",
       "<!-- 5118142840&#45;&gt;5118364696 -->\n",
       "<g class=\"edge\" id=\"edge8\">\n",
       "<title>5118142840-&gt;5118364696</title>\n",
       "<path d=\"M147.8398,-243.3664C147.8398,-235.1516 147.8398,-225.6579 147.8398,-216.7252\" fill=\"none\" stroke=\"#000000\"/>\n",
       "<polygon fill=\"#000000\" points=\"151.3399,-216.6068 147.8398,-206.6068 144.3399,-216.6069 151.3399,-216.6068\" stroke=\"#000000\"/>\n",
       "</g>\n",
       "<!-- 5118289904 -->\n",
       "<g class=\"node\" id=\"node10\">\n",
       "<title>5118289904</title>\n",
       "<polygon fill=\"none\" points=\"6.2207,-81.5 6.2207,-125.5 289.459,-125.5 289.459,-81.5 6.2207,-81.5\" stroke=\"#000000\"/>\n",
       "<text fill=\"#000000\" font-family=\"Times,serif\" font-size=\"14.00\" text-anchor=\"middle\" x=\"81.6812\" y=\"-99.3\">activation_3: Activation</text>\n",
       "<polyline fill=\"none\" points=\"157.1416,-81.5 157.1416,-125.5 \" stroke=\"#000000\"/>\n",
       "<text fill=\"#000000\" font-family=\"Times,serif\" font-size=\"14.00\" text-anchor=\"middle\" x=\"184.9761\" y=\"-110.3\">input:</text>\n",
       "<polyline fill=\"none\" points=\"157.1416,-103.5 212.8105,-103.5 \" stroke=\"#000000\"/>\n",
       "<text fill=\"#000000\" font-family=\"Times,serif\" font-size=\"14.00\" text-anchor=\"middle\" x=\"184.9761\" y=\"-88.3\">output:</text>\n",
       "<polyline fill=\"none\" points=\"212.8105,-81.5 212.8105,-125.5 \" stroke=\"#000000\"/>\n",
       "<text fill=\"#000000\" font-family=\"Times,serif\" font-size=\"14.00\" text-anchor=\"middle\" x=\"251.1348\" y=\"-110.3\">(None, 16)</text>\n",
       "<polyline fill=\"none\" points=\"212.8105,-103.5 289.459,-103.5 \" stroke=\"#000000\"/>\n",
       "<text fill=\"#000000\" font-family=\"Times,serif\" font-size=\"14.00\" text-anchor=\"middle\" x=\"251.1348\" y=\"-88.3\">(None, 16)</text>\n",
       "</g>\n",
       "<!-- 5118364696&#45;&gt;5118289904 -->\n",
       "<g class=\"edge\" id=\"edge9\">\n",
       "<title>5118364696-&gt;5118289904</title>\n",
       "<path d=\"M147.8398,-162.3664C147.8398,-154.1516 147.8398,-144.6579 147.8398,-135.7252\" fill=\"none\" stroke=\"#000000\"/>\n",
       "<polygon fill=\"#000000\" points=\"151.3399,-135.6068 147.8398,-125.6068 144.3399,-135.6069 151.3399,-135.6068\" stroke=\"#000000\"/>\n",
       "</g>\n",
       "<!-- 5118291640 -->\n",
       "<g class=\"node\" id=\"node11\">\n",
       "<title>5118291640</title>\n",
       "<polygon fill=\"none\" points=\"29.5552,-.5 29.5552,-44.5 266.1245,-44.5 266.1245,-.5 29.5552,-.5\" stroke=\"#000000\"/>\n",
       "<text fill=\"#000000\" font-family=\"Times,serif\" font-size=\"14.00\" text-anchor=\"middle\" x=\"81.6812\" y=\"-18.3\">dense_4: Dense</text>\n",
       "<polyline fill=\"none\" points=\"133.8071,-.5 133.8071,-44.5 \" stroke=\"#000000\"/>\n",
       "<text fill=\"#000000\" font-family=\"Times,serif\" font-size=\"14.00\" text-anchor=\"middle\" x=\"161.6416\" y=\"-29.3\">input:</text>\n",
       "<polyline fill=\"none\" points=\"133.8071,-22.5 189.4761,-22.5 \" stroke=\"#000000\"/>\n",
       "<text fill=\"#000000\" font-family=\"Times,serif\" font-size=\"14.00\" text-anchor=\"middle\" x=\"161.6416\" y=\"-7.3\">output:</text>\n",
       "<polyline fill=\"none\" points=\"189.4761,-.5 189.4761,-44.5 \" stroke=\"#000000\"/>\n",
       "<text fill=\"#000000\" font-family=\"Times,serif\" font-size=\"14.00\" text-anchor=\"middle\" x=\"227.8003\" y=\"-29.3\">(None, 16)</text>\n",
       "<polyline fill=\"none\" points=\"189.4761,-22.5 266.1245,-22.5 \" stroke=\"#000000\"/>\n",
       "<text fill=\"#000000\" font-family=\"Times,serif\" font-size=\"14.00\" text-anchor=\"middle\" x=\"227.8003\" y=\"-7.3\">(None, 10)</text>\n",
       "</g>\n",
       "<!-- 5118289904&#45;&gt;5118291640 -->\n",
       "<g class=\"edge\" id=\"edge10\">\n",
       "<title>5118289904-&gt;5118291640</title>\n",
       "<path d=\"M147.8398,-81.3664C147.8398,-73.1516 147.8398,-63.6579 147.8398,-54.7252\" fill=\"none\" stroke=\"#000000\"/>\n",
       "<polygon fill=\"#000000\" points=\"151.3399,-54.6068 147.8398,-44.6068 144.3399,-54.6069 151.3399,-54.6068\" stroke=\"#000000\"/>\n",
       "</g>\n",
       "</g>\n",
       "</svg>"
      ],
      "text/plain": [
       "<IPython.core.display.SVG object>"
      ]
     },
     "execution_count": 13,
     "metadata": {},
     "output_type": "execute_result"
    }
   ],
   "source": [
    "from IPython.display import SVG\n",
    "from keras.utils.vis_utils import model_to_dot\n",
    "\n",
    "SVG(model_to_dot(model_1, show_shapes=True).create(prog='dot', format='svg'))"
   ]
  },
  {
   "cell_type": "code",
   "execution_count": 14,
   "metadata": {},
   "outputs": [
    {
     "name": "stdout",
     "output_type": "stream",
     "text": [
      "Train on 48000 samples, validate on 12000 samples\n",
      "Epoch 1/5\n",
      "48000/48000 [==============================] - 5s 109us/step - loss: 1.2179 - acc: 0.5621 - val_loss: 0.3744 - val_acc: 0.9250\n",
      "Epoch 2/5\n",
      "48000/48000 [==============================] - 5s 96us/step - loss: 0.8096 - acc: 0.7237 - val_loss: 0.2699 - val_acc: 0.9377\n",
      "Epoch 3/5\n",
      "48000/48000 [==============================] - 5s 96us/step - loss: 0.7091 - acc: 0.7608 - val_loss: 0.2355 - val_acc: 0.9465\n",
      "Epoch 4/5\n",
      "48000/48000 [==============================] - 5s 97us/step - loss: 0.6602 - acc: 0.7795 - val_loss: 0.2081 - val_acc: 0.9539\n",
      "Epoch 5/5\n",
      "48000/48000 [==============================] - 5s 102us/step - loss: 0.6243 - acc: 0.7900 - val_loss: 0.1986 - val_acc: 0.9553\n"
     ]
    }
   ],
   "source": [
    "hist = model_1.fit(x_train, y_train, validation_split=0.2, \n",
    "                   epochs=5, verbose=1)"
   ]
  },
  {
   "cell_type": "code",
   "execution_count": 15,
   "metadata": {},
   "outputs": [
    {
     "data": {
      "text/plain": [
       "<matplotlib.legend.Legend at 0x131307b70>"
      ]
     },
     "execution_count": 15,
     "metadata": {},
     "output_type": "execute_result"
    },
    {
     "data": {
      "image/png": "[encoded data removed]",
      "text/plain": [
       "<matplotlib.figure.Figure at 0x1160d80b8>"
      ]
     },
     "metadata": {},
     "output_type": "display_data"
    }
   ],
   "source": [
    "plt.plot(hist.history['loss'])\n",
    "plt.plot(hist.history['val_loss'])\n",
    "plt.legend(['Train loss', 'Validation loss'])"
   ]
  },
  {
   "cell_type": "code",
   "execution_count": 16,
   "metadata": {},
   "outputs": [
    {
     "name": "stdout",
     "output_type": "stream",
     "text": [
      "10000/10000 [==============================] - 0s 38us/step\n",
      "\n",
      "Loss, Accuracy =  [0.20310979887247085, 0.955]\n"
     ]
    }
   ],
   "source": [
    "print(\"\\nLoss, Accuracy = \", model_1.evaluate(x_test, y_test))"
   ]
  },
  {
   "cell_type": "markdown",
   "metadata": {},
   "source": [
    "* Посмотрите на качество получившейся модели. Вернитесь по коду вверх и раскоментируйте строки, где картинки нормируются к отрезку $[0;1]$. Переобучите сетку. Что произошло с качеством? \n",
    "* Теперь попробуйте использовать в качестве функции активации линейную функцию. Что произошло с качеством модели?  "
   ]
  },
  {
   "cell_type": "markdown",
   "metadata": {},
   "source": [
    "Можно посмотреть, где именно сетка ошибается. "
   ]
  },
  {
   "cell_type": "code",
   "execution_count": 17,
   "metadata": {},
   "outputs": [],
   "source": [
    "y_pred = model_1.predict_classes(x_test)\n",
    "errors =  y_pred != y_ts\n",
    "\n",
    "x_err = x_ts[errors]\n",
    "y_err = y_ts[errors]\n",
    "y_pred = y_pred[errors]"
   ]
  },
  {
   "cell_type": "code",
   "execution_count": 18,
   "metadata": {},
   "outputs": [
    {
     "data": {
      "image/png": "[encoded data removed]",
      "text/plain": [
       "<matplotlib.figure.Figure at 0x1315e3668>"
      ]
     },
     "metadata": {},
     "output_type": "display_data"
    }
   ],
   "source": [
    "cols = 8\n",
    "rows = 2\n",
    "fig = plt.figure(figsize=(2 * cols - 1, 2.5 * rows - 1))\n",
    "for i in range(cols):\n",
    "    for j in range(rows):\n",
    "        random_index = np.random.randint(0, len(y_err))\n",
    "        ax = fig.add_subplot(rows, cols, i * rows + j + 1)\n",
    "        ax.grid('off')\n",
    "        ax.axis('off')\n",
    "        ax.imshow(x_err[random_index, : ], cmap='gray')\n",
    "        ax.set_title('real_class: {} \\n  predict class: {}'.format(y_err[random_index], y_pred[random_index]))\n",
    "plt.show()"
   ]
  },
  {
   "cell_type": "markdown",
   "metadata": {},
   "source": [
    "### 2.2 Свёрточная сетка \n",
    "\n",
    "Теперь давайте соберём свёртоную сеть: \n",
    "\n",
    "* Свёртка с ядром $5 \\times 5$, same padding и $32$ каналами\n",
    "* ReLU\n",
    "* Макспулинг размера $2 \\times 2$\n",
    "* Свёртка с ядром $5 \\times 5$ и $16$ каналами  и same padding\n",
    "* ReLU\n",
    "* Макспулинг размера $2 \\times 2$ с шагом (strides) $2$ по обеим осям \n",
    "* Дальше используйте старую архитектуру "
   ]
  },
  {
   "cell_type": "code",
   "execution_count": 19,
   "metadata": {},
   "outputs": [],
   "source": [
    "model_2 = Sequential( )\n",
    "\n",
    "model_2.add(Conv2D(32, kernel_size=(5, 5),padding=\"same\", \n",
    "                   input_shape=(28, 28, 1)))\n",
    "\n",
    "model_2.add(Activation(\"relu\"))\n",
    "model_2.add(MaxPooling2D( pool_size=(2,2)))\n",
    "\n",
    "model_2.add(Conv2D(16, kernel_size=(5, 5), padding=\"same\"))\n",
    "model_2.add(Activation(\"relu\"))\n",
    "model_2.add(MaxPooling2D(pool_size=(2, 2), strides=(2, 2)))\n",
    "\n",
    "model_2.add(Flatten()) \n",
    "\n",
    "model_2.add(Dense(64))\n",
    "model_2.add(Activation('relu'))\n",
    "\n",
    "model_2.add(Dense(32))\n",
    "model_2.add(Dropout(0.5))\n",
    "model_2.add(Activation('relu'))\n",
    "\n",
    "model_2.add(Dense(16))\n",
    "model_2.add(Dropout(0.5))\n",
    "model_2.add(Activation('relu'))\n",
    "\n",
    "model_2.add(Dense(10, activation='softmax'))\n",
    "model_2.compile(\"adam\", \"categorical_crossentropy\", metrics=[\"accuracy\"])"
   ]
  },
  {
   "cell_type": "code",
   "execution_count": 20,
   "metadata": {},
   "outputs": [
    {
     "name": "stdout",
     "output_type": "stream",
     "text": [
      "_________________________________________________________________\n",
      "Layer (type)                 Output Shape              Param #   \n",
      "=================================================================\n",
      "conv2d_1 (Conv2D)            (None, 28, 28, 32)        832       \n",
      "_________________________________________________________________\n",
      "activation_4 (Activation)    (None, 28, 28, 32)        0         \n",
      "_________________________________________________________________\n",
      "max_pooling2d_1 (MaxPooling2 (None, 14, 14, 32)        0         \n",
      "_________________________________________________________________\n",
      "conv2d_2 (Conv2D)            (None, 14, 14, 16)        12816     \n",
      "_________________________________________________________________\n",
      "activation_5 (Activation)    (None, 14, 14, 16)        0         \n",
      "_________________________________________________________________\n",
      "max_pooling2d_2 (MaxPooling2 (None, 7, 7, 16)          0         \n",
      "_________________________________________________________________\n",
      "flatten_2 (Flatten)          (None, 784)               0         \n",
      "_________________________________________________________________\n",
      "dense_5 (Dense)              (None, 64)                50240     \n",
      "_________________________________________________________________\n",
      "activation_6 (Activation)    (None, 64)                0         \n",
      "_________________________________________________________________\n",
      "dense_6 (Dense)              (None, 32)                2080      \n",
      "_________________________________________________________________\n",
      "dropout_3 (Dropout)          (None, 32)                0         \n",
      "_________________________________________________________________\n",
      "activation_7 (Activation)    (None, 32)                0         \n",
      "_________________________________________________________________\n",
      "dense_7 (Dense)              (None, 16)                528       \n",
      "_________________________________________________________________\n",
      "dropout_4 (Dropout)          (None, 16)                0         \n",
      "_________________________________________________________________\n",
      "activation_8 (Activation)    (None, 16)                0         \n",
      "_________________________________________________________________\n",
      "dense_8 (Dense)              (None, 10)                170       \n",
      "=================================================================\n",
      "Total params: 66,666\n",
      "Trainable params: 66,666\n",
      "Non-trainable params: 0\n",
      "_________________________________________________________________\n"
     ]
    }
   ],
   "source": [
    "model_2.summary()"
   ]
  },
  {
   "cell_type": "code",
   "execution_count": 21,
   "metadata": {},
   "outputs": [
    {
     "name": "stdout",
     "output_type": "stream",
     "text": [
      "Train on 48000 samples, validate on 12000 samples\n",
      "Epoch 1/5\n",
      "48000/48000 [==============================] - 79s 2ms/step - loss: 1.0554 - acc: 0.6055 - val_loss: 0.1386 - val_acc: 0.9724\n",
      "Epoch 2/5\n",
      "48000/48000 [==============================] - 75s 2ms/step - loss: 0.6154 - acc: 0.7768 - val_loss: 0.1036 - val_acc: 0.9763\n",
      "Epoch 3/5\n",
      "48000/48000 [==============================] - 60s 1ms/step - loss: 0.5318 - acc: 0.8081 - val_loss: 0.0912 - val_acc: 0.9818\n",
      "Epoch 4/5\n",
      "48000/48000 [==============================] - 69s 1ms/step - loss: 0.4844 - acc: 0.8339 - val_loss: 0.0832 - val_acc: 0.9857\n",
      "Epoch 5/5\n",
      "48000/48000 [==============================] - 67s 1ms/step - loss: 0.4600 - acc: 0.8434 - val_loss: 0.0854 - val_acc: 0.9841\n"
     ]
    }
   ],
   "source": [
    "# Прикажем модели останавливать обучение, когда качество на валидации не будет улучшаться в течение двух эпох\n",
    "hist = model_2.fit(x_train, y_train, validation_split=0.2, \n",
    "                   epochs=5, verbose=1)"
   ]
  },
  {
   "cell_type": "code",
   "execution_count": 22,
   "metadata": {},
   "outputs": [
    {
     "data": {
      "text/plain": [
       "<matplotlib.legend.Legend at 0x116505630>"
      ]
     },
     "execution_count": 22,
     "metadata": {},
     "output_type": "execute_result"
    },
    {
     "data": {
      "image/png": "[encoded data removed]",
      "text/plain": [
       "<matplotlib.figure.Figure at 0x116347898>"
      ]
     },
     "metadata": {},
     "output_type": "display_data"
    }
   ],
   "source": [
    "plt.plot(hist.history['loss'])\n",
    "plt.plot(hist.history['val_loss'])\n",
    "plt.legend(['Train loss', 'Validation loss'])"
   ]
  },
  {
   "cell_type": "code",
   "execution_count": 23,
   "metadata": {},
   "outputs": [
    {
     "name": "stdout",
     "output_type": "stream",
     "text": [
      "10000/10000 [==============================] - 5s 515us/step\n",
      "\n",
      "Loss, Accuracy =  [0.06978304417692124, 0.9882]\n"
     ]
    }
   ],
   "source": [
    "print(\"\\nLoss, Accuracy = \", model_2.evaluate(x_test, y_test))"
   ]
  },
  {
   "cell_type": "markdown",
   "metadata": {},
   "source": [
    "Как видите, точность довольно сильно подскочила. Попробуйте поиграться числом параметров и слоёв так, чтобы их стало меньше, а качество сетки стало лучше. Попробуйте обучать нейросетку большее количество эпох. \n",
    "\n",
    "Снова посмотрим на ошибки. "
   ]
  },
  {
   "cell_type": "code",
   "execution_count": 24,
   "metadata": {},
   "outputs": [
    {
     "data": {
      "image/png": "[encoded data removed]",
      "text/plain": [
       "<matplotlib.figure.Figure at 0x11657b550>"
      ]
     },
     "metadata": {},
     "output_type": "display_data"
    }
   ],
   "source": [
    "cols = 8\n",
    "rows = 2\n",
    "fig = plt.figure(figsize=(2 * cols - 1, 2.5 * rows - 1))\n",
    "for i in range(cols):\n",
    "    for j in range(rows):\n",
    "        random_index = np.random.randint(0, len(y_err))\n",
    "        ax = fig.add_subplot(rows, cols, i * rows + j + 1)\n",
    "        ax.grid('off')\n",
    "        ax.axis('off')\n",
    "        ax.imshow(x_err[random_index, : ], cmap='gray')\n",
    "        ax.set_title('real_class: {} \\n  predict class: {}'.format(y_err[random_index], y_pred[random_index]))\n",
    "plt.show()"
   ]
  },
  {
   "cell_type": "code",
   "execution_count": null,
   "metadata": {},
   "outputs": [],
   "source": []
  }
 ],
 "metadata": {
  "kernelspec": {
   "display_name": "Python 3",
   "language": "python",
   "name": "python3"
  },
  "language_info": {
   "codemirror_mode": {
    "name": "ipython",
    "version": 3
   },
   "file_extension": ".py",
   "mimetype": "text/x-python",
   "name": "python",
   "nbconvert_exporter": "python",
   "pygments_lexer": "ipython3",
   "version": "3.7.2"
  }
 },
 "nbformat": 4,
 "nbformat_minor": 2
}
