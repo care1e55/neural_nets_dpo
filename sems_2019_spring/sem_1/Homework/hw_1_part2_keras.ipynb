{
 "cells": [
  {
   "cell_type": "markdown",
   "metadata": {},
   "source": [
    "![](https://hsto.org/getpro/habr/post_images/68f/fc1/d69/68ffc1d69c10d1ede103288c779c8f4e.jpg) \n",
    "\n",
    "# Наша первая нейросеть в Keras \n",
    "\n",
    "Изначально Keras создавалася как удобная надстройка над Theano. Отсюда появилось такое греческой название пакета (переводится как \"рог\"), ставшее отсылкой к Одиссее Гомера. Сегодня Keras поддерживает второй знаменитый фрэймворк Tensorflow, созданный Google и использует кго в качестве базового. \n",
    "\n",
    "## 1. О задаче, которую мы будем решать\n",
    "\n",
    "Для своего первого знакомства с нейросетками, мы будем использовать встроенный датасет под названием `boston_housing`. Как это не удивительно, речь пойдёт о недвижимости и ценах на неё. "
   ]
  },
  {
   "cell_type": "code",
   "execution_count": 1,
   "metadata": {},
   "outputs": [],
   "source": [
    "import numpy as np\n",
    "import pandas as pd\n",
    "import matplotlib.pyplot as plt\n",
    "\n",
    "plt.style.use('ggplot')\n",
    "%matplotlib inline"
   ]
  },
  {
   "cell_type": "code",
   "execution_count": 2,
   "metadata": {},
   "outputs": [
    {
     "name": "stderr",
     "output_type": "stream",
     "text": [
      "Using TensorFlow backend.\n"
     ]
    }
   ],
   "source": [
    "from keras.datasets import boston_housing\n",
    "(X_train, y_train), (X_test, y_test) = boston_housing.load_data()"
   ]
  },
  {
   "cell_type": "code",
   "execution_count": 3,
   "metadata": {
    "scrolled": true
   },
   "outputs": [
    {
     "data": {
      "text/plain": [
       "(404, 13)"
      ]
     },
     "execution_count": 3,
     "metadata": {},
     "output_type": "execute_result"
    }
   ],
   "source": [
    "X_train.shape"
   ]
  },
  {
   "cell_type": "code",
   "execution_count": 4,
   "metadata": {},
   "outputs": [
    {
     "data": {
      "text/plain": [
       "(102, 13)"
      ]
     },
     "execution_count": 4,
     "metadata": {},
     "output_type": "execute_result"
    }
   ],
   "source": [
    "X_test.shape"
   ]
  },
  {
   "cell_type": "markdown",
   "metadata": {},
   "source": [
    "Проскалируем переменные."
   ]
  },
  {
   "cell_type": "code",
   "execution_count": 5,
   "metadata": {},
   "outputs": [],
   "source": [
    "from sklearn.preprocessing import StandardScaler\n",
    "\n",
    "scl = StandardScaler()\n",
    "X_train = scl.fit_transform(X_train)\n",
    "X_test = scl.transform(X_test)"
   ]
  },
  {
   "cell_type": "markdown",
   "metadata": {},
   "source": [
    "## 2. Регрессия - моя профессия \n",
    "\n",
    "Оцените уже давно и до боли нам знакомую линейную регрессию. Посмотрите на качество модели. Прикрутите к ней $l_2$-регуляризатор, подберите оптимальное значение для гиерпараметра с помощью `greadsearch`. Посмотрите на качество модели. В качестве метрики используйте $MSE$. "
   ]
  },
  {
   "cell_type": "code",
   "execution_count": 6,
   "metadata": {},
   "outputs": [
    {
     "name": "stdout",
     "output_type": "stream",
     "text": [
      "Лучшая модель:  Ridge(alpha=1.0, copy_X=True, fit_intercept=True, max_iter=None,\n",
      "   normalize=False, random_state=7, solver='auto', tol=0.001)\n"
     ]
    }
   ],
   "source": [
    "from sklearn.linear_model import Ridge\n",
    "from sklearn.model_selection import GridSearchCV\n",
    "from sklearn.metrics import mean_squared_error, make_scorer\n",
    "\n",
    "scorer = make_scorer(mean_squared_error, \n",
    "                     greater_is_better=False)\n",
    "\n",
    "parameters = {'alpha': np.power(10, np.linspace(-3, 3, 7))}\n",
    "\n",
    "grid = GridSearchCV(Ridge(random_state=7), \n",
    "                    parameters, \n",
    "                    cv=5, \n",
    "                    scoring=scorer)\n",
    "\n",
    "grid.fit(X_train, y_train)\n",
    "\n",
    "print('Лучшая модель: ', grid.best_estimator_)"
   ]
  },
  {
   "cell_type": "code",
   "execution_count": 7,
   "metadata": {},
   "outputs": [
    {
     "name": "stdout",
     "output_type": "stream",
     "text": [
      "Параметры лучшей модели:  [-1.09617853e+00  1.33240158e+00  2.36163129e-03  9.96960412e-01\n",
      " -2.36364456e+00  2.41020778e+00  2.00070026e-01 -3.43427327e+00\n",
      "  2.81042350e+00 -1.86812093e+00 -1.97196416e+00  8.20257578e-01\n",
      " -4.00831026e+00]\n"
     ]
    }
   ],
   "source": [
    "print('Параметры лучшей модели: ', grid.best_estimator_.coef_)"
   ]
  },
  {
   "cell_type": "code",
   "execution_count": 8,
   "metadata": {},
   "outputs": [
    {
     "name": "stdout",
     "output_type": "stream",
     "text": [
      "MSE:  23.105483040456594\n"
     ]
    }
   ],
   "source": [
    "print('MSE: ', mean_squared_error(y_test, grid.best_estimator_.predict(X_test)))"
   ]
  },
  {
   "cell_type": "markdown",
   "metadata": {},
   "source": [
    "## 3. Нейросеть - регрессия\n",
    "\n",
    "Как это не удивительно, линейная регрессия это частный, самый простой случай нейросети. Постройте в keras нейросеть из одного нейрона. Обучите её. Посмотрите на качество, сравните с обычной регрессией. "
   ]
  },
  {
   "cell_type": "code",
   "execution_count": 10,
   "metadata": {},
   "outputs": [],
   "source": [
    "from keras.models import Sequential\n",
    "from keras.layers import Dense\n",
    "from keras.callbacks import EarlyStopping\n",
    "\n",
    "es = EarlyStopping(patience=5)\n",
    "\n",
    "model = Sequential()\n",
    "model.add(Dense(1, \n",
    "                input_dim=X_train.shape[1], \n",
    "                kernel_initializer='random_normal'))\n",
    "\n",
    "model.compile(optimizer='adam', loss='mean_squared_error')"
   ]
  },
  {
   "cell_type": "code",
   "execution_count": 12,
   "metadata": {},
   "outputs": [
    {
     "data": {
      "text/plain": [
       "<keras.callbacks.History at 0x129b28dd8>"
      ]
     },
     "execution_count": 12,
     "metadata": {},
     "output_type": "execute_result"
    }
   ],
   "source": [
    "model.fit(X_train, y_train, epochs=1000, verbose=0, validation_split=0.2, callbacks=[es])"
   ]
  },
  {
   "cell_type": "code",
   "execution_count": 13,
   "metadata": {},
   "outputs": [
    {
     "name": "stdout",
     "output_type": "stream",
     "text": [
      "102/102 [==============================] - 0s 53us/step\n"
     ]
    },
    {
     "data": {
      "text/plain": [
       "97.11970714494294"
      ]
     },
     "execution_count": 13,
     "metadata": {},
     "output_type": "execute_result"
    }
   ],
   "source": [
    "model.evaluate(X_test, y_test)"
   ]
  },
  {
   "cell_type": "markdown",
   "metadata": {},
   "source": [
    "Прикрутите к сетке [регуляризатор.](https://keras.io/regularizers/) Посмотрите на качество модели."
   ]
  },
  {
   "cell_type": "code",
   "execution_count": 15,
   "metadata": {},
   "outputs": [],
   "source": [
    "from keras import regularizers\n",
    "\n",
    "model = Sequential()\n",
    "model.add(Dense(1, \n",
    "                input_dim=X_train.shape[1], \n",
    "                kernel_regularizer=regularizers.l2(1.0),\n",
    "                kernel_initializer='random_normal'))\n",
    "\n",
    "model.compile(optimizer='adam', loss='mean_squared_error')"
   ]
  },
  {
   "cell_type": "code",
   "execution_count": 19,
   "metadata": {},
   "outputs": [
    {
     "data": {
      "text/plain": [
       "<keras.callbacks.History at 0x129ee9438>"
      ]
     },
     "execution_count": 19,
     "metadata": {},
     "output_type": "execute_result"
    }
   ],
   "source": [
    "model.fit(X_train, y_train, epochs=10000, verbose=0, validation_split=0.2, callbacks=[es])"
   ]
  },
  {
   "cell_type": "code",
   "execution_count": 20,
   "metadata": {},
   "outputs": [
    {
     "name": "stdout",
     "output_type": "stream",
     "text": [
      "102/102 [==============================] - 0s 56us/step\n"
     ]
    },
    {
     "data": {
      "text/plain": [
       "40.85035421334061"
      ]
     },
     "execution_count": 20,
     "metadata": {},
     "output_type": "execute_result"
    }
   ],
   "source": [
    "model.evaluate(X_test, y_test)"
   ]
  },
  {
   "cell_type": "code",
   "execution_count": 21,
   "metadata": {},
   "outputs": [
    {
     "data": {
      "image/png": "[encoded data removed]",
      "text/plain": [
       "<matplotlib.figure.Figure at 0x129ee9cf8>"
      ]
     },
     "metadata": {},
     "output_type": "display_data"
    }
   ],
   "source": [
    "plt.plot(grid.best_estimator_.coef_, label='Ridge')\n",
    "plt.plot(model.get_weights()[0], label='Keras')\n",
    "plt.legend()\n",
    "plt.show()"
   ]
  },
  {
   "cell_type": "markdown",
   "metadata": {},
   "source": [
    "## 4. Один слой и оптимальное число нейронов \n",
    "\n",
    "**Итак, небольшое задание для самостоятельной работы.**\n",
    "\n",
    "Постройте нейронную сеть с одним скрытым слоем. Постройте для неё картинку с зависимостью качества модели от числа используемых в сети нейронов на обучении и тесте. По оси $x$ отложите число нейронов, используемое в слое. По оси $y$ качество модели. Для борьбы с переобучением используйте early stopping. Число нейронов перебирайте от $1$ до $20$. Запаситесь терпением и не забудьте проинтерпретировать картинки."
   ]
  },
  {
   "cell_type": "code",
   "execution_count": 22,
   "metadata": {},
   "outputs": [
    {
     "data": {
      "application/vnd.jupyter.widget-view+json": {
       "model_id": "ccfdf3780da1477b915dea30b439d09f",
       "version_major": 2,
       "version_minor": 0
      },
      "text/html": [
       "<p>Failed to display Jupyter Widget of type <code>HBox</code>.</p>\n",
       "<p>\n",
       "  If you're reading this message in the Jupyter Notebook or JupyterLab Notebook, it may mean\n",
       "  that the widgets JavaScript is still loading. If this message persists, it\n",
       "  likely means that the widgets JavaScript library is either not installed or\n",
       "  not enabled. See the <a href=\"https://ipywidgets.readthedocs.io/en/stable/user_install.html\">Jupyter\n",
       "  Widgets Documentation</a> for setup instructions.\n",
       "</p>\n",
       "<p>\n",
       "  If you're reading this message in another frontend (for example, a static\n",
       "  rendering on GitHub or <a href=\"https://nbviewer.jupyter.org/\">NBViewer</a>),\n",
       "  it may mean that your frontend doesn't currently support widgets.\n",
       "</p>\n"
      ],
      "text/plain": [
       "HBox(children=(IntProgress(value=0, max=20), HTML(value='')))"
      ]
     },
     "metadata": {},
     "output_type": "display_data"
    },
    {
     "name": "stdout",
     "output_type": "stream",
     "text": [
      "404/404 [==============================] - 0s 23us/step\n",
      "102/102 [==============================] - 0s 36us/step\n",
      "404/404 [==============================] - 0s 21us/step\n",
      "102/102 [==============================] - 0s 33us/step\n",
      "404/404 [==============================] - 0s 24us/step\n",
      "102/102 [==============================] - 0s 38us/step\n",
      "404/404 [==============================] - 0s 22us/step\n",
      "102/102 [==============================] - 0s 37us/step\n",
      "404/404 [==============================] - 0s 22us/step\n",
      "102/102 [==============================] - 0s 37us/step\n",
      "404/404 [==============================] - 0s 23us/step\n",
      "102/102 [==============================] - 0s 35us/step\n",
      "404/404 [==============================] - 0s 22us/step\n",
      "102/102 [==============================] - 0s 35us/step\n",
      "404/404 [==============================] - 0s 23us/step\n",
      "102/102 [==============================] - 0s 44us/step\n",
      "404/404 [==============================] - 0s 22us/step\n",
      "102/102 [==============================] - 0s 39us/step\n",
      "404/404 [==============================] - 0s 23us/step\n",
      "102/102 [==============================] - 0s 40us/step\n",
      "404/404 [==============================] - 0s 23us/step\n",
      "102/102 [==============================] - 0s 42us/step\n",
      "404/404 [==============================] - 0s 22us/step\n",
      "102/102 [==============================] - 0s 36us/step\n",
      "404/404 [==============================] - 0s 22us/step\n",
      "102/102 [==============================] - 0s 36us/step\n",
      "404/404 [==============================] - 0s 22us/step\n",
      "102/102 [==============================] - 0s 36us/step\n",
      "404/404 [==============================] - 0s 24us/step\n",
      "102/102 [==============================] - 0s 52us/step\n",
      "404/404 [==============================] - 0s 26us/step\n",
      "102/102 [==============================] - 0s 40us/step\n",
      "404/404 [==============================] - 0s 23us/step\n",
      "102/102 [==============================] - 0s 35us/step\n",
      "404/404 [==============================] - 0s 23us/step\n",
      "102/102 [==============================] - 0s 36us/step\n",
      "404/404 [==============================] - 0s 23us/step\n",
      "102/102 [==============================] - 0s 44us/step\n",
      "404/404 [==============================] - 0s 26us/step\n",
      "102/102 [==============================] - 0s 47us/step\n",
      "\n"
     ]
    }
   ],
   "source": [
    "from tqdm import tqdm_notebook\n",
    "\n",
    "alpha = 1\n",
    "train_score = []\n",
    "test_score = []\n",
    "\n",
    "for neurons in tqdm_notebook(range(1, 21)):\n",
    "    \n",
    "    model = Sequential()\n",
    "    model.add(Dense(neurons, \n",
    "                    input_dim=X_train.shape[1], \n",
    "                    kernel_regularizer=regularizers.l2(alpha),\n",
    "                    kernel_initializer='random_normal'))\n",
    "    \n",
    "    model.add(Dense(1, \n",
    "                    input_dim=neurons, \n",
    "                    kernel_regularizer=regularizers.l2(alpha), \n",
    "                    kernel_initializer='random_normal'))\n",
    "\n",
    "    model.compile(optimizer='adam', loss='mean_squared_error')\n",
    "    \n",
    "    model.fit(X_train, y_train, epochs=1000, verbose=0, validation_split=0.2, callbacks=[es])\n",
    "    \n",
    "    train_score.append(model.evaluate(X_train, y_train))\n",
    "    test_score.append(model.evaluate(X_test, y_test))"
   ]
  },
  {
   "cell_type": "code",
   "execution_count": null,
   "metadata": {},
   "outputs": [],
   "source": [
    "plt.plot(np.arange(1, 21), train_score, label='train score')\n",
    "plt.plot(np.arange(1, 21), test_score, label='test score')\n",
    "plt.title('MSE от числа нейронов в скрытом слое')\n",
    "plt.xlabel('число нейронов')\n",
    "plt.ylabel('MSE')\n",
    "plt.legend()\n",
    "plt.show()"
   ]
  },
  {
   "cell_type": "markdown",
   "metadata": {},
   "source": [
    "## 5. Больше слоёв\n",
    "\n",
    "Попробуйте построит двух и трёх-слойные сетки с разным числом нейронов. Попробуйте добиться максимально возможного качества. Обратите внимание, что данных у нас очень мало, нейронка будем маленькой и быстро оцениваимой. Это позволяет делать перебор гиперпараметров. Когда данных очень много, перебор - довольно сложная штука. "
   ]
  },
  {
   "cell_type": "code",
   "execution_count": null,
   "metadata": {},
   "outputs": [],
   "source": [
    "# исследование модели с 2 скрытыми слоями\n",
    "train_score = []\n",
    "test_score = []\n",
    "\n",
    "for alpha in [0.01, 0.1, 1, 5]:\n",
    "    print('alpha =', alpha)\n",
    "    for neurons_l1 in [1, 3, 10, 20]:\n",
    "        for neurons_l2 in [1, 3, 10, 20]:\n",
    "            model = Sequential()\n",
    "            model.add(Dense(neurons_l1, input_dim=X_train.shape[1], kernel_regularizer=regularizers.l2(alpha), kernel_initializer='random_normal'))\n",
    "            model.add(Dense(neurons_l2, input_dim=neurons_l1, kernel_regularizer=regularizers.l2(alpha), kernel_initializer='random_normal'))\n",
    "            model.add(Dense(1, input_dim=neurons_l2, kernel_regularizer=regularizers.l2(alpha), kernel_initializer='random_normal'))\n",
    "\n",
    "            model.compile(optimizer='adam', loss='mean_squared_error')\n",
    "            model.fit(X_train, y_train, epochs=50, verbose=0, callbacks=[es], validation_split=0.2)\n",
    "\n",
    "            train_score.append(model.evaluate(X_train, y_train))\n",
    "            test_score.append(model.evaluate(X_test, y_test))"
   ]
  },
  {
   "cell_type": "code",
   "execution_count": null,
   "metadata": {},
   "outputs": [],
   "source": [
    "plt.plot(train_score, label='train score')\n",
    "plt.plot(test_score, label='test score')\n",
    "plt.legend()\n",
    "plt.show()\n",
    "\n",
    "print(min(test_score))"
   ]
  },
  {
   "cell_type": "code",
   "execution_count": null,
   "metadata": {},
   "outputs": [],
   "source": []
  },
  {
   "cell_type": "code",
   "execution_count": null,
   "metadata": {},
   "outputs": [],
   "source": [
    "# исследование модели с 3 скрытыми слоями\n",
    "train_score = []\n",
    "test_score = []\n",
    "best_mse = 1000\n",
    "best_model = None\n",
    "\n",
    "for alpha in [0.01, 0.1, 1, 5]:\n",
    "    print('alpha =', alpha)\n",
    "    for neurons_l1 in [1, 3, 10, 20]:\n",
    "        for neurons_l2 in [1, 3, 10, 20]:\n",
    "            for neurons_l3 in [1, 3, 10, 20]:\n",
    "                model = Sequential()\n",
    "                model.add(Dense(neurons_l1, input_dim=X_train.shape[1], kernel_regularizer=regularizers.l2(alpha), kernel_initializer='random_normal'))\n",
    "                model.add(Dense(neurons_l2, input_dim=neurons_l1, kernel_regularizer=regularizers.l2(alpha), kernel_initializer='random_normal'))\n",
    "                model.add(Dense(neurons_l3, input_dim=neurons_l2, kernel_regularizer=regularizers.l2(alpha), kernel_initializer='random_normal'))\n",
    "                model.add(Dense(1, input_dim=neurons_l2, kernel_regularizer=regularizers.l2(alpha)))\n",
    "\n",
    "                model.compile(optimizer='adam', loss='mean_squared_error')\n",
    "                model.fit(X_train, y_train, epochs=50, verbose=0, callbacks=[es], validation_split=0.2)\n",
    "\n",
    "                train_score.append(model.evaluate(X_train, y_train))\n",
    "                test_score.append(model.evaluate(X_test, y_test))\n",
    "                \n",
    "                if test_score[-1] < best_mse:\n",
    "                    best_mse = test_score[-1]\n",
    "                    best_model = model"
   ]
  },
  {
   "cell_type": "code",
   "execution_count": null,
   "metadata": {},
   "outputs": [],
   "source": [
    "plt.plot(train_score, label='train score')\n",
    "plt.plot(test_score, label='test score')\n",
    "plt.legend()\n",
    "plt.show()"
   ]
  },
  {
   "cell_type": "code",
   "execution_count": null,
   "metadata": {},
   "outputs": [],
   "source": []
  },
  {
   "cell_type": "code",
   "execution_count": null,
   "metadata": {},
   "outputs": [],
   "source": [
    "print(min(test_score))\n",
    "print(best_model.summary())"
   ]
  },
  {
   "cell_type": "code",
   "execution_count": null,
   "metadata": {},
   "outputs": [],
   "source": []
  },
  {
   "cell_type": "code",
   "execution_count": null,
   "metadata": {},
   "outputs": [],
   "source": []
  },
  {
   "cell_type": "code",
   "execution_count": null,
   "metadata": {},
   "outputs": [],
   "source": [
    "# Ваш код "
   ]
  }
 ],
 "metadata": {
  "kernelspec": {
   "display_name": "Python 3",
   "language": "python",
   "name": "python3"
  },
  "language_info": {
   "codemirror_mode": {
    "name": "ipython",
    "version": 3
   },
   "file_extension": ".py",
   "mimetype": "text/x-python",
   "name": "python",
   "nbconvert_exporter": "python",
   "pygments_lexer": "ipython3",
   "version": "3.7.2"
  }
 },
 "nbformat": 4,
 "nbformat_minor": 2
}
