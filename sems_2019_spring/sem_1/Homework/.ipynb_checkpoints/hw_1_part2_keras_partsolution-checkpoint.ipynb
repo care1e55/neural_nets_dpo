{
 "cells": [
  {
   "cell_type": "markdown",
   "metadata": {},
   "source": [
    "![](https://hsto.org/getpro/habr/post_images/68f/fc1/d69/68ffc1d69c10d1ede103288c779c8f4e.jpg) \n",
    "\n",
    "# Наша первая нейросеть в Keras \n",
    "\n",
    "Изначально Keras создавалася как удобная надстройка над Theano. Отсюда появилось такое греческой название пакета (переводится как \"рог\"), ставшее отсылкой к Одиссее Гомера. Сегодня Keras поддерживает второй знаменитый фрэймворк Tensorflow, созданный Google и использует кго в качестве базового. \n",
    "\n",
    "## 1. О задаче, которую мы будем решать\n",
    "\n",
    "Для своего первого знакомства с нейросетками, мы будем использовать встроенный датасет под названием `boston_housing`. Как это не удивительно, речь пойдёт о недвижимости и ценах на неё. "
   ]
  },
  {
   "cell_type": "code",
   "execution_count": 2,
   "metadata": {},
   "outputs": [],
   "source": [
    "import numpy as np\n",
    "import pandas as pd\n",
    "import matplotlib.pyplot as plt\n",
    "\n",
    "plt.style.use('ggplot')\n",
    "%matplotlib inline"
   ]
  },
  {
   "cell_type": "code",
   "execution_count": 3,
   "metadata": {},
   "outputs": [
    {
     "name": "stderr",
     "output_type": "stream",
     "text": [
      "/usr/local/lib/python3.6/site-packages/h5py/__init__.py:36: FutureWarning: Conversion of the second argument of issubdtype from `float` to `np.floating` is deprecated. In future, it will be treated as `np.float64 == np.dtype(float).type`.\n",
      "  from ._conv import register_converters as _register_converters\n",
      "Using TensorFlow backend.\n",
      "/usr/local/Cellar/python/3.6.4_4/Frameworks/Python.framework/Versions/3.6/lib/python3.6/importlib/_bootstrap.py:219: RuntimeWarning: compiletime version 3.5 of module 'tensorflow.python.framework.fast_tensor_util' does not match runtime version 3.6\n",
      "  return f(*args, **kwds)\n"
     ]
    }
   ],
   "source": [
    "from keras.datasets import boston_housing\n",
    "(X_train, y_train), (X_test, y_test) = boston_housing.load_data()"
   ]
  },
  {
   "cell_type": "code",
   "execution_count": 4,
   "metadata": {
    "scrolled": true
   },
   "outputs": [
    {
     "data": {
      "text/plain": [
       "(404, 13)"
      ]
     },
     "execution_count": 4,
     "metadata": {},
     "output_type": "execute_result"
    }
   ],
   "source": [
    "X_train.shape"
   ]
  },
  {
   "cell_type": "code",
   "execution_count": 5,
   "metadata": {},
   "outputs": [
    {
     "data": {
      "text/plain": [
       "(102, 13)"
      ]
     },
     "execution_count": 5,
     "metadata": {},
     "output_type": "execute_result"
    }
   ],
   "source": [
    "X_test.shape"
   ]
  },
  {
   "cell_type": "markdown",
   "metadata": {},
   "source": [
    "Проскалируем переменные."
   ]
  },
  {
   "cell_type": "code",
   "execution_count": 10,
   "metadata": {},
   "outputs": [],
   "source": [
    "from sklearn.preprocessing import StandardScaler\n",
    "\n",
    "scl = StandardScaler()\n",
    "X_train = scl.fit_transform(X_train)\n",
    "X_test = scl.transform(X_test)"
   ]
  },
  {
   "cell_type": "markdown",
   "metadata": {},
   "source": [
    "## 2. Регрессия - моя профессия \n",
    "\n",
    "Оцените уже давно и до боли нам знакомую линейную регрессию. Посмотрите на качество модели. Прикрутите к ней $l_2$-регуляризатор, подберите оптимальное значение для гиерпараметра с помощью `greadsearch`. Посмотрите на качество модели. В качестве метрики используйте $MSE$. "
   ]
  },
  {
   "cell_type": "code",
   "execution_count": null,
   "metadata": {},
   "outputs": [],
   "source": [
    "# Ваш код"
   ]
  },
  {
   "cell_type": "markdown",
   "metadata": {},
   "source": [
    "## 3. Нейросеть - регрессия\n",
    "\n",
    "Как это не удивительно, линейная регрессия это частный, самый простой случай нейросети. Постройте в keras нейросеть из одного нейрона. Обучите её. Посмотрите на качество, сравните с обычной регрессией. "
   ]
  },
  {
   "cell_type": "code",
   "execution_count": null,
   "metadata": {},
   "outputs": [],
   "source": [
    "# Ваш код"
   ]
  },
  {
   "cell_type": "markdown",
   "metadata": {},
   "source": [
    "Прикрутите к сетке [регуляризатор.](https://keras.io/regularizers/) Посмотрите на качество модели."
   ]
  },
  {
   "cell_type": "code",
   "execution_count": null,
   "metadata": {},
   "outputs": [],
   "source": [
    "# Ваш код"
   ]
  },
  {
   "cell_type": "markdown",
   "metadata": {},
   "source": [
    "## 4. Один слой и оптимальное число нейронов \n",
    "\n",
    "**Итак, небольшое задание для самостоятельной работы.**\n",
    "\n",
    "Постройте нейронную сеть с одним скрытым слоем. Постройте для неё картинку с зависимостью качества модели от числа используемых в сети нейронов на обучении и тесте. По оси $x$ отложите число нейронов, используемое в слое. По оси $y$ качество модели. Для борьбы с переобучением используйте early stopping. Число нейронов перебирайте от $1$ до $20$. Запаситесь терпением и не забудьте проинтерпретировать картинки."
   ]
  },
  {
   "cell_type": "code",
   "execution_count": null,
   "metadata": {},
   "outputs": [],
   "source": [
    "# Ваш код"
   ]
  },
  {
   "cell_type": "markdown",
   "metadata": {},
   "source": [
    "## 5. Больше слоёв\n",
    "\n",
    "Попробуйте построит двух и трёх-слойные сетки с разным числом нейронов. Попробуйте добиться максимально возможного качества. Обратите внимание, что данных у нас очень мало, нейронка будем маленькой и быстро оцениваимой. Это позволяет делать перебор гиперпараметров. Когда данных очень много, перебор - довольно сложная штука. "
   ]
  },
  {
   "cell_type": "code",
   "execution_count": null,
   "metadata": {},
   "outputs": [],
   "source": [
    "# Ваш код "
   ]
  }
 ],
 "metadata": {
  "kernelspec": {
   "display_name": "Python 3",
   "language": "python",
   "name": "python3"
  },
  "language_info": {
   "codemirror_mode": {
    "name": "ipython",
    "version": 3
   },
   "file_extension": ".py",
   "mimetype": "text/x-python",
   "name": "python",
   "nbconvert_exporter": "python",
   "pygments_lexer": "ipython3",
   "version": "3.6.4"
  }
 },
 "nbformat": 4,
 "nbformat_minor": 2
}
