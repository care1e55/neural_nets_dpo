{
 "cells": [
  {
   "cell_type": "markdown",
   "metadata": {},
   "source": [
    "# Простейшие нейронные сети с Keras\n",
    "\n",
    "**ВНИМАНИЕ:** Чтобы работать с Keras, у вас уже должен быть установлен хотя бы один из фреймворков — Theano или Tensorflow.\n",
    "\n",
    "## 1. О данных и бэйзлайнах\n",
    "\n",
    "В этом задании нам доведётся построить несколько своих первых нейронных сетей для решения задачи классификации. Вам придётся так подобрать число нейронов, чтобы с одной стороны модель была не очень сложной и не переобучалась, а с другой стороны давала бы достаточно хороший прогноз. \n",
    "\n",
    "Делать всё это мы будем на животных. Ежегодно около 7.6 миллионов бедных животных в США оказываются в приютах. Часть из них находит себе новую семью, часть возвращается к старому (бывает, что питомец потерялся и его нашли на улице), а часть погибает. Ужегодно усыпляется около 2.7 млн. собак и кошек.  \n",
    "\n",
    "Используя датасет с входной информацией (цвет, пол, возраст и т.п.) из одного из приютов, мы попытаемся спрогнозировать что произойдёт с новыми животными, которые попадут в этот приют. Данные, используемые в тетрадке уже были предварительно обработаны и приведены в удобную для построения моделей форму. "
   ]
  },
  {
   "cell_type": "code",
   "execution_count": 2,
   "metadata": {},
   "outputs": [],
   "source": [
    "import numpy as np\n",
    "import pandas as pd\n",
    "import matplotlib.pyplot as plt\n",
    "\n",
    "import warnings         # чтобы никто не мешал бесчинствам с кодом\n",
    "warnings.filterwarnings(\"ignore\")\n",
    "\n",
    "plt.style.use('ggplot')\n",
    "%matplotlib inline"
   ]
  },
  {
   "cell_type": "code",
   "execution_count": 10,
   "metadata": {},
   "outputs": [
    {
     "name": "stdout",
     "output_type": "stream",
     "text": [
      "(26729, 37)\n",
      "(26729,)\n"
     ]
    },
    {
     "data": {
      "text/html": [
       "<div>\n",
       "<style scoped>\n",
       "    .dataframe tbody tr th:only-of-type {\n",
       "        vertical-align: middle;\n",
       "    }\n",
       "\n",
       "    .dataframe tbody tr th {\n",
       "        vertical-align: top;\n",
       "    }\n",
       "\n",
       "    .dataframe thead th {\n",
       "        text-align: right;\n",
       "    }\n",
       "</style>\n",
       "<table border=\"1\" class=\"dataframe\">\n",
       "  <thead>\n",
       "    <tr style=\"text-align: right;\">\n",
       "      <th></th>\n",
       "      <th>IsDog</th>\n",
       "      <th>Age</th>\n",
       "      <th>HasName</th>\n",
       "      <th>NameLength</th>\n",
       "      <th>NameFreq</th>\n",
       "      <th>MixColor</th>\n",
       "      <th>ColorFreqAsIs</th>\n",
       "      <th>ColorFreqBase</th>\n",
       "      <th>TabbyColor</th>\n",
       "      <th>MixBreed</th>\n",
       "      <th>...</th>\n",
       "      <th>SexStatus_Flawed</th>\n",
       "      <th>SexStatus_Intact</th>\n",
       "      <th>SexStatus_Unknown</th>\n",
       "      <th>Weekday_0</th>\n",
       "      <th>Weekday_1</th>\n",
       "      <th>Weekday_2</th>\n",
       "      <th>Weekday_3</th>\n",
       "      <th>Weekday_4</th>\n",
       "      <th>Weekday_5</th>\n",
       "      <th>Weekday_6</th>\n",
       "    </tr>\n",
       "  </thead>\n",
       "  <tbody>\n",
       "    <tr>\n",
       "      <th>0</th>\n",
       "      <td>1</td>\n",
       "      <td>365.0</td>\n",
       "      <td>1</td>\n",
       "      <td>7</td>\n",
       "      <td>0.000157</td>\n",
       "      <td>1</td>\n",
       "      <td>0.032919</td>\n",
       "      <td>0.463624</td>\n",
       "      <td>0</td>\n",
       "      <td>1</td>\n",
       "      <td>...</td>\n",
       "      <td>1</td>\n",
       "      <td>0</td>\n",
       "      <td>0</td>\n",
       "      <td>0</td>\n",
       "      <td>0</td>\n",
       "      <td>1</td>\n",
       "      <td>0</td>\n",
       "      <td>0</td>\n",
       "      <td>0</td>\n",
       "      <td>0</td>\n",
       "    </tr>\n",
       "    <tr>\n",
       "      <th>1</th>\n",
       "      <td>0</td>\n",
       "      <td>365.0</td>\n",
       "      <td>1</td>\n",
       "      <td>5</td>\n",
       "      <td>0.000655</td>\n",
       "      <td>0</td>\n",
       "      <td>0.008092</td>\n",
       "      <td>0.015005</td>\n",
       "      <td>1</td>\n",
       "      <td>1</td>\n",
       "      <td>...</td>\n",
       "      <td>1</td>\n",
       "      <td>0</td>\n",
       "      <td>0</td>\n",
       "      <td>0</td>\n",
       "      <td>0</td>\n",
       "      <td>0</td>\n",
       "      <td>0</td>\n",
       "      <td>0</td>\n",
       "      <td>0</td>\n",
       "      <td>1</td>\n",
       "    </tr>\n",
       "    <tr>\n",
       "      <th>2</th>\n",
       "      <td>1</td>\n",
       "      <td>730.0</td>\n",
       "      <td>1</td>\n",
       "      <td>6</td>\n",
       "      <td>0.000052</td>\n",
       "      <td>1</td>\n",
       "      <td>0.026293</td>\n",
       "      <td>0.357521</td>\n",
       "      <td>0</td>\n",
       "      <td>1</td>\n",
       "      <td>...</td>\n",
       "      <td>1</td>\n",
       "      <td>0</td>\n",
       "      <td>0</td>\n",
       "      <td>0</td>\n",
       "      <td>0</td>\n",
       "      <td>0</td>\n",
       "      <td>0</td>\n",
       "      <td>0</td>\n",
       "      <td>1</td>\n",
       "      <td>0</td>\n",
       "    </tr>\n",
       "    <tr>\n",
       "      <th>3</th>\n",
       "      <td>0</td>\n",
       "      <td>21.0</td>\n",
       "      <td>0</td>\n",
       "      <td>7</td>\n",
       "      <td>0.285871</td>\n",
       "      <td>0</td>\n",
       "      <td>0.000471</td>\n",
       "      <td>0.058418</td>\n",
       "      <td>0</td>\n",
       "      <td>1</td>\n",
       "      <td>...</td>\n",
       "      <td>0</td>\n",
       "      <td>1</td>\n",
       "      <td>0</td>\n",
       "      <td>0</td>\n",
       "      <td>0</td>\n",
       "      <td>0</td>\n",
       "      <td>0</td>\n",
       "      <td>1</td>\n",
       "      <td>0</td>\n",
       "      <td>0</td>\n",
       "    </tr>\n",
       "    <tr>\n",
       "      <th>4</th>\n",
       "      <td>1</td>\n",
       "      <td>730.0</td>\n",
       "      <td>0</td>\n",
       "      <td>7</td>\n",
       "      <td>0.285871</td>\n",
       "      <td>0</td>\n",
       "      <td>0.023831</td>\n",
       "      <td>0.075353</td>\n",
       "      <td>0</td>\n",
       "      <td>0</td>\n",
       "      <td>...</td>\n",
       "      <td>1</td>\n",
       "      <td>0</td>\n",
       "      <td>0</td>\n",
       "      <td>0</td>\n",
       "      <td>0</td>\n",
       "      <td>0</td>\n",
       "      <td>0</td>\n",
       "      <td>1</td>\n",
       "      <td>0</td>\n",
       "      <td>0</td>\n",
       "    </tr>\n",
       "  </tbody>\n",
       "</table>\n",
       "<p>5 rows × 37 columns</p>\n",
       "</div>"
      ],
      "text/plain": [
       "   IsDog    Age  HasName  NameLength  NameFreq  MixColor  ColorFreqAsIs  \\\n",
       "0      1  365.0        1           7  0.000157         1       0.032919   \n",
       "1      0  365.0        1           5  0.000655         0       0.008092   \n",
       "2      1  730.0        1           6  0.000052         1       0.026293   \n",
       "3      0   21.0        0           7  0.285871         0       0.000471   \n",
       "4      1  730.0        0           7  0.285871         0       0.023831   \n",
       "\n",
       "   ColorFreqBase  TabbyColor  MixBreed    ...      SexStatus_Flawed  \\\n",
       "0       0.463624           0         1    ...                     1   \n",
       "1       0.015005           1         1    ...                     1   \n",
       "2       0.357521           0         1    ...                     1   \n",
       "3       0.058418           0         1    ...                     0   \n",
       "4       0.075353           0         0    ...                     1   \n",
       "\n",
       "   SexStatus_Intact  SexStatus_Unknown  Weekday_0  Weekday_1  Weekday_2  \\\n",
       "0                 0                  0          0          0          1   \n",
       "1                 0                  0          0          0          0   \n",
       "2                 0                  0          0          0          0   \n",
       "3                 1                  0          0          0          0   \n",
       "4                 0                  0          0          0          0   \n",
       "\n",
       "   Weekday_3  Weekday_4  Weekday_5  Weekday_6  \n",
       "0          0          0          0          0  \n",
       "1          0          0          0          1  \n",
       "2          0          0          1          0  \n",
       "3          0          1          0          0  \n",
       "4          0          1          0          0  \n",
       "\n",
       "[5 rows x 37 columns]"
      ]
     },
     "execution_count": 10,
     "metadata": {},
     "output_type": "execute_result"
    }
   ],
   "source": [
    "X = pd.read_csv('X_cat.csv', sep = '\\t', index_col=0)\n",
    "outcome_df=pd.read_csv('y_cat.csv', sep = '\\t', index_col=0, header=-1)\n",
    "outcome_df['cnt']=1\n",
    "outcome = pd.read_csv('y_cat.csv', sep = '\\t', index_col=0, header=-1)[1].get_values()\n",
    "print(X.shape)\n",
    "print(outcome.shape)\n",
    "X.head()"
   ]
  },
  {
   "cell_type": "markdown",
   "metadata": {},
   "source": [
    "В датасете находится около 27 тысяч наблюдений и 39 регрессоров. Посмотрим на то как выглядит распределение того, что произошло со зверятами по особям."
   ]
  },
  {
   "cell_type": "code",
   "execution_count": 11,
   "metadata": {},
   "outputs": [
    {
     "data": {
      "text/html": [
       "<div>\n",
       "<style scoped>\n",
       "    .dataframe tbody tr th:only-of-type {\n",
       "        vertical-align: middle;\n",
       "    }\n",
       "\n",
       "    .dataframe tbody tr th {\n",
       "        vertical-align: top;\n",
       "    }\n",
       "\n",
       "    .dataframe thead th {\n",
       "        text-align: right;\n",
       "    }\n",
       "</style>\n",
       "<table border=\"1\" class=\"dataframe\">\n",
       "  <thead>\n",
       "    <tr style=\"text-align: right;\">\n",
       "      <th></th>\n",
       "      <th>cnt</th>\n",
       "    </tr>\n",
       "    <tr>\n",
       "      <th>1</th>\n",
       "      <th></th>\n",
       "    </tr>\n",
       "  </thead>\n",
       "  <tbody>\n",
       "    <tr>\n",
       "      <th>Adoption</th>\n",
       "      <td>10769</td>\n",
       "    </tr>\n",
       "    <tr>\n",
       "      <th>Died</th>\n",
       "      <td>197</td>\n",
       "    </tr>\n",
       "    <tr>\n",
       "      <th>Euthanasia</th>\n",
       "      <td>1555</td>\n",
       "    </tr>\n",
       "    <tr>\n",
       "      <th>Return_to_owner</th>\n",
       "      <td>4786</td>\n",
       "    </tr>\n",
       "    <tr>\n",
       "      <th>Transfer</th>\n",
       "      <td>9422</td>\n",
       "    </tr>\n",
       "  </tbody>\n",
       "</table>\n",
       "</div>"
      ],
      "text/plain": [
       "                   cnt\n",
       "1                     \n",
       "Adoption         10769\n",
       "Died               197\n",
       "Euthanasia        1555\n",
       "Return_to_owner   4786\n",
       "Transfer          9422"
      ]
     },
     "execution_count": 11,
     "metadata": {},
     "output_type": "execute_result"
    }
   ],
   "source": [
    "outcome_df.groupby(1).count()"
   ]
  },
  {
   "cell_type": "markdown",
   "metadata": {},
   "source": [
    "Видим, что классы несбалансированы. Попробуем оставит четыре класса и объединить класс умерших животных с классом животных, которых усыпили. "
   ]
  },
  {
   "cell_type": "code",
   "execution_count": 12,
   "metadata": {},
   "outputs": [],
   "source": [
    "outcome[outcome == 'Died'] = 'Euthanasia'"
   ]
  },
  {
   "cell_type": "markdown",
   "metadata": {},
   "source": [
    "Закодируем классы."
   ]
  },
  {
   "cell_type": "code",
   "execution_count": 13,
   "metadata": {},
   "outputs": [
    {
     "data": {
      "text/plain": [
       "array([2, 1, 0, ..., 0, 3, 3], dtype=int64)"
      ]
     },
     "execution_count": 13,
     "metadata": {},
     "output_type": "execute_result"
    }
   ],
   "source": [
    "from sklearn.preprocessing import LabelEncoder\n",
    "le = LabelEncoder()\n",
    "y = le.fit_transform(outcome)\n",
    "y"
   ]
  },
  {
   "cell_type": "code",
   "execution_count": 14,
   "metadata": {},
   "outputs": [
    {
     "data": {
      "text/plain": [
       "26729"
      ]
     },
     "execution_count": 14,
     "metadata": {},
     "output_type": "execute_result"
    }
   ],
   "source": [
    "len(y)"
   ]
  },
  {
   "cell_type": "code",
   "execution_count": 15,
   "metadata": {},
   "outputs": [
    {
     "data": {
      "text/plain": [
       "(26729, 37)"
      ]
     },
     "execution_count": 15,
     "metadata": {},
     "output_type": "execute_result"
    }
   ],
   "source": [
    "X.shape"
   ]
  },
  {
   "cell_type": "markdown",
   "metadata": {},
   "source": [
    "Разобьём выборку на тренировочную и тестовую. "
   ]
  },
  {
   "cell_type": "code",
   "execution_count": 16,
   "metadata": {},
   "outputs": [
    {
     "name": "stdout",
     "output_type": "stream",
     "text": [
      "(21383, 37)\n",
      "(5346, 37)\n"
     ]
    }
   ],
   "source": [
    "from sklearn.cross_validation import train_test_split\n",
    "\n",
    "X_train, X_test, y_train, y_test = train_test_split(X, y, test_size=0.2, stratify = y, random_state = 42)\n",
    "\n",
    "print(X_train.shape)\n",
    "print(X_test.shape)"
   ]
  },
  {
   "cell_type": "markdown",
   "metadata": {},
   "source": [
    "### Константный прогноз\n",
    "\n",
    "Построим константный прогноз, чтобы было с чем сравнивать и прогноз по какой-нибудь модели. "
   ]
  },
  {
   "cell_type": "code",
   "execution_count": 17,
   "metadata": {},
   "outputs": [
    {
     "data": {
      "text/plain": [
       "array([0.40289015, 0.0655661 , 0.17906748, 0.35247627])"
      ]
     },
     "execution_count": 17,
     "metadata": {},
     "output_type": "execute_result"
    }
   ],
   "source": [
    "from sklearn.metrics import log_loss\n",
    "\n",
    "probas = np.array(pd.Series(y_train).value_counts(normalize=True).sort_index().tolist())\n",
    "probas"
   ]
  },
  {
   "cell_type": "code",
   "execution_count": 18,
   "metadata": {},
   "outputs": [
    {
     "data": {
      "text/plain": [
       "1.2202552496487795"
      ]
     },
     "execution_count": 18,
     "metadata": {},
     "output_type": "execute_result"
    }
   ],
   "source": [
    "log_loss(y_test, np.tile(probas, X_test.shape[0]).reshape(X_test.shape[0], 4))"
   ]
  },
  {
   "cell_type": "markdown",
   "metadata": {},
   "source": [
    "## Логистическая регрессия"
   ]
  },
  {
   "cell_type": "code",
   "execution_count": 19,
   "metadata": {},
   "outputs": [
    {
     "data": {
      "text/plain": [
       "0.8919892885293126"
      ]
     },
     "execution_count": 19,
     "metadata": {},
     "output_type": "execute_result"
    }
   ],
   "source": [
    "from sklearn.linear_model import LogisticRegression\n",
    "\n",
    "logreg = LogisticRegression( )\n",
    "logreg.fit(X_train, y_train)\n",
    "log_loss(y_test, logreg.predict_proba(X_test))"
   ]
  },
  {
   "cell_type": "code",
   "execution_count": 20,
   "metadata": {},
   "outputs": [
    {
     "data": {
      "text/plain": [
       "array([[0.56064682, 0.02038293, 0.0533491 , 0.36562115],\n",
       "       [0.54122977, 0.038535  , 0.28801768, 0.13221756],\n",
       "       [0.24847073, 0.04115518, 0.05349551, 0.65687858],\n",
       "       ...,\n",
       "       [0.67514049, 0.00515903, 0.22897332, 0.09072716],\n",
       "       [0.52922764, 0.037158  , 0.00443664, 0.42917772],\n",
       "       [0.71530258, 0.00550471, 0.17191867, 0.10727403]])"
      ]
     },
     "execution_count": 20,
     "metadata": {},
     "output_type": "execute_result"
    }
   ],
   "source": [
    "logreg.predict_proba(X_test)"
   ]
  },
  {
   "cell_type": "markdown",
   "metadata": {},
   "source": [
    "### Случайный лес "
   ]
  },
  {
   "cell_type": "code",
   "execution_count": 21,
   "metadata": {
    "scrolled": true
   },
   "outputs": [
    {
     "data": {
      "text/plain": [
       "0.7626124157322061"
      ]
     },
     "execution_count": 21,
     "metadata": {},
     "output_type": "execute_result"
    }
   ],
   "source": [
    "from sklearn.ensemble import RandomForestClassifier\n",
    "\n",
    "rf = RandomForestClassifier(n_estimators=1000, n_jobs=3)\n",
    "rf.fit(X_train, y_train)\n",
    "log_loss(y_test, rf.predict_proba(X_test))"
   ]
  },
  {
   "cell_type": "code",
   "execution_count": 22,
   "metadata": {},
   "outputs": [
    {
     "data": {
      "text/plain": [
       "array([[0.853, 0.007, 0.015, 0.125],\n",
       "       [0.346, 0.072, 0.257, 0.325],\n",
       "       [0.519, 0.195, 0.074, 0.212],\n",
       "       ...,\n",
       "       [0.268, 0.003, 0.243, 0.486],\n",
       "       [0.795, 0.021, 0.018, 0.166],\n",
       "       [0.839, 0.004, 0.111, 0.046]])"
      ]
     },
     "execution_count": 22,
     "metadata": {},
     "output_type": "execute_result"
    }
   ],
   "source": [
    "rf.predict_proba(X_test)"
   ]
  },
  {
   "cell_type": "markdown",
   "metadata": {},
   "source": [
    "Неплохой результат. Попробуем улучшить его с помошью нейросеток. "
   ]
  },
  {
   "cell_type": "markdown",
   "metadata": {},
   "source": [
    "## 2. Собираем свою нейросеть"
   ]
  },
  {
   "cell_type": "code",
   "execution_count": 23,
   "metadata": {},
   "outputs": [],
   "source": [
    "import keras\n",
    "from keras.models import Sequential   # Последовательность слоёв\n",
    "import keras.layers as L              # Разные слои\n",
    "import keras.optimizers as opt        # Оптимизаторы\n",
    "from keras.utils.np_utils import to_categorical  # Для преобразования y в категориальный формат "
   ]
  },
  {
   "cell_type": "code",
   "execution_count": 24,
   "metadata": {},
   "outputs": [],
   "source": [
    "def get_new_model( ):\n",
    "    # Задаём модель и называем её ...\n",
    "    model = Sequential(name = 'Archibald')\n",
    "\n",
    "    # Добавляем в нашу модель первый слой из 25 нейронов\n",
    "    # На вход в эти 25 нейронов будут индти все наши регрессоры\n",
    "    model.add(L.Dense(25, input_dim = X_train.shape[1], kernel_initializer='random_normal'))\n",
    "\n",
    "    # Добавляем функцию активации на первый слой \n",
    "    model.add(L.Activation('sigmoid'))\n",
    "\n",
    "    # Добавляем ещё один слой из 25 нейронов\n",
    "    model.add(L.Dense(25, kernel_initializer='random_normal'))\n",
    "    model.add(L.Activation('sigmoid'))\n",
    "\n",
    "    # На выходе мы должны получить вероятности того, что объект относится к разным классам \n",
    "    # Сделать такое преобразование позволяет softmax как функция активации\n",
    "    # На выход будет идти 4 вероятности по числу классов\n",
    "    model.add(L.Dense(4, activation='softmax', kernel_initializer = 'random_normal'))\n",
    "\n",
    "    # В качестве оптимизации будем использовать Adam\n",
    "    optimizer = opt.Adam(lr=1e-3)\n",
    "\n",
    "    # Собираем модельa\n",
    "    model.compile(loss = 'categorical_crossentropy', metrics=[\"accuracy\"], optimizer=optimizer)\n",
    "    return model\n",
    "\n",
    "model = get_new_model( )"
   ]
  },
  {
   "cell_type": "markdown",
   "metadata": {},
   "source": [
    "Итак, только что мы собрали свою первую нейросеть со скрытым слоем.   Посмотрим сколько параметров нам предстоит оценить. "
   ]
  },
  {
   "cell_type": "code",
   "execution_count": 25,
   "metadata": {},
   "outputs": [
    {
     "name": "stdout",
     "output_type": "stream",
     "text": [
      "_________________________________________________________________\n",
      "Layer (type)                 Output Shape              Param #   \n",
      "=================================================================\n",
      "dense_1 (Dense)              (None, 25)                950       \n",
      "_________________________________________________________________\n",
      "activation_1 (Activation)    (None, 25)                0         \n",
      "_________________________________________________________________\n",
      "dense_2 (Dense)              (None, 25)                650       \n",
      "_________________________________________________________________\n",
      "activation_2 (Activation)    (None, 25)                0         \n",
      "_________________________________________________________________\n",
      "dense_3 (Dense)              (None, 4)                 104       \n",
      "=================================================================\n",
      "Total params: 1,704\n",
      "Trainable params: 1,704\n",
      "Non-trainable params: 0\n",
      "_________________________________________________________________\n"
     ]
    }
   ],
   "source": [
    "model.summary()"
   ]
  },
  {
   "cell_type": "markdown",
   "metadata": {},
   "source": [
    "Видим, что нужно оценить огромное количество параметров. На оценку каждого параметра придётся совсем маленькое количество наблюдений. "
   ]
  },
  {
   "cell_type": "code",
   "execution_count": 26,
   "metadata": {},
   "outputs": [
    {
     "data": {
      "text/plain": [
       "12.548708920187794"
      ]
     },
     "execution_count": 26,
     "metadata": {},
     "output_type": "execute_result"
    }
   ],
   "source": [
    "X_train.shape[0]/1704"
   ]
  },
  {
   "cell_type": "markdown",
   "metadata": {},
   "source": [
    "Отлично! Модель собрана. Осталось её обучить. Метод `fit` позволяет сделать это. Он принимает на вход обучающую выборку `X_train, y_train`. Параметр  `batch_size` это  размер батча. Этот параметр ограничивает количество примеров, которое за раз подаётся в нашу нейронную сеть. Количиство эпох для обучения, `epochs`, это сичсло проходов модели по обучающей выборке. \n",
    "\n",
    "Обычно нейросетки обучаются довольно долго. В связи с этим обучать их на различных фолдах и оценивать качество работы модели на кросс-валидации не очень быстрое занятие, которое себе может позволить далеко не каждый. Для проверки качества обычно внутри обучения с помощью параметра `validation_split` часть выборки оставляют под валидацию, которая осуществляется после каждой эпохи. Как только качество на валидации начнёт падать, это будет означать, что модель переобучилаcь. \n",
    "\n",
    "Всё, что будет нам возвращать метод `.fit`, мы запишем в переменную `hist`. После обученя модели там окажется вся история ошибок на каждом шаге обучения. Отключить сообщения о том, на каком этапе обучения в данный момент находится модель, можно с параметром `verbose = 0`. Переменную $y$ для успешного обучения сетки нужно будет перевести в матрицу из дамми-переменных с помощью команды `to_categorical`. "
   ]
  },
  {
   "cell_type": "code",
   "execution_count": 27,
   "metadata": {},
   "outputs": [
    {
     "data": {
      "text/plain": [
       "array([[0., 0., 1., 0.],\n",
       "       [0., 1., 0., 0.],\n",
       "       [1., 0., 0., 0.],\n",
       "       ...,\n",
       "       [1., 0., 0., 0.],\n",
       "       [0., 0., 0., 1.],\n",
       "       [0., 0., 0., 1.]])"
      ]
     },
     "execution_count": 27,
     "metadata": {},
     "output_type": "execute_result"
    }
   ],
   "source": [
    "to_categorical(y)"
   ]
  },
  {
   "cell_type": "code",
   "execution_count": 28,
   "metadata": {
    "scrolled": true
   },
   "outputs": [
    {
     "name": "stdout",
     "output_type": "stream",
     "text": [
      "Train on 17106 samples, validate on 4277 samples\n",
      "Epoch 1/100\n",
      "17106/17106 [==============================] - 6s 324us/step - loss: 1.1985 - acc: 0.4013 - val_loss: 1.1492 - val_acc: 0.4178\n",
      "Epoch 2/100\n",
      "17106/17106 [==============================] - 2s 126us/step - loss: 1.1532 - acc: 0.4221 - val_loss: 1.1552 - val_acc: 0.4171\n",
      "Epoch 3/100\n",
      "17106/17106 [==============================] - 2s 119us/step - loss: 1.1557 - acc: 0.4192 - val_loss: 1.1536 - val_acc: 0.41719\n",
      "Epoch 4/100\n",
      "17106/17106 [==============================] - 2s 115us/step - loss: 1.1542 - acc: 0.4215 - val_loss: 1.1484 - val_acc: 0.4178\n",
      "Epoch 5/100\n",
      "17106/17106 [==============================] - 2s 113us/step - loss: 1.1557 - acc: 0.4207 - val_loss: 1.1524 - val_acc: 0.4178\n",
      "Epoch 6/100\n",
      "17106/17106 [==============================] - 2s 113us/step - loss: 1.1560 - acc: 0.4192 - val_loss: 1.1532 - val_acc: 0.4178\n",
      "Epoch 7/100\n",
      "17106/17106 [==============================] - 2s 111us/step - loss: 1.1560 - acc: 0.4208 - val_loss: 1.1516 - val_acc: 0.4199\n",
      "Epoch 8/100\n",
      "17106/17106 [==============================] - 2s 111us/step - loss: 1.1559 - acc: 0.4212 - val_loss: 1.1533 - val_acc: 0.3902\n",
      "Epoch 9/100\n",
      "17106/17106 [==============================] - 2s 110us/step - loss: 1.1477 - acc: 0.4235 - val_loss: 1.1425 - val_acc: 0.4171\n",
      "Epoch 10/100\n",
      "17106/17106 [==============================] - 2s 115us/step - loss: 1.1439 - acc: 0.4214 - val_loss: 1.1412 - val_acc: 0.4199\n",
      "Epoch 11/100\n",
      "17106/17106 [==============================] - 2s 125us/step - loss: 1.1405 - acc: 0.4228 - val_loss: 1.1366 - val_acc: 0.4152\n",
      "Epoch 12/100\n",
      "17106/17106 [==============================] - 2s 114us/step - loss: 1.1401 - acc: 0.4225 - val_loss: 1.1441 - val_acc: 0.4178\n",
      "Epoch 13/100\n",
      "17106/17106 [==============================] - 2s 115us/step - loss: 1.1400 - acc: 0.4206 - val_loss: 1.1376 - val_acc: 0.4171\n",
      "Epoch 14/100\n",
      "17106/17106 [==============================] - 2s 112us/step - loss: 1.1405 - acc: 0.4231 - val_loss: 1.1443 - val_acc: 0.4171\n",
      "Epoch 15/100\n",
      "17106/17106 [==============================] - 2s 109us/step - loss: 1.1422 - acc: 0.4231 - val_loss: 1.1418 - val_acc: 0.4171\n",
      "Epoch 16/100\n",
      "17106/17106 [==============================] - 2s 114us/step - loss: 1.1420 - acc: 0.4228 - val_loss: 1.1402 - val_acc: 0.4171\n",
      "Epoch 17/100\n",
      "17106/17106 [==============================] - 2s 121us/step - loss: 1.1408 - acc: 0.4190 - val_loss: 1.1409 - val_acc: 0.4171\n",
      "Epoch 18/100\n",
      "17106/17106 [==============================] - 2s 115us/step - loss: 1.1400 - acc: 0.4240 - val_loss: 1.1421 - val_acc: 0.4171\n",
      "Epoch 19/100\n",
      "17106/17106 [==============================] - 2s 111us/step - loss: 1.1409 - acc: 0.4231 - val_loss: 1.1409 - val_acc: 0.4159\n",
      "Epoch 20/100\n",
      "17106/17106 [==============================] - 2s 115us/step - loss: 1.1409 - acc: 0.4210 - val_loss: 1.1410 - val_acc: 0.4171\n",
      "Epoch 21/100\n",
      "17106/17106 [==============================] - 2s 115us/step - loss: 1.1405 - acc: 0.4218 - val_loss: 1.1393 - val_acc: 0.4122\n",
      "Epoch 22/100\n",
      "17106/17106 [==============================] - 2s 115us/step - loss: 1.1406 - acc: 0.4225 - val_loss: 1.1412 - val_acc: 0.4171\n",
      "Epoch 23/100\n",
      "17106/17106 [==============================] - 2s 117us/step - loss: 1.1391 - acc: 0.4206 - val_loss: 1.1392 - val_acc: 0.4171\n",
      "Epoch 24/100\n",
      "17106/17106 [==============================] - 2s 118us/step - loss: 1.1383 - acc: 0.4215 - val_loss: 1.1398 - val_acc: 0.4171\n",
      "Epoch 25/100\n",
      "17106/17106 [==============================] - 2s 117us/step - loss: 1.1398 - acc: 0.4241 - val_loss: 1.1399 - val_acc: 0.4171\n",
      "Epoch 26/100\n",
      "17106/17106 [==============================] - 2s 110us/step - loss: 1.1397 - acc: 0.4241 - val_loss: 1.1409 - val_acc: 0.4171\n",
      "Epoch 27/100\n",
      "17106/17106 [==============================] - 2s 113us/step - loss: 1.1394 - acc: 0.4217 - val_loss: 1.1412 - val_acc: 0.4007\n",
      "Epoch 28/100\n",
      "17106/17106 [==============================] - 2s 114us/step - loss: 1.1405 - acc: 0.4192 - val_loss: 1.1418 - val_acc: 0.4171\n",
      "Epoch 29/100\n",
      "17106/17106 [==============================] - 2s 113us/step - loss: 1.1401 - acc: 0.4207 - val_loss: 1.1385 - val_acc: 0.4171\n",
      "Epoch 30/100\n",
      "17106/17106 [==============================] - 2s 114us/step - loss: 1.1394 - acc: 0.4217 - val_loss: 1.1612 - val_acc: 0.4171\n",
      "Epoch 31/100\n",
      "17106/17106 [==============================] - 2s 113us/step - loss: 1.1568 - acc: 0.4249 - val_loss: 1.1522 - val_acc: 0.4171\n",
      "Epoch 32/100\n",
      "17106/17106 [==============================] - 2s 115us/step - loss: 1.1554 - acc: 0.4249 - val_loss: 1.1523 - val_acc: 0.4171\n",
      "Epoch 33/100\n",
      "17106/17106 [==============================] - 2s 110us/step - loss: 1.1563 - acc: 0.4220 - val_loss: 1.1541 - val_acc: 0.4171\n",
      "Epoch 34/100\n",
      "17106/17106 [==============================] - 2s 113us/step - loss: 1.1566 - acc: 0.4249 - val_loss: 1.1532 - val_acc: 0.4171\n",
      "Epoch 35/100\n",
      "17106/17106 [==============================] - 2s 110us/step - loss: 1.1561 - acc: 0.4242 - val_loss: 1.1526 - val_acc: 0.4199\n",
      "Epoch 36/100\n",
      "17106/17106 [==============================] - 2s 111us/step - loss: 1.1557 - acc: 0.4186 - val_loss: 1.1521 - val_acc: 0.4171\n",
      "Epoch 37/100\n",
      "17106/17106 [==============================] - 2s 114us/step - loss: 1.1554 - acc: 0.4250 - val_loss: 1.1520 - val_acc: 0.4171\n",
      "Epoch 38/100\n",
      "17106/17106 [==============================] - 2s 109us/step - loss: 1.1555 - acc: 0.4245 - val_loss: 1.1525 - val_acc: 0.4171\n",
      "Epoch 39/100\n",
      "17106/17106 [==============================] - 2s 112us/step - loss: 1.1553 - acc: 0.4237 - val_loss: 1.1524 - val_acc: 0.4171\n",
      "Epoch 40/100\n",
      "17106/17106 [==============================] - 2s 111us/step - loss: 1.1555 - acc: 0.4211 - val_loss: 1.1532 - val_acc: 0.4171\n",
      "Epoch 41/100\n",
      "17106/17106 [==============================] - 2s 112us/step - loss: 1.1555 - acc: 0.4245 - val_loss: 1.1540 - val_acc: 0.4199\n",
      "Epoch 42/100\n",
      "17106/17106 [==============================] - 2s 115us/step - loss: 1.1558 - acc: 0.4238 - val_loss: 1.1520 - val_acc: 0.4171\n",
      "Epoch 43/100\n",
      "17106/17106 [==============================] - 2s 111us/step - loss: 1.1556 - acc: 0.4248 - val_loss: 1.1516 - val_acc: 0.4171\n",
      "Epoch 44/100\n",
      "17106/17106 [==============================] - 2s 113us/step - loss: 1.1554 - acc: 0.4246 - val_loss: 1.1530 - val_acc: 0.4171\n",
      "Epoch 45/100\n",
      "17106/17106 [==============================] - 2s 111us/step - loss: 1.1557 - acc: 0.4246 - val_loss: 1.1520 - val_acc: 0.4171\n",
      "Epoch 46/100\n",
      "17106/17106 [==============================] - 2s 109us/step - loss: 1.1558 - acc: 0.4249 - val_loss: 1.1522 - val_acc: 0.4171\n",
      "Epoch 47/100\n",
      "17106/17106 [==============================] - 2s 110us/step - loss: 1.1553 - acc: 0.4232 - val_loss: 1.1528 - val_acc: 0.4171\n",
      "Epoch 48/100\n",
      "17106/17106 [==============================] - 2s 110us/step - loss: 1.1553 - acc: 0.4249 - val_loss: 1.1530 - val_acc: 0.4171\n",
      "Epoch 49/100\n",
      "17106/17106 [==============================] - 2s 110us/step - loss: 1.1628 - acc: 0.4237 - val_loss: 1.1868 - val_acc: 0.4122\n",
      "Epoch 50/100\n",
      "17106/17106 [==============================] - 2s 112us/step - loss: 1.1838 - acc: 0.4193 - val_loss: 1.1845 - val_acc: 0.4159\n",
      "Epoch 51/100\n",
      "17106/17106 [==============================] - 2s 117us/step - loss: 1.1826 - acc: 0.4201 - val_loss: 1.1839 - val_acc: 0.4159\n",
      "Epoch 52/100\n",
      "17106/17106 [==============================] - 2s 117us/step - loss: 1.1822 - acc: 0.4203 - val_loss: 1.1835 - val_acc: 0.4159\n",
      "Epoch 53/100\n",
      "17106/17106 [==============================] - 2s 116us/step - loss: 1.1818 - acc: 0.4203 - val_loss: 1.1830 - val_acc: 0.4159\n",
      "Epoch 54/100\n",
      "17106/17106 [==============================] - 2s 116us/step - loss: 1.1816 - acc: 0.4201 - val_loss: 1.1833 - val_acc: 0.4171\n",
      "Epoch 55/100\n",
      "17106/17106 [==============================] - 2s 116us/step - loss: 1.1725 - acc: 0.4188 - val_loss: 1.1677 - val_acc: 0.4159\n",
      "Epoch 56/100\n",
      "17106/17106 [==============================] - 2s 113us/step - loss: 1.1704 - acc: 0.4209 - val_loss: 1.1687 - val_acc: 0.4073\n",
      "Epoch 57/100\n",
      "17106/17106 [==============================] - 2s 114us/step - loss: 1.1707 - acc: 0.4168 - val_loss: 1.1679 - val_acc: 0.4199\n",
      "Epoch 58/100\n",
      "17106/17106 [==============================] - 2s 114us/step - loss: 1.1706 - acc: 0.4237 - val_loss: 1.1680 - val_acc: 0.4199\n",
      "Epoch 59/100\n",
      "17106/17106 [==============================] - 2s 114us/step - loss: 1.1705 - acc: 0.4208 - val_loss: 1.1665 - val_acc: 0.4199\n",
      "Epoch 60/100\n",
      "17106/17106 [==============================] - 2s 113us/step - loss: 1.1701 - acc: 0.4213 - val_loss: 1.1671 - val_acc: 0.4199\n",
      "Epoch 61/100\n",
      "17106/17106 [==============================] - 2s 121us/step - loss: 1.1701 - acc: 0.4209 - val_loss: 1.1670 - val_acc: 0.4199\n",
      "Epoch 62/100\n",
      "17106/17106 [==============================] - 2s 114us/step - loss: 1.1525 - acc: 0.4221 - val_loss: 1.1427 - val_acc: 0.4199\n",
      "Epoch 63/100\n",
      "17106/17106 [==============================] - 2s 115us/step - loss: 1.1424 - acc: 0.4200 - val_loss: 1.1396 - val_acc: 0.4199\n",
      "Epoch 64/100\n",
      "17106/17106 [==============================] - 2s 121us/step - loss: 1.1403 - acc: 0.4196 - val_loss: 1.1410 - val_acc: 0.4199\n",
      "Epoch 65/100\n",
      "17106/17106 [==============================] - 2s 129us/step - loss: 1.1395 - acc: 0.4209 - val_loss: 1.1395 - val_acc: 0.4199\n",
      "Epoch 66/100\n",
      "17106/17106 [==============================] - 2s 116us/step - loss: 1.1544 - acc: 0.4218 - val_loss: 1.1504 - val_acc: 0.4199\n",
      "Epoch 67/100\n",
      "17106/17106 [==============================] - 2s 117us/step - loss: 1.1541 - acc: 0.4213 - val_loss: 1.1507 - val_acc: 0.4199\n",
      "Epoch 68/100\n",
      "17106/17106 [==============================] - 2s 115us/step - loss: 1.1540 - acc: 0.4228 - val_loss: 1.1528 - val_acc: 0.4199\n",
      "Epoch 69/100\n",
      "17106/17106 [==============================] - 2s 114us/step - loss: 1.1553 - acc: 0.4196 - val_loss: 1.1558 - val_acc: 0.4159\n",
      "Epoch 70/100\n",
      "17106/17106 [==============================] - 2s 114us/step - loss: 1.1558 - acc: 0.4204 - val_loss: 1.1556 - val_acc: 0.4159\n",
      "Epoch 71/100\n",
      "17106/17106 [==============================] - 2s 116us/step - loss: 1.1553 - acc: 0.4213 - val_loss: 1.1506 - val_acc: 0.4199\n",
      "Epoch 72/100\n",
      "17106/17106 [==============================] - 2s 117us/step - loss: 1.1539 - acc: 0.4217 - val_loss: 1.1517 - val_acc: 0.4199\n",
      "Epoch 73/100\n",
      "17106/17106 [==============================] - 2s 117us/step - loss: 1.1537 - acc: 0.4220 - val_loss: 1.1504 - val_acc: 0.4199\n",
      "Epoch 74/100\n",
      "17106/17106 [==============================] - 2s 110us/step - loss: 1.1536 - acc: 0.4217 - val_loss: 1.1509 - val_acc: 0.4199\n",
      "Epoch 75/100\n",
      "17106/17106 [==============================] - 2s 115us/step - loss: 1.1539 - acc: 0.4224 - val_loss: 1.1505 - val_acc: 0.4199\n",
      "Epoch 76/100\n",
      "17106/17106 [==============================] - 2s 110us/step - loss: 1.1545 - acc: 0.4228 - val_loss: 1.1509 - val_acc: 0.4199\n",
      "Epoch 77/100\n",
      "17106/17106 [==============================] - 2s 110us/step - loss: 1.1543 - acc: 0.4228 - val_loss: 1.1516 - val_acc: 0.4199\n",
      "Epoch 78/100\n",
      "17106/17106 [==============================] - 2s 112us/step - loss: 1.1542 - acc: 0.4228 - val_loss: 1.1508 - val_acc: 0.4199\n",
      "Epoch 79/100\n",
      "17106/17106 [==============================] - 2s 110us/step - loss: 1.1545 - acc: 0.4228 - val_loss: 1.1503 - val_acc: 0.4199\n",
      "Epoch 80/100\n",
      "17106/17106 [==============================] - 2s 124us/step - loss: 1.1543 - acc: 0.4221 - val_loss: 1.1504 - val_acc: 0.4199\n",
      "Epoch 81/100\n",
      "17106/17106 [==============================] - 2s 122us/step - loss: 1.1548 - acc: 0.4222 - val_loss: 1.1533 - val_acc: 0.4171\n",
      "Epoch 82/100\n",
      "17106/17106 [==============================] - 4s 240us/step - loss: 1.1550 - acc: 0.4249 - val_loss: 1.1525 - val_acc: 0.4171\n",
      "Epoch 83/100\n",
      "17106/17106 [==============================] - 2s 111us/step - loss: 1.1534 - acc: 0.4239 - val_loss: 1.1568 - val_acc: 0.4171\n",
      "Epoch 84/100\n",
      "17106/17106 [==============================] - 2s 143us/step - loss: 1.1549 - acc: 0.4249 - val_loss: 1.1524 - val_acc: 0.4171\n",
      "Epoch 85/100\n",
      "17106/17106 [==============================] - 2s 115us/step - loss: 1.1551 - acc: 0.4234 - val_loss: 1.1519 - val_acc: 0.4171\n",
      "Epoch 86/100\n",
      "17106/17106 [==============================] - 2s 111us/step - loss: 1.1543 - acc: 0.4249 - val_loss: 1.1534 - val_acc: 0.4171\n",
      "Epoch 87/100\n",
      "17106/17106 [==============================] - 2s 113us/step - loss: 1.1544 - acc: 0.4249 - val_loss: 1.1532 - val_acc: 0.4171\n",
      "Epoch 88/100\n",
      "17106/17106 [==============================] - 2s 117us/step - loss: 1.1546 - acc: 0.4240 - val_loss: 1.1529 - val_acc: 0.3902\n",
      "Epoch 89/100\n",
      "17106/17106 [==============================] - 2s 119us/step - loss: 1.1547 - acc: 0.4245 - val_loss: 1.1524 - val_acc: 0.4171\n",
      "Epoch 90/100\n",
      "17106/17106 [==============================] - 2s 114us/step - loss: 1.1543 - acc: 0.4249 - val_loss: 1.1524 - val_acc: 0.4171\n",
      "Epoch 91/100\n",
      "17106/17106 [==============================] - 2s 119us/step - loss: 1.1540 - acc: 0.4249 - val_loss: 1.1522 - val_acc: 0.4171\n",
      "Epoch 92/100\n",
      "17106/17106 [==============================] - 2s 123us/step - loss: 1.1539 - acc: 0.4232 - val_loss: 1.1521 - val_acc: 0.4171\n",
      "Epoch 93/100\n",
      "17106/17106 [==============================] - 2s 116us/step - loss: 1.1539 - acc: 0.4249 - val_loss: 1.1522 - val_acc: 0.4171\n",
      "Epoch 94/100\n",
      "17106/17106 [==============================] - 2s 120us/step - loss: 1.1542 - acc: 0.4234 - val_loss: 1.1546 - val_acc: 0.4073\n",
      "Epoch 95/100\n",
      "17106/17106 [==============================] - 2s 117us/step - loss: 1.1557 - acc: 0.4166 - val_loss: 1.1553 - val_acc: 0.4073\n",
      "Epoch 96/100\n",
      "17106/17106 [==============================] - 2s 119us/step - loss: 1.1557 - acc: 0.4166 - val_loss: 1.1544 - val_acc: 0.4073\n",
      "Epoch 97/100\n",
      "17106/17106 [==============================] - 2s 117us/step - loss: 1.1555 - acc: 0.4143 - val_loss: 1.1548 - val_acc: 0.4073\n",
      "Epoch 98/100\n",
      "17106/17106 [==============================] - 2s 115us/step - loss: 1.1852 - acc: 0.4209 - val_loss: 1.1882 - val_acc: 0.4178\n",
      "Epoch 99/100\n",
      "17106/17106 [==============================] - 2s 110us/step - loss: 1.1878 - acc: 0.4211 - val_loss: 1.1885 - val_acc: 0.4178\n",
      "Epoch 100/100\n",
      "17106/17106 [==============================] - 2s 119us/step - loss: 1.1878 - acc: 0.4215 - val_loss: 1.1877 - val_acc: 0.4178\n"
     ]
    }
   ],
   "source": [
    "hist = model.fit(X_train, to_categorical(y_train), validation_split=0.2, epochs=100, verbose=1)"
   ]
  },
  {
   "cell_type": "markdown",
   "metadata": {},
   "source": [
    "Посмотрим на динамику ошибок нашей модели во времени. "
   ]
  },
  {
   "cell_type": "code",
   "execution_count": 29,
   "metadata": {},
   "outputs": [
    {
     "data": {
      "text/plain": [
       "<matplotlib.legend.Legend at 0x136498d3cf8>"
      ]
     },
     "execution_count": 29,
     "metadata": {},
     "output_type": "execute_result"
    },
    {
     "data": {
      "image/png": "[encoded data removed]",
      "text/plain": [
       "<Figure size 432x288 with 1 Axes>"
      ]
     },
     "metadata": {},
     "output_type": "display_data"
    }
   ],
   "source": [
    "start = 1\n",
    "plt.plot(hist.history['loss'][start:])\n",
    "plt.plot(hist.history['val_loss'][start:])\n",
    "plt.legend(['Train loss', 'Validation loss'])"
   ]
  },
  {
   "cell_type": "markdown",
   "metadata": {},
   "source": [
    "Модель сходится довольно плохо. Функция потерь на валидации со временем начинает скакать. "
   ]
  },
  {
   "cell_type": "code",
   "execution_count": 30,
   "metadata": {},
   "outputs": [
    {
     "data": {
      "text/plain": [
       "array([[0.4386135 , 0.05260858, 0.14173102, 0.36704692],\n",
       "       [0.4386135 , 0.05260858, 0.14173102, 0.36704692],\n",
       "       [0.4386135 , 0.05260858, 0.14173102, 0.36704692],\n",
       "       ...,\n",
       "       [0.4386135 , 0.05260858, 0.14173102, 0.36704692],\n",
       "       [0.4386135 , 0.05260859, 0.14173102, 0.36704692],\n",
       "       [0.4386135 , 0.05260859, 0.14173102, 0.36704692]], dtype=float32)"
      ]
     },
     "execution_count": 30,
     "metadata": {},
     "output_type": "execute_result"
    }
   ],
   "source": [
    "# Можно предсказать вероятности для тестовой выборки\n",
    "model.predict_proba(X_test)"
   ]
  },
  {
   "cell_type": "code",
   "execution_count": 31,
   "metadata": {},
   "outputs": [
    {
     "data": {
      "text/plain": [
       "array([0, 0, 0, ..., 0, 0, 0], dtype=int64)"
      ]
     },
     "execution_count": 31,
     "metadata": {},
     "output_type": "execute_result"
    }
   ],
   "source": [
    "# А можно классы \n",
    "model.predict_classes(X_test)"
   ]
  },
  {
   "cell_type": "code",
   "execution_count": 32,
   "metadata": {},
   "outputs": [
    {
     "data": {
      "text/plain": [
       "1.1813526488826642"
      ]
     },
     "execution_count": 32,
     "metadata": {},
     "output_type": "execute_result"
    }
   ],
   "source": [
    "# Можно найти logloss \n",
    "log_loss(y_test,model.predict_proba(X_test))"
   ]
  },
  {
   "cell_type": "code",
   "execution_count": 33,
   "metadata": {},
   "outputs": [],
   "source": [
    "# Можно сохранить модель\n",
    "model.save(\"weights.h5\")"
   ]
  },
  {
   "cell_type": "code",
   "execution_count": 34,
   "metadata": {},
   "outputs": [
    {
     "name": "stdout",
     "output_type": "stream",
     "text": [
      "5346/5346 [==============================] - 0s 36us/step\n"
     ]
    },
    {
     "data": {
      "text/plain": [
       "[1.1813526720622485, 0.42480359147025815]"
      ]
     },
     "execution_count": 34,
     "metadata": {},
     "output_type": "execute_result"
    }
   ],
   "source": [
    "# Можно посмотреть на качество модели по всем указанным при коммпиляции метрикам. \n",
    "score = model.evaluate(X_test, to_categorical(y_test))\n",
    "score "
   ]
  },
  {
   "cell_type": "markdown",
   "metadata": {},
   "source": [
    "Вспомним про такую замечательную штуку как нормальзация и посмотрим насколько она улучшит скорость обучения и качество модели. Заодно увеличим количество эпох. Ударим двойным кулаком по плохой сходимости. "
   ]
  },
  {
   "cell_type": "code",
   "execution_count": 35,
   "metadata": {
    "scrolled": true
   },
   "outputs": [
    {
     "name": "stdout",
     "output_type": "stream",
     "text": [
      "Train on 17106 samples, validate on 4277 samples\n",
      "Epoch 1/200\n",
      "17106/17106 [==============================] - 2s 129us/step - loss: 1.1089 - acc: 0.5350 - val_loss: 0.9738 - val_acc: 0.6058\n",
      "Epoch 2/200\n",
      "17106/17106 [==============================] - 2s 119us/step - loss: 0.9449 - acc: 0.6111 - val_loss: 0.8959 - val_acc: 0.6294\n",
      "Epoch 3/200\n",
      "17106/17106 [==============================] - 2s 119us/step - loss: 0.8929 - acc: 0.6348 - val_loss: 0.8758 - val_acc: 0.6423\n",
      "Epoch 4/200\n",
      "17106/17106 [==============================] - 2s 115us/step - loss: 0.8818 - acc: 0.6400 - val_loss: 0.8695 - val_acc: 0.6448\n",
      "Epoch 5/200\n",
      "17106/17106 [==============================] - 2s 115us/step - loss: 0.8756 - acc: 0.6402 - val_loss: 0.8635 - val_acc: 0.6451\n",
      "Epoch 6/200\n",
      "17106/17106 [==============================] - 2s 111us/step - loss: 0.8702 - acc: 0.6425 - val_loss: 0.8592 - val_acc: 0.6451\n",
      "Epoch 7/200\n",
      "17106/17106 [==============================] - 2s 115us/step - loss: 0.8652 - acc: 0.6422 - val_loss: 0.8574 - val_acc: 0.6439\n",
      "Epoch 8/200\n",
      "17106/17106 [==============================] - 2s 118us/step - loss: 0.8606 - acc: 0.6419 - val_loss: 0.8494 - val_acc: 0.6465\n",
      "Epoch 9/200\n",
      "17106/17106 [==============================] - 2s 118us/step - loss: 0.8560 - acc: 0.6444 - val_loss: 0.8465 - val_acc: 0.6467\n",
      "Epoch 10/200\n",
      "17106/17106 [==============================] - 2s 117us/step - loss: 0.8513 - acc: 0.6452 - val_loss: 0.8429 - val_acc: 0.6465\n",
      "Epoch 11/200\n",
      "17106/17106 [==============================] - 2s 114us/step - loss: 0.8476 - acc: 0.6460 - val_loss: 0.8394 - val_acc: 0.6484\n",
      "Epoch 12/200\n",
      "17106/17106 [==============================] - 2s 116us/step - loss: 0.8442 - acc: 0.6471 - val_loss: 0.8364 - val_acc: 0.6533\n",
      "Epoch 13/200\n",
      "17106/17106 [==============================] - 2s 120us/step - loss: 0.8410 - acc: 0.6492 - val_loss: 0.8354 - val_acc: 0.6486\n",
      "Epoch 14/200\n",
      "17106/17106 [==============================] - 2s 117us/step - loss: 0.8388 - acc: 0.6505 - val_loss: 0.8342 - val_acc: 0.6486\n",
      "Epoch 15/200\n",
      "17106/17106 [==============================] - 2s 115us/step - loss: 0.8362 - acc: 0.6503 - val_loss: 0.8308 - val_acc: 0.6537\n",
      "Epoch 16/200\n",
      "17106/17106 [==============================] - 2s 116us/step - loss: 0.8333 - acc: 0.6519 - val_loss: 0.8291 - val_acc: 0.6514\n",
      "Epoch 17/200\n",
      "17106/17106 [==============================] - 2s 122us/step - loss: 0.8317 - acc: 0.6535 - val_loss: 0.8277 - val_acc: 0.6512\n",
      "Epoch 18/200\n",
      "17106/17106 [==============================] - 2s 114us/step - loss: 0.8292 - acc: 0.6541 - val_loss: 0.8259 - val_acc: 0.6575\n",
      "Epoch 19/200\n",
      "17106/17106 [==============================] - 2s 115us/step - loss: 0.8269 - acc: 0.6541 - val_loss: 0.8248 - val_acc: 0.6544\n",
      "Epoch 20/200\n",
      "17106/17106 [==============================] - 2s 111us/step - loss: 0.8255 - acc: 0.6550 - val_loss: 0.8224 - val_acc: 0.6579\n",
      "Epoch 21/200\n",
      "17106/17106 [==============================] - 2s 114us/step - loss: 0.8241 - acc: 0.6564 - val_loss: 0.8222 - val_acc: 0.6572\n",
      "Epoch 22/200\n",
      "17106/17106 [==============================] - 2s 117us/step - loss: 0.8215 - acc: 0.6563 - val_loss: 0.8228 - val_acc: 0.6526\n",
      "Epoch 23/200\n",
      "17106/17106 [==============================] - 2s 114us/step - loss: 0.8198 - acc: 0.6569 - val_loss: 0.8254 - val_acc: 0.6540\n",
      "Epoch 24/200\n",
      "17106/17106 [==============================] - 2s 115us/step - loss: 0.8178 - acc: 0.6589 - val_loss: 0.8180 - val_acc: 0.6591\n",
      "Epoch 25/200\n",
      "17106/17106 [==============================] - 2s 113us/step - loss: 0.8157 - acc: 0.6592 - val_loss: 0.8171 - val_acc: 0.6614\n",
      "Epoch 26/200\n",
      "17106/17106 [==============================] - 2s 116us/step - loss: 0.8141 - acc: 0.6600 - val_loss: 0.8141 - val_acc: 0.6607\n",
      "Epoch 27/200\n",
      "17106/17106 [==============================] - 2s 116us/step - loss: 0.8121 - acc: 0.6592 - val_loss: 0.8138 - val_acc: 0.6605\n",
      "Epoch 28/200\n",
      "17106/17106 [==============================] - 2s 115us/step - loss: 0.8099 - acc: 0.6594 - val_loss: 0.8130 - val_acc: 0.6589\n",
      "Epoch 29/200\n",
      "17106/17106 [==============================] - 2s 115us/step - loss: 0.8089 - acc: 0.6615 - val_loss: 0.8128 - val_acc: 0.6612\n",
      "Epoch 30/200\n",
      "17106/17106 [==============================] - 2s 117us/step - loss: 0.8068 - acc: 0.6620 - val_loss: 0.8085 - val_acc: 0.6635\n",
      "Epoch 31/200\n",
      "17106/17106 [==============================] - 2s 116us/step - loss: 0.8048 - acc: 0.6612 - val_loss: 0.8076 - val_acc: 0.6633\n",
      "Epoch 32/200\n",
      "17106/17106 [==============================] - 2s 114us/step - loss: 0.8027 - acc: 0.6644 - val_loss: 0.8089 - val_acc: 0.6607\n",
      "Epoch 33/200\n",
      "17106/17106 [==============================] - 2s 117us/step - loss: 0.8018 - acc: 0.6619 - val_loss: 0.8081 - val_acc: 0.6635\n",
      "Epoch 34/200\n",
      "17106/17106 [==============================] - 2s 111us/step - loss: 0.8000 - acc: 0.6643 - val_loss: 0.8083 - val_acc: 0.6628\n",
      "Epoch 35/200\n",
      "17106/17106 [==============================] - 2s 111us/step - loss: 0.7987 - acc: 0.6633 - val_loss: 0.8027 - val_acc: 0.6650\n",
      "Epoch 36/200\n",
      "17106/17106 [==============================] - 2s 116us/step - loss: 0.7969 - acc: 0.6659 - val_loss: 0.8063 - val_acc: 0.6633\n",
      "Epoch 37/200\n",
      "17106/17106 [==============================] - 2s 116us/step - loss: 0.7961 - acc: 0.6668 - val_loss: 0.8022 - val_acc: 0.6659\n",
      "Epoch 38/200\n",
      "17106/17106 [==============================] - 2s 117us/step - loss: 0.7947 - acc: 0.6666 - val_loss: 0.8048 - val_acc: 0.6666\n",
      "Epoch 39/200\n",
      "17106/17106 [==============================] - 2s 115us/step - loss: 0.7934 - acc: 0.6678 - val_loss: 0.8012 - val_acc: 0.6666\n",
      "Epoch 40/200\n",
      "17106/17106 [==============================] - 2s 120us/step - loss: 0.7923 - acc: 0.6674 - val_loss: 0.7992 - val_acc: 0.6654\n",
      "Epoch 41/200\n",
      "17106/17106 [==============================] - 2s 113us/step - loss: 0.7910 - acc: 0.6680 - val_loss: 0.8018 - val_acc: 0.6654\n",
      "Epoch 42/200\n",
      "17106/17106 [==============================] - 2s 113us/step - loss: 0.7897 - acc: 0.6689 - val_loss: 0.7989 - val_acc: 0.6680\n",
      "Epoch 43/200\n",
      "17106/17106 [==============================] - 2s 118us/step - loss: 0.7888 - acc: 0.6694 - val_loss: 0.8007 - val_acc: 0.6661\n",
      "Epoch 44/200\n",
      "17106/17106 [==============================] - 2s 118us/step - loss: 0.7878 - acc: 0.6680 - val_loss: 0.7978 - val_acc: 0.6640\n",
      "Epoch 45/200\n",
      "17106/17106 [==============================] - 2s 116us/step - loss: 0.7865 - acc: 0.6710 - val_loss: 0.7985 - val_acc: 0.6680\n",
      "Epoch 46/200\n",
      "17106/17106 [==============================] - 2s 118us/step - loss: 0.7852 - acc: 0.6695 - val_loss: 0.7985 - val_acc: 0.6661\n",
      "Epoch 47/200\n",
      "17106/17106 [==============================] - 2s 120us/step - loss: 0.7852 - acc: 0.6705 - val_loss: 0.7971 - val_acc: 0.6640\n",
      "Epoch 48/200\n",
      "17106/17106 [==============================] - 2s 116us/step - loss: 0.7842 - acc: 0.6701 - val_loss: 0.7973 - val_acc: 0.6701\n",
      "Epoch 49/200\n",
      "17106/17106 [==============================] - 2s 119us/step - loss: 0.7823 - acc: 0.6724 - val_loss: 0.8008 - val_acc: 0.6650\n",
      "Epoch 50/200\n",
      "17106/17106 [==============================] - 2s 110us/step - loss: 0.7824 - acc: 0.6724 - val_loss: 0.7975 - val_acc: 0.6682\n",
      "Epoch 51/200\n",
      "17106/17106 [==============================] - 2s 115us/step - loss: 0.7812 - acc: 0.6726 - val_loss: 0.7967 - val_acc: 0.6680\n",
      "Epoch 52/200\n",
      "17106/17106 [==============================] - 2s 122us/step - loss: 0.7799 - acc: 0.6726 - val_loss: 0.7956 - val_acc: 0.6671\n",
      "Epoch 53/200\n",
      "17106/17106 [==============================] - 2s 116us/step - loss: 0.7799 - acc: 0.6723 - val_loss: 0.7947 - val_acc: 0.6654\n",
      "Epoch 54/200\n",
      "17106/17106 [==============================] - 2s 117us/step - loss: 0.7782 - acc: 0.6727 - val_loss: 0.7967 - val_acc: 0.6659 loss: 0.7708 \n",
      "Epoch 55/200\n",
      "17106/17106 [==============================] - 2s 117us/step - loss: 0.7773 - acc: 0.6739 - val_loss: 0.7971 - val_acc: 0.6710\n",
      "Epoch 56/200\n",
      "17106/17106 [==============================] - 2s 117us/step - loss: 0.7771 - acc: 0.6730 - val_loss: 0.7954 - val_acc: 0.6696\n",
      "Epoch 57/200\n",
      "17106/17106 [==============================] - 2s 120us/step - loss: 0.7764 - acc: 0.6743 - val_loss: 0.7953 - val_acc: 0.6664\n",
      "Epoch 58/200\n",
      "17106/17106 [==============================] - 2s 115us/step - loss: 0.7755 - acc: 0.6743 - val_loss: 0.7964 - val_acc: 0.6706\n",
      "Epoch 59/200\n",
      "17106/17106 [==============================] - 2s 111us/step - loss: 0.7749 - acc: 0.6755 - val_loss: 0.7953 - val_acc: 0.6689\n",
      "Epoch 60/200\n",
      "17106/17106 [==============================] - 2s 115us/step - loss: 0.7745 - acc: 0.6755 - val_loss: 0.7979 - val_acc: 0.6692\n",
      "Epoch 61/200\n",
      "17106/17106 [==============================] - 2s 117us/step - loss: 0.7732 - acc: 0.6741 - val_loss: 0.7959 - val_acc: 0.6699\n",
      "Epoch 62/200\n",
      "17106/17106 [==============================] - 2s 118us/step - loss: 0.7723 - acc: 0.6770 - val_loss: 0.7986 - val_acc: 0.6638\n",
      "Epoch 63/200\n",
      "17106/17106 [==============================] - 2s 114us/step - loss: 0.7728 - acc: 0.6745 - val_loss: 0.7981 - val_acc: 0.6701\n",
      "Epoch 64/200\n",
      "17106/17106 [==============================] - 2s 111us/step - loss: 0.7710 - acc: 0.6760 - val_loss: 0.7958 - val_acc: 0.6661\n",
      "Epoch 65/200\n",
      "17106/17106 [==============================] - 2s 111us/step - loss: 0.7698 - acc: 0.6777 - val_loss: 0.7958 - val_acc: 0.6666\n",
      "Epoch 66/200\n",
      "17106/17106 [==============================] - 2s 115us/step - loss: 0.7704 - acc: 0.6767 - val_loss: 0.7959 - val_acc: 0.6671\n",
      "Epoch 67/200\n",
      "17106/17106 [==============================] - 2s 112us/step - loss: 0.7690 - acc: 0.6791 - val_loss: 0.7947 - val_acc: 0.6699\n",
      "Epoch 68/200\n",
      "17106/17106 [==============================] - 2s 112us/step - loss: 0.7689 - acc: 0.6771 - val_loss: 0.8005 - val_acc: 0.6661\n",
      "Epoch 69/200\n",
      "17106/17106 [==============================] - 2s 112us/step - loss: 0.7679 - acc: 0.6772 - val_loss: 0.7957 - val_acc: 0.6682\n",
      "Epoch 70/200\n",
      "17106/17106 [==============================] - 2s 113us/step - loss: 0.7668 - acc: 0.6808 - val_loss: 0.7983 - val_acc: 0.6680\n",
      "Epoch 71/200\n",
      "17106/17106 [==============================] - 2s 116us/step - loss: 0.7659 - acc: 0.6785 - val_loss: 0.7970 - val_acc: 0.6682\n",
      "Epoch 72/200\n",
      "17106/17106 [==============================] - 2s 117us/step - loss: 0.7660 - acc: 0.6785 - val_loss: 0.7982 - val_acc: 0.6682\n",
      "Epoch 73/200\n",
      "17106/17106 [==============================] - 2s 124us/step - loss: 0.7656 - acc: 0.6789 - val_loss: 0.8010 - val_acc: 0.6659\n",
      "Epoch 74/200\n",
      "17106/17106 [==============================] - 2s 113us/step - loss: 0.7649 - acc: 0.6777 - val_loss: 0.7968 - val_acc: 0.6703\n",
      "Epoch 75/200\n",
      "17106/17106 [==============================] - 2s 115us/step - loss: 0.7642 - acc: 0.6786 - val_loss: 0.8011 - val_acc: 0.6640\n",
      "Epoch 76/200\n",
      "17106/17106 [==============================] - 2s 115us/step - loss: 0.7638 - acc: 0.6810 - val_loss: 0.7960 - val_acc: 0.6699\n",
      "Epoch 77/200\n",
      "17106/17106 [==============================] - 2s 117us/step - loss: 0.7624 - acc: 0.6795 - val_loss: 0.7978 - val_acc: 0.6680\n",
      "Epoch 78/200\n",
      "17106/17106 [==============================] - 2s 117us/step - loss: 0.7627 - acc: 0.6795 - val_loss: 0.7969 - val_acc: 0.6682\n",
      "Epoch 79/200\n",
      "17106/17106 [==============================] - 2s 115us/step - loss: 0.7623 - acc: 0.6814 - val_loss: 0.7960 - val_acc: 0.6696\n",
      "Epoch 80/200\n",
      "17106/17106 [==============================] - 2s 118us/step - loss: 0.7615 - acc: 0.6810 - val_loss: 0.8006 - val_acc: 0.6657\n",
      "Epoch 81/200\n",
      "17106/17106 [==============================] - 2s 113us/step - loss: 0.7611 - acc: 0.6800 - val_loss: 0.8015 - val_acc: 0.6645\n",
      "Epoch 82/200\n",
      "17106/17106 [==============================] - 2s 111us/step - loss: 0.7605 - acc: 0.6808 - val_loss: 0.7982 - val_acc: 0.6675\n",
      "Epoch 83/200\n",
      "17106/17106 [==============================] - 2s 112us/step - loss: 0.7606 - acc: 0.6803 - val_loss: 0.7980 - val_acc: 0.6647\n",
      "Epoch 84/200\n",
      "17106/17106 [==============================] - 2s 111us/step - loss: 0.7591 - acc: 0.6801 - val_loss: 0.7975 - val_acc: 0.6685\n",
      "Epoch 85/200\n",
      "17106/17106 [==============================] - 2s 112us/step - loss: 0.7589 - acc: 0.6809 - val_loss: 0.8008 - val_acc: 0.6640\n",
      "Epoch 86/200\n",
      "17106/17106 [==============================] - 2s 113us/step - loss: 0.7582 - acc: 0.6816 - val_loss: 0.7969 - val_acc: 0.6659\n",
      "Epoch 87/200\n",
      "17106/17106 [==============================] - 2s 115us/step - loss: 0.7580 - acc: 0.6802 - val_loss: 0.7982 - val_acc: 0.6678\n",
      "Epoch 88/200\n",
      "17106/17106 [==============================] - 2s 111us/step - loss: 0.7572 - acc: 0.6815 - val_loss: 0.8020 - val_acc: 0.6631\n",
      "Epoch 89/200\n",
      "17106/17106 [==============================] - 2s 109us/step - loss: 0.7574 - acc: 0.6801 - val_loss: 0.8014 - val_acc: 0.6643\n",
      "Epoch 90/200\n",
      "17106/17106 [==============================] - 2s 111us/step - loss: 0.7560 - acc: 0.6815 - val_loss: 0.7980 - val_acc: 0.6671\n",
      "Epoch 91/200\n",
      "17106/17106 [==============================] - 2s 114us/step - loss: 0.7558 - acc: 0.6823 - val_loss: 0.7974 - val_acc: 0.6668\n",
      "Epoch 92/200\n",
      "17106/17106 [==============================] - 2s 111us/step - loss: 0.7552 - acc: 0.6831 - val_loss: 0.7989 - val_acc: 0.6689\n",
      "Epoch 93/200\n",
      "17106/17106 [==============================] - 2s 118us/step - loss: 0.7547 - acc: 0.6829 - val_loss: 0.7977 - val_acc: 0.6682\n",
      "Epoch 94/200\n",
      "17106/17106 [==============================] - 2s 120us/step - loss: 0.7541 - acc: 0.6797 - val_loss: 0.7997 - val_acc: 0.6664\n",
      "Epoch 95/200\n",
      "17106/17106 [==============================] - 2s 114us/step - loss: 0.7538 - acc: 0.6831 - val_loss: 0.7982 - val_acc: 0.6685\n",
      "Epoch 96/200\n",
      "17106/17106 [==============================] - 2s 115us/step - loss: 0.7535 - acc: 0.6840 - val_loss: 0.8017 - val_acc: 0.6635\n",
      "Epoch 97/200\n",
      "17106/17106 [==============================] - 2s 119us/step - loss: 0.7535 - acc: 0.6828 - val_loss: 0.7996 - val_acc: 0.6654\n",
      "Epoch 98/200\n",
      "17106/17106 [==============================] - 2s 121us/step - loss: 0.7528 - acc: 0.6821 - val_loss: 0.8014 - val_acc: 0.6650\n",
      "Epoch 99/200\n",
      "17106/17106 [==============================] - 2s 113us/step - loss: 0.7523 - acc: 0.6841 - val_loss: 0.7995 - val_acc: 0.6685\n",
      "Epoch 100/200\n",
      "17106/17106 [==============================] - 2s 117us/step - loss: 0.7517 - acc: 0.6850 - val_loss: 0.8001 - val_acc: 0.6682\n",
      "Epoch 101/200\n",
      "17106/17106 [==============================] - 2s 113us/step - loss: 0.7512 - acc: 0.6835 - val_loss: 0.8002 - val_acc: 0.6701\n",
      "Epoch 102/200\n",
      "17106/17106 [==============================] - 2s 113us/step - loss: 0.7507 - acc: 0.6850 - val_loss: 0.8015 - val_acc: 0.6687\n",
      "Epoch 103/200\n",
      "17106/17106 [==============================] - 2s 111us/step - loss: 0.7504 - acc: 0.6837 - val_loss: 0.7997 - val_acc: 0.6685\n",
      "Epoch 104/200\n",
      "17106/17106 [==============================] - 2s 115us/step - loss: 0.7499 - acc: 0.6854 - val_loss: 0.8040 - val_acc: 0.6624\n",
      "Epoch 105/200\n",
      "17106/17106 [==============================] - 2s 111us/step - loss: 0.7496 - acc: 0.6836 - val_loss: 0.8003 - val_acc: 0.6673\n",
      "Epoch 106/200\n",
      "17106/17106 [==============================] - 2s 114us/step - loss: 0.7494 - acc: 0.6823 - val_loss: 0.8003 - val_acc: 0.6657\n",
      "Epoch 107/200\n",
      "17106/17106 [==============================] - 2s 112us/step - loss: 0.7484 - acc: 0.6852 - val_loss: 0.8031 - val_acc: 0.6647\n",
      "Epoch 108/200\n",
      "17106/17106 [==============================] - 2s 112us/step - loss: 0.7484 - acc: 0.6858 - val_loss: 0.8006 - val_acc: 0.6664\n",
      "Epoch 109/200\n",
      "17106/17106 [==============================] - 2s 117us/step - loss: 0.7479 - acc: 0.6868 - val_loss: 0.8043 - val_acc: 0.6589\n",
      "Epoch 110/200\n",
      "17106/17106 [==============================] - 2s 113us/step - loss: 0.7474 - acc: 0.6832 - val_loss: 0.8019 - val_acc: 0.6673\n",
      "Epoch 111/200\n",
      "17106/17106 [==============================] - 2s 111us/step - loss: 0.7466 - acc: 0.6857 - val_loss: 0.8026 - val_acc: 0.6673\n",
      "Epoch 112/200\n",
      "17106/17106 [==============================] - 2s 110us/step - loss: 0.7467 - acc: 0.6853 - val_loss: 0.8023 - val_acc: 0.6689\n",
      "Epoch 113/200\n",
      "17106/17106 [==============================] - 2s 111us/step - loss: 0.7465 - acc: 0.6866 - val_loss: 0.8020 - val_acc: 0.6654\n",
      "Epoch 114/200\n",
      "17106/17106 [==============================] - 2s 113us/step - loss: 0.7457 - acc: 0.6858 - val_loss: 0.8021 - val_acc: 0.6696\n",
      "Epoch 115/200\n",
      "17106/17106 [==============================] - 2s 112us/step - loss: 0.7455 - acc: 0.6879 - val_loss: 0.8040 - val_acc: 0.6647\n",
      "Epoch 116/200\n",
      "17106/17106 [==============================] - 2s 116us/step - loss: 0.7450 - acc: 0.6866 - val_loss: 0.8036 - val_acc: 0.6678\n",
      "Epoch 117/200\n"
     ]
    },
    {
     "name": "stdout",
     "output_type": "stream",
     "text": [
      "17106/17106 [==============================] - 2s 111us/step - loss: 0.7447 - acc: 0.6857 - val_loss: 0.8060 - val_acc: 0.6621\n",
      "Epoch 118/200\n",
      "17106/17106 [==============================] - 2s 115us/step - loss: 0.7441 - acc: 0.6861 - val_loss: 0.8042 - val_acc: 0.6659\n",
      "Epoch 119/200\n",
      "17106/17106 [==============================] - 2s 112us/step - loss: 0.7438 - acc: 0.6871 - val_loss: 0.8051 - val_acc: 0.6628\n",
      "Epoch 120/200\n",
      "17106/17106 [==============================] - 2s 113us/step - loss: 0.7432 - acc: 0.6866 - val_loss: 0.8037 - val_acc: 0.6682\n",
      "Epoch 121/200\n",
      "17106/17106 [==============================] - 2s 110us/step - loss: 0.7431 - acc: 0.6879 - val_loss: 0.8066 - val_acc: 0.6635\n",
      "Epoch 122/200\n",
      "17106/17106 [==============================] - 2s 113us/step - loss: 0.7429 - acc: 0.6880 - val_loss: 0.8061 - val_acc: 0.6652\n",
      "Epoch 123/200\n",
      "17106/17106 [==============================] - 2s 112us/step - loss: 0.7424 - acc: 0.6885 - val_loss: 0.8051 - val_acc: 0.6680\n",
      "Epoch 124/200\n",
      "17106/17106 [==============================] - 2s 112us/step - loss: 0.7415 - acc: 0.6896 - val_loss: 0.8082 - val_acc: 0.6647\n",
      "Epoch 125/200\n",
      "17106/17106 [==============================] - 2s 117us/step - loss: 0.7418 - acc: 0.6878 - val_loss: 0.8038 - val_acc: 0.6680\n",
      "Epoch 126/200\n",
      "17106/17106 [==============================] - 2s 116us/step - loss: 0.7413 - acc: 0.6886 - val_loss: 0.8067 - val_acc: 0.6652\n",
      "Epoch 127/200\n",
      "17106/17106 [==============================] - 2s 116us/step - loss: 0.7405 - acc: 0.6873 - val_loss: 0.8058 - val_acc: 0.6659\n",
      "Epoch 128/200\n",
      "17106/17106 [==============================] - 2s 116us/step - loss: 0.7408 - acc: 0.6867 - val_loss: 0.8059 - val_acc: 0.6666\n",
      "Epoch 129/200\n",
      "17106/17106 [==============================] - 2s 117us/step - loss: 0.7403 - acc: 0.6882 - val_loss: 0.8048 - val_acc: 0.6694\n",
      "Epoch 130/200\n",
      "17106/17106 [==============================] - 2s 114us/step - loss: 0.7395 - acc: 0.6867 - val_loss: 0.8053 - val_acc: 0.6673\n",
      "Epoch 131/200\n",
      "17106/17106 [==============================] - 3s 185us/step - loss: 0.7392 - acc: 0.6884 - val_loss: 0.8067 - val_acc: 0.6638\n",
      "Epoch 132/200\n",
      "17106/17106 [==============================] - 2s 118us/step - loss: 0.7388 - acc: 0.6881 - val_loss: 0.8073 - val_acc: 0.6713\n",
      "Epoch 133/200\n",
      "17106/17106 [==============================] - 2s 118us/step - loss: 0.7391 - acc: 0.6888 - val_loss: 0.8052 - val_acc: 0.6696\n",
      "Epoch 134/200\n",
      "17106/17106 [==============================] - 2s 116us/step - loss: 0.7376 - acc: 0.6895 - val_loss: 0.8072 - val_acc: 0.6659\n",
      "Epoch 135/200\n",
      "17106/17106 [==============================] - 2s 110us/step - loss: 0.7379 - acc: 0.6901 - val_loss: 0.8068 - val_acc: 0.6710\n",
      "Epoch 136/200\n",
      "17106/17106 [==============================] - 2s 112us/step - loss: 0.7372 - acc: 0.6881 - val_loss: 0.8100 - val_acc: 0.6643\n",
      "Epoch 137/200\n",
      "17106/17106 [==============================] - 2s 110us/step - loss: 0.7368 - acc: 0.6895 - val_loss: 0.8100 - val_acc: 0.6647\n",
      "Epoch 138/200\n",
      "17106/17106 [==============================] - 2s 111us/step - loss: 0.7363 - acc: 0.6886 - val_loss: 0.8075 - val_acc: 0.6666\n",
      "Epoch 139/200\n",
      "17106/17106 [==============================] - 2s 112us/step - loss: 0.7368 - acc: 0.6892 - val_loss: 0.8066 - val_acc: 0.6654\n",
      "Epoch 140/200\n",
      "17106/17106 [==============================] - 2s 114us/step - loss: 0.7365 - acc: 0.6908 - val_loss: 0.8074 - val_acc: 0.6708\n",
      "Epoch 141/200\n",
      "17106/17106 [==============================] - 2s 113us/step - loss: 0.7354 - acc: 0.6906 - val_loss: 0.8088 - val_acc: 0.6708\n",
      "Epoch 142/200\n",
      "17106/17106 [==============================] - 2s 112us/step - loss: 0.7356 - acc: 0.6893 - val_loss: 0.8085 - val_acc: 0.6678\n",
      "Epoch 143/200\n",
      "17106/17106 [==============================] - 2s 111us/step - loss: 0.7354 - acc: 0.6899 - val_loss: 0.8072 - val_acc: 0.6682\n",
      "Epoch 144/200\n",
      "17106/17106 [==============================] - 2s 114us/step - loss: 0.7351 - acc: 0.6908 - val_loss: 0.8091 - val_acc: 0.6657\n",
      "Epoch 145/200\n",
      "17106/17106 [==============================] - 2s 119us/step - loss: 0.7349 - acc: 0.6890 - val_loss: 0.8104 - val_acc: 0.6671\n",
      "Epoch 146/200\n",
      "17106/17106 [==============================] - 2s 123us/step - loss: 0.7341 - acc: 0.6908 - val_loss: 0.8083 - val_acc: 0.6713\n",
      "Epoch 147/200\n",
      "17106/17106 [==============================] - 2s 124us/step - loss: 0.7338 - acc: 0.6908 - val_loss: 0.8088 - val_acc: 0.6682\n",
      "Epoch 148/200\n",
      "17106/17106 [==============================] - 2s 115us/step - loss: 0.7336 - acc: 0.6920 - val_loss: 0.8103 - val_acc: 0.6680\n",
      "Epoch 149/200\n",
      "17106/17106 [==============================] - 2s 115us/step - loss: 0.7330 - acc: 0.6926 - val_loss: 0.8112 - val_acc: 0.6710\n",
      "Epoch 150/200\n",
      "17106/17106 [==============================] - 2s 115us/step - loss: 0.7329 - acc: 0.6913 - val_loss: 0.8097 - val_acc: 0.6710\n",
      "Epoch 151/200\n",
      "17106/17106 [==============================] - 2s 113us/step - loss: 0.7327 - acc: 0.6891 - val_loss: 0.8145 - val_acc: 0.6696\n",
      "Epoch 152/200\n",
      "17106/17106 [==============================] - 2s 114us/step - loss: 0.7326 - acc: 0.6908 - val_loss: 0.8105 - val_acc: 0.6734\n",
      "Epoch 153/200\n",
      "17106/17106 [==============================] - 2s 113us/step - loss: 0.7317 - acc: 0.6921 - val_loss: 0.8103 - val_acc: 0.6692\n",
      "Epoch 154/200\n",
      "17106/17106 [==============================] - 2s 117us/step - loss: 0.7321 - acc: 0.6913 - val_loss: 0.8118 - val_acc: 0.6666\n",
      "Epoch 155/200\n",
      "17106/17106 [==============================] - 2s 115us/step - loss: 0.7317 - acc: 0.6901 - val_loss: 0.8102 - val_acc: 0.6689\n",
      "Epoch 156/200\n",
      "17106/17106 [==============================] - 2s 113us/step - loss: 0.7313 - acc: 0.6917 - val_loss: 0.8142 - val_acc: 0.6657\n",
      "Epoch 157/200\n",
      "17106/17106 [==============================] - 2s 112us/step - loss: 0.7303 - acc: 0.6941 - val_loss: 0.8137 - val_acc: 0.6713\n",
      "Epoch 158/200\n",
      "17106/17106 [==============================] - 2s 110us/step - loss: 0.7310 - acc: 0.6919 - val_loss: 0.8128 - val_acc: 0.6673\n",
      "Epoch 159/200\n",
      "17106/17106 [==============================] - 2s 113us/step - loss: 0.7305 - acc: 0.6925 - val_loss: 0.8136 - val_acc: 0.6643\n",
      "Epoch 160/200\n",
      "17106/17106 [==============================] - 2s 117us/step - loss: 0.7300 - acc: 0.6931 - val_loss: 0.8123 - val_acc: 0.6708\n",
      "Epoch 161/200\n",
      "17106/17106 [==============================] - 2s 117us/step - loss: 0.7295 - acc: 0.6912 - val_loss: 0.8136 - val_acc: 0.6694\n",
      "Epoch 162/200\n",
      "17106/17106 [==============================] - 2s 112us/step - loss: 0.7292 - acc: 0.6942 - val_loss: 0.8149 - val_acc: 0.6657\n",
      "Epoch 163/200\n",
      "17106/17106 [==============================] - 2s 108us/step - loss: 0.7289 - acc: 0.6941 - val_loss: 0.8131 - val_acc: 0.6685\n",
      "Epoch 164/200\n",
      "17106/17106 [==============================] - 2s 110us/step - loss: 0.7285 - acc: 0.6939 - val_loss: 0.8154 - val_acc: 0.6687\n",
      "Epoch 165/200\n",
      "17106/17106 [==============================] - 2s 115us/step - loss: 0.7286 - acc: 0.6916 - val_loss: 0.8145 - val_acc: 0.6694\n",
      "Epoch 166/200\n",
      "17106/17106 [==============================] - 2s 112us/step - loss: 0.7282 - acc: 0.6929 - val_loss: 0.8145 - val_acc: 0.6671\n",
      "Epoch 167/200\n",
      "17106/17106 [==============================] - 2s 115us/step - loss: 0.7279 - acc: 0.6936 - val_loss: 0.8146 - val_acc: 0.6696\n",
      "Epoch 168/200\n",
      "17106/17106 [==============================] - 2s 119us/step - loss: 0.7277 - acc: 0.6930 - val_loss: 0.8161 - val_acc: 0.6687\n",
      "Epoch 169/200\n",
      "17106/17106 [==============================] - 2s 120us/step - loss: 0.7280 - acc: 0.6917 - val_loss: 0.8144 - val_acc: 0.6715\n",
      "Epoch 170/200\n",
      "17106/17106 [==============================] - 2s 118us/step - loss: 0.7272 - acc: 0.6928 - val_loss: 0.8149 - val_acc: 0.6694\n",
      "Epoch 171/200\n",
      "17106/17106 [==============================] - 2s 116us/step - loss: 0.7268 - acc: 0.6947 - val_loss: 0.8153 - val_acc: 0.6678\n",
      "Epoch 172/200\n",
      "17106/17106 [==============================] - 2s 114us/step - loss: 0.7268 - acc: 0.6942 - val_loss: 0.8198 - val_acc: 0.6617\n",
      "Epoch 173/200\n",
      "17106/17106 [==============================] - 2s 115us/step - loss: 0.7264 - acc: 0.6953 - val_loss: 0.8171 - val_acc: 0.6734\n",
      "Epoch 174/200\n",
      "17106/17106 [==============================] - 2s 116us/step - loss: 0.7261 - acc: 0.6930 - val_loss: 0.8186 - val_acc: 0.6668\n",
      "Epoch 175/200\n",
      "17106/17106 [==============================] - 2s 114us/step - loss: 0.7261 - acc: 0.6927 - val_loss: 0.8169 - val_acc: 0.6657\n",
      "Epoch 176/200\n",
      "17106/17106 [==============================] - 2s 115us/step - loss: 0.7256 - acc: 0.6957 - val_loss: 0.8165 - val_acc: 0.6694\n",
      "Epoch 177/200\n",
      "17106/17106 [==============================] - 2s 117us/step - loss: 0.7256 - acc: 0.6947 - val_loss: 0.8176 - val_acc: 0.6692\n",
      "Epoch 178/200\n",
      "17106/17106 [==============================] - 2s 115us/step - loss: 0.7253 - acc: 0.6938 - val_loss: 0.8199 - val_acc: 0.6643\n",
      "Epoch 179/200\n",
      "17106/17106 [==============================] - 2s 110us/step - loss: 0.7250 - acc: 0.6951 - val_loss: 0.8182 - val_acc: 0.6685\n",
      "Epoch 180/200\n",
      "17106/17106 [==============================] - 2s 112us/step - loss: 0.7249 - acc: 0.6941 - val_loss: 0.8181 - val_acc: 0.6701\n",
      "Epoch 181/200\n",
      "17106/17106 [==============================] - 2s 115us/step - loss: 0.7244 - acc: 0.6944 - val_loss: 0.8181 - val_acc: 0.6694\n",
      "Epoch 182/200\n",
      "17106/17106 [==============================] - 2s 116us/step - loss: 0.7246 - acc: 0.6941 - val_loss: 0.8204 - val_acc: 0.6680\n",
      "Epoch 183/200\n",
      "17106/17106 [==============================] - 2s 115us/step - loss: 0.7237 - acc: 0.6941 - val_loss: 0.8200 - val_acc: 0.6687\n",
      "Epoch 184/200\n",
      "17106/17106 [==============================] - 2s 110us/step - loss: 0.7235 - acc: 0.6952 - val_loss: 0.8184 - val_acc: 0.6664\n",
      "Epoch 185/200\n",
      "17106/17106 [==============================] - 2s 112us/step - loss: 0.7237 - acc: 0.6948 - val_loss: 0.8180 - val_acc: 0.6699\n",
      "Epoch 186/200\n",
      "17106/17106 [==============================] - 2s 115us/step - loss: 0.7235 - acc: 0.6968 - val_loss: 0.8210 - val_acc: 0.6654\n",
      "Epoch 187/200\n",
      "17106/17106 [==============================] - 2s 113us/step - loss: 0.7235 - acc: 0.6947 - val_loss: 0.8202 - val_acc: 0.6675\n",
      "Epoch 188/200\n",
      "17106/17106 [==============================] - 2s 112us/step - loss: 0.7228 - acc: 0.6965 - val_loss: 0.8204 - val_acc: 0.6680\n",
      "Epoch 189/200\n",
      "17106/17106 [==============================] - 2s 114us/step - loss: 0.7225 - acc: 0.6964 - val_loss: 0.8201 - val_acc: 0.6717\n",
      "Epoch 190/200\n",
      "17106/17106 [==============================] - 2s 111us/step - loss: 0.7223 - acc: 0.6959 - val_loss: 0.8220 - val_acc: 0.6687\n",
      "Epoch 191/200\n",
      "17106/17106 [==============================] - 2s 111us/step - loss: 0.7221 - acc: 0.6964 - val_loss: 0.8203 - val_acc: 0.6722\n",
      "Epoch 192/200\n",
      "17106/17106 [==============================] - 2s 111us/step - loss: 0.7221 - acc: 0.6953 - val_loss: 0.8222 - val_acc: 0.6696\n",
      "Epoch 193/200\n",
      "17106/17106 [==============================] - 2s 115us/step - loss: 0.7219 - acc: 0.6965 - val_loss: 0.8210 - val_acc: 0.6675\n",
      "Epoch 194/200\n",
      "17106/17106 [==============================] - 2s 118us/step - loss: 0.7217 - acc: 0.6954 - val_loss: 0.8235 - val_acc: 0.6645\n",
      "Epoch 195/200\n",
      "17106/17106 [==============================] - 2s 119us/step - loss: 0.7215 - acc: 0.6957 - val_loss: 0.8215 - val_acc: 0.6659\n",
      "Epoch 196/200\n",
      "17106/17106 [==============================] - 2s 121us/step - loss: 0.7204 - acc: 0.6950 - val_loss: 0.8235 - val_acc: 0.6687\n",
      "Epoch 197/200\n",
      "17106/17106 [==============================] - 2s 115us/step - loss: 0.7207 - acc: 0.6982 - val_loss: 0.8227 - val_acc: 0.6664\n",
      "Epoch 198/200\n",
      "17106/17106 [==============================] - 2s 114us/step - loss: 0.7202 - acc: 0.6953 - val_loss: 0.8208 - val_acc: 0.6689\n",
      "Epoch 199/200\n",
      "17106/17106 [==============================] - 2s 109us/step - loss: 0.7202 - acc: 0.6968 - val_loss: 0.8215 - val_acc: 0.6671\n",
      "Epoch 200/200\n",
      "17106/17106 [==============================] - 2s 113us/step - loss: 0.7196 - acc: 0.6966 - val_loss: 0.8226 - val_acc: 0.6689\n"
     ]
    }
   ],
   "source": [
    "from sklearn.preprocessing import StandardScaler\n",
    "ss = StandardScaler()\n",
    "\n",
    "model = get_new_model( ) # Сбросим старые результаты обучения \n",
    "hist = model.fit(ss.fit_transform(X_train), to_categorical(y_train), validation_split=0.2, epochs=200, verbose=1)"
   ]
  },
  {
   "cell_type": "code",
   "execution_count": 36,
   "metadata": {},
   "outputs": [
    {
     "data": {
      "text/plain": [
       "<matplotlib.legend.Legend at 0x137b7cb0588>"
      ]
     },
     "execution_count": 36,
     "metadata": {},
     "output_type": "execute_result"
    },
    {
     "data": {
      "image/png": "[encoded data removed]",
      "text/plain": [
       "<Figure size 432x288 with 1 Axes>"
      ]
     },
     "metadata": {},
     "output_type": "display_data"
    }
   ],
   "source": [
    "start = 0\n",
    "plt.plot(hist.history['loss'][start:])\n",
    "plt.plot(hist.history['val_loss'][start:])\n",
    "plt.legend(['Train loss', 'Validation loss'])"
   ]
  },
  {
   "cell_type": "code",
   "execution_count": 37,
   "metadata": {},
   "outputs": [
    {
     "name": "stdout",
     "output_type": "stream",
     "text": [
      "5346/5346 [==============================] - 0s 44us/step\n"
     ]
    },
    {
     "data": {
      "text/plain": [
       "[0.818404905980239, 0.67003367003367]"
      ]
     },
     "execution_count": 37,
     "metadata": {},
     "output_type": "execute_result"
    }
   ],
   "source": [
    "score = model.evaluate(ss.transform(X_test), to_categorical(y_test))\n",
    "score "
   ]
  },
  {
   "cell_type": "markdown",
   "metadata": {},
   "source": [
    "Модель стала сходиться лучше, но мы упёрлись в новую проблему. Поначалу качество модели на валидацим возростало. Спустя несколько эпох, качество натрэйне полжило расти, а на валидации стало падать. Как вы помните, всё это является признаками переобучения. Попробуем дать переобучению бой.  \n",
    "\n",
    "## 3. Бои с переобучением\n",
    "\n",
    "Существует несколько способов по регуляризации нейронных сетей. \n",
    "\n",
    "* EarlyStopping\n",
    "* Dropout\n",
    "* $l_1$ и $l_2$ регуляризация \n",
    "\n",
    "\n",
    "Попробуем всего по немногу. \n",
    "\n",
    "### 3.1 Early stopping\n",
    "\n",
    "Одни сети сходятся за 5 эпох, другие не сходятся и за тысячу. Тренировать сетку в течение 1000 эпох, если она сходится за 5 - это не очень хорошая идея, так как качество на валидации начнает падать и модель переобучается. Давайте попробуем останавливать обучение модели, как только оценка качества модели на валидации падает в течение нескольких эпох. Например, пяти. "
   ]
  },
  {
   "cell_type": "code",
   "execution_count": 38,
   "metadata": {},
   "outputs": [
    {
     "name": "stdout",
     "output_type": "stream",
     "text": [
      "Train on 17106 samples, validate on 4277 samples\n",
      "Epoch 1/100\n",
      "17106/17106 [==============================] - 2s 135us/step - loss: 1.1183 - acc: 0.5195 - val_loss: 0.9725 - val_acc: 0.6100\n",
      "Epoch 2/100\n",
      "17106/17106 [==============================] - 2s 126us/step - loss: 0.9483 - acc: 0.6122 - val_loss: 0.8966 - val_acc: 0.6294\n",
      "Epoch 3/100\n",
      "17106/17106 [==============================] - 2s 120us/step - loss: 0.8926 - acc: 0.6336 - val_loss: 0.8768 - val_acc: 0.6397\n",
      "Epoch 4/100\n",
      "17106/17106 [==============================] - 2s 116us/step - loss: 0.8808 - acc: 0.6401 - val_loss: 0.8666 - val_acc: 0.6477\n",
      "Epoch 5/100\n",
      "17106/17106 [==============================] - 2s 116us/step - loss: 0.8747 - acc: 0.6402 - val_loss: 0.8612 - val_acc: 0.6451\n",
      "Epoch 6/100\n",
      "17106/17106 [==============================] - 2s 115us/step - loss: 0.8696 - acc: 0.6416 - val_loss: 0.8612 - val_acc: 0.6451\n",
      "Epoch 7/100\n",
      "17106/17106 [==============================] - 2s 117us/step - loss: 0.8651 - acc: 0.6418 - val_loss: 0.8541 - val_acc: 0.6448\n",
      "Epoch 8/100\n",
      "17106/17106 [==============================] - 2s 119us/step - loss: 0.8613 - acc: 0.6434 - val_loss: 0.8516 - val_acc: 0.6479\n",
      "Epoch 9/100\n",
      "17106/17106 [==============================] - 2s 113us/step - loss: 0.8572 - acc: 0.6432 - val_loss: 0.8470 - val_acc: 0.6479\n",
      "Epoch 10/100\n",
      "17106/17106 [==============================] - 2s 112us/step - loss: 0.8533 - acc: 0.6454 - val_loss: 0.8454 - val_acc: 0.6474\n",
      "Epoch 11/100\n",
      "17106/17106 [==============================] - 2s 113us/step - loss: 0.8505 - acc: 0.6450 - val_loss: 0.8459 - val_acc: 0.6462\n",
      "Epoch 12/100\n",
      "17106/17106 [==============================] - 2s 112us/step - loss: 0.8476 - acc: 0.6475 - val_loss: 0.8396 - val_acc: 0.6519\n",
      "Epoch 13/100\n",
      "17106/17106 [==============================] - 2s 113us/step - loss: 0.8447 - acc: 0.6492 - val_loss: 0.8374 - val_acc: 0.6512\n",
      "Epoch 14/100\n",
      "17106/17106 [==============================] - 2s 114us/step - loss: 0.8416 - acc: 0.6482 - val_loss: 0.8368 - val_acc: 0.6516\n",
      "Epoch 15/100\n",
      "17106/17106 [==============================] - 2s 114us/step - loss: 0.8391 - acc: 0.6503 - val_loss: 0.8340 - val_acc: 0.6540\n",
      "Epoch 16/100\n",
      "17106/17106 [==============================] - 2s 115us/step - loss: 0.8364 - acc: 0.6514 - val_loss: 0.8310 - val_acc: 0.6549\n",
      "Epoch 17/100\n",
      "17106/17106 [==============================] - 2s 115us/step - loss: 0.8339 - acc: 0.6537 - val_loss: 0.8298 - val_acc: 0.6528\n",
      "Epoch 18/100\n",
      "17106/17106 [==============================] - 2s 115us/step - loss: 0.8313 - acc: 0.6535 - val_loss: 0.8299 - val_acc: 0.6568\n",
      "Epoch 19/100\n",
      "17106/17106 [==============================] - 2s 120us/step - loss: 0.8296 - acc: 0.6539 - val_loss: 0.8261 - val_acc: 0.6568\n",
      "Epoch 20/100\n",
      "17106/17106 [==============================] - 2s 112us/step - loss: 0.8274 - acc: 0.6569 - val_loss: 0.8240 - val_acc: 0.6565\n",
      "Epoch 21/100\n",
      "17106/17106 [==============================] - 2s 113us/step - loss: 0.8253 - acc: 0.6581 - val_loss: 0.8256 - val_acc: 0.6579\n",
      "Epoch 22/100\n",
      "17106/17106 [==============================] - 2s 117us/step - loss: 0.8227 - acc: 0.6581 - val_loss: 0.8211 - val_acc: 0.6582\n",
      "Epoch 23/100\n",
      "17106/17106 [==============================] - 2s 120us/step - loss: 0.8215 - acc: 0.6592 - val_loss: 0.8201 - val_acc: 0.6582\n",
      "Epoch 24/100\n",
      "17106/17106 [==============================] - 2s 120us/step - loss: 0.8199 - acc: 0.6598 - val_loss: 0.8187 - val_acc: 0.6596\n",
      "Epoch 25/100\n",
      "17106/17106 [==============================] - 2s 115us/step - loss: 0.8177 - acc: 0.6609 - val_loss: 0.8191 - val_acc: 0.6596\n",
      "Epoch 26/100\n",
      "17106/17106 [==============================] - 2s 119us/step - loss: 0.8160 - acc: 0.6608 - val_loss: 0.8164 - val_acc: 0.6607\n",
      "Epoch 27/100\n",
      "17106/17106 [==============================] - 2s 120us/step - loss: 0.8140 - acc: 0.6622 - val_loss: 0.8161 - val_acc: 0.6635\n",
      "Epoch 28/100\n",
      "17106/17106 [==============================] - 2s 118us/step - loss: 0.8121 - acc: 0.6621 - val_loss: 0.8172 - val_acc: 0.6577\n",
      "Epoch 29/100\n",
      "17106/17106 [==============================] - 2s 117us/step - loss: 0.8107 - acc: 0.6629 - val_loss: 0.8146 - val_acc: 0.6582\n",
      "Epoch 30/100\n",
      "17106/17106 [==============================] - 2s 111us/step - loss: 0.8095 - acc: 0.6630 - val_loss: 0.8137 - val_acc: 0.6650\n",
      "Epoch 31/100\n",
      "17106/17106 [==============================] - 2s 107us/step - loss: 0.8075 - acc: 0.6640 - val_loss: 0.8130 - val_acc: 0.6589\n",
      "Epoch 32/100\n",
      "17106/17106 [==============================] - 2s 111us/step - loss: 0.8054 - acc: 0.6643 - val_loss: 0.8121 - val_acc: 0.6605\n",
      "Epoch 33/100\n",
      "17106/17106 [==============================] - 2s 111us/step - loss: 0.8044 - acc: 0.6639 - val_loss: 0.8137 - val_acc: 0.6596\n",
      "Epoch 34/100\n",
      "17106/17106 [==============================] - 2s 111us/step - loss: 0.8027 - acc: 0.6646 - val_loss: 0.8122 - val_acc: 0.6628\n",
      "Epoch 35/100\n",
      "17106/17106 [==============================] - 2s 110us/step - loss: 0.8006 - acc: 0.6647 - val_loss: 0.8100 - val_acc: 0.6612\n",
      "Epoch 36/100\n",
      "17106/17106 [==============================] - 2s 110us/step - loss: 0.7998 - acc: 0.6663 - val_loss: 0.8093 - val_acc: 0.6607\n",
      "Epoch 37/100\n",
      "17106/17106 [==============================] - 2s 111us/step - loss: 0.7985 - acc: 0.6651 - val_loss: 0.8073 - val_acc: 0.6652\n",
      "Epoch 38/100\n",
      "17106/17106 [==============================] - 2s 114us/step - loss: 0.7957 - acc: 0.6688 - val_loss: 0.8079 - val_acc: 0.6635\n",
      "Epoch 39/100\n",
      "17106/17106 [==============================] - 2s 109us/step - loss: 0.7952 - acc: 0.6685 - val_loss: 0.8079 - val_acc: 0.6624\n",
      "Epoch 40/100\n",
      "17106/17106 [==============================] - 2s 108us/step - loss: 0.7937 - acc: 0.6674 - val_loss: 0.8064 - val_acc: 0.6633\n",
      "Epoch 41/100\n",
      "17106/17106 [==============================] - 2s 109us/step - loss: 0.7929 - acc: 0.6680 - val_loss: 0.8059 - val_acc: 0.6638\n",
      "Epoch 42/100\n",
      "17106/17106 [==============================] - 2s 114us/step - loss: 0.7909 - acc: 0.6693 - val_loss: 0.8072 - val_acc: 0.6626\n",
      "Epoch 43/100\n",
      "17106/17106 [==============================] - 2s 115us/step - loss: 0.7897 - acc: 0.6698 - val_loss: 0.8061 - val_acc: 0.6638\n",
      "Epoch 44/100\n",
      "17106/17106 [==============================] - 2s 114us/step - loss: 0.7879 - acc: 0.6684 - val_loss: 0.8051 - val_acc: 0.6626\n",
      "Epoch 45/100\n",
      "17106/17106 [==============================] - 2s 110us/step - loss: 0.7873 - acc: 0.6710 - val_loss: 0.8032 - val_acc: 0.6621\n",
      "Epoch 46/100\n",
      "17106/17106 [==============================] - 2s 122us/step - loss: 0.7863 - acc: 0.6710 - val_loss: 0.8135 - val_acc: 0.6628\n",
      "Epoch 47/100\n",
      "17106/17106 [==============================] - 2s 118us/step - loss: 0.7856 - acc: 0.6709 - val_loss: 0.8028 - val_acc: 0.6652\n",
      "Epoch 48/100\n",
      "17106/17106 [==============================] - 2s 123us/step - loss: 0.7844 - acc: 0.6715 - val_loss: 0.8027 - val_acc: 0.6610\n",
      "Epoch 49/100\n",
      "17106/17106 [==============================] - 2s 123us/step - loss: 0.7835 - acc: 0.6723 - val_loss: 0.8047 - val_acc: 0.6668\n",
      "Epoch 50/100\n",
      "17106/17106 [==============================] - 2s 123us/step - loss: 0.7828 - acc: 0.6731 - val_loss: 0.8032 - val_acc: 0.6621\n",
      "Epoch 51/100\n",
      "17106/17106 [==============================] - 2s 115us/step - loss: 0.7816 - acc: 0.6721 - val_loss: 0.8029 - val_acc: 0.6654\n",
      "Epoch 52/100\n",
      "17106/17106 [==============================] - 2s 110us/step - loss: 0.7805 - acc: 0.6724 - val_loss: 0.8024 - val_acc: 0.6621\n",
      "Epoch 53/100\n",
      "17106/17106 [==============================] - 2s 116us/step - loss: 0.7803 - acc: 0.6736 - val_loss: 0.8016 - val_acc: 0.6605\n",
      "Epoch 54/100\n",
      "17106/17106 [==============================] - 2s 113us/step - loss: 0.7796 - acc: 0.6746 - val_loss: 0.8017 - val_acc: 0.6631\n",
      "Epoch 55/100\n",
      "17106/17106 [==============================] - 2s 111us/step - loss: 0.7786 - acc: 0.6729 - val_loss: 0.8030 - val_acc: 0.6624\n",
      "Epoch 56/100\n",
      "17106/17106 [==============================] - 2s 115us/step - loss: 0.7780 - acc: 0.6744 - val_loss: 0.8013 - val_acc: 0.6654\n",
      "Epoch 57/100\n",
      "17106/17106 [==============================] - 2s 114us/step - loss: 0.7778 - acc: 0.6749 - val_loss: 0.8044 - val_acc: 0.6605\n",
      "Epoch 58/100\n",
      "17106/17106 [==============================] - 2s 111us/step - loss: 0.7764 - acc: 0.6749 - val_loss: 0.8051 - val_acc: 0.6593\n",
      "Epoch 59/100\n",
      "17106/17106 [==============================] - 2s 110us/step - loss: 0.7763 - acc: 0.6718 - val_loss: 0.8013 - val_acc: 0.6612\n",
      "Epoch 60/100\n",
      "17106/17106 [==============================] - 2s 117us/step - loss: 0.7752 - acc: 0.6768 - val_loss: 0.8023 - val_acc: 0.6612\n",
      "Epoch 61/100\n",
      "17106/17106 [==============================] - 2s 111us/step - loss: 0.7753 - acc: 0.6758 - val_loss: 0.8009 - val_acc: 0.6607\n",
      "Epoch 62/100\n",
      "17106/17106 [==============================] - 2s 111us/step - loss: 0.7742 - acc: 0.6750 - val_loss: 0.8020 - val_acc: 0.6631\n",
      "Epoch 63/100\n",
      "17106/17106 [==============================] - 2s 111us/step - loss: 0.7736 - acc: 0.6765 - val_loss: 0.7999 - val_acc: 0.6635\n",
      "Epoch 64/100\n",
      "17106/17106 [==============================] - 2s 114us/step - loss: 0.7727 - acc: 0.6768 - val_loss: 0.8000 - val_acc: 0.6600\n",
      "Epoch 65/100\n",
      "17106/17106 [==============================] - 2s 114us/step - loss: 0.7721 - acc: 0.6756 - val_loss: 0.8008 - val_acc: 0.6596\n",
      "Epoch 66/100\n",
      "17106/17106 [==============================] - 2s 114us/step - loss: 0.7711 - acc: 0.6770 - val_loss: 0.8001 - val_acc: 0.6624\n",
      "Epoch 67/100\n",
      "17106/17106 [==============================] - 2s 124us/step - loss: 0.7708 - acc: 0.6768 - val_loss: 0.7995 - val_acc: 0.6626\n",
      "Epoch 68/100\n",
      "17106/17106 [==============================] - 2s 116us/step - loss: 0.7703 - acc: 0.6770 - val_loss: 0.8000 - val_acc: 0.6619\n",
      "Epoch 69/100\n",
      "17106/17106 [==============================] - 2s 118us/step - loss: 0.7700 - acc: 0.6788 - val_loss: 0.8000 - val_acc: 0.6605\n",
      "Epoch 70/100\n",
      "17106/17106 [==============================] - 2s 118us/step - loss: 0.7692 - acc: 0.6788 - val_loss: 0.7994 - val_acc: 0.6628\n",
      "Epoch 71/100\n",
      "17106/17106 [==============================] - 2s 112us/step - loss: 0.7685 - acc: 0.6791 - val_loss: 0.8009 - val_acc: 0.6610\n",
      "Epoch 72/100\n",
      "17106/17106 [==============================] - 2s 115us/step - loss: 0.7687 - acc: 0.6783 - val_loss: 0.7990 - val_acc: 0.6633\n",
      "Epoch 73/100\n",
      "17106/17106 [==============================] - 2s 115us/step - loss: 0.7676 - acc: 0.6785 - val_loss: 0.8014 - val_acc: 0.6614\n",
      "Epoch 74/100\n",
      "17106/17106 [==============================] - 2s 115us/step - loss: 0.7670 - acc: 0.6788 - val_loss: 0.8003 - val_acc: 0.6617\n",
      "Epoch 75/100\n",
      "17106/17106 [==============================] - 2s 115us/step - loss: 0.7667 - acc: 0.6803 - val_loss: 0.8019 - val_acc: 0.6591\n",
      "Epoch 76/100\n",
      "17106/17106 [==============================] - 2s 119us/step - loss: 0.7654 - acc: 0.6801 - val_loss: 0.7992 - val_acc: 0.6612\n",
      "Epoch 77/100\n",
      "17106/17106 [==============================] - 2s 123us/step - loss: 0.7657 - acc: 0.6801 - val_loss: 0.8010 - val_acc: 0.6624\n"
     ]
    }
   ],
   "source": [
    "# Подгружаем раннюю остановку\n",
    "from keras.callbacks import EarlyStopping\n",
    "\n",
    "# Прикажем модели останавливать обучение, когда качество на валидации не будет улучшаться в течение двух эпох\n",
    "early_stopping_monitor = EarlyStopping(patience = 5)\n",
    "\n",
    "model = get_new_model( ) # Сбросим старые веса \n",
    "hist = model.fit(ss.fit_transform(X_train), to_categorical(y_train), validation_split=0.2, epochs=100, \n",
    "                  verbose=1, callbacks = [early_stopping_monitor])"
   ]
  },
  {
   "cell_type": "code",
   "execution_count": 39,
   "metadata": {},
   "outputs": [
    {
     "data": {
      "text/plain": [
       "<matplotlib.legend.Legend at 0x1363a729a58>"
      ]
     },
     "execution_count": 39,
     "metadata": {},
     "output_type": "execute_result"
    },
    {
     "data": {
      "image/png": "[encoded data removed]",
      "text/plain": [
       "<Figure size 432x288 with 1 Axes>"
      ]
     },
     "metadata": {},
     "output_type": "display_data"
    }
   ],
   "source": [
    "start = 0\n",
    "plt.plot(hist.history['loss'][start:])\n",
    "plt.plot(hist.history['val_loss'][start:])\n",
    "plt.legend(['Train loss', 'Validation loss'])"
   ]
  },
  {
   "cell_type": "code",
   "execution_count": 40,
   "metadata": {},
   "outputs": [
    {
     "name": "stdout",
     "output_type": "stream",
     "text": [
      "5346/5346 [==============================] - 0s 47us/step\n"
     ]
    },
    {
     "data": {
      "text/plain": [
       "[0.8244181448071805, 0.6647961092405537]"
      ]
     },
     "execution_count": 40,
     "metadata": {},
     "output_type": "execute_result"
    }
   ],
   "source": [
    "score = model.evaluate(ss.transform(X_test), to_categorical(y_test))\n",
    "score "
   ]
  },
  {
   "cell_type": "markdown",
   "metadata": {},
   "source": [
    "### 3.2  Dropout \n",
    "\n",
    "Попробуем новые приколы, для которых нам придётся изменять архитектуру нашей модели. Добавим в модель дропаут. "
   ]
  },
  {
   "cell_type": "code",
   "execution_count": 41,
   "metadata": {},
   "outputs": [],
   "source": [
    "from keras.layers import Dropout\n",
    "\n",
    "model_dropout = Sequential( )\n",
    "\n",
    "# Первый слой \n",
    "model_dropout.add(L.Dense(25, input_dim = X_train.shape[1], kernel_initializer='random_normal'))\n",
    "model_dropout.add(Dropout(0.5)) # слой дропаута\n",
    "model_dropout.add(L.Activation('sigmoid'))\n",
    "\n",
    "# Второй слой \n",
    "model_dropout.add(L.Dense(25, kernel_initializer='random_normal'))\n",
    "model_dropout.add(Dropout(0.5))\n",
    "model_dropout.add(L.Activation('sigmoid'))\n",
    "\n",
    "\n",
    "# Выходной слой \n",
    "model_dropout.add(L.Dense(4, activation='softmax', kernel_initializer = 'random_normal'))\n",
    "\n",
    "# Собираем модель \n",
    "model_dropout.compile(loss = 'categorical_crossentropy', metrics=[\"accuracy\"], optimizer=opt.Adam(lr=1e-3))"
   ]
  },
  {
   "cell_type": "code",
   "execution_count": 42,
   "metadata": {
    "scrolled": true
   },
   "outputs": [
    {
     "name": "stdout",
     "output_type": "stream",
     "text": [
      "Train on 17106 samples, validate on 4277 samples\n",
      "Epoch 1/200\n",
      "17106/17106 [==============================] - 2s 141us/step - loss: 1.1921 - acc: 0.4783 - val_loss: 1.0108 - val_acc: 0.6102\n",
      "Epoch 2/200\n",
      "17106/17106 [==============================] - 2s 121us/step - loss: 1.0309 - acc: 0.6069 - val_loss: 0.9810 - val_acc: 0.6142\n",
      "Epoch 3/200\n",
      "17106/17106 [==============================] - 2s 115us/step - loss: 0.9982 - acc: 0.6076 - val_loss: 0.9742 - val_acc: 0.6168\n",
      "Epoch 4/200\n",
      "17106/17106 [==============================] - 2s 115us/step - loss: 0.9724 - acc: 0.6073 - val_loss: 0.9377 - val_acc: 0.6236\n",
      "Epoch 5/200\n",
      "17106/17106 [==============================] - 2s 117us/step - loss: 0.9532 - acc: 0.6115 - val_loss: 0.9221 - val_acc: 0.6378\n",
      "Epoch 6/200\n",
      "17106/17106 [==============================] - 2s 115us/step - loss: 0.9387 - acc: 0.6189 - val_loss: 0.9178 - val_acc: 0.6411\n",
      "Epoch 7/200\n",
      "17106/17106 [==============================] - 2s 114us/step - loss: 0.9280 - acc: 0.6264 - val_loss: 0.9157 - val_acc: 0.6402\n",
      "Epoch 8/200\n",
      "17106/17106 [==============================] - 2s 115us/step - loss: 0.9241 - acc: 0.6233 - val_loss: 0.9214 - val_acc: 0.6343\n",
      "Epoch 9/200\n",
      "17106/17106 [==============================] - 2s 114us/step - loss: 0.9212 - acc: 0.6234 - val_loss: 0.9272 - val_acc: 0.6336\n",
      "Epoch 10/200\n",
      "17106/17106 [==============================] - 2s 117us/step - loss: 0.9170 - acc: 0.6236 - val_loss: 0.9176 - val_acc: 0.6362\n",
      "Epoch 11/200\n",
      "17106/17106 [==============================] - 2s 112us/step - loss: 0.9138 - acc: 0.6288 - val_loss: 0.9188 - val_acc: 0.6353\n",
      "Epoch 12/200\n",
      "17106/17106 [==============================] - 2s 114us/step - loss: 0.9136 - acc: 0.6266 - val_loss: 0.9312 - val_acc: 0.6348\n"
     ]
    }
   ],
   "source": [
    "# Прикажем модели останавливать обучение, когда качество на валидации не будет улучшаться в течение 5 эпох\n",
    "early_stopping_monitor = EarlyStopping(patience = 5)\n",
    "hist = model_dropout.fit(ss.fit_transform(X_train), to_categorical(y_train), \n",
    "                         validation_split=0.2, epochs=200, verbose=1,callbacks = [early_stopping_monitor])"
   ]
  },
  {
   "cell_type": "code",
   "execution_count": 43,
   "metadata": {},
   "outputs": [
    {
     "data": {
      "text/plain": [
       "<matplotlib.legend.Legend at 0x137bbccb2b0>"
      ]
     },
     "execution_count": 43,
     "metadata": {},
     "output_type": "execute_result"
    },
    {
     "data": {
      "image/png": "[encoded data removed]",
      "text/plain": [
       "<Figure size 432x288 with 1 Axes>"
      ]
     },
     "metadata": {},
     "output_type": "display_data"
    }
   ],
   "source": [
    "start = 0\n",
    "plt.plot(hist.history['loss'][start:])\n",
    "plt.plot(hist.history['val_loss'][start:])\n",
    "plt.legend(['Train loss', 'Validation loss'])"
   ]
  },
  {
   "cell_type": "code",
   "execution_count": 44,
   "metadata": {},
   "outputs": [
    {
     "name": "stdout",
     "output_type": "stream",
     "text": [
      "5346/5346 [==============================] - 0s 40us/step\n"
     ]
    },
    {
     "data": {
      "text/plain": [
       "[0.9589023118022671, 0.6358024691358025]"
      ]
     },
     "execution_count": 44,
     "metadata": {},
     "output_type": "execute_result"
    }
   ],
   "source": [
    "score = model_dropout.evaluate(ss.transform(X_test), to_categorical(y_test))\n",
    "score "
   ]
  },
  {
   "cell_type": "markdown",
   "metadata": {},
   "source": [
    "На такой картинке явно видно второй порок-\"недообучение\". Попробуем уменьшить процент dropout, посмотрим что получится"
   ]
  },
  {
   "cell_type": "code",
   "execution_count": 46,
   "metadata": {},
   "outputs": [],
   "source": [
    "model_dropout = Sequential( )\n",
    "\n",
    "# Первый слой \n",
    "model_dropout.add(L.Dense(25, input_dim = X_train.shape[1], kernel_initializer='random_normal'))\n",
    "model_dropout.add(Dropout(0.2)) # слой дропаута уменьшаем вероятность до 0.2\n",
    "model_dropout.add(L.Activation('sigmoid'))\n",
    "\n",
    "# Второй слой \n",
    "model_dropout.add(L.Dense(25, kernel_initializer='random_normal'))\n",
    "model_dropout.add(Dropout(0.2)) # тоже уменьшаем вероятность \"выключения\" нейроннов.\n",
    "model_dropout.add(L.Activation('sigmoid'))\n",
    "\n",
    "\n",
    "# Выходной слой \n",
    "model_dropout.add(L.Dense(4, activation='softmax', kernel_initializer = 'random_normal'))\n",
    "\n",
    "# Собираем модель \n",
    "model_dropout.compile(loss = 'categorical_crossentropy', metrics=[\"accuracy\"], optimizer=opt.Adam(lr=1e-3))"
   ]
  },
  {
   "cell_type": "code",
   "execution_count": 47,
   "metadata": {},
   "outputs": [
    {
     "name": "stdout",
     "output_type": "stream",
     "text": [
      "Train on 17106 samples, validate on 4277 samples\n",
      "Epoch 1/200\n",
      "17106/17106 [==============================] - 2s 142us/step - loss: 1.1308 - acc: 0.5209 - val_loss: 0.9899 - val_acc: 0.6018\n",
      "Epoch 2/200\n",
      "17106/17106 [==============================] - 2s 122us/step - loss: 0.9839 - acc: 0.6035 - val_loss: 0.9245 - val_acc: 0.6119\n",
      "Epoch 3/200\n",
      "17106/17106 [==============================] - 2s 118us/step - loss: 0.9235 - acc: 0.6206 - val_loss: 0.8841 - val_acc: 0.6362\n",
      "Epoch 4/200\n",
      "17106/17106 [==============================] - 2s 120us/step - loss: 0.9019 - acc: 0.6293 - val_loss: 0.8756 - val_acc: 0.6409\n",
      "Epoch 5/200\n",
      "17106/17106 [==============================] - 2s 117us/step - loss: 0.8951 - acc: 0.6333 - val_loss: 0.8748 - val_acc: 0.6420\n",
      "Epoch 6/200\n",
      "17106/17106 [==============================] - 2s 119us/step - loss: 0.8913 - acc: 0.6322 - val_loss: 0.8687 - val_acc: 0.6399\n",
      "Epoch 7/200\n",
      "17106/17106 [==============================] - 2s 117us/step - loss: 0.8864 - acc: 0.6335 - val_loss: 0.8678 - val_acc: 0.6404\n",
      "Epoch 8/200\n",
      "17106/17106 [==============================] - 2s 118us/step - loss: 0.8857 - acc: 0.6363 - val_loss: 0.8610 - val_acc: 0.6388\n",
      "Epoch 9/200\n",
      "17106/17106 [==============================] - 2s 118us/step - loss: 0.8791 - acc: 0.6346 - val_loss: 0.8606 - val_acc: 0.6392\n",
      "Epoch 10/200\n",
      "17106/17106 [==============================] - 2s 121us/step - loss: 0.8772 - acc: 0.6367 - val_loss: 0.8578 - val_acc: 0.6411\n",
      "Epoch 11/200\n",
      "17106/17106 [==============================] - 2s 116us/step - loss: 0.8728 - acc: 0.6402 - val_loss: 0.8542 - val_acc: 0.6385\n",
      "Epoch 12/200\n",
      "17106/17106 [==============================] - 2s 116us/step - loss: 0.8767 - acc: 0.6356 - val_loss: 0.8532 - val_acc: 0.6441\n",
      "Epoch 13/200\n",
      "17106/17106 [==============================] - 2s 114us/step - loss: 0.8713 - acc: 0.6398 - val_loss: 0.8511 - val_acc: 0.6441\n",
      "Epoch 14/200\n",
      "17106/17106 [==============================] - 2s 118us/step - loss: 0.8696 - acc: 0.6390 - val_loss: 0.8547 - val_acc: 0.6451\n",
      "Epoch 15/200\n",
      "17106/17106 [==============================] - 2s 115us/step - loss: 0.8698 - acc: 0.6387 - val_loss: 0.8474 - val_acc: 0.6505\n",
      "Epoch 16/200\n",
      "17106/17106 [==============================] - 2s 115us/step - loss: 0.8679 - acc: 0.6407 - val_loss: 0.8449 - val_acc: 0.6481\n",
      "Epoch 17/200\n",
      "17106/17106 [==============================] - 2s 115us/step - loss: 0.8648 - acc: 0.6411 - val_loss: 0.8471 - val_acc: 0.6500\n",
      "Epoch 18/200\n",
      "17106/17106 [==============================] - 2s 114us/step - loss: 0.8636 - acc: 0.6386 - val_loss: 0.8518 - val_acc: 0.6462\n",
      "Epoch 19/200\n",
      "17106/17106 [==============================] - 2s 119us/step - loss: 0.8617 - acc: 0.6426 - val_loss: 0.8499 - val_acc: 0.6512\n",
      "Epoch 20/200\n",
      "17106/17106 [==============================] - 2s 116us/step - loss: 0.8601 - acc: 0.6400 - val_loss: 0.8466 - val_acc: 0.6502\n",
      "Epoch 21/200\n",
      "17106/17106 [==============================] - 2s 116us/step - loss: 0.8587 - acc: 0.6419 - val_loss: 0.8396 - val_acc: 0.6537\n",
      "Epoch 22/200\n",
      "17106/17106 [==============================] - 2s 115us/step - loss: 0.8608 - acc: 0.6436 - val_loss: 0.8414 - val_acc: 0.6512\n",
      "Epoch 23/200\n",
      "17106/17106 [==============================] - 2s 119us/step - loss: 0.8572 - acc: 0.6419 - val_loss: 0.8394 - val_acc: 0.6495\n",
      "Epoch 24/200\n",
      "17106/17106 [==============================] - 2s 121us/step - loss: 0.8536 - acc: 0.6452 - val_loss: 0.8382 - val_acc: 0.6535\n",
      "Epoch 25/200\n",
      "17106/17106 [==============================] - 2s 114us/step - loss: 0.8563 - acc: 0.6456 - val_loss: 0.8394 - val_acc: 0.6544\n",
      "Epoch 26/200\n",
      "17106/17106 [==============================] - 2s 113us/step - loss: 0.8548 - acc: 0.6408 - val_loss: 0.8325 - val_acc: 0.6528\n",
      "Epoch 27/200\n",
      "17106/17106 [==============================] - 2s 113us/step - loss: 0.8520 - acc: 0.6478 - val_loss: 0.8312 - val_acc: 0.6561\n",
      "Epoch 28/200\n",
      "17106/17106 [==============================] - 2s 114us/step - loss: 0.8494 - acc: 0.6460 - val_loss: 0.8323 - val_acc: 0.6530\n",
      "Epoch 29/200\n",
      "17106/17106 [==============================] - 2s 113us/step - loss: 0.8477 - acc: 0.6458 - val_loss: 0.8338 - val_acc: 0.6537\n",
      "Epoch 30/200\n",
      "17106/17106 [==============================] - 2s 116us/step - loss: 0.8526 - acc: 0.6460 - val_loss: 0.8346 - val_acc: 0.6495\n",
      "Epoch 31/200\n",
      "17106/17106 [==============================] - 2s 119us/step - loss: 0.8509 - acc: 0.6459 - val_loss: 0.8286 - val_acc: 0.6570\n",
      "Epoch 32/200\n",
      "17106/17106 [==============================] - 2s 119us/step - loss: 0.8458 - acc: 0.6461 - val_loss: 0.8355 - val_acc: 0.6547\n",
      "Epoch 33/200\n",
      "17106/17106 [==============================] - 2s 115us/step - loss: 0.8485 - acc: 0.6455 - val_loss: 0.8315 - val_acc: 0.6577\n",
      "Epoch 34/200\n",
      "17106/17106 [==============================] - 2s 115us/step - loss: 0.8453 - acc: 0.6465 - val_loss: 0.8272 - val_acc: 0.6554\n",
      "Epoch 35/200\n",
      "17106/17106 [==============================] - 2s 113us/step - loss: 0.8479 - acc: 0.6475 - val_loss: 0.8316 - val_acc: 0.6549\n",
      "Epoch 36/200\n",
      "17106/17106 [==============================] - 2s 113us/step - loss: 0.8461 - acc: 0.6485 - val_loss: 0.8315 - val_acc: 0.6544\n",
      "Epoch 37/200\n",
      "17106/17106 [==============================] - 2s 113us/step - loss: 0.8437 - acc: 0.6491 - val_loss: 0.8303 - val_acc: 0.6554\n",
      "Epoch 38/200\n",
      "17106/17106 [==============================] - 2s 111us/step - loss: 0.8476 - acc: 0.6472 - val_loss: 0.8262 - val_acc: 0.6600\n",
      "Epoch 39/200\n",
      "17106/17106 [==============================] - 2s 112us/step - loss: 0.8456 - acc: 0.6473 - val_loss: 0.8268 - val_acc: 0.6577\n",
      "Epoch 40/200\n",
      "17106/17106 [==============================] - 2s 110us/step - loss: 0.8423 - acc: 0.6480 - val_loss: 0.8295 - val_acc: 0.6570\n",
      "Epoch 41/200\n",
      "17106/17106 [==============================] - 2s 116us/step - loss: 0.8459 - acc: 0.6469 - val_loss: 0.8290 - val_acc: 0.6575\n",
      "Epoch 42/200\n",
      "17106/17106 [==============================] - 2s 118us/step - loss: 0.8409 - acc: 0.6489 - val_loss: 0.8245 - val_acc: 0.6561\n",
      "Epoch 43/200\n",
      "17106/17106 [==============================] - 2s 117us/step - loss: 0.8407 - acc: 0.6509 - val_loss: 0.8255 - val_acc: 0.6558\n",
      "Epoch 44/200\n",
      "17106/17106 [==============================] - 2s 118us/step - loss: 0.8391 - acc: 0.6509 - val_loss: 0.8259 - val_acc: 0.6575\n",
      "Epoch 45/200\n",
      "17106/17106 [==============================] - 2s 116us/step - loss: 0.8428 - acc: 0.6480 - val_loss: 0.8249 - val_acc: 0.6575\n",
      "Epoch 46/200\n",
      "17106/17106 [==============================] - 2s 119us/step - loss: 0.8395 - acc: 0.6462 - val_loss: 0.8254 - val_acc: 0.6586\n",
      "Epoch 47/200\n",
      "17106/17106 [==============================] - 2s 113us/step - loss: 0.8369 - acc: 0.6518 - val_loss: 0.8240 - val_acc: 0.6610\n",
      "Epoch 48/200\n",
      "17106/17106 [==============================] - 2s 121us/step - loss: 0.8372 - acc: 0.6492 - val_loss: 0.8224 - val_acc: 0.6638\n",
      "Epoch 49/200\n",
      "17106/17106 [==============================] - 2s 120us/step - loss: 0.8369 - acc: 0.6519 - val_loss: 0.8230 - val_acc: 0.6582\n",
      "Epoch 50/200\n",
      "17106/17106 [==============================] - 2s 112us/step - loss: 0.8394 - acc: 0.6467 - val_loss: 0.8227 - val_acc: 0.6617\n",
      "Epoch 51/200\n",
      "17106/17106 [==============================] - 2s 114us/step - loss: 0.8356 - acc: 0.6552 - val_loss: 0.8225 - val_acc: 0.6593\n",
      "Epoch 52/200\n",
      "17106/17106 [==============================] - 2s 116us/step - loss: 0.8373 - acc: 0.6538 - val_loss: 0.8237 - val_acc: 0.6612\n",
      "Epoch 53/200\n",
      "17106/17106 [==============================] - 2s 116us/step - loss: 0.8375 - acc: 0.6510 - val_loss: 0.8204 - val_acc: 0.6610\n",
      "Epoch 54/200\n",
      "17106/17106 [==============================] - 2s 116us/step - loss: 0.8346 - acc: 0.6528 - val_loss: 0.8216 - val_acc: 0.6598\n",
      "Epoch 55/200\n",
      "17106/17106 [==============================] - 2s 115us/step - loss: 0.8333 - acc: 0.6537 - val_loss: 0.8287 - val_acc: 0.6568\n",
      "Epoch 56/200\n",
      "17106/17106 [==============================] - 2s 112us/step - loss: 0.8344 - acc: 0.6535 - val_loss: 0.8249 - val_acc: 0.6572\n",
      "Epoch 57/200\n",
      "17106/17106 [==============================] - 2s 118us/step - loss: 0.8367 - acc: 0.6522 - val_loss: 0.8253 - val_acc: 0.6568\n",
      "Epoch 58/200\n",
      "17106/17106 [==============================] - 2s 120us/step - loss: 0.8319 - acc: 0.6529 - val_loss: 0.8215 - val_acc: 0.6598\n",
      "Epoch 59/200\n",
      "17106/17106 [==============================] - 2s 120us/step - loss: 0.8362 - acc: 0.6498 - val_loss: 0.8260 - val_acc: 0.6591\n",
      "Epoch 60/200\n",
      "17106/17106 [==============================] - 2s 118us/step - loss: 0.8360 - acc: 0.6499 - val_loss: 0.8223 - val_acc: 0.6582\n",
      "Epoch 61/200\n",
      "17106/17106 [==============================] - 2s 118us/step - loss: 0.8337 - acc: 0.6498 - val_loss: 0.8216 - val_acc: 0.6603\n",
      "Epoch 62/200\n",
      "17106/17106 [==============================] - 2s 116us/step - loss: 0.8313 - acc: 0.6507 - val_loss: 0.8273 - val_acc: 0.6600\n",
      "Epoch 63/200\n",
      "17106/17106 [==============================] - 2s 114us/step - loss: 0.8301 - acc: 0.6521 - val_loss: 0.8302 - val_acc: 0.6549\n"
     ]
    }
   ],
   "source": [
    "# Прикажем модели останавливать обучение, когда качество на валидации не будет улучшаться в течение 10 эпох\n",
    "early_stopping_monitor = EarlyStopping(patience = 10)\n",
    "hist = model_dropout.fit(ss.fit_transform(X_train), to_categorical(y_train), \n",
    "                         validation_split=0.2, epochs=200, verbose=1,callbacks = [early_stopping_monitor])"
   ]
  },
  {
   "cell_type": "code",
   "execution_count": 48,
   "metadata": {},
   "outputs": [
    {
     "data": {
      "text/plain": [
       "<matplotlib.legend.Legend at 0x137bc3b7e48>"
      ]
     },
     "execution_count": 48,
     "metadata": {},
     "output_type": "execute_result"
    },
    {
     "data": {
      "image/png": "[encoded data removed]",
      "text/plain": [
       "<Figure size 432x288 with 1 Axes>"
      ]
     },
     "metadata": {},
     "output_type": "display_data"
    }
   ],
   "source": [
    "start = 0\n",
    "plt.plot(hist.history['loss'][start:])\n",
    "plt.plot(hist.history['val_loss'][start:])\n",
    "plt.legend(['Train loss', 'Validation loss'])"
   ]
  },
  {
   "cell_type": "code",
   "execution_count": 49,
   "metadata": {},
   "outputs": [
    {
     "name": "stdout",
     "output_type": "stream",
     "text": [
      "5346/5346 [==============================] - 0s 44us/step\n"
     ]
    },
    {
     "data": {
      "text/plain": [
       "[0.8544743471419013, 0.6528245417134306]"
      ]
     },
     "execution_count": 49,
     "metadata": {},
     "output_type": "execute_result"
    }
   ],
   "source": [
    "score = model_dropout.evaluate(ss.transform(X_test), to_categorical(y_test))\n",
    "score "
   ]
  },
  {
   "cell_type": "markdown",
   "metadata": {},
   "source": [
    "### 3.3 Регуляризация\n",
    "\n",
    "Теперь добавим к нашей модели штраф на веса.\n",
    "Помним-l1 может полностью обнулить наши веса, l2 работает более мягко, веса не будут нулевыми никогда."
   ]
  },
  {
   "cell_type": "code",
   "execution_count": 58,
   "metadata": {},
   "outputs": [],
   "source": [
    "from keras import regularizers\n",
    "model_regulasition = Sequential( )\n",
    "\n",
    "# Первый слой \n",
    "model_regulasition.add(L.Dense(25, input_dim = X_train.shape[1], kernel_initializer='random_normal',\n",
    "                          kernel_regularizer=regularizers.l2(0.01)))\n",
    "\n",
    "model_regulasition.add(L.Activation('sigmoid'))\n",
    "\n",
    "# Второй слой \n",
    "model_regulasition.add(L.Dense(25, kernel_initializer='random_normal',\n",
    "                              kernel_regularizer=regularizers.l2(0.01)))\n",
    "\n",
    "model_regulasition.add(L.Activation('sigmoid'))\n",
    "\n",
    "\n",
    "# Выходной слой \n",
    "model_regulasition.add(L.Dense(4, activation='softmax', kernel_initializer = 'random_normal'))\n",
    "\n",
    "# Собираем модель \n",
    "model_regulasition.compile(loss = 'categorical_crossentropy', metrics=[\"accuracy\"], optimizer=opt.Adam(lr=1e-3))"
   ]
  },
  {
   "cell_type": "code",
   "execution_count": 59,
   "metadata": {},
   "outputs": [
    {
     "name": "stdout",
     "output_type": "stream",
     "text": [
      "Train on 17106 samples, validate on 4277 samples\n",
      "Epoch 1/200\n",
      "17106/17106 [==============================] - 2s 143us/step - loss: 1.2324 - acc: 0.4034 - val_loss: 1.2192 - val_acc: 0.3591\n",
      "Epoch 2/200\n",
      "17106/17106 [==============================] - 2s 124us/step - loss: 1.2225 - acc: 0.4007 - val_loss: 1.2181 - val_acc: 0.3982\n",
      "Epoch 3/200\n",
      "17106/17106 [==============================] - 2s 122us/step - loss: 1.2222 - acc: 0.4010 - val_loss: 1.2199 - val_acc: 0.3982\n",
      "Epoch 4/200\n",
      "17106/17106 [==============================] - 2s 121us/step - loss: 1.2224 - acc: 0.4041 - val_loss: 1.2183 - val_acc: 0.3982\n",
      "Epoch 5/200\n",
      "17106/17106 [==============================] - 2s 119us/step - loss: 1.2226 - acc: 0.4041 - val_loss: 1.2200 - val_acc: 0.3982\n",
      "Epoch 6/200\n",
      "17106/17106 [==============================] - 2s 122us/step - loss: 1.2223 - acc: 0.4041 - val_loss: 1.2189 - val_acc: 0.3982\n",
      "Epoch 7/200\n",
      "17106/17106 [==============================] - 2s 123us/step - loss: 1.2225 - acc: 0.4041 - val_loss: 1.2183 - val_acc: 0.3982\n"
     ]
    }
   ],
   "source": [
    "# Прикажем модели останавливать обучение, когда качество на валидации не будет улучшаться в течение 5 эпох\n",
    "early_stopping_monitor = EarlyStopping(patience = 5)\n",
    "hist = model_regulasition.fit(ss.fit_transform(X_train), to_categorical(y_train), \n",
    "                         validation_split=0.2, epochs=200, verbose=1,callbacks = [early_stopping_monitor])"
   ]
  },
  {
   "cell_type": "markdown",
   "metadata": {},
   "source": [
    "опять же мы заглохли, нужно где-то уменьшать регуляризацию"
   ]
  },
  {
   "cell_type": "code",
   "execution_count": 60,
   "metadata": {},
   "outputs": [],
   "source": [
    "model_regulasition = Sequential( )\n",
    "\n",
    "# Первый слой \n",
    "model_regulasition.add(L.Dense(25, input_dim = X_train.shape[1], kernel_initializer='random_normal',\n",
    "                          kernel_regularizer=regularizers.l2(0.01)))\n",
    "\n",
    "model_regulasition.add(L.Activation('sigmoid'))\n",
    "\n",
    "# Второй слой \n",
    "model_regulasition.add(L.Dense(25, kernel_initializer='random_normal'))\n",
    "\n",
    "model_regulasition.add(L.Activation('sigmoid'))\n",
    "\n",
    "\n",
    "# Выходной слой \n",
    "model_regulasition.add(L.Dense(4, activation='softmax', kernel_initializer = 'random_normal'))\n",
    "\n",
    "# Собираем модель \n",
    "model_regulasition.compile(loss = 'categorical_crossentropy', metrics=[\"accuracy\"], optimizer=opt.Adam(lr=1e-3))"
   ]
  },
  {
   "cell_type": "code",
   "execution_count": null,
   "metadata": {},
   "outputs": [
    {
     "name": "stdout",
     "output_type": "stream",
     "text": [
      "Train on 17106 samples, validate on 4277 samples\n",
      "Epoch 1/200\n",
      "17106/17106 [==============================] - 2s 142us/step - loss: 1.2275 - acc: 0.4148 - val_loss: 1.2076 - val_acc: 0.4664\n",
      "Epoch 2/200\n",
      "17106/17106 [==============================] - 2s 124us/step - loss: 1.1052 - acc: 0.5843 - val_loss: 1.0197 - val_acc: 0.6046\n",
      "Epoch 3/200\n",
      "17106/17106 [==============================] - 2s 116us/step - loss: 1.0168 - acc: 0.6048 - val_loss: 0.9929 - val_acc: 0.6107\n",
      "Epoch 4/200\n",
      "17106/17106 [==============================] - 2s 116us/step - loss: 1.0005 - acc: 0.6067 - val_loss: 0.9793 - val_acc: 0.6182\n",
      "Epoch 5/200\n",
      "17106/17106 [==============================] - 2s 117us/step - loss: 0.9804 - acc: 0.6062 - val_loss: 0.9547 - val_acc: 0.6046\n",
      "Epoch 6/200\n",
      "17106/17106 [==============================] - 2s 118us/step - loss: 0.9408 - acc: 0.6222 - val_loss: 0.9133 - val_acc: 0.6320\n",
      "Epoch 7/200\n",
      "17106/17106 [==============================] - 2s 118us/step - loss: 0.9181 - acc: 0.6319 - val_loss: 0.9053 - val_acc: 0.6339\n",
      "Epoch 8/200\n",
      "17106/17106 [==============================] - 2s 117us/step - loss: 0.9094 - acc: 0.6319 - val_loss: 0.8964 - val_acc: 0.6381\n",
      "Epoch 9/200\n",
      "17106/17106 [==============================] - 2s 121us/step - loss: 0.9053 - acc: 0.6346 - val_loss: 0.8911 - val_acc: 0.6390\n",
      "Epoch 10/200\n",
      "17106/17106 [==============================] - 2s 116us/step - loss: 0.9021 - acc: 0.6335 - val_loss: 0.8886 - val_acc: 0.6397\n",
      "Epoch 11/200\n",
      "17106/17106 [==============================] - 2s 119us/step - loss: 0.9000 - acc: 0.6341 - val_loss: 0.8907 - val_acc: 0.6427\n",
      "Epoch 12/200\n",
      "17106/17106 [==============================] - 2s 121us/step - loss: 0.8985 - acc: 0.6350 - val_loss: 0.8868 - val_acc: 0.6390\n",
      "Epoch 13/200\n",
      "17106/17106 [==============================] - 2s 121us/step - loss: 0.8974 - acc: 0.6354 - val_loss: 0.8871 - val_acc: 0.6392\n",
      "Epoch 14/200\n",
      "17106/17106 [==============================] - 2s 122us/step - loss: 0.8956 - acc: 0.6370 - val_loss: 0.8842 - val_acc: 0.6371\n",
      "Epoch 15/200\n",
      "17106/17106 [==============================] - 2s 120us/step - loss: 0.8958 - acc: 0.6387 - val_loss: 0.8828 - val_acc: 0.6411\n",
      "Epoch 16/200\n",
      "17106/17106 [==============================] - 2s 121us/step - loss: 0.8950 - acc: 0.6364 - val_loss: 0.8829 - val_acc: 0.6371\n",
      "Epoch 17/200\n",
      "17106/17106 [==============================] - 2s 124us/step - loss: 0.8938 - acc: 0.6353 - val_loss: 0.8827 - val_acc: 0.6388\n",
      "Epoch 18/200\n",
      "17106/17106 [==============================] - 2s 123us/step - loss: 0.8931 - acc: 0.6343 - val_loss: 0.8822 - val_acc: 0.6451\n",
      "Epoch 19/200\n",
      "17106/17106 [==============================] - 2s 119us/step - loss: 0.8925 - acc: 0.6373 - val_loss: 0.8817 - val_acc: 0.6439\n",
      "Epoch 20/200\n",
      "17106/17106 [==============================] - 2s 121us/step - loss: 0.8919 - acc: 0.6375 - val_loss: 0.8800 - val_acc: 0.6430\n",
      "Epoch 21/200\n",
      "17106/17106 [==============================] - 2s 120us/step - loss: 0.8922 - acc: 0.6348 - val_loss: 0.8832 - val_acc: 0.6402\n",
      "Epoch 22/200\n",
      "17106/17106 [==============================] - 2s 120us/step - loss: 0.8915 - acc: 0.6375 - val_loss: 0.8819 - val_acc: 0.6430\n",
      "Epoch 23/200\n",
      "17106/17106 [==============================] - 2s 117us/step - loss: 0.8913 - acc: 0.6359 - val_loss: 0.8816 - val_acc: 0.6411\n",
      "Epoch 24/200\n",
      "17106/17106 [==============================] - 2s 119us/step - loss: 0.8907 - acc: 0.6345 - val_loss: 0.8790 - val_acc: 0.6418\n",
      "Epoch 25/200\n",
      "17106/17106 [==============================] - 2s 118us/step - loss: 0.8902 - acc: 0.6371 - val_loss: 0.8807 - val_acc: 0.6392\n",
      "Epoch 26/200\n",
      "17106/17106 [==============================] - 2s 118us/step - loss: 0.8904 - acc: 0.6369 - val_loss: 0.8813 - val_acc: 0.6376\n",
      "Epoch 27/200\n",
      "17106/17106 [==============================] - 2s 118us/step - loss: 0.8902 - acc: 0.6371 - val_loss: 0.8798 - val_acc: 0.6427\n",
      "Epoch 28/200\n",
      "17106/17106 [==============================] - 2s 117us/step - loss: 0.8892 - acc: 0.6373 - val_loss: 0.8775 - val_acc: 0.6392\n",
      "Epoch 29/200\n",
      " 2912/17106 [====>.........................] - ETA: 1s - loss: 0.8864 - acc: 0.6380"
     ]
    }
   ],
   "source": [
    "# Прикажем модели останавливать обучение, когда качество на валидации не будет улучшаться в течение 5 эпох\n",
    "early_stopping_monitor = EarlyStopping(patience = 5)\n",
    "hist = model_regulasition.fit(ss.fit_transform(X_train), to_categorical(y_train), \n",
    "                         validation_split=0.2, epochs=200, verbose=1,callbacks = [early_stopping_monitor])"
   ]
  },
  {
   "cell_type": "code",
   "execution_count": null,
   "metadata": {
    "collapsed": true
   },
   "outputs": [],
   "source": [
    "import this"
   ]
  },
  {
   "cell_type": "markdown",
   "metadata": {},
   "source": [
    "### Различные воспитательные трюки \n",
    "\n",
    "1. Начните с маленькой сети. Не забывайте прикидывать сколько наблдюдений $n$ тратится на оценку каждого из $k$ параметров. Если величина $\\frac{n}{k}$ очень маленькая, то не может идти речи об адекватных оценках параметров!  \n",
    "2. Всегда оставляйте часть выборки под валидацию на каждой эпохе.\n",
    "3. Усложняйте модель, пока качество на валидации не начнёт падать.\n",
    "4. Не забывайте проскалировать ваши наблюдения для лучшей сходимости. \n",
    "5. Можно попробовать ещё целую серию различных **трюков**: \n",
    "\n",
    "\n",
    "* __Архитектура нейросети__\n",
    "    * Больше/меньше нейронов\n",
    "    * Больше/меньше слоёв \n",
    "    * Другие функции активации (tanh, relu, leaky relu, etc) \n",
    "    * Регуляризация (dropout, l1,l2) \n",
    "\n",
    "\n",
    "* __Более качественная оптимизация__  \n",
    "    * Можно попробовать выбрать другой метод оптимизации \n",
    "    * Можно попробовать менять скорость обучения, моментум и др.\n",
    "    * Разные начальные значения весов\n",
    "\n",
    "\n",
    "* __Попробовать собрать больше данных__ \n",
    "* __Для случая картинок объёмы данных можно увеличить искусственно с помощью подхода, который называется Data augmemntation, но об этом позже__\n",
    "\n",
    "И это далеко не полный список. Обратите внимание, что делать grid_search для больших сеток это довольно времязатратное занятие... "
   ]
  }
 ],
 "metadata": {
  "kernelspec": {
   "display_name": "Python 3",
   "language": "python",
   "name": "python3"
  },
  "language_info": {
   "codemirror_mode": {
    "name": "ipython",
    "version": 3
   },
   "file_extension": ".py",
   "mimetype": "text/x-python",
   "name": "python",
   "nbconvert_exporter": "python",
   "pygments_lexer": "ipython3",
   "version": "3.7.2"
  }
 },
 "nbformat": 4,
 "nbformat_minor": 2
}
