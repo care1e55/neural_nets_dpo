{
 "cells": [
  {
   "cell_type": "markdown",
   "metadata": {},
   "source": [
    "# Функциональный API\n",
    "\n",
    "Мы хотим строить сложные разветвлённые модели, а не какие-то там жалкие линейные. Ещё хотим трюки разные использовать. Например, делать ResNet слои. В таких ситуациях нам на помощь приходит функциональный API от keras. Он позволяет придумывать и реализовывать сетки как угодно."
   ]
  },
  {
   "cell_type": "markdown",
   "metadata": {},
   "source": [
    "## 1. Введение в функциональный API"
   ]
  },
  {
   "cell_type": "code",
   "execution_count": 2,
   "metadata": {},
   "outputs": [],
   "source": [
    "import tensorflow.keras as  keras\n",
    "import tensorflow as tf\n",
    "from tensorflow.keras import Input, layers \n",
    "\n",
    "input_tensor = Input(shape=(32,))\n",
    "dense = layers.Dense(32, activation='relu')\n",
    "output_tensor = dense(input_tensor)"
   ]
  },
  {
   "cell_type": "markdown",
   "metadata": {},
   "source": [
    "Начнем с маленького примера, который описывает как обычную модель можно представить с помощью функционального API. На самом деле мы с вами уже видели его раньше. Зададим небольшую сетку с помощью класса `Sequential`. Она линейная. Каждый выход это вход для следующего. "
   ]
  },
  {
   "cell_type": "code",
   "execution_count": 3,
   "metadata": {},
   "outputs": [],
   "source": [
    "from tensorflow.keras.models import Sequential, Model \n",
    "\n",
    "seq_model = Sequential()\n",
    "seq_model.add(layers.Dense(32, activation='relu', input_shape=(64,))) \n",
    "seq_model.add(layers.Dense(32, activation='relu'))\n",
    "seq_model.add(layers.Dense(10, activation='softmax'))"
   ]
  },
  {
   "cell_type": "markdown",
   "metadata": {},
   "source": [
    "А теперь возьмём её и перепишем в функциональном стиле. Каждый слой это функция, которую мы применяем к какому-то входу. "
   ]
  },
  {
   "cell_type": "code",
   "execution_count": 7,
   "metadata": {},
   "outputs": [
    {
     "name": "stdout",
     "output_type": "stream",
     "text": [
      "Requirement already satisfied: pydot in /home/care1e55/progz/anaconda3/lib/python3.7/site-packages (1.4.1)\r\n",
      "Requirement already satisfied: pyparsing>=2.1.4 in /home/care1e55/progz/anaconda3/lib/python3.7/site-packages (from pydot) (2.3.1)\r\n"
     ]
    }
   ],
   "source": [
    "!pip install pydot"
   ]
  },
  {
   "cell_type": "code",
   "execution_count": 5,
   "metadata": {},
   "outputs": [
    {
     "name": "stdout",
     "output_type": "stream",
     "text": [
      "Model: \"model\"\n",
      "_________________________________________________________________\n",
      "Layer (type)                 Output Shape              Param #   \n",
      "=================================================================\n",
      "input_3 (InputLayer)         [(None, 64)]              0         \n",
      "_________________________________________________________________\n",
      "dense_5 (Dense)              (None, 32)                2080      \n",
      "_________________________________________________________________\n",
      "dense_6 (Dense)              (None, 32)                1056      \n",
      "_________________________________________________________________\n",
      "dense_7 (Dense)              (None, 10)                330       \n",
      "=================================================================\n",
      "Total params: 3,466\n",
      "Trainable params: 3,466\n",
      "Non-trainable params: 0\n",
      "_________________________________________________________________\n",
      "Failed to import pydot. You must install pydot and graphviz for `pydotprint` to work.\n"
     ]
    }
   ],
   "source": [
    "input_tensor = Input(shape=(64,))\n",
    "\n",
    "x = layers.Dense(32, activation='relu')(input_tensor)\n",
    "x = layers.Dense(32, activation='relu')(x)\n",
    "output_tensor = layers.Dense(10, activation='softmax')(x)\n",
    "\n",
    "model = Model(input_tensor, output_tensor)\n",
    "model.summary()"
   ]
  },
  {
   "cell_type": "code",
   "execution_count": 4,
   "metadata": {},
   "outputs": [
    {
     "name": "stdout",
     "output_type": "stream",
     "text": [
      "Failed to import pydot. You must install pydot and graphviz for `pydotprint` to work.\n"
     ]
    }
   ],
   "source": [
    "from tensorflow.keras.utils import plot_model\n",
    "plot_model(model, show_shapes = True)\n",
    "\n",
    "# можно нарисовать картинку \n",
    "# SVG(model_to_dot(model,show_shapes=True).create(prog='dot', format='svg'))"
   ]
  },
  {
   "cell_type": "markdown",
   "metadata": {},
   "source": [
    "Единственная часть, которая может показаться немного волшебной - создание экземпляра объекта `Model` с использованием только входного и выходного тензоров. За кулисами Keras извлекает все слои, участвующие в переходе от `input_tensor` к `output_tensor`, объединяя их в граф вычислений. Тут важно заметить, что `output_tensor` и `input_tensor` связаны межу собой вычислениями. Если попытаться построить модель из входных и выходных данных, которые не были связаны выскочит ошибка. "
   ]
  },
  {
   "cell_type": "code",
<<<<<<< HEAD
   "execution_count": 7,
=======
   "execution_count": 5,
>>>>>>> 8945adf08cf1a9fee40ec1001c0a374ce0af5e76
   "metadata": {
    "scrolled": false
   },
<<<<<<< HEAD
   "outputs": [
    {
     "ename": "ValueError",
     "evalue": "Graph disconnected: cannot obtain value for tensor Tensor(\"input_3:0\", shape=(None, 64), dtype=float32) at layer \"input_3\". The following previous layers were accessed without issue: []",
     "output_type": "error",
     "traceback": [
      "\u001b[0;31m---------------------------------------------------------------------------\u001b[0m",
      "\u001b[0;31mValueError\u001b[0m                                Traceback (most recent call last)",
      "\u001b[0;32m<ipython-input-7-b18fa274e6fe>\u001b[0m in \u001b[0;36m<module>\u001b[0;34m\u001b[0m\n\u001b[1;32m      1\u001b[0m \u001b[0munrelated_input\u001b[0m \u001b[0;34m=\u001b[0m \u001b[0mInput\u001b[0m\u001b[0;34m(\u001b[0m\u001b[0mshape\u001b[0m\u001b[0;34m=\u001b[0m\u001b[0;34m(\u001b[0m\u001b[0;36m32\u001b[0m\u001b[0;34m,\u001b[0m\u001b[0;34m)\u001b[0m\u001b[0;34m)\u001b[0m\u001b[0;34m\u001b[0m\u001b[0;34m\u001b[0m\u001b[0m\n\u001b[0;32m----> 2\u001b[0;31m \u001b[0mbad_model\u001b[0m \u001b[0;34m=\u001b[0m \u001b[0mModel\u001b[0m\u001b[0;34m(\u001b[0m\u001b[0munrelated_input\u001b[0m\u001b[0;34m,\u001b[0m \u001b[0moutput_tensor\u001b[0m\u001b[0;34m)\u001b[0m\u001b[0;34m\u001b[0m\u001b[0;34m\u001b[0m\u001b[0m\n\u001b[0m",
      "\u001b[0;32m~/progz/anaconda3/lib/python3.7/site-packages/tensorflow_core/python/keras/engine/training.py\u001b[0m in \u001b[0;36m__init__\u001b[0;34m(self, *args, **kwargs)\u001b[0m\n\u001b[1;32m    144\u001b[0m \u001b[0;34m\u001b[0m\u001b[0m\n\u001b[1;32m    145\u001b[0m   \u001b[0;32mdef\u001b[0m \u001b[0m__init__\u001b[0m\u001b[0;34m(\u001b[0m\u001b[0mself\u001b[0m\u001b[0;34m,\u001b[0m \u001b[0;34m*\u001b[0m\u001b[0margs\u001b[0m\u001b[0;34m,\u001b[0m \u001b[0;34m**\u001b[0m\u001b[0mkwargs\u001b[0m\u001b[0;34m)\u001b[0m\u001b[0;34m:\u001b[0m\u001b[0;34m\u001b[0m\u001b[0;34m\u001b[0m\u001b[0m\n\u001b[0;32m--> 146\u001b[0;31m     \u001b[0msuper\u001b[0m\u001b[0;34m(\u001b[0m\u001b[0mModel\u001b[0m\u001b[0;34m,\u001b[0m \u001b[0mself\u001b[0m\u001b[0;34m)\u001b[0m\u001b[0;34m.\u001b[0m\u001b[0m__init__\u001b[0m\u001b[0;34m(\u001b[0m\u001b[0;34m*\u001b[0m\u001b[0margs\u001b[0m\u001b[0;34m,\u001b[0m \u001b[0;34m**\u001b[0m\u001b[0mkwargs\u001b[0m\u001b[0;34m)\u001b[0m\u001b[0;34m\u001b[0m\u001b[0;34m\u001b[0m\u001b[0m\n\u001b[0m\u001b[1;32m    147\u001b[0m     \u001b[0m_keras_api_gauge\u001b[0m\u001b[0;34m.\u001b[0m\u001b[0mget_cell\u001b[0m\u001b[0;34m(\u001b[0m\u001b[0;34m'model'\u001b[0m\u001b[0;34m)\u001b[0m\u001b[0;34m.\u001b[0m\u001b[0mset\u001b[0m\u001b[0;34m(\u001b[0m\u001b[0;32mTrue\u001b[0m\u001b[0;34m)\u001b[0m\u001b[0;34m\u001b[0m\u001b[0;34m\u001b[0m\u001b[0m\n\u001b[1;32m    148\u001b[0m     \u001b[0;31m# initializing _distribution_strategy here since it is possible to call\u001b[0m\u001b[0;34m\u001b[0m\u001b[0;34m\u001b[0m\u001b[0;34m\u001b[0m\u001b[0m\n",
      "\u001b[0;32m~/progz/anaconda3/lib/python3.7/site-packages/tensorflow_core/python/keras/engine/network.py\u001b[0m in \u001b[0;36m__init__\u001b[0;34m(self, *args, **kwargs)\u001b[0m\n\u001b[1;32m    167\u001b[0m         'inputs' in kwargs and 'outputs' in kwargs):\n\u001b[1;32m    168\u001b[0m       \u001b[0;31m# Graph network\u001b[0m\u001b[0;34m\u001b[0m\u001b[0;34m\u001b[0m\u001b[0;34m\u001b[0m\u001b[0m\n\u001b[0;32m--> 169\u001b[0;31m       \u001b[0mself\u001b[0m\u001b[0;34m.\u001b[0m\u001b[0m_init_graph_network\u001b[0m\u001b[0;34m(\u001b[0m\u001b[0;34m*\u001b[0m\u001b[0margs\u001b[0m\u001b[0;34m,\u001b[0m \u001b[0;34m**\u001b[0m\u001b[0mkwargs\u001b[0m\u001b[0;34m)\u001b[0m\u001b[0;34m\u001b[0m\u001b[0;34m\u001b[0m\u001b[0m\n\u001b[0m\u001b[1;32m    170\u001b[0m     \u001b[0;32melse\u001b[0m\u001b[0;34m:\u001b[0m\u001b[0;34m\u001b[0m\u001b[0;34m\u001b[0m\u001b[0m\n\u001b[1;32m    171\u001b[0m       \u001b[0;31m# Subclassed network\u001b[0m\u001b[0;34m\u001b[0m\u001b[0;34m\u001b[0m\u001b[0;34m\u001b[0m\u001b[0m\n",
      "\u001b[0;32m~/progz/anaconda3/lib/python3.7/site-packages/tensorflow_core/python/training/tracking/base.py\u001b[0m in \u001b[0;36m_method_wrapper\u001b[0;34m(self, *args, **kwargs)\u001b[0m\n\u001b[1;32m    455\u001b[0m     \u001b[0mself\u001b[0m\u001b[0;34m.\u001b[0m\u001b[0m_self_setattr_tracking\u001b[0m \u001b[0;34m=\u001b[0m \u001b[0;32mFalse\u001b[0m  \u001b[0;31m# pylint: disable=protected-access\u001b[0m\u001b[0;34m\u001b[0m\u001b[0;34m\u001b[0m\u001b[0m\n\u001b[1;32m    456\u001b[0m     \u001b[0;32mtry\u001b[0m\u001b[0;34m:\u001b[0m\u001b[0;34m\u001b[0m\u001b[0;34m\u001b[0m\u001b[0m\n\u001b[0;32m--> 457\u001b[0;31m       \u001b[0mresult\u001b[0m \u001b[0;34m=\u001b[0m \u001b[0mmethod\u001b[0m\u001b[0;34m(\u001b[0m\u001b[0mself\u001b[0m\u001b[0;34m,\u001b[0m \u001b[0;34m*\u001b[0m\u001b[0margs\u001b[0m\u001b[0;34m,\u001b[0m \u001b[0;34m**\u001b[0m\u001b[0mkwargs\u001b[0m\u001b[0;34m)\u001b[0m\u001b[0;34m\u001b[0m\u001b[0;34m\u001b[0m\u001b[0m\n\u001b[0m\u001b[1;32m    458\u001b[0m     \u001b[0;32mfinally\u001b[0m\u001b[0;34m:\u001b[0m\u001b[0;34m\u001b[0m\u001b[0;34m\u001b[0m\u001b[0m\n\u001b[1;32m    459\u001b[0m       \u001b[0mself\u001b[0m\u001b[0;34m.\u001b[0m\u001b[0m_self_setattr_tracking\u001b[0m \u001b[0;34m=\u001b[0m \u001b[0mprevious_value\u001b[0m  \u001b[0;31m# pylint: disable=protected-access\u001b[0m\u001b[0;34m\u001b[0m\u001b[0;34m\u001b[0m\u001b[0m\n",
      "\u001b[0;32m~/progz/anaconda3/lib/python3.7/site-packages/tensorflow_core/python/keras/engine/network.py\u001b[0m in \u001b[0;36m_init_graph_network\u001b[0;34m(self, inputs, outputs, name, **kwargs)\u001b[0m\n\u001b[1;32m    322\u001b[0m     \u001b[0;31m# Keep track of the network's nodes and layers.\u001b[0m\u001b[0;34m\u001b[0m\u001b[0;34m\u001b[0m\u001b[0;34m\u001b[0m\u001b[0m\n\u001b[1;32m    323\u001b[0m     nodes, nodes_by_depth, layers, _ = _map_graph_network(\n\u001b[0;32m--> 324\u001b[0;31m         self.inputs, self.outputs)\n\u001b[0m\u001b[1;32m    325\u001b[0m     \u001b[0mself\u001b[0m\u001b[0;34m.\u001b[0m\u001b[0m_network_nodes\u001b[0m \u001b[0;34m=\u001b[0m \u001b[0mnodes\u001b[0m\u001b[0;34m\u001b[0m\u001b[0;34m\u001b[0m\u001b[0m\n\u001b[1;32m    326\u001b[0m     \u001b[0mself\u001b[0m\u001b[0;34m.\u001b[0m\u001b[0m_nodes_by_depth\u001b[0m \u001b[0;34m=\u001b[0m \u001b[0mnodes_by_depth\u001b[0m\u001b[0;34m\u001b[0m\u001b[0;34m\u001b[0m\u001b[0m\n",
      "\u001b[0;32m~/progz/anaconda3/lib/python3.7/site-packages/tensorflow_core/python/keras/engine/network.py\u001b[0m in \u001b[0;36m_map_graph_network\u001b[0;34m(inputs, outputs)\u001b[0m\n\u001b[1;32m   1674\u001b[0m                              \u001b[0;34m'The following previous layers '\u001b[0m\u001b[0;34m\u001b[0m\u001b[0;34m\u001b[0m\u001b[0m\n\u001b[1;32m   1675\u001b[0m                              \u001b[0;34m'were accessed without issue: '\u001b[0m \u001b[0;34m+\u001b[0m\u001b[0;34m\u001b[0m\u001b[0;34m\u001b[0m\u001b[0m\n\u001b[0;32m-> 1676\u001b[0;31m                              str(layers_with_complete_input))\n\u001b[0m\u001b[1;32m   1677\u001b[0m         \u001b[0;32mfor\u001b[0m \u001b[0mx\u001b[0m \u001b[0;32min\u001b[0m \u001b[0mnest\u001b[0m\u001b[0;34m.\u001b[0m\u001b[0mflatten\u001b[0m\u001b[0;34m(\u001b[0m\u001b[0mnode\u001b[0m\u001b[0;34m.\u001b[0m\u001b[0moutput_tensors\u001b[0m\u001b[0;34m)\u001b[0m\u001b[0;34m:\u001b[0m\u001b[0;34m\u001b[0m\u001b[0;34m\u001b[0m\u001b[0m\n\u001b[1;32m   1678\u001b[0m           \u001b[0mcomputable_tensors\u001b[0m\u001b[0;34m.\u001b[0m\u001b[0madd\u001b[0m\u001b[0;34m(\u001b[0m\u001b[0mid\u001b[0m\u001b[0;34m(\u001b[0m\u001b[0mx\u001b[0m\u001b[0;34m)\u001b[0m\u001b[0;34m)\u001b[0m\u001b[0;34m\u001b[0m\u001b[0;34m\u001b[0m\u001b[0m\n",
      "\u001b[0;31mValueError\u001b[0m: Graph disconnected: cannot obtain value for tensor Tensor(\"input_3:0\", shape=(None, 64), dtype=float32) at layer \"input_3\". The following previous layers were accessed without issue: []"
     ]
    }
   ],
=======
   "outputs": [],
>>>>>>> 8945adf08cf1a9fee40ec1001c0a374ce0af5e76
   "source": [
    "unrelated_input = Input(shape=(32,))\n",
    "bad_model = Model(unrelated_input, output_tensor)"
   ]
  },
  {
   "cell_type": "markdown",
   "metadata": {},
   "source": [
    "Ошибка говорит нам о том, что керас не смог достичь `output`, преобразовывая `input`. Всё остальное работает точно также, как и раньше."
   ]
  },
  {
   "cell_type": "code",
<<<<<<< HEAD
   "execution_count": 8,
=======
   "execution_count": 6,
>>>>>>> 8945adf08cf1a9fee40ec1001c0a374ce0af5e76
   "metadata": {
    "scrolled": false
   },
   "outputs": [
    {
     "name": "stdout",
     "output_type": "stream",
     "text": [
      "Train on 1000 samples\n",
      "Epoch 1/10\n",
<<<<<<< HEAD
      "1000/1000 [==============================] - 3s 3ms/sample - loss: 11.7593\n",
      "Epoch 2/10\n",
      "1000/1000 [==============================] - 0s 20us/sample - loss: 12.2986\n",
      "Epoch 3/10\n",
      "1000/1000 [==============================] - 0s 13us/sample - loss: 13.2593\n",
      "Epoch 4/10\n",
      "1000/1000 [==============================] - 0s 14us/sample - loss: 14.4904\n",
      "Epoch 5/10\n",
      "1000/1000 [==============================] - 0s 14us/sample - loss: 16.0704\n",
      "Epoch 6/10\n",
      "1000/1000 [==============================] - 0s 14us/sample - loss: 17.9941\n",
      "Epoch 7/10\n",
      "1000/1000 [==============================] - 0s 14us/sample - loss: 20.2829\n",
      "Epoch 8/10\n",
      "1000/1000 [==============================] - 0s 14us/sample - loss: 22.9942\n",
      "Epoch 9/10\n",
      "1000/1000 [==============================] - 0s 13us/sample - loss: 26.0421\n",
      "Epoch 10/10\n",
      "1000/1000 [==============================] - 0s 14us/sample - loss: 29.4837\n",
      "1000/1000 [==============================] - 0s 98us/sample - loss: 31.5520\n"
=======
      "1000/1000 [==============================] - 1s 617us/sample - loss: 12.4903\n",
      "Epoch 2/10\n",
      "1000/1000 [==============================] - 0s 31us/sample - loss: 14.9156\n",
      "Epoch 3/10\n",
      "1000/1000 [==============================] - 0s 27us/sample - loss: 18.3140\n",
      "Epoch 4/10\n",
      "1000/1000 [==============================] - 0s 54us/sample - loss: 21.7487\n",
      "Epoch 5/10\n",
      "1000/1000 [==============================] - 0s 26us/sample - loss: 25.5756\n",
      "Epoch 6/10\n",
      "1000/1000 [==============================] - 0s 14us/sample - loss: 29.6827\n",
      "Epoch 7/10\n",
      "1000/1000 [==============================] - 0s 36us/sample - loss: 33.7241\n",
      "Epoch 8/10\n",
      "1000/1000 [==============================] - 0s 12us/sample - loss: 38.3102\n",
      "Epoch 9/10\n",
      "1000/1000 [==============================] - 0s 44us/sample - loss: 41.8775\n",
      "Epoch 10/10\n",
      "1000/1000 [==============================] - 0s 36us/sample - loss: 46.1290\n"
>>>>>>> 8945adf08cf1a9fee40ec1001c0a374ce0af5e76
     ]
    },
    {
     "data": {
      "text/plain": [
       "48.51844696044922"
      ]
     },
     "execution_count": 6,
     "metadata": {},
     "output_type": "execute_result"
    }
   ],
   "source": [
    "model.compile(optimizer='rmsprop', loss='categorical_crossentropy')\n",
    "\n",
    "import numpy as np\n",
    "x_train = np.random.random((1000, 64))\n",
    "y_train = np.random.random((1000, 10)) \n",
    "\n",
    "model.fit(x_train, y_train, epochs=10, batch_size=128)\n",
    "\n",
    "score = model.evaluate(x_train, y_train, verbose=0)\n",
    "score"
   ]
  },
  {
   "cell_type": "markdown",
   "metadata": {},
   "source": [
    "\n",
    "## 2. Модели с несколькими входами\n",
    "\n",
    "Функциональный API может использоваться для построения моделей с несколькими входами. Как правило, такие модели в какой-то момент объединяют свои ветви, используя слой, который может объединять несколько тензоров. (`keras.layers.add`, `keras.layers.concatenate` и тп)\n",
    "\n",
    "### Диалоговая система\n",
    "\n",
    "Представим себе, что мы пытаемся построить сетку, которая умеет отвечать на вопросы. Чтобы выйчить её, надо показать ей кучу примеров вопросов и ответов на них. У сетки будет два входа. На выходе мы будем получать вероятность того, что ответ релевантен вопросу. "
   ]
  },
  {
   "cell_type": "code",
   "execution_count": 7,
   "metadata": {},
   "outputs": [],
   "source": [
    "from tensorflow.keras import Input\n",
    "\n",
    "text_vocabulary_size = 10000\n",
    "question_vocabulary_size = 10000\n",
    "answer_vocabulary_size = 500\n",
    "\n",
    "# Ввод текста представляет собой последовательность целых чисел переменной длины.\n",
    "# Обратите внимание, что вы можете по желанию назвать входы\n",
    "text_input = Input(shape=(None,), dtype='int32', name='text')\n",
    "embedded_text = layers.Embedding(text_vocabulary_size,64)(text_input)\n",
    "\n",
    "# С помощью LSTM переводим текст в последовательность\n",
    "encoded_text = layers.LSTM(32)(embedded_text)\n",
    "\n",
    "# Тот же процесс (с разными экземплярами слоя) для вопроса\n",
    "question_input = Input(shape=(None,),dtype='int32',name='question')\n",
    "embedded_question = layers.Embedding(question_vocabulary_size,32)(question_input)\n",
    "encoded_question = layers.LSTM(16)(embedded_question) \n",
    "\n",
    "# Соеденяем вопрос и текст\n",
    "concatenated = layers.concatenate([encoded_text, encoded_question],\n",
    "                                  axis=-1)\n",
    "# Добавляем softmax итоговый\n",
    "answer = layers.Dense(answer_vocabulary_size, activation='softmax')(concatenated)\n",
    "\n",
    "# Модельс 2-мя входами и 1 выходом, поэтому задаем таким образом\n",
    "model = Model([text_input, question_input], answer)\n",
    "model.compile(optimizer='rmsprop',loss='categorical_crossentropy', metrics=['acc'])"
   ]
  },
  {
   "cell_type": "code",
   "execution_count": 8,
   "metadata": {},
   "outputs": [
    {
     "name": "stdout",
     "output_type": "stream",
     "text": [
      "Model: \"model_1\"\n",
      "__________________________________________________________________________________________________\n",
      "Layer (type)                    Output Shape         Param #     Connected to                     \n",
      "==================================================================================================\n",
      "text (InputLayer)               [(None, None)]       0                                            \n",
      "__________________________________________________________________________________________________\n",
      "question (InputLayer)           [(None, None)]       0                                            \n",
      "__________________________________________________________________________________________________\n",
      "embedding (Embedding)           (None, None, 64)     640000      text[0][0]                       \n",
      "__________________________________________________________________________________________________\n",
      "embedding_1 (Embedding)         (None, None, 32)     320000      question[0][0]                   \n",
      "__________________________________________________________________________________________________\n",
      "lstm (LSTM)                     (None, 32)           12416       embedding[0][0]                  \n",
      "__________________________________________________________________________________________________\n",
      "lstm_1 (LSTM)                   (None, 16)           3136        embedding_1[0][0]                \n",
      "__________________________________________________________________________________________________\n",
      "concatenate (Concatenate)       (None, 48)           0           lstm[0][0]                       \n",
      "                                                                 lstm_1[0][0]                     \n",
      "__________________________________________________________________________________________________\n",
      "dense_7 (Dense)                 (None, 500)          24500       concatenate[0][0]                \n",
      "==================================================================================================\n",
      "Total params: 1,000,052\n",
      "Trainable params: 1,000,052\n",
      "Non-trainable params: 0\n",
      "__________________________________________________________________________________________________\n"
     ]
    }
   ],
   "source": [
    "model.summary()"
   ]
  },
  {
   "cell_type": "code",
   "execution_count": 33,
   "metadata": {},
   "outputs": [
    {
     "name": "stdout",
     "output_type": "stream",
     "text": [
      "Failed to import pydot. You must install pydot and graphviz for `pydotprint` to work.\n"
     ]
    }
   ],
   "source": [
    "plot_model(model, show_shapes = True)"
   ]
  },
  {
   "cell_type": "markdown",
   "metadata": {},
   "source": [
    "### Обучение модели с несколькими входами"
   ]
  },
  {
   "cell_type": "code",
   "execution_count": 10,
   "metadata": {
    "scrolled": false
   },
   "outputs": [
    {
     "data": {
      "text/plain": [
       "array([[8054,  360, 4332, ..., 6235, 5528, 5878],\n",
       "       [6102, 8217, 5513, ..., 6377, 6579, 6850],\n",
       "       [3864, 6967, 4492, ..., 8542, 2155,  145],\n",
       "       ...,\n",
       "       [7360, 5886, 4331, ..., 8644, 1445, 6148],\n",
       "       [6349, 7374, 6710, ..., 6095, 5026,  527],\n",
       "       [9805, 8936, 8299, ..., 8923, 7435, 8762]])"
      ]
     },
     "execution_count": 10,
     "metadata": {},
     "output_type": "execute_result"
    }
   ],
   "source": [
    "import numpy as np\n",
    "num_samples = 1000 \n",
    "max_length = 100\n",
    "\n",
    "# модельные данные\n",
    "text = np.random.randint(1, text_vocabulary_size,size=(num_samples, max_length))\n",
    "text"
   ]
  },
  {
   "cell_type": "code",
   "execution_count": 11,
   "metadata": {},
   "outputs": [
    {
     "data": {
      "text/plain": [
       "array([[ 275, 3200, 9866, ..., 2845, 9866, 3427],\n",
       "       [7107, 8775, 5426, ..., 1259,  635, 9621],\n",
       "       [6509, 4273, 4708, ..., 8719, 4789, 4020],\n",
       "       ...,\n",
       "       [8821, 8929, 1657, ..., 2399, 8735, 4123],\n",
       "       [7580, 5237, 7327, ..., 2264, 4803, 1518],\n",
       "       [6172, 5188, 8463, ..., 7259,  649, 7707]])"
      ]
     },
     "execution_count": 11,
     "metadata": {},
     "output_type": "execute_result"
    }
   ],
   "source": [
    "question = np.random.randint(1, question_vocabulary_size,size=(num_samples, max_length))\n",
    "question"
   ]
  },
  {
   "cell_type": "code",
   "execution_count": 12,
   "metadata": {},
   "outputs": [
    {
     "data": {
      "text/plain": [
       "array([[0., 0., 0., ..., 0., 0., 0.],\n",
       "       [0., 0., 0., ..., 0., 0., 0.],\n",
       "       [0., 0., 0., ..., 0., 0., 0.],\n",
       "       ...,\n",
       "       [0., 0., 0., ..., 0., 0., 0.],\n",
       "       [0., 0., 0., ..., 0., 0., 0.],\n",
       "       [0., 0., 0., ..., 0., 0., 0.]], dtype=float32)"
      ]
     },
     "execution_count": 12,
     "metadata": {},
     "output_type": "execute_result"
    }
   ],
   "source": [
    "# выход из сетки это релевантность ответа вопросу\n",
    "answers = np.random.randint(answer_vocabulary_size, size=(num_samples))\n",
    "answers = keras.utils.to_categorical(answers, answer_vocabulary_size)\n",
    "answers"
   ]
  },
  {
   "cell_type": "markdown",
   "metadata": {},
   "source": [
    "Подать данные на вход можно двумя способами. Либо как лист:"
   ]
  },
  {
   "cell_type": "code",
   "execution_count": 13,
   "metadata": {},
   "outputs": [
    {
     "name": "stdout",
     "output_type": "stream",
     "text": [
      "Train on 1000 samples\n",
      "Epoch 1/10\n",
      "1000/1000 [==============================] - 4s 4ms/sample - loss: 6.2148 - acc: 0.0020\n",
      "Epoch 2/10\n",
      "1000/1000 [==============================] - 1s 609us/sample - loss: 6.1977 - acc: 0.0390\n",
      "Epoch 3/10\n",
      "1000/1000 [==============================] - 1s 724us/sample - loss: 6.1456 - acc: 0.0070\n",
      "Epoch 4/10\n",
      "1000/1000 [==============================] - 1s 754us/sample - loss: 6.0684 - acc: 0.0090\n",
      "Epoch 5/10\n",
      "1000/1000 [==============================] - 1s 698us/sample - loss: 5.9958 - acc: 0.0080\n",
      "Epoch 6/10\n",
      "1000/1000 [==============================] - 1s 706us/sample - loss: 5.8934 - acc: 0.0140\n",
      "Epoch 7/10\n",
      "1000/1000 [==============================] - 1s 844us/sample - loss: 5.7897 - acc: 0.0110\n",
      "Epoch 8/10\n",
      "1000/1000 [==============================] - 1s 890us/sample - loss: 5.7059 - acc: 0.0120\n",
      "Epoch 9/10\n",
      "1000/1000 [==============================] - 1s 762us/sample - loss: 5.6233 - acc: 0.0150\n",
      "Epoch 10/10\n",
      "1000/1000 [==============================] - 1s 865us/sample - loss: 5.5542 - acc: 0.0160\n"
     ]
    },
    {
     "data": {
      "text/plain": [
       "<tensorflow.python.keras.callbacks.History at 0x7f0d0246dcd0>"
      ]
     },
     "execution_count": 13,
     "metadata": {},
     "output_type": "execute_result"
    }
   ],
   "source": [
    "model.fit([text, question], answers, epochs=10, batch_size=128)"
   ]
  },
  {
   "cell_type": "markdown",
   "metadata": {},
   "source": [
    "Либо как словарь:"
   ]
  },
  {
   "cell_type": "code",
   "execution_count": 14,
   "metadata": {},
   "outputs": [
    {
     "name": "stdout",
     "output_type": "stream",
     "text": [
      "Train on 1000 samples\n",
      "Epoch 1/10\n",
      "1000/1000 [==============================] - 1s 926us/sample - loss: 5.4933 - acc: 0.0190\n",
      "Epoch 2/10\n",
      "1000/1000 [==============================] - 1s 890us/sample - loss: 5.4302 - acc: 0.0210\n",
      "Epoch 3/10\n",
      "1000/1000 [==============================] - 1s 758us/sample - loss: 5.3679 - acc: 0.0270\n",
      "Epoch 4/10\n",
      "1000/1000 [==============================] - 1s 665us/sample - loss: 5.3056 - acc: 0.0320\n",
      "Epoch 5/10\n",
      "1000/1000 [==============================] - 1s 650us/sample - loss: 5.2587 - acc: 0.0310\n",
      "Epoch 6/10\n",
      "1000/1000 [==============================] - 1s 649us/sample - loss: 5.2099 - acc: 0.0420\n",
      "Epoch 7/10\n",
      "1000/1000 [==============================] - 1s 638us/sample - loss: 5.1416 - acc: 0.0460\n",
      "Epoch 8/10\n",
      "1000/1000 [==============================] - 1s 665us/sample - loss: 5.1055 - acc: 0.0450\n",
      "Epoch 9/10\n",
      "1000/1000 [==============================] - 1s 656us/sample - loss: 5.0547 - acc: 0.0410\n",
      "Epoch 10/10\n",
      "1000/1000 [==============================] - 1s 661us/sample - loss: 4.9963 - acc: 0.0470\n"
     ]
    },
    {
     "data": {
      "text/plain": [
       "<tensorflow.python.keras.callbacks.History at 0x7f0ce8b7f8d0>"
      ]
     },
     "execution_count": 14,
     "metadata": {},
     "output_type": "execute_result"
    }
   ],
   "source": [
    "model.fit({'text': text, 'question': question}, answers,epochs=10, batch_size=128)"
   ]
  },
  {
   "cell_type": "markdown",
   "metadata": {},
   "source": [
    "## 3. Модели с несколькими выходами\n",
    "\n",
    "Можно собирать модели с несколькими выходами! \n",
    "\n",
    "### Пример - прогноз возраста, пола и дохода от постов в социальных сетях\n",
    "\n",
    "Сеть пытается предсказать по сообщению человека в социальных сетках его возраст, пол и доход. "
   ]
  },
  {
   "cell_type": "code",
   "execution_count": 15,
   "metadata": {},
   "outputs": [],
   "source": [
    "vocabulary_size = 50000 \n",
    "num_income_groups = 10 "
   ]
  },
  {
   "cell_type": "code",
   "execution_count": 16,
   "metadata": {},
   "outputs": [
    {
     "data": {
      "text/plain": [
       "array([[ 1455,  7155, 48861, ..., 44334, 16038, 12194],\n",
       "       [ 2261,  4525, 45128, ...,  9752, 33206,  1588],\n",
       "       [22284, 35175, 20730, ..., 17430, 11918, 24401],\n",
       "       ...,\n",
       "       [42345, 24480,  7447, ..., 33867, 31447, 39097],\n",
       "       [27833, 44998, 29995, ..., 40870, 20602, 34144],\n",
       "       [37888, 43211,   424, ...,   537, 24239, 30451]])"
      ]
     },
     "execution_count": 16,
     "metadata": {},
     "output_type": "execute_result"
    }
   ],
   "source": [
    "import numpy as np \n",
    "\n",
    "num_samples = 1000 \n",
    "max_length = 100\n",
    "\n",
    "posts = np.random.randint(1, vocabulary_size, size=(num_samples, max_length))\n",
    "posts"
   ]
  },
  {
   "cell_type": "code",
   "execution_count": 17,
   "metadata": {},
   "outputs": [
    {
     "data": {
      "text/plain": [
       "array([[39],\n",
       "       [58],\n",
       "       [23],\n",
       "       [81],\n",
       "       [70],\n",
       "       [14],\n",
       "       [ 9],\n",
       "       [66],\n",
       "       [36],\n",
       "       [60]])"
      ]
     },
     "execution_count": 17,
     "metadata": {},
     "output_type": "execute_result"
    }
   ],
   "source": [
    "age_targets = np.random.randint(0, 100, size=(num_samples,1))\n",
    "age_targets[:10]"
   ]
  },
  {
   "cell_type": "code",
   "execution_count": 18,
   "metadata": {},
   "outputs": [
    {
     "data": {
      "text/plain": [
       "array([[0., 0., 1., 0., 0., 0., 0., 0., 0., 0.],\n",
       "       [0., 0., 0., 1., 0., 0., 0., 0., 0., 0.],\n",
       "       [0., 0., 0., 0., 0., 0., 0., 0., 1., 0.],\n",
       "       [0., 0., 0., 0., 0., 1., 0., 0., 0., 0.],\n",
       "       [0., 0., 0., 0., 0., 0., 0., 0., 1., 0.],\n",
       "       [0., 0., 0., 0., 0., 0., 0., 0., 0., 1.],\n",
       "       [0., 0., 0., 0., 0., 0., 0., 0., 1., 0.],\n",
       "       [0., 0., 0., 0., 0., 0., 0., 0., 0., 1.],\n",
       "       [0., 0., 0., 0., 0., 0., 1., 0., 0., 0.],\n",
       "       [0., 0., 0., 0., 1., 0., 0., 0., 0., 0.]], dtype=float32)"
      ]
     },
     "execution_count": 18,
     "metadata": {},
     "output_type": "execute_result"
    }
   ],
   "source": [
    "income_targets = np.random.randint(1, num_income_groups, size=(num_samples,1))\n",
    "income_targets = keras.utils.to_categorical(income_targets,num_income_groups)\n",
    "income_targets[:10]"
   ]
  },
  {
   "cell_type": "code",
   "execution_count": 19,
   "metadata": {},
   "outputs": [
    {
     "data": {
      "text/plain": [
       "array([[1],\n",
       "       [1],\n",
       "       [0],\n",
       "       [0],\n",
       "       [1],\n",
       "       [1],\n",
       "       [1],\n",
       "       [0],\n",
       "       [1],\n",
       "       [0]])"
      ]
     },
     "execution_count": 19,
     "metadata": {},
     "output_type": "execute_result"
    }
   ],
   "source": [
    "gender_targets = np.random.randint(0, 2, size=(num_samples,1))\n",
    "gender_targets[:10]"
   ]
  },
  {
   "cell_type": "markdown",
   "metadata": {},
   "source": [
    "Собираем модель."
   ]
  },
  {
   "cell_type": "code",
   "execution_count": 20,
   "metadata": {},
   "outputs": [],
   "source": [
    "posts_input = Input(shape=(None,), dtype='int32', name='posts')\n",
    "embedded_posts = layers.Embedding(vocabulary_size,256)(posts_input)\n",
    "\n",
    "x = layers.Conv1D(128, 5, activation='relu', padding='same')(embedded_posts)\n",
    "x = layers.MaxPooling1D(5)(x)\n",
    "x = layers.Conv1D(256, 5, activation='relu', padding='same')(x)\n",
    "x = layers.Conv1D(256, 5, activation='relu', padding='same')(x)\n",
    "x = layers.MaxPooling1D(5)(x)\n",
    "x = layers.Conv1D(256, 5, activation='relu', padding='same')(x)\n",
    "x = layers.Conv1D(256, 5, activation='relu', padding='same')(x) \n",
    "x = layers.GlobalMaxPooling1D()(x)\n",
    "x = layers.Dense(128, activation='relu')(x) \n",
    "\n",
    "# Заметим, что выходным лаерам лучше дать имя.\n",
    "age_prediction = layers.Dense(1, name='age')(x)\n",
    "income_prediction = layers.Dense(num_income_groups,\n",
    "                                 activation='softmax',name='income')(x)\n",
    "\n",
    "gender_prediction = layers.Dense(1, activation='sigmoid',\n",
    "                                 name='gender')(x)\n",
    "\n",
    "model = Model(posts_input,[age_prediction, income_prediction, \n",
    "                           gender_prediction])"
   ]
  },
  {
   "cell_type": "markdown",
   "metadata": {},
   "source": [
    "Лоя разных выходов надо задавать разные функции потерь. Например, прогнозирование возраста регрессия, пола классификация. Все эти потери надо будет объединить в один функционал. Каждой придать свой вес. Сложно, короче говоря. "
   ]
  },
  {
   "cell_type": "code",
   "execution_count": 21,
   "metadata": {},
   "outputs": [],
   "source": [
    "# снова либо списком либо словарем, словарь работает если мы дали тензорам имена\n",
    "model.compile(optimizer='rmsprop', loss=['mse', \n",
    "                                         'categorical_crossentropy',\n",
    "                                         'binary_crossentropy'])\n",
    "\n",
    "model.compile(optimizer='rmsprop',loss={'age': 'mse',\n",
    "                                        'income': 'categorical_crossentropy',\n",
    "                                        'gender': 'binary_crossentropy'})"
   ]
  },
  {
   "cell_type": "markdown",
   "metadata": {},
   "source": [
    "Посмотрим как можно на разные функции потерь накидывать веса. Из-за того, что они могут быть несбалансированны, один выход может задоминировать другой. "
   ]
  },
  {
   "cell_type": "code",
   "execution_count": 22,
   "metadata": {},
   "outputs": [],
   "source": [
    "model.compile(optimizer='rmsprop',\n",
    "              loss=['mse', 'categorical_crossentropy', 'binary_crossentropy'],\n",
    "              loss_weights=[0.25, 1., 10.]) \n",
    "\n",
    "model.compile(optimizer='rmsprop',\n",
    "              \n",
    "              loss={'age': 'mse',\n",
    "                    'income': 'categorical_crossentropy',\n",
    "                    'gender': 'binary_crossentropy'},\n",
    "              \n",
    "              loss_weights={'age': 0.25,\n",
    "                            'income': 1.,\n",
    "                            'gender': 10.})"
   ]
  },
  {
   "cell_type": "code",
   "execution_count": 23,
   "metadata": {
    "scrolled": false
   },
   "outputs": [
    {
     "name": "stdout",
     "output_type": "stream",
     "text": [
      "Model: \"model_2\"\n",
      "__________________________________________________________________________________________________\n",
      "Layer (type)                    Output Shape         Param #     Connected to                     \n",
      "==================================================================================================\n",
      "posts (InputLayer)              [(None, None)]       0                                            \n",
      "__________________________________________________________________________________________________\n",
      "embedding_2 (Embedding)         (None, None, 256)    12800000    posts[0][0]                      \n",
      "__________________________________________________________________________________________________\n",
      "conv1d (Conv1D)                 (None, None, 128)    163968      embedding_2[0][0]                \n",
      "__________________________________________________________________________________________________\n",
      "max_pooling1d (MaxPooling1D)    (None, None, 128)    0           conv1d[0][0]                     \n",
      "__________________________________________________________________________________________________\n",
      "conv1d_1 (Conv1D)               (None, None, 256)    164096      max_pooling1d[0][0]              \n",
      "__________________________________________________________________________________________________\n",
      "conv1d_2 (Conv1D)               (None, None, 256)    327936      conv1d_1[0][0]                   \n",
      "__________________________________________________________________________________________________\n",
      "max_pooling1d_1 (MaxPooling1D)  (None, None, 256)    0           conv1d_2[0][0]                   \n",
      "__________________________________________________________________________________________________\n",
      "conv1d_3 (Conv1D)               (None, None, 256)    327936      max_pooling1d_1[0][0]            \n",
      "__________________________________________________________________________________________________\n",
      "conv1d_4 (Conv1D)               (None, None, 256)    327936      conv1d_3[0][0]                   \n",
      "__________________________________________________________________________________________________\n",
      "global_max_pooling1d (GlobalMax (None, 256)          0           conv1d_4[0][0]                   \n",
      "__________________________________________________________________________________________________\n",
      "dense_8 (Dense)                 (None, 128)          32896       global_max_pooling1d[0][0]       \n",
      "__________________________________________________________________________________________________\n",
      "age (Dense)                     (None, 1)            129         dense_8[0][0]                    \n",
      "__________________________________________________________________________________________________\n",
      "income (Dense)                  (None, 10)           1290        dense_8[0][0]                    \n",
      "__________________________________________________________________________________________________\n",
      "gender (Dense)                  (None, 1)            129         dense_8[0][0]                    \n",
      "==================================================================================================\n",
      "Total params: 14,146,316\n",
      "Trainable params: 14,146,316\n",
      "Non-trainable params: 0\n",
      "__________________________________________________________________________________________________\n"
     ]
    }
   ],
   "source": [
    "model.summary()"
   ]
  },
  {
   "cell_type": "code",
   "execution_count": 24,
   "metadata": {},
   "outputs": [
    {
     "name": "stdout",
     "output_type": "stream",
     "text": [
      "Failed to import pydot. You must install pydot and graphviz for `pydotprint` to work.\n"
     ]
    }
   ],
   "source": [
    "plot_model(model, show_shapes = True)"
   ]
  },
  {
   "cell_type": "markdown",
   "metadata": {},
   "source": [
    "Подавать данные на вход снова можно двумя способами."
   ]
  },
  {
   "cell_type": "code",
   "execution_count": 25,
   "metadata": {
    "scrolled": false
   },
   "outputs": [
    {
     "name": "stdout",
     "output_type": "stream",
     "text": [
      "Train on 1000 samples\n",
      "Epoch 1/10\n",
      "1000/1000 [==============================] - 3s 3ms/sample - loss: 660.0024 - age_loss: 2471.4485 - income_loss: 4.6153 - gender_loss: 2.6309\n",
      "Epoch 2/10\n",
      "1000/1000 [==============================] - 2s 2ms/sample - loss: 155.6189 - age_loss: 572.9353 - income_loss: 2.8619 - gender_loss: 0.9811\n",
      "Epoch 3/10\n",
      "1000/1000 [==============================] - 2s 2ms/sample - loss: 83.9520 - age_loss: 276.7404 - income_loss: 2.3599 - gender_loss: 1.1944\n",
      "Epoch 4/10\n",
      "1000/1000 [==============================] - 2s 2ms/sample - loss: 114.6498 - age_loss: 398.0174 - income_loss: 2.3626 - gender_loss: 1.1643\n",
      "Epoch 5/10\n",
      "1000/1000 [==============================] - 2s 2ms/sample - loss: 98.4076 - age_loss: 332.9329 - income_loss: 2.3560 - gender_loss: 1.1483\n",
      "Epoch 6/10\n",
      "1000/1000 [==============================] - 1s 1ms/sample - loss: 113.3189 - age_loss: 421.8441 - income_loss: 2.3374 - gender_loss: 0.9052\n",
      "Epoch 7/10\n",
      "1000/1000 [==============================] - 1s 1ms/sample - loss: 99.3849 - age_loss: 363.9637 - income_loss: 2.2988 - gender_loss: 1.1757\n",
      "Epoch 8/10\n",
      "1000/1000 [==============================] - 1s 1ms/sample - loss: 82.7584 - age_loss: 278.7458 - income_loss: 2.3473 - gender_loss: 0.9749\n",
      "Epoch 9/10\n",
      "1000/1000 [==============================] - 1s 1ms/sample - loss: 77.3139 - age_loss: 256.3089 - income_loss: 2.3101 - gender_loss: 0.9816\n",
      "Epoch 10/10\n",
      "1000/1000 [==============================] - 1s 1ms/sample - loss: 86.0635 - age_loss: 297.9567 - income_loss: 2.3637 - gender_loss: 0.9896\n"
     ]
    },
    {
     "data": {
      "text/plain": [
       "<tensorflow.python.keras.callbacks.History at 0x7f0ce80fa750>"
      ]
     },
     "execution_count": 25,
     "metadata": {},
     "output_type": "execute_result"
    }
   ],
   "source": [
    "model.fit(posts, [age_targets, income_targets, gender_targets], epochs=10, batch_size=64)"
   ]
  },
  {
   "cell_type": "code",
   "execution_count": 26,
   "metadata": {},
   "outputs": [
    {
     "name": "stdout",
     "output_type": "stream",
     "text": [
      "Train on 1000 samples\n",
      "Epoch 1/10\n",
      "1000/1000 [==============================] - 2s 2ms/sample - loss: 57.2643 - age_loss: 181.5103 - income_loss: 2.3440 - gender_loss: 0.9099\n",
      "Epoch 2/10\n",
      "1000/1000 [==============================] - 1s 1ms/sample - loss: 78.5701 - age_loss: 269.6850 - income_loss: 2.3117 - gender_loss: 0.8405\n",
      "Epoch 3/10\n",
      "1000/1000 [==============================] - 2s 2ms/sample - loss: 80.1113 - age_loss: 261.4580 - income_loss: 2.3645 - gender_loss: 1.1071\n",
      "Epoch 4/10\n",
      "1000/1000 [==============================] - 2s 2ms/sample - loss: 62.6108 - age_loss: 194.2973 - income_loss: 2.3400 - gender_loss: 1.1605\n",
      "Epoch 5/10\n",
      "1000/1000 [==============================] - 2s 2ms/sample - loss: 66.7655 - age_loss: 218.3465 - income_loss: 2.3678 - gender_loss: 1.0616\n",
      "Epoch 6/10\n",
      "1000/1000 [==============================] - 2s 2ms/sample - loss: 77.5890 - age_loss: 269.5192 - income_loss: 2.3662 - gender_loss: 0.9126 1s - loss: 120.4092 - age_loss: 426.7166 - income_loss: 2.3031 - gend\n",
      "Epoch 7/10\n",
      "1000/1000 [==============================] - 2s 2ms/sample - loss: 51.3145 - age_loss: 152.6366 - income_loss: 2.3750 - gender_loss: 1.0597\n",
      "Epoch 8/10\n",
      "1000/1000 [==============================] - 2s 2ms/sample - loss: 57.6151 - age_loss: 182.3138 - income_loss: 2.3611 - gender_loss: 0.8890\n",
      "Epoch 9/10\n",
      "1000/1000 [==============================] - 2s 2ms/sample - loss: 54.7919 - age_loss: 173.2451 - income_loss: 2.3251 - gender_loss: 0.9074\n",
      "Epoch 10/10\n",
      "1000/1000 [==============================] - 2s 2ms/sample - loss: 60.1486 - age_loss: 198.4214 - income_loss: 2.3807 - gender_loss: 0.7806\n"
     ]
    },
    {
     "data": {
      "text/plain": [
       "<tensorflow.python.keras.callbacks.History at 0x7f0cb30697d0>"
      ]
     },
     "execution_count": 26,
     "metadata": {},
     "output_type": "execute_result"
    }
   ],
   "source": [
    "model.fit(posts, {'age': age_targets,\n",
    "                  'income': income_targets,\n",
    "                  'gender': gender_targets},\n",
    "         epochs=10, \n",
    "         batch_size=64)"
   ]
  },
  {
   "cell_type": "markdown",
   "metadata": {
    "collapsed": true
   },
   "source": [
    "## 4 Направленные ациклические графы\n",
    "\n",
    "Можно собирать сетки со сложной внутренней топологией. Keras разрешает ориентровать слои как угодно. Главноe, чтобы не было циклов. "
   ]
  },
  {
   "cell_type": "markdown",
   "metadata": {
    "collapsed": true
   },
   "source": [
    "### 4.1 Inception модули\n",
    "\n",
    "Ну чтож ваша очередь объяснять, что тут в коде происходит :) не только же мне мучаться:)"
   ]
  },
  {
   "cell_type": "code",
   "execution_count": 27,
   "metadata": {},
   "outputs": [
    {
     "name": "stdout",
     "output_type": "stream",
     "text": [
      "x.shape: (None, 28, 28, 1)\n"
     ]
    }
   ],
   "source": [
    "# Пример реализован для MNIST \n",
    "\n",
    "x = Input(shape=(28, 28, 1), dtype='float32', name='images')\n",
    "\n",
    "print(\"x.shape:\",x.shape)\n",
    "\n",
    "\n",
    "branch_a = layers.Conv2D(128, 1, padding='same',\n",
    "                         activation='relu', strides=2)(x)\n",
    "\n",
    "\n",
    "branch_b = layers.Conv2D(128, 1, padding='same', \n",
    "                         activation='relu')(x)\n",
    "branch_b = layers.Conv2D(128, 3, padding='same',\n",
    "                         activation='relu', strides=2)(branch_b)\n",
    "\n",
    "\n",
    "branch_c = layers.AveragePooling2D(3,  padding='same', strides=2)(x)\n",
    "branch_c = layers.Conv2D(128, 3, \n",
    "                         padding='same',\n",
    "                         activation='relu')(branch_c)\n",
    "\n",
    "branch_d = layers.Conv2D(128, 1, padding='same', activation='relu')(x) \n",
    "branch_d = layers.Conv2D(128, 3, padding='same', activation='relu')(branch_d)\n",
    "branch_d = layers.Conv2D(128, 3, padding='same', activation='relu', strides=2)(branch_d)\n",
    "\n",
    "\n",
    "output = layers.concatenate([branch_a, branch_b, branch_c, branch_d], \n",
    "                            axis=-1)\n",
    "\n",
    "output = layers.Flatten()(output)\n",
    "output = layers.Dense(512, activation='relu')(output)\n",
    "predictions = layers.Dense(10, activation='softmax')(output)\n",
    "\n",
    "model_intersept = keras.models.Model(inputs=x, outputs=predictions)\n",
    "model.compile(optimizer=keras.optimizers.RMSprop(lr=2e-3, decay=1e-5),\n",
    "              loss='categorical_crossentropy',\n",
    "              metrics=['accuracy'])"
   ]
  },
  {
   "cell_type": "code",
   "execution_count": 28,
   "metadata": {},
   "outputs": [
    {
     "name": "stdout",
     "output_type": "stream",
     "text": [
      "Model: \"model_2\"\n",
      "__________________________________________________________________________________________________\n",
      "Layer (type)                    Output Shape         Param #     Connected to                     \n",
      "==================================================================================================\n",
      "posts (InputLayer)              [(None, None)]       0                                            \n",
      "__________________________________________________________________________________________________\n",
      "embedding_2 (Embedding)         (None, None, 256)    12800000    posts[0][0]                      \n",
      "__________________________________________________________________________________________________\n",
      "conv1d (Conv1D)                 (None, None, 128)    163968      embedding_2[0][0]                \n",
      "__________________________________________________________________________________________________\n",
      "max_pooling1d (MaxPooling1D)    (None, None, 128)    0           conv1d[0][0]                     \n",
      "__________________________________________________________________________________________________\n",
      "conv1d_1 (Conv1D)               (None, None, 256)    164096      max_pooling1d[0][0]              \n",
      "__________________________________________________________________________________________________\n",
      "conv1d_2 (Conv1D)               (None, None, 256)    327936      conv1d_1[0][0]                   \n",
      "__________________________________________________________________________________________________\n",
      "max_pooling1d_1 (MaxPooling1D)  (None, None, 256)    0           conv1d_2[0][0]                   \n",
      "__________________________________________________________________________________________________\n",
      "conv1d_3 (Conv1D)               (None, None, 256)    327936      max_pooling1d_1[0][0]            \n",
      "__________________________________________________________________________________________________\n",
      "conv1d_4 (Conv1D)               (None, None, 256)    327936      conv1d_3[0][0]                   \n",
      "__________________________________________________________________________________________________\n",
      "global_max_pooling1d (GlobalMax (None, 256)          0           conv1d_4[0][0]                   \n",
      "__________________________________________________________________________________________________\n",
      "dense_8 (Dense)                 (None, 128)          32896       global_max_pooling1d[0][0]       \n",
      "__________________________________________________________________________________________________\n",
      "age (Dense)                     (None, 1)            129         dense_8[0][0]                    \n",
      "__________________________________________________________________________________________________\n",
      "income (Dense)                  (None, 10)           1290        dense_8[0][0]                    \n",
      "__________________________________________________________________________________________________\n",
      "gender (Dense)                  (None, 1)            129         dense_8[0][0]                    \n",
      "==================================================================================================\n",
      "Total params: 14,146,316\n",
      "Trainable params: 14,146,316\n",
      "Non-trainable params: 0\n",
      "__________________________________________________________________________________________________\n"
     ]
    }
   ],
   "source": [
    "model.summary()"
   ]
  },
  {
   "cell_type": "code",
   "execution_count": 32,
   "metadata": {},
   "outputs": [
    {
     "name": "stdout",
     "output_type": "stream",
     "text": [
      "Failed to import pydot. You must install pydot and graphviz for `pydotprint` to work.\n"
     ]
    }
   ],
   "source": [
    "plot_model(model, show_shapes = True)"
   ]
  },
  {
   "cell_type": "markdown",
   "metadata": {},
   "source": [
    "### 4.2  ResNET\n",
    "\n",
    "Теперь очередь Resnet-модуля :) "
   ]
  },
  {
   "cell_type": "code",
   "execution_count": 40,
   "metadata": {},
   "outputs": [
    {
     "name": "stdout",
     "output_type": "stream",
     "text": [
      "x.shape: (None, 28, 28, 1)\n"
     ]
    }
   ],
   "source": [
    "from tensorflow.keras import layers \n",
    "from tensorflow.keras.layers import Input\n",
    "\n",
    "\n",
    "# Этот пример ожидаем 4д тензор\n",
    "# Возвращаем тензор, который ожидаем для MNIST\n",
    "x = Input(shape=(28, 28, 1), dtype='float32', name='images')\n",
    "print(\"x.shape:\",x.shape)\n",
    "\n",
    "# Применяем преобразования\n",
    "y = layers.Conv2D(128, 3, activation='relu', padding='same')(x)\n",
    "y = layers.Conv2D(128, 3, activation='relu', padding='same')(y)\n",
    "y = layers.Conv2D(128, 3, activation='relu', padding='same')(y)\n",
    "\n",
    "# Добавляем х вконец\n",
    "output = layers.add([y, x])\n",
    "\n",
    "# Добавляем сверху классификатор\n",
    "output = layers.Flatten()(output)\n",
    "output = layers.Dense(512, activation='relu')(output)\n",
    "predictions = layers.Dense(10, activation='softmax')(output)\n",
    "model = keras.models.Model(inputs=x, outputs=predictions)"
   ]
  },
  {
   "cell_type": "code",
   "execution_count": 41,
   "metadata": {},
   "outputs": [
    {
     "name": "stdout",
     "output_type": "stream",
     "text": [
      "Model: \"model_7\"\n",
      "__________________________________________________________________________________________________\n",
      "Layer (type)                    Output Shape         Param #     Connected to                     \n",
      "==================================================================================================\n",
      "images (InputLayer)             [(None, 28, 28, 1)]  0                                            \n",
      "__________________________________________________________________________________________________\n",
      "conv2d_7 (Conv2D)               (None, 28, 28, 128)  1280        images[0][0]                     \n",
      "__________________________________________________________________________________________________\n",
      "conv2d_8 (Conv2D)               (None, 28, 28, 128)  147584      conv2d_7[0][0]                   \n",
      "__________________________________________________________________________________________________\n",
      "conv2d_9 (Conv2D)               (None, 28, 28, 128)  147584      conv2d_8[0][0]                   \n",
      "__________________________________________________________________________________________________\n",
      "add (Add)                       (None, 28, 28, 128)  0           conv2d_9[0][0]                   \n",
      "                                                                 images[0][0]                     \n",
      "__________________________________________________________________________________________________\n",
      "flatten_1 (Flatten)             (None, 100352)       0           add[0][0]                        \n",
      "__________________________________________________________________________________________________\n",
      "dense_11 (Dense)                (None, 512)          51380736    flatten_1[0][0]                  \n",
      "__________________________________________________________________________________________________\n",
      "dense_12 (Dense)                (None, 10)           5130        dense_11[0][0]                   \n",
      "==================================================================================================\n",
      "Total params: 51,682,314\n",
      "Trainable params: 51,682,314\n",
      "Non-trainable params: 0\n",
      "__________________________________________________________________________________________________\n"
     ]
    }
   ],
   "source": [
    "model.summary()"
   ]
  },
  {
   "cell_type": "code",
   "execution_count": 42,
   "metadata": {},
   "outputs": [
    {
     "name": "stdout",
     "output_type": "stream",
     "text": [
      "Failed to import pydot. You must install pydot and graphviz for `pydotprint` to work.\n"
     ]
    }
   ],
   "source": [
    "plot_model(model, show_shapes = True)"
   ]
  },
  {
   "cell_type": "markdown",
   "metadata": {},
   "source": [
    "## 5. Модели как слои\n",
    "\n",
    "В слои можно заворачивать целые модели.\n",
    "\n",
    "    у = модель (х)\n",
    "\n",
    "Если модель имеет несколько входных тензоров и несколько выходных тензоров, ее следует вызывать со списком тензоров:\n",
    "\n",
    "    y1, y2 = модель ([x1, x2])\n",
    "\n",
    "Когда вы вызываете экземпляр модели, вы повторно используете вес модели - точно так же, как и при вызове экземпляра слоя. Вызов экземпляра, будь то экземпляр уровня или экземпляра модели, всегда будет повторно использовать существующие изученные представления экземпляра, что интуитивно понятно."
   ]
  },
  {
   "cell_type": "code",
   "execution_count": 43,
   "metadata": {},
   "outputs": [],
   "source": [
    "from tensorflow.keras import applications \n",
    "\n",
    "\n",
    "nbr_classes = 10\n",
    "\n",
    "# Возьмем готовую модель Xception\n",
    "xception_base = applications.Xception(weights=None,include_top=False)\n",
    "\n",
    "# входная картинка  250 × 250 RGB.\n",
    "left_input = Input(shape=(250, 250, 3))\n",
    "right_input = Input(shape=(250, 250, 3))\n",
    "\n",
    "left_features = xception_base(left_input)\n",
    "right_features = xception_base(right_input)\n",
    "\n",
    "merged_features = layers.concatenate([left_features, right_features], axis=-1)\n",
    "\n",
    "predictions = layers.Dense(nbr_classes, activation='softmax')(merged_features)\n",
    "\n",
    "#  Собираем нашу модельку\n",
    "model = Model([left_input, right_input], predictions)"
   ]
  },
  {
   "cell_type": "code",
   "execution_count": 44,
   "metadata": {},
   "outputs": [
    {
     "name": "stdout",
     "output_type": "stream",
     "text": [
      "Model: \"model_8\"\n",
      "__________________________________________________________________________________________________\n",
      "Layer (type)                    Output Shape         Param #     Connected to                     \n",
      "==================================================================================================\n",
      "input_4 (InputLayer)            [(None, 250, 250, 3) 0                                            \n",
      "__________________________________________________________________________________________________\n",
      "input_5 (InputLayer)            [(None, 250, 250, 3) 0                                            \n",
      "__________________________________________________________________________________________________\n",
      "xception (Model)                multiple             20861480    input_4[0][0]                    \n",
      "                                                                 input_5[0][0]                    \n",
      "__________________________________________________________________________________________________\n",
      "concatenate_2 (Concatenate)     (None, 8, 8, 4096)   0           xception[1][0]                   \n",
      "                                                                 xception[2][0]                   \n",
      "__________________________________________________________________________________________________\n",
      "dense_13 (Dense)                (None, 8, 8, 10)     40970       concatenate_2[0][0]              \n",
      "==================================================================================================\n",
      "Total params: 20,902,450\n",
      "Trainable params: 20,847,922\n",
      "Non-trainable params: 54,528\n",
      "__________________________________________________________________________________________________\n"
     ]
    }
   ],
   "source": [
    "model.summary()"
   ]
  },
  {
   "cell_type": "code",
   "execution_count": 45,
   "metadata": {},
   "outputs": [
    {
     "name": "stdout",
     "output_type": "stream",
     "text": [
      "Failed to import pydot. You must install pydot and graphviz for `pydotprint` to work.\n"
     ]
    }
   ],
   "source": [
    "plot_model(model, show_shapes = True)"
   ]
  },
  {
   "cell_type": "code",
   "execution_count": null,
   "metadata": {},
   "outputs": [],
   "source": []
  },
  {
   "cell_type": "raw",
   "metadata": {},
   "source": [
    "Итого - давайте теперь соберем модель с двумя входами, где оба входа - обработчики картинок.\n",
    "Выхода у нас тоже 2 - предположим мы решаем задачу следующего ввида - ищем как контент картинки, так и время года!_1"
   ]
  },
  {
   "cell_type": "code",
   "execution_count": 13,
   "metadata": {},
   "outputs": [],
   "source": [
    "input_A = layers.Input(shape=(28, 28, 1))\n",
    "input_B = layers.Input(shape=(36, 36, 1))\n",
    "\n",
    "branch_A = layers.Conv2D(16,(3,3), activation='relu')(input_A)\n",
    "branch_A = layers.MaxPool2D()(branch_A)\n",
    "branch_A = layers.Flatten()(branch_A)\n",
    "\n",
    "branch_B = layers.Conv2D(32,(3,3), activation='relu')(input_B)\n",
    "branch_B = layers.MaxPool2D()(branch_B)\n",
    "branch_B = layers.Conv2D(16,(3,3), activation='relu')(branch_B)\n",
    "branch_B = layers.MaxPool2D()(branch_B)\n",
    "branch_B = layers.Flatten()(branch_B)\n",
    "\n",
    "center = layers.concatenate([branch_A, branch_B], axis = 1)\n",
    "\n",
    "\n",
    "exit_1 = layers.Dense(20, activation='sigmoid')(center)\n",
    "exit_1 = layers.Dense(10, activation='softmax')(exit_1)\n",
    "exit_2 = layers.Dense(20, activation='sigmoid')(center)\n",
    "exit_2 = layers.Dense(10, activation='sigmoid')(exit_2)\n",
    "\n",
    "\n",
    "model_my = Model([input_A, input_B], [exit_1, exit_2])"
   ]
  },
  {
   "cell_type": "code",
   "execution_count": 14,
   "metadata": {},
   "outputs": [
    {
     "data": {
      "image/png": "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\n",
      "text/plain": [
       "<IPython.core.display.Image object>"
      ]
     },
     "execution_count": 14,
     "metadata": {},
     "output_type": "execute_result"
    }
   ],
   "source": [
    "plot_model(model_my,show_shapes=True)"
   ]
  },
  {
   "cell_type": "code",
   "execution_count": null,
   "metadata": {},
   "outputs": [],
   "source": []
  },
  {
   "cell_type": "code",
   "execution_count": null,
   "metadata": {},
   "outputs": [],
   "source": []
  },
  {
   "cell_type": "code",
   "execution_count": null,
   "metadata": {},
   "outputs": [],
   "source": []
  },
  {
   "cell_type": "code",
   "execution_count": null,
   "metadata": {},
   "outputs": [],
   "source": []
  },
  {
   "cell_type": "code",
   "execution_count": null,
   "metadata": {},
   "outputs": [],
   "source": []
  },
  {
   "cell_type": "code",
   "execution_count": null,
   "metadata": {},
   "outputs": [],
   "source": []
  },
  {
   "cell_type": "markdown",
   "metadata": {},
   "source": [
    "#### Ну и на последок \n",
    " мы же все помним, мы можем писать кастомные callback. Теперь поэтапно смотрим на эту прелесть.\n",
    " \n",
    " Возьмем уже известную вам модельку с прошлой пары и будем модифицировать наши результаты."
   ]
  },
  {
   "cell_type": "code",
<<<<<<< HEAD
   "execution_count": 15,
=======
   "execution_count": null,
>>>>>>> 8945adf08cf1a9fee40ec1001c0a374ce0af5e76
   "metadata": {},
   "outputs": [],
   "source": [
    "import tensorflow as tf\n",
    "from tensorflow.keras import Sequential\n",
    "keras, L = tf.keras, tf.keras.layers\n",
    "\n",
    "import numpy as np\n",
    "import random\n",
    "from tqdm import tqdm\n",
    "\n",
    "from sklearn.model_selection import train_test_split\n",
    "import matplotlib.pyplot as plt\n",
    "%matplotlib inline\n",
    "\n",
    "\n",
    "fashion_mnist = tf.keras.datasets.fashion_mnist\n",
    "\n",
    "(X_train, y_train), (X_test, y_test) = fashion_mnist.load_data()\n",
    "y_train = keras.utils.to_categorical(y_train).astype(np.float32)\n",
    "y_test = keras.utils.to_categorical(y_test).astype(np.float32)\n",
    "\n",
    "# Отнормировали данные к отрезку [0;1]\n",
    "X_train = X_train/ 255.\n",
    "X_test = X_test/ 255.\n",
    "X_train = np.reshape(X_train,[X_train.shape[0],X_train.shape[1],X_train.shape[2],1])\n",
    "X_test = np.reshape(X_test,[X_test.shape[0],X_test.shape[1],X_test.shape[2],1])\n",
    "\n",
    "class_names = ['T-shirt/top', 'Trouser', 'Pullover', 'Dress', 'Coat',\n",
    "               'Sandal', 'Shirt', 'Sneaker', 'Bag', 'Ankle boot']"
   ]
  },
  {
   "cell_type": "markdown",
   "metadata": {},
   "source": [
    "Теперь давайте соберём свёртоную сеть: \n",
    "\n",
    "* Свёртка с ядром $5 \\times 5$, same padding и $32$ каналами\n",
    "* ReLU\n",
    "* Макспулинг размера $2 \\times 2$\n",
    "* Свёртка с ядром $5 \\times 5$ и $16$ каналами  и same padding\n",
    "* ReLU\n",
    "* Макспулинг размера $2 \\times 2$ с шагом (strides) $2$ по обеим осям \n",
    "* Дальше сделайте `Flatten` и сделайте два полносвязных слоя с ReLU и $120$ и $60$ нейронами"
   ]
  },
  {
   "cell_type": "code",
<<<<<<< HEAD
   "execution_count": 16,
   "metadata": {},
   "outputs": [
    {
     "name": "stdout",
     "output_type": "stream",
     "text": [
      "Train on 48000 samples, validate on 12000 samples\n",
      "Epoch 1/3\n",
      "48000/48000 [==============================] - 3s 61us/sample - loss: 0.8544 - categorical_accuracy: 0.6883 - val_loss: 0.5459 - val_categorical_accuracy: 0.7997\n",
      "Epoch 2/3\n",
      "48000/48000 [==============================] - 3s 54us/sample - loss: 0.4960 - categorical_accuracy: 0.8213 - val_loss: 0.4691 - val_categorical_accuracy: 0.8314\n",
      "Epoch 3/3\n",
      "48000/48000 [==============================] - 3s 53us/sample - loss: 0.4267 - categorical_accuracy: 0.8494 - val_loss: 0.4251 - val_categorical_accuracy: 0.8481\n"
     ]
    }
   ],
=======
   "execution_count": null,
   "metadata": {},
   "outputs": [],
>>>>>>> 8945adf08cf1a9fee40ec1001c0a374ce0af5e76
   "source": [
    "model_1 = Sequential( )\n",
    "\n",
    "\n",
    "model_1.add(L.Conv2D(32,(5,5),padding='same',activation='relu',input_shape=(28,28,1)))\n",
    "model_1.add(L.MaxPool2D((2,2)))\n",
    "model_1.add(L.Conv2D(16,(5,5),padding='same',activation='relu'))\n",
    "model_1.add(L.MaxPool2D((2,2),strides=(2,2)))\n",
    "model_1.add(L.Flatten())\n",
    "model_1.add(L.Dense(120, activation='relu'))\n",
    "model_1.add(L.Dense(60, activation='relu'))\n",
    "\n",
    "model_1.add(L.Dense(10, activation='softmax'))\n",
    "\n",
    "model_1.compile(\"adam\", \"categorical_crossentropy\", metrics=[\"categorical_accuracy\"])\n",
    "\n",
    "hist = model_1.fit(X_train, y_train, validation_split= 0.2,\n",
    "                        batch_size=500, epochs=3, verbose=1)"
   ]
  },
  {
   "cell_type": "code",
   "execution_count": null,
   "metadata": {},
   "outputs": [],
   "source": [
    "# Наш класс должен быть отнаследован от керасовского класса\n",
    "\n",
    "class MyCustomCallback(tf.keras.callbacks.Callback):\n",
    "    pass\n",
    "\n",
    "# Но мы можем переписать методы, которые мы отнаследовали\n",
    "# но для начала посмотреть на них"
   ]
  },
  {
   "cell_type": "code",
   "execution_count": null,
   "metadata": {},
   "outputs": [],
   "source": [
    "dir(tf.keras.callbacks.Callback)"
   ]
  },
  {
   "cell_type": "code",
   "execution_count": null,
   "metadata": {},
   "outputs": [],
   "source": []
  },
  {
   "cell_type": "code",
   "execution_count": null,
   "metadata": {},
   "outputs": [],
   "source": [
    "# Теперь нам надо переписать методы которые нам потребуются\n",
    "# А задача в следующем - посмотреть какой класс проседает по точности на валидационных данных\n",
    "from sklearn.metrics import precision_score\n",
    "\n",
    "class MyCustomCallback(tf.keras.callbacks.Callback):\n",
    "    def __init__(self,X_val,y_val):\n",
    "        self.X_val = X_val\n",
    "        self.y_val = y_val\n",
    "    def on_epoch_end(self,epoch,logs={}):\n",
    "        prediction = self.model.predict(self.X_val)\n",
    "        classes_precision = {}\n",
    "        for i in range(0,10):\n",
    "            pred_class = np.argmax(prediction,axis=1)==i\n",
    "            real_class = np.argmax(self.y_val,axis=1)==i\n",
    "            classes_precision[i] = precision_score(real_class,pred_class) \n",
    "        print(classes_precision)"
   ]
  },
  {
   "cell_type": "code",
   "execution_count": null,
   "metadata": {},
   "outputs": [],
   "source": [
    "precision_my = MyCustomCallback(X_test,y_test)"
   ]
  },
  {
   "cell_type": "code",
   "execution_count": null,
   "metadata": {},
   "outputs": [],
   "source": [
    "hist = model_1.fit(X_train, y_train, validation_split= 0.2,epochs=1,\n",
    "                       callbacks=[precision_my])"
   ]
  },
  {
   "cell_type": "markdown",
   "metadata": {},
   "source": [
    " "
   ]
  }
 ],
 "metadata": {
  "kernelspec": {
   "display_name": "Python 3",
   "language": "python",
   "name": "python3"
  },
  "language_info": {
   "codemirror_mode": {
    "name": "ipython",
    "version": 3
   },
   "file_extension": ".py",
   "mimetype": "text/x-python",
   "name": "python",
   "nbconvert_exporter": "python",
   "pygments_lexer": "ipython3",
   "version": "3.7.3"
  }
 },
 "nbformat": 4,
 "nbformat_minor": 2
}
