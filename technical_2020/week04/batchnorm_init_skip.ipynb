{
 "cells": [
  {
   "cell_type": "markdown",
   "metadata": {},
   "source": [
    "# Пробуем разные приколы! \n",
    "\n",
    "На самой первой паре мы много говорили про Keras, высокоуровневое API для Tensorflow. Он позволяет быстро и без боли учить нейронки, в которых не встречается особо много извращений. В этой тетрадке мы окунёмся в него чуть глубже. Работать по-прежнему будем с одеждой. "
   ]
  },
  {
   "cell_type": "code",
   "execution_count": 1,
   "metadata": {},
   "outputs": [
    {
     "data": {
      "text/plain": [
       "'2.1.0'"
      ]
     },
     "execution_count": 1,
     "metadata": {},
     "output_type": "execute_result"
    }
   ],
   "source": [
    "import numpy as np\n",
    "import tensorflow as tf\n",
    "tf.__version__ "
   ]
  },
  {
   "cell_type": "code",
   "execution_count": 2,
   "metadata": {},
   "outputs": [],
   "source": [
    "from tensorflow.keras import Sequential\n",
    "keras, L = tf.keras, tf.keras.layers\n",
    "\n",
    "from sklearn.model_selection import train_test_split\n",
    "import matplotlib.pyplot as plt\n",
    "%matplotlib inline"
   ]
  },
  {
   "cell_type": "code",
   "execution_count": 3,
   "metadata": {},
   "outputs": [
    {
     "name": "stdout",
     "output_type": "stream",
     "text": [
      "Downloading data from https://storage.googleapis.com/tensorflow/tf-keras-datasets/train-labels-idx1-ubyte.gz\n",
      "32768/29515 [=================================] - 0s 0us/step\n",
      "Downloading data from https://storage.googleapis.com/tensorflow/tf-keras-datasets/train-images-idx3-ubyte.gz\n",
      "26427392/26421880 [==============================] - 9s 0us/step\n",
      "Downloading data from https://storage.googleapis.com/tensorflow/tf-keras-datasets/t10k-labels-idx1-ubyte.gz\n",
      "8192/5148 [===============================================] - 0s 3us/step\n",
      "Downloading data from https://storage.googleapis.com/tensorflow/tf-keras-datasets/t10k-images-idx3-ubyte.gz\n",
      "4423680/4422102 [==============================] - 2s 0us/step\n"
     ]
    }
   ],
   "source": [
    "fashion_mnist = tf.keras.datasets.fashion_mnist\n",
    "\n",
    "(X_train, y_train), (X_test, y_test) = fashion_mnist.load_data()\n",
    "\n",
    "X_train, X_val, y_train, y_val = train_test_split(X_train, y_train, test_size=10**4, random_state=42)\n",
    "\n",
    "X_train = X_train/ 255.\n",
    "X_val = X_val/ 255.\n",
    "X_test = X_test/ 255.\n",
    "\n",
    "class_names = ['T-shirt/top', 'Trouser', 'Pullover', 'Dress', 'Coat',\n",
    "               'Sandal', 'Shirt', 'Sneaker', 'Bag', 'Ankle boot']"
   ]
  },
  {
   "cell_type": "code",
   "execution_count": 4,
   "metadata": {},
   "outputs": [
    {
     "data": {
      "text/plain": [
       "((50000, 28, 28), (10000, 28, 28), (10000, 28, 28))"
      ]
     },
     "execution_count": 4,
     "metadata": {},
     "output_type": "execute_result"
    }
   ],
   "source": [
    "X_train.shape, X_val.shape, X_test.shape"
   ]
  },
  {
   "cell_type": "markdown",
   "metadata": {},
   "source": [
    "# 1. Инициализация и батчнорм\n",
    "\n",
    "Разговор на прошлой паре мы закончили батч-нормализацией и рассказом про то, как правильно в нейросетках делается инициализация весов. Давайте закрепим эти знания на практике, и переработаем их в навыки. "
   ]
  },
  {
   "cell_type": "code",
   "execution_count": 5,
   "metadata": {},
   "outputs": [],
   "source": [
    "# Помните зачем эта функция? :3 \n",
    "# Мы довольно активно использовали её, когда говорили про градиентные спуски\n",
    "\n",
    "def plot_history(histories, key='loss', start=0):\n",
    "    plt.figure(figsize=(16,10))\n",
    "\n",
    "    for name, history in histories:\n",
    "        val = plt.plot(history.epoch[start:], history.history['val_'+key][start:],\n",
    "                       #'--', \n",
    "                       label=name.title()+' Val')\n",
    "            #plt.plot(history.epoch[start:], history.history[key][start:], color=val[0].get_color(),\n",
    "            #     label=name.title()+' Train')\n",
    "\n",
    "    plt.xlabel('Epochs')\n",
    "    plt.ylabel(key.replace('_',' ').title())\n",
    "    plt.legend()\n",
    "\n",
    "    plt.xlim([start, max(history.epoch)])\n",
    "    pass"
   ]
  },
  {
   "cell_type": "markdown",
   "metadata": {},
   "source": [
    "### Задание 1:\n",
    "\n",
    "Для начала реализуйте простую нейросеть:\n",
    "* принимает на вход картинки размера 28 x 28\n",
    "* вытягивает их в вектор (`keras.layers.Flatten`)\n",
    "* пропускает через $6$ полносвязных слоёв с сотней нейронов и вашей любимой функцией активации\n",
    "* на выходе предсказывает веротятности принадлежности к каждому из 10 классов\n",
    "* при обучении сетки поставьте размер батча $500$, учите сетку $20$ эпох\n",
    "\n",
    "__Важно:__ поскольку в y_train лежат номера классов, керасу нужно либо указать sparse функции потерь и метрики (`sparse_categorical_crossentropy` и `sparse_categorical_accuracy`), либо конвертировать y в one-hot формат.\n",
    "\n",
    "__Ещё важнее:__ при большом батче модель будет быстрее проходить эпохи. Когда он очень большой, необходимо довольно много эпох для сходимости. Градиент обновляется редко. Когда размер батча совсем маленький, сетка может обучаться довольно шумно. "
   ]
  },
  {
   "cell_type": "code",
   "execution_count": 8,
   "metadata": {},
   "outputs": [
    {
     "name": "stdout",
     "output_type": "stream",
     "text": [
      "Train on 50000 samples, validate on 10000 samples\n",
      "Epoch 1/20\n",
      "50000/50000 [==============================] - 3s 59us/sample - loss: 2.2780 - sparse_categorical_accuracy: 0.2428 - val_loss: 2.0905 - val_sparse_categorical_accuracy: 0.2771\n",
      "Epoch 2/20\n",
      "50000/50000 [==============================] - 1s 11us/sample - loss: 1.4680 - sparse_categorical_accuracy: 0.3758 - val_loss: 1.1751 - val_sparse_categorical_accuracy: 0.4655\n",
      "Epoch 3/20\n",
      "50000/50000 [==============================] - 1s 11us/sample - loss: 1.1018 - sparse_categorical_accuracy: 0.4985 - val_loss: 1.0667 - val_sparse_categorical_accuracy: 0.5584\n",
      "Epoch 4/20\n",
      "50000/50000 [==============================] - 1s 11us/sample - loss: 1.0105 - sparse_categorical_accuracy: 0.5721 - val_loss: 1.0079 - val_sparse_categorical_accuracy: 0.5616\n",
      "Epoch 5/20\n",
      "50000/50000 [==============================] - 1s 11us/sample - loss: 0.9574 - sparse_categorical_accuracy: 0.5951 - val_loss: 0.9673 - val_sparse_categorical_accuracy: 0.5886\n",
      "Epoch 6/20\n",
      "50000/50000 [==============================] - 1s 11us/sample - loss: 0.9310 - sparse_categorical_accuracy: 0.6107 - val_loss: 0.9436 - val_sparse_categorical_accuracy: 0.6107\n",
      "Epoch 7/20\n",
      "50000/50000 [==============================] - 1s 11us/sample - loss: 0.9091 - sparse_categorical_accuracy: 0.6266 - val_loss: 0.9186 - val_sparse_categorical_accuracy: 0.6226\n",
      "Epoch 8/20\n",
      "50000/50000 [==============================] - 1s 11us/sample - loss: 0.8872 - sparse_categorical_accuracy: 0.6391 - val_loss: 0.9057 - val_sparse_categorical_accuracy: 0.6310\n",
      "Epoch 9/20\n",
      "50000/50000 [==============================] - 1s 11us/sample - loss: 0.8683 - sparse_categorical_accuracy: 0.6534 - val_loss: 0.8863 - val_sparse_categorical_accuracy: 0.6426\n",
      "Epoch 10/20\n",
      "50000/50000 [==============================] - 1s 11us/sample - loss: 0.8551 - sparse_categorical_accuracy: 0.6598 - val_loss: 0.8700 - val_sparse_categorical_accuracy: 0.6497\n",
      "Epoch 11/20\n",
      "50000/50000 [==============================] - 1s 11us/sample - loss: 0.8392 - sparse_categorical_accuracy: 0.6690 - val_loss: 0.8613 - val_sparse_categorical_accuracy: 0.6528\n",
      "Epoch 12/20\n",
      "50000/50000 [==============================] - 1s 11us/sample - loss: 0.8246 - sparse_categorical_accuracy: 0.6779 - val_loss: 0.8425 - val_sparse_categorical_accuracy: 0.6685\n",
      "Epoch 13/20\n",
      "50000/50000 [==============================] - 1s 11us/sample - loss: 0.8122 - sparse_categorical_accuracy: 0.6827 - val_loss: 0.8338 - val_sparse_categorical_accuracy: 0.6676\n",
      "Epoch 14/20\n",
      "50000/50000 [==============================] - 1s 11us/sample - loss: 0.8027 - sparse_categorical_accuracy: 0.6866 - val_loss: 0.8404 - val_sparse_categorical_accuracy: 0.6650\n",
      "Epoch 15/20\n",
      "50000/50000 [==============================] - 1s 11us/sample - loss: 0.7921 - sparse_categorical_accuracy: 0.6927 - val_loss: 0.8246 - val_sparse_categorical_accuracy: 0.6801\n",
      "Epoch 16/20\n",
      "50000/50000 [==============================] - 1s 12us/sample - loss: 0.7816 - sparse_categorical_accuracy: 0.6993 - val_loss: 0.8036 - val_sparse_categorical_accuracy: 0.6824\n",
      "Epoch 17/20\n",
      "50000/50000 [==============================] - 1s 11us/sample - loss: 0.7706 - sparse_categorical_accuracy: 0.7038 - val_loss: 0.7958 - val_sparse_categorical_accuracy: 0.6880\n",
      "Epoch 18/20\n",
      "50000/50000 [==============================] - 1s 11us/sample - loss: 0.7642 - sparse_categorical_accuracy: 0.7081 - val_loss: 0.7875 - val_sparse_categorical_accuracy: 0.6990\n",
      "Epoch 19/20\n",
      "50000/50000 [==============================] - 1s 11us/sample - loss: 0.7551 - sparse_categorical_accuracy: 0.7132 - val_loss: 0.7792 - val_sparse_categorical_accuracy: 0.6957\n",
      "Epoch 20/20\n",
      "50000/50000 [==============================] - 1s 11us/sample - loss: 0.7487 - sparse_categorical_accuracy: 0.7154 - val_loss: 0.7737 - val_sparse_categorical_accuracy: 0.7011\n"
     ]
    }
   ],
   "source": [
    "### ╰( ͡° ͜ʖ ͡° )つ──☆*:・ﾟ  создайте сеть по инструкции выше\n",
    "tf.random.set_seed(42)\n",
    "\n",
    "init = 'uniform'\n",
    "\n",
    "model = Sequential()\n",
    "model.add(L.InputLayer(input_shape=(28, 28)))\n",
    "model.add(L.Flatten())\n",
    "\n",
    "model.add(L.Dense(100, kernel_initializer=init))\n",
    "model.add(L.ReLU())  \n",
    "\n",
    "model.add(L.Dense(100, kernel_initializer=init))\n",
    "model.add(L.ReLU())  \n",
    "\n",
    "model.add(L.Dense(100, kernel_initializer=init))\n",
    "model.add(L.ReLU())  \n",
    "\n",
    "model.add(L.Dense(100, kernel_initializer=init))\n",
    "model.add(L.ReLU())  \n",
    "\n",
    "model.add(L.Dense(100, kernel_initializer=init))\n",
    "model.add(L.ReLU()) \n",
    "\n",
    "model.add(L.Dense(100, kernel_initializer=init))\n",
    "model.add(L.ReLU()) \n",
    "\n",
    "model.add(L.Dense(10, kernel_initializer=init))\n",
    "model.add(L.Softmax())\n",
    "\n",
    "opt = keras.optimizers.Adam(learning_rate=1e-4)\n",
    "\n",
    "model.compile(optimizer=opt, loss=\"sparse_categorical_crossentropy\", \n",
    "              metrics=[\"sparse_categorical_accuracy\"])\n",
    "\n",
    "history1 = model.fit(X_train, y_train, validation_data=(X_val, y_val), \n",
    "                     epochs=20, batch_size=500, verbose=1)"
   ]
  },
  {
   "cell_type": "code",
   "execution_count": 10,
   "metadata": {},
   "outputs": [],
   "source": [
    "# # model.variables\n",
    "# history1 = model.fit(X_train, y_train, #validation_split= 0.2,\n",
    "#             validation_data=(X_val, y_val),\n",
    "#             batch_size=500, epochs=20, verbose=1)"
   ]
  },
  {
   "cell_type": "markdown",
   "metadata": {},
   "source": [
    "### Задание 2:\n",
    "\n",
    "Возьмите ту же нейросетку и в качестве инициализации используйте либо инициализацию Хе либо Глорота (в зависимости от выбранных вами функций активации). "
   ]
  },
  {
   "cell_type": "code",
   "execution_count": 15,
   "metadata": {},
   "outputs": [
    {
     "name": "stdout",
     "output_type": "stream",
     "text": [
      "Train on 50000 samples, validate on 10000 samples\n",
      "Epoch 1/20\n",
      "50000/50000 [==============================] - 1s 20us/sample - loss: 1.4353 - sparse_categorical_accuracy: 0.5426 - val_loss: 0.7594 - val_sparse_categorical_accuracy: 0.7411\n",
      "Epoch 2/20\n",
      "50000/50000 [==============================] - 1s 11us/sample - loss: 0.6194 - sparse_categorical_accuracy: 0.7875 - val_loss: 0.5578 - val_sparse_categorical_accuracy: 0.8066\n",
      "Epoch 3/20\n",
      "50000/50000 [==============================] - 1s 11us/sample - loss: 0.5106 - sparse_categorical_accuracy: 0.8230 - val_loss: 0.4935 - val_sparse_categorical_accuracy: 0.8283\n",
      "Epoch 4/20\n",
      "50000/50000 [==============================] - 1s 10us/sample - loss: 0.4651 - sparse_categorical_accuracy: 0.8394 - val_loss: 0.4655 - val_sparse_categorical_accuracy: 0.8393\n",
      "Epoch 5/20\n",
      "50000/50000 [==============================] - 1s 11us/sample - loss: 0.4378 - sparse_categorical_accuracy: 0.8483 - val_loss: 0.4439 - val_sparse_categorical_accuracy: 0.8434\n",
      "Epoch 6/20\n",
      "50000/50000 [==============================] - 1s 11us/sample - loss: 0.4171 - sparse_categorical_accuracy: 0.8539 - val_loss: 0.4309 - val_sparse_categorical_accuracy: 0.8483\n",
      "Epoch 7/20\n",
      "50000/50000 [==============================] - 1s 11us/sample - loss: 0.4019 - sparse_categorical_accuracy: 0.8586 - val_loss: 0.4101 - val_sparse_categorical_accuracy: 0.8555\n",
      "Epoch 8/20\n",
      "50000/50000 [==============================] - 1s 11us/sample - loss: 0.3883 - sparse_categorical_accuracy: 0.8624 - val_loss: 0.4030 - val_sparse_categorical_accuracy: 0.8569\n",
      "Epoch 9/20\n",
      "50000/50000 [==============================] - 1s 11us/sample - loss: 0.3787 - sparse_categorical_accuracy: 0.8667 - val_loss: 0.4048 - val_sparse_categorical_accuracy: 0.8547\n",
      "Epoch 10/20\n",
      "50000/50000 [==============================] - 1s 11us/sample - loss: 0.3689 - sparse_categorical_accuracy: 0.8693 - val_loss: 0.3946 - val_sparse_categorical_accuracy: 0.8590\n",
      "Epoch 11/20\n",
      "50000/50000 [==============================] - 1s 11us/sample - loss: 0.3612 - sparse_categorical_accuracy: 0.8718 - val_loss: 0.3824 - val_sparse_categorical_accuracy: 0.8636\n",
      "Epoch 12/20\n",
      "50000/50000 [==============================] - 1s 11us/sample - loss: 0.3545 - sparse_categorical_accuracy: 0.8751 - val_loss: 0.3855 - val_sparse_categorical_accuracy: 0.8604\n",
      "Epoch 13/20\n",
      "50000/50000 [==============================] - 1s 11us/sample - loss: 0.3465 - sparse_categorical_accuracy: 0.8767 - val_loss: 0.3792 - val_sparse_categorical_accuracy: 0.8646\n",
      "Epoch 14/20\n",
      "50000/50000 [==============================] - 1s 11us/sample - loss: 0.3419 - sparse_categorical_accuracy: 0.8777 - val_loss: 0.3733 - val_sparse_categorical_accuracy: 0.8667\n",
      "Epoch 15/20\n",
      "50000/50000 [==============================] - 1s 11us/sample - loss: 0.3335 - sparse_categorical_accuracy: 0.8818 - val_loss: 0.3745 - val_sparse_categorical_accuracy: 0.8668\n",
      "Epoch 16/20\n",
      "50000/50000 [==============================] - 1s 11us/sample - loss: 0.3282 - sparse_categorical_accuracy: 0.8831 - val_loss: 0.3585 - val_sparse_categorical_accuracy: 0.8688\n",
      "Epoch 17/20\n",
      "50000/50000 [==============================] - 1s 11us/sample - loss: 0.3227 - sparse_categorical_accuracy: 0.8856 - val_loss: 0.3579 - val_sparse_categorical_accuracy: 0.8716\n",
      "Epoch 18/20\n",
      "50000/50000 [==============================] - 1s 11us/sample - loss: 0.3170 - sparse_categorical_accuracy: 0.8871 - val_loss: 0.3635 - val_sparse_categorical_accuracy: 0.8713\n",
      "Epoch 19/20\n",
      "50000/50000 [==============================] - 1s 11us/sample - loss: 0.3144 - sparse_categorical_accuracy: 0.8868 - val_loss: 0.3553 - val_sparse_categorical_accuracy: 0.8716\n",
      "Epoch 20/20\n",
      "50000/50000 [==============================] - 1s 11us/sample - loss: 0.3077 - sparse_categorical_accuracy: 0.8893 - val_loss: 0.3568 - val_sparse_categorical_accuracy: 0.8707\n"
     ]
    }
   ],
   "source": [
    "### ╰( ͡° ͜ʖ ͡° )つ──☆*:・ﾟ  создайте сеть по инструкции выше\n",
    "tf.random.set_seed(42)\n",
    "model_init = Sequential() \n",
    "### ╰( ͡° ͜ʖ ͡° )つ──☆*:・ﾟ  создайте сеть по инструкции выше\n",
    "tf.random.set_seed(42)\n",
    "\n",
    "init = 'uniform'\n",
    "\n",
    "model = Sequential()\n",
    "model.add(L.InputLayer(input_shape=(28, 28)))\n",
    "model.add(L.Flatten())\n",
    "model.add(L.Dense(100, activation='relu', kernel_initializer='he_uniform'))\n",
    "model.add(L.Dense(100, activation='relu', kernel_initializer='he_uniform'))\n",
    "model.add(L.Dense(100, activation='relu', kernel_initializer='he_uniform'))\n",
    "model.add(L.Dense(100, activation='relu', kernel_initializer='he_uniform'))\n",
    "model.add(L.Dense(100, activation='relu', kernel_initializer='he_uniform'))\n",
    "model.add(L.Dense(100, activation='relu', kernel_initializer='he_uniform'))\n",
    "model.add(L.Dense(10, activation='softmax', kernel_initializer='he_uniform'))\n",
    "\n",
    "opt = keras.optimizers.Adam(learning_rate=1e-4)\n",
    "model.compile(optimizer=opt, loss=\"sparse_categorical_crossentropy\", \n",
    "              metrics=[\"sparse_categorical_accuracy\"])\n",
    "\n",
    "\n",
    "# model.variables\n",
    "history2 = model.fit(X_train, y_train, #validation_split= 0.2,\n",
    "            validation_data=(X_val, y_val),\n",
    "            batch_size=500, epochs=20, verbose=1)"
   ]
  },
  {
   "cell_type": "markdown",
   "metadata": {},
   "source": [
    "### Задание 3:\n",
    "\n",
    "Берём ту же самую сетку и добавляем в неё батч-нормализацию после каждго слоя. Инициализацию замените назад на равномерную. "
   ]
  },
  {
   "cell_type": "code",
   "execution_count": 16,
   "metadata": {},
   "outputs": [
    {
     "name": "stdout",
     "output_type": "stream",
     "text": [
      "Train on 50000 samples, validate on 10000 samples\n",
      "Epoch 1/20\n",
      "50000/50000 [==============================] - 2s 42us/sample - loss: 1.5458 - sparse_categorical_accuracy: 0.5023 - val_loss: 1.5703 - val_sparse_categorical_accuracy: 0.5857\n",
      "Epoch 2/20\n",
      "50000/50000 [==============================] - 1s 15us/sample - loss: 0.8069 - sparse_categorical_accuracy: 0.7368 - val_loss: 0.9043 - val_sparse_categorical_accuracy: 0.7028\n",
      "Epoch 3/20\n",
      "50000/50000 [==============================] - 1s 15us/sample - loss: 0.6380 - sparse_categorical_accuracy: 0.7852 - val_loss: 0.6763 - val_sparse_categorical_accuracy: 0.7635\n",
      "Epoch 4/20\n",
      "50000/50000 [==============================] - 1s 15us/sample - loss: 0.5570 - sparse_categorical_accuracy: 0.8097 - val_loss: 0.5770 - val_sparse_categorical_accuracy: 0.7952\n",
      "Epoch 5/20\n",
      "50000/50000 [==============================] - 1s 15us/sample - loss: 0.5025 - sparse_categorical_accuracy: 0.8258 - val_loss: 0.5206 - val_sparse_categorical_accuracy: 0.8134\n",
      "Epoch 6/20\n",
      "50000/50000 [==============================] - 1s 15us/sample - loss: 0.4667 - sparse_categorical_accuracy: 0.8371 - val_loss: 0.4905 - val_sparse_categorical_accuracy: 0.8243\n",
      "Epoch 7/20\n",
      "50000/50000 [==============================] - 1s 15us/sample - loss: 0.4372 - sparse_categorical_accuracy: 0.8467 - val_loss: 0.4686 - val_sparse_categorical_accuracy: 0.8329\n",
      "Epoch 8/20\n",
      "50000/50000 [==============================] - 1s 15us/sample - loss: 0.4139 - sparse_categorical_accuracy: 0.8530 - val_loss: 0.4520 - val_sparse_categorical_accuracy: 0.8409\n",
      "Epoch 9/20\n",
      "50000/50000 [==============================] - 1s 15us/sample - loss: 0.3949 - sparse_categorical_accuracy: 0.8609 - val_loss: 0.4407 - val_sparse_categorical_accuracy: 0.8444\n",
      "Epoch 10/20\n",
      "50000/50000 [==============================] - 1s 15us/sample - loss: 0.3772 - sparse_categorical_accuracy: 0.8658 - val_loss: 0.4307 - val_sparse_categorical_accuracy: 0.8459\n",
      "Epoch 11/20\n",
      "50000/50000 [==============================] - 1s 15us/sample - loss: 0.3637 - sparse_categorical_accuracy: 0.8715 - val_loss: 0.4195 - val_sparse_categorical_accuracy: 0.8536\n",
      "Epoch 12/20\n",
      "50000/50000 [==============================] - 1s 15us/sample - loss: 0.3505 - sparse_categorical_accuracy: 0.8750 - val_loss: 0.4135 - val_sparse_categorical_accuracy: 0.8534\n",
      "Epoch 13/20\n",
      "50000/50000 [==============================] - 1s 15us/sample - loss: 0.3386 - sparse_categorical_accuracy: 0.8798 - val_loss: 0.4081 - val_sparse_categorical_accuracy: 0.8553\n",
      "Epoch 14/20\n",
      "50000/50000 [==============================] - 1s 15us/sample - loss: 0.3274 - sparse_categorical_accuracy: 0.8828 - val_loss: 0.4017 - val_sparse_categorical_accuracy: 0.8575\n",
      "Epoch 15/20\n",
      "50000/50000 [==============================] - 1s 15us/sample - loss: 0.3176 - sparse_categorical_accuracy: 0.8873 - val_loss: 0.4006 - val_sparse_categorical_accuracy: 0.8585\n",
      "Epoch 16/20\n",
      "50000/50000 [==============================] - 1s 15us/sample - loss: 0.3094 - sparse_categorical_accuracy: 0.8893 - val_loss: 0.3965 - val_sparse_categorical_accuracy: 0.8558\n",
      "Epoch 17/20\n",
      "50000/50000 [==============================] - 1s 15us/sample - loss: 0.2998 - sparse_categorical_accuracy: 0.8932 - val_loss: 0.3937 - val_sparse_categorical_accuracy: 0.8612\n",
      "Epoch 18/20\n",
      "50000/50000 [==============================] - 1s 15us/sample - loss: 0.2918 - sparse_categorical_accuracy: 0.8951 - val_loss: 0.3882 - val_sparse_categorical_accuracy: 0.8625\n",
      "Epoch 19/20\n",
      "50000/50000 [==============================] - 1s 15us/sample - loss: 0.2826 - sparse_categorical_accuracy: 0.8993 - val_loss: 0.3908 - val_sparse_categorical_accuracy: 0.8617\n",
      "Epoch 20/20\n",
      "50000/50000 [==============================] - 1s 15us/sample - loss: 0.2772 - sparse_categorical_accuracy: 0.9007 - val_loss: 0.3860 - val_sparse_categorical_accuracy: 0.8646\n"
     ]
    }
   ],
   "source": [
    "### ╰( ͡° ͜ʖ ͡° )つ──☆*:・ﾟ  создайте сеть по инструкции выше\n",
    "tf.random.set_seed(42)\n",
    "# model_batch = Sequential() \n",
    "\n",
    "model = Sequential()\n",
    "model.add(L.InputLayer(input_shape=(28, 28)))\n",
    "model.add(L.Flatten())\n",
    "model.add(L.Dense(100, activation='relu', kernel_initializer='he_uniform'))\n",
    "model.add(L.BatchNormalization())\n",
    "model.add(L.Dense(100, activation='relu', kernel_initializer='he_uniform'))\n",
    "model.add(L.BatchNormalization())\n",
    "model.add(L.Dense(100, activation='relu', kernel_initializer='he_uniform'))\n",
    "model.add(L.BatchNormalization())\n",
    "model.add(L.Dense(100, activation='relu', kernel_initializer='he_uniform'))\n",
    "model.add(L.BatchNormalization())\n",
    "model.add(L.Dense(100, activation='relu', kernel_initializer='he_uniform'))\n",
    "model.add(L.BatchNormalization())\n",
    "model.add(L.Dense(100, activation='relu', kernel_initializer='he_uniform'))\n",
    "model.add(L.BatchNormalization())\n",
    "model.add(L.Dense(10, activation='softmax', kernel_initializer='he_uniform'))\n",
    "\n",
    "opt = keras.optimizers.Adam(learning_rate=1e-4)\n",
    "model.compile(optimizer=opt, loss=\"sparse_categorical_crossentropy\", \n",
    "              metrics=[\"sparse_categorical_accuracy\"])\n",
    "\n",
    "\n",
    "\n",
    "# model.variables\n",
    "history3 = model.fit(X_train, y_train, #validation_split= 0.2,\n",
    "            validation_data=(X_val, y_val),\n",
    "            batch_size=500, epochs=20, verbose=1)"
   ]
  },
  {
   "cell_type": "markdown",
   "metadata": {},
   "source": [
    "### Задание 4:\n",
    "\n",
    "А теперь сразу и инициализация и батч-нормализация."
   ]
  },
  {
   "cell_type": "code",
   "execution_count": null,
   "metadata": {},
   "outputs": [],
   "source": [
    "### ╰( ͡° ͜ʖ ͡° )つ──☆*:・ﾟ  создайте сеть по инструкции выше\n",
    "tf.random.set_seed(42)\n",
    "model_all = Sequential() \n",
    "\n",
    "# model.variables\n",
    "history4 = model.fit(X_train, y_train, #validation_split= 0.2,\n",
    "            validation_data=(X_val, y_val),\n",
    "            batch_size=500, epochs=20, verbose=1)"
   ]
  },
  {
   "cell_type": "markdown",
   "metadata": {},
   "source": [
    "### Задание 5:\n",
    "\n",
    "Дело осталось за малым. Нарисовать траектории обучения всех сеток на одной картинке и сравнить их между собой."
   ]
  },
  {
   "cell_type": "code",
   "execution_count": 17,
   "metadata": {},
   "outputs": [
    {
     "data": {
      "image/png": "[encoded data removed]",
      "text/plain": [
       "<Figure size 1152x720 with 1 Axes>"
      ]
     },
     "metadata": {
      "needs_background": "light"
     },
     "output_type": "display_data"
    }
   ],
   "source": [
    "plot_history([('uniform',    history1), \n",
    "              ('he_uniform', history2),\n",
    "              ('batch_norm', history3),\n",
    "#               ('together',   history4)\n",
    "             ],\n",
    "             start=0)"
   ]
  },
  {
   "cell_type": "markdown",
   "metadata": {},
   "source": [
    "## 2. Функции активации  \n",
    "\n",
    "### Задание 6:\n",
    "\n",
    "Давайте попробуем поймать эффект, когда у нашей нейронки наступает паралич. Возьмите самый первый вариант нейросетки и замените все функции активации на сигмоиды. \n",
    "\n"
   ]
  },
  {
   "cell_type": "code",
   "execution_count": 18,
   "metadata": {
    "scrolled": false
   },
   "outputs": [
    {
     "name": "stdout",
     "output_type": "stream",
     "text": [
      "Train on 50000 samples, validate on 10000 samples\n",
      "Epoch 1/20\n",
      "50000/50000 [==============================] - 1s 20us/sample - loss: 2.3367 - sparse_categorical_accuracy: 0.0998 - val_loss: 2.3010 - val_sparse_categorical_accuracy: 0.1009\n",
      "Epoch 2/20\n",
      "50000/50000 [==============================] - 1s 11us/sample - loss: 2.2973 - sparse_categorical_accuracy: 0.1540 - val_loss: 2.2914 - val_sparse_categorical_accuracy: 0.1879\n",
      "Epoch 3/20\n",
      "50000/50000 [==============================] - 1s 11us/sample - loss: 2.2729 - sparse_categorical_accuracy: 0.2285 - val_loss: 2.2390 - val_sparse_categorical_accuracy: 0.1922\n",
      "Epoch 4/20\n",
      "50000/50000 [==============================] - 1s 11us/sample - loss: 2.1435 - sparse_categorical_accuracy: 0.2262 - val_loss: 2.0211 - val_sparse_categorical_accuracy: 0.2004\n",
      "Epoch 5/20\n",
      "50000/50000 [==============================] - 1s 11us/sample - loss: 1.9052 - sparse_categorical_accuracy: 0.2096 - val_loss: 1.8242 - val_sparse_categorical_accuracy: 0.1985\n",
      "Epoch 6/20\n",
      "50000/50000 [==============================] - 1s 11us/sample - loss: 1.7742 - sparse_categorical_accuracy: 0.2158 - val_loss: 1.7465 - val_sparse_categorical_accuracy: 0.2310\n",
      "Epoch 7/20\n",
      "50000/50000 [==============================] - 1s 11us/sample - loss: 1.7204 - sparse_categorical_accuracy: 0.2291 - val_loss: 1.7066 - val_sparse_categorical_accuracy: 0.2378\n",
      "Epoch 8/20\n",
      "50000/50000 [==============================] - 1s 11us/sample - loss: 1.6738 - sparse_categorical_accuracy: 0.3220 - val_loss: 1.6429 - val_sparse_categorical_accuracy: 0.3137\n",
      "Epoch 9/20\n",
      "50000/50000 [==============================] - 1s 11us/sample - loss: 1.6005 - sparse_categorical_accuracy: 0.3598 - val_loss: 1.5667 - val_sparse_categorical_accuracy: 0.3630\n",
      "Epoch 10/20\n",
      "50000/50000 [==============================] - 1s 11us/sample - loss: 1.5255 - sparse_categorical_accuracy: 0.3833 - val_loss: 1.4866 - val_sparse_categorical_accuracy: 0.4008\n",
      "Epoch 11/20\n",
      "50000/50000 [==============================] - 1s 11us/sample - loss: 1.4405 - sparse_categorical_accuracy: 0.3944 - val_loss: 1.4027 - val_sparse_categorical_accuracy: 0.4238\n",
      "Epoch 12/20\n",
      "50000/50000 [==============================] - 1s 11us/sample - loss: 1.3669 - sparse_categorical_accuracy: 0.4041 - val_loss: 1.3413 - val_sparse_categorical_accuracy: 0.3912\n",
      "Epoch 13/20\n",
      "50000/50000 [==============================] - 1s 11us/sample - loss: 1.3140 - sparse_categorical_accuracy: 0.4123 - val_loss: 1.2973 - val_sparse_categorical_accuracy: 0.4075\n",
      "Epoch 14/20\n",
      "50000/50000 [==============================] - 1s 11us/sample - loss: 1.2750 - sparse_categorical_accuracy: 0.4200 - val_loss: 1.2639 - val_sparse_categorical_accuracy: 0.4260\n",
      "Epoch 15/20\n",
      "50000/50000 [==============================] - 1s 11us/sample - loss: 1.2444 - sparse_categorical_accuracy: 0.4259 - val_loss: 1.2371 - val_sparse_categorical_accuracy: 0.4214\n",
      "Epoch 16/20\n",
      "50000/50000 [==============================] - 1s 11us/sample - loss: 1.2187 - sparse_categorical_accuracy: 0.4467 - val_loss: 1.2139 - val_sparse_categorical_accuracy: 0.4574\n",
      "Epoch 17/20\n",
      "50000/50000 [==============================] - 1s 11us/sample - loss: 1.1954 - sparse_categorical_accuracy: 0.4609 - val_loss: 1.1918 - val_sparse_categorical_accuracy: 0.4829\n",
      "Epoch 18/20\n",
      "50000/50000 [==============================] - 1s 11us/sample - loss: 1.1722 - sparse_categorical_accuracy: 0.4968 - val_loss: 1.1700 - val_sparse_categorical_accuracy: 0.4865\n",
      "Epoch 19/20\n",
      "50000/50000 [==============================] - 1s 11us/sample - loss: 1.1496 - sparse_categorical_accuracy: 0.5071 - val_loss: 1.1474 - val_sparse_categorical_accuracy: 0.5264\n",
      "Epoch 20/20\n",
      "50000/50000 [==============================] - 1s 11us/sample - loss: 1.1276 - sparse_categorical_accuracy: 0.5240 - val_loss: 1.1260 - val_sparse_categorical_accuracy: 0.5382\n"
     ]
    }
   ],
   "source": [
    "### ╰( ͡° ͜ʖ ͡° )つ──☆*:・ﾟ  создайте сеть по инструкции выше\n",
    "tf.random.set_seed(42)\n",
    "model = Sequential()\n",
    "model.add(L.InputLayer(input_shape=(28, 28)))\n",
    "model.add(L.Flatten())\n",
    "model.add(L.Dense(100, activation='sigmoid', kernel_initializer='he_uniform'))\n",
    "model.add(L.Dense(100, activation='sigmoid', kernel_initializer='he_uniform'))\n",
    "model.add(L.Dense(100, activation='sigmoid', kernel_initializer='he_uniform'))\n",
    "model.add(L.Dense(100, activation='sigmoid', kernel_initializer='he_uniform'))\n",
    "model.add(L.Dense(100, activation='sigmoid', kernel_initializer='he_uniform'))\n",
    "model.add(L.Dense(100, activation='sigmoid', kernel_initializer='he_uniform'))\n",
    "model.add(L.Dense(10, activation='softmax', kernel_initializer='he_uniform'))\n",
    "\n",
    "\n",
    "opt = keras.optimizers.Adam(learning_rate=1e-4)\n",
    "\n",
    "model.compile(optimizer=opt, loss='sparse_categorical_crossentropy',\n",
    "               metrics=['sparse_categorical_accuracy'])\n",
    "\n",
    "history5 = model.fit(X_train, y_train, #validation_split= 0.2,\n",
    "            validation_data=(X_val, y_val),\n",
    "            batch_size=500, epochs=20, verbose=1)"
   ]
  },
  {
   "cell_type": "markdown",
   "metadata": {},
   "source": [
    "### Задание 7:  \n",
    "\n",
    "Теперь попробуем взять вместо сигмоид elu"
   ]
  },
  {
   "cell_type": "code",
   "execution_count": 51,
   "metadata": {},
   "outputs": [
    {
     "name": "stdout",
     "output_type": "stream",
     "text": [
      "Train on 50000 samples, validate on 10000 samples\n",
      "Epoch 1/20\n",
      "50000/50000 [==============================] - 1s 24us/sample - loss: 2.1243 - sparse_categorical_accuracy: 0.2255 - val_loss: 1.7067 - val_sparse_categorical_accuracy: 0.1962\n",
      "Epoch 2/20\n",
      "50000/50000 [==============================] - 1s 13us/sample - loss: 1.6374 - sparse_categorical_accuracy: 0.2337 - val_loss: 1.5277 - val_sparse_categorical_accuracy: 0.3736\n",
      "Epoch 3/20\n",
      "50000/50000 [==============================] - 1s 13us/sample - loss: 1.2166 - sparse_categorical_accuracy: 0.4786 - val_loss: 1.0278 - val_sparse_categorical_accuracy: 0.5876\n",
      "Epoch 4/20\n",
      "50000/50000 [==============================] - 1s 13us/sample - loss: 0.9650 - sparse_categorical_accuracy: 0.6103 - val_loss: 0.9246 - val_sparse_categorical_accuracy: 0.6359\n",
      "Epoch 5/20\n",
      "50000/50000 [==============================] - 1s 13us/sample - loss: 0.8928 - sparse_categorical_accuracy: 0.6488 - val_loss: 0.8776 - val_sparse_categorical_accuracy: 0.6557\n",
      "Epoch 6/20\n",
      "50000/50000 [==============================] - 1s 13us/sample - loss: 0.8440 - sparse_categorical_accuracy: 0.6753 - val_loss: 0.8344 - val_sparse_categorical_accuracy: 0.6797\n",
      "Epoch 7/20\n",
      "50000/50000 [==============================] - 1s 13us/sample - loss: 0.8036 - sparse_categorical_accuracy: 0.6958 - val_loss: 0.8004 - val_sparse_categorical_accuracy: 0.6927\n",
      "Epoch 8/20\n",
      "50000/50000 [==============================] - 1s 13us/sample - loss: 0.7706 - sparse_categorical_accuracy: 0.7116 - val_loss: 0.7692 - val_sparse_categorical_accuracy: 0.7092\n",
      "Epoch 9/20\n",
      "50000/50000 [==============================] - 1s 13us/sample - loss: 0.7417 - sparse_categorical_accuracy: 0.7243 - val_loss: 0.7449 - val_sparse_categorical_accuracy: 0.7217\n",
      "Epoch 10/20\n",
      "50000/50000 [==============================] - 1s 13us/sample - loss: 0.7173 - sparse_categorical_accuracy: 0.7347 - val_loss: 0.7229 - val_sparse_categorical_accuracy: 0.7307\n",
      "Epoch 11/20\n",
      "50000/50000 [==============================] - 1s 13us/sample - loss: 0.6947 - sparse_categorical_accuracy: 0.7444 - val_loss: 0.7055 - val_sparse_categorical_accuracy: 0.7336\n",
      "Epoch 12/20\n",
      "50000/50000 [==============================] - 1s 13us/sample - loss: 0.6751 - sparse_categorical_accuracy: 0.7521 - val_loss: 0.6806 - val_sparse_categorical_accuracy: 0.7476\n",
      "Epoch 13/20\n",
      "50000/50000 [==============================] - 1s 13us/sample - loss: 0.6537 - sparse_categorical_accuracy: 0.7621 - val_loss: 0.6584 - val_sparse_categorical_accuracy: 0.7576\n",
      "Epoch 14/20\n",
      "50000/50000 [==============================] - 1s 13us/sample - loss: 0.6341 - sparse_categorical_accuracy: 0.7715 - val_loss: 0.6388 - val_sparse_categorical_accuracy: 0.7681\n",
      "Epoch 15/20\n",
      "50000/50000 [==============================] - 1s 13us/sample - loss: 0.6167 - sparse_categorical_accuracy: 0.7776 - val_loss: 0.6242 - val_sparse_categorical_accuracy: 0.7754\n",
      "Epoch 16/20\n",
      "50000/50000 [==============================] - 1s 13us/sample - loss: 0.6018 - sparse_categorical_accuracy: 0.7826 - val_loss: 0.6175 - val_sparse_categorical_accuracy: 0.7738\n",
      "Epoch 17/20\n",
      "50000/50000 [==============================] - 1s 13us/sample - loss: 0.5917 - sparse_categorical_accuracy: 0.7868 - val_loss: 0.6022 - val_sparse_categorical_accuracy: 0.7829\n",
      "Epoch 18/20\n",
      "50000/50000 [==============================] - 1s 13us/sample - loss: 0.5823 - sparse_categorical_accuracy: 0.7889 - val_loss: 0.6061 - val_sparse_categorical_accuracy: 0.7821\n",
      "Epoch 19/20\n",
      "50000/50000 [==============================] - 1s 13us/sample - loss: 0.5753 - sparse_categorical_accuracy: 0.7915 - val_loss: 0.5899 - val_sparse_categorical_accuracy: 0.7867\n",
      "Epoch 20/20\n",
      "50000/50000 [==============================] - 1s 13us/sample - loss: 0.5670 - sparse_categorical_accuracy: 0.7949 - val_loss: 0.5809 - val_sparse_categorical_accuracy: 0.7884\n"
     ]
    }
   ],
   "source": [
    "### ╰( ͡° ͜ʖ ͡° )つ──☆*:・ﾟ  создайте сеть по инструкции выше\n",
    "tf.random.set_seed(42)\n",
    "model = Sequential() \n",
    "\n",
    "model.compile(optimizer=opt, loss='sparse_categorical_crossentropy',\n",
    "               metrics=['sparse_categorical_accuracy'])\n",
    "\n",
    "history6 = model.fit(X_train, y_train, #validation_split= 0.2,\n",
    "            validation_data=(X_val, y_val),\n",
    "            batch_size=500, epochs=20, verbose=1)"
   ]
  },
  {
   "cell_type": "markdown",
   "metadata": {},
   "source": [
    "### Задание 8:\n",
    "\n",
    "Снова сравниваем модели между собой."
   ]
  },
  {
   "cell_type": "code",
   "execution_count": 20,
   "metadata": {},
   "outputs": [
    {
     "data": {
      "image/png": "[encoded data removed]",
      "text/plain": [
       "<Figure size 1152x720 with 1 Axes>"
      ]
     },
     "metadata": {
      "needs_background": "light"
     },
     "output_type": "display_data"
    }
   ],
   "source": [
    "plot_history([('relu',   history3), \n",
    "              ('sigmoid', history5),\n",
    "#               ('elu',   history6),\n",
    "             ],\n",
    "             start=0)"
   ]
  },
  {
   "cell_type": "markdown",
   "metadata": {},
   "source": [
    "### Задание 9:\n",
    "\n",
    "Какую проверку на полезность нейронов мы сегодня еще разбирали?\n",
    "\n",
    "Чтобы вы еще добавили в данную архитектуру?"
   ]
  },
  {
   "cell_type": "markdown",
   "metadata": {},
   "source": [
    "# 3. Keras бывет разным, про skip-connection\n",
    "\n",
    "На первой паре мы с вами говорили, что в Keras задавать модели можно по-разному. Второй способ делать это: функциональный стиль. Он даёт на порядок больше возможностей. Давайте посмотрим как это выглядит и попробуем собрать пару моделей. "
   ]
  },
  {
   "cell_type": "code",
   "execution_count": 53,
   "metadata": {},
   "outputs": [],
   "source": [
    "init = 'uniform'\n",
    "act = 'relu'\n",
    "\n",
    "input_tensor = L.Input(shape=(28, 28))\n",
    "\n",
    "x = L.Flatten()(input_tensor)\n",
    "x = L.Dense(100, kernel_initializer=init, activation=act)(x)\n",
    "x = L.Dense(100, kernel_initializer=init, activation=act)(x)\n",
    "x = L.Dense(100, kernel_initializer=init, activation=act)(x)\n",
    "x = L.Dense(100, kernel_initializer=init, activation=act)(x)\n",
    "x = L.Dense(100, kernel_initializer=init, activation=act)(x)\n",
    "x = L.Dense(100, kernel_initializer=init, activation=act)(x)\n",
    "output_tensor = L.Dense(10, kernel_initializer=init, \n",
    "                        activation='softmax')(x)\n",
    "\n",
    "model = keras.Model(input_tensor, output_tensor)"
   ]
  },
  {
   "cell_type": "code",
   "execution_count": 54,
   "metadata": {},
   "outputs": [
    {
     "name": "stdout",
     "output_type": "stream",
     "text": [
      "Train on 50000 samples, validate on 10000 samples\n",
      "50000/50000 [==============================] - 1s 23us/sample - loss: 1.5006 - sparse_categorical_accuracy: 0.3747 - val_loss: 1.1101 - val_sparse_categorical_accuracy: 0.5256\n"
     ]
    },
    {
     "data": {
      "text/plain": [
       "<tensorflow.python.keras.callbacks.History at 0x144d846d8>"
      ]
     },
     "execution_count": 54,
     "metadata": {},
     "output_type": "execute_result"
    }
   ],
   "source": [
    "model.compile(\"adam\", \"sparse_categorical_crossentropy\", metrics=[\"sparse_categorical_accuracy\"])\n",
    "\n",
    "model.fit(X_train, y_train, validation_data=(X_val, y_val), epochs=1, batch_size=500, verbose=1)"
   ]
  },
  {
   "cell_type": "markdown",
   "metadata": {},
   "source": [
    "Помните статью про то, как люди рисовали функции потерь? [Теперь появилась галерея!](https://losslandscape.com/gallery/) На паре про градиентный спуск мы говорили, что skip-connection довольно здорово меняет ландшафт функции потерь. \n",
    "\n",
    "![](https://i.stack.imgur.com/UDvbg.png)\n",
    "\n",
    "Такую модель нельзя собрать через `Sequence`-стиль, но можно через функциональный стиль. Давайте попробуем сделать это. Заодно посмотрим насколько сильно в нашей ситуации будет меняться траектория обучения. "
   ]
  },
  {
   "cell_type": "code",
   "execution_count": 58,
   "metadata": {},
   "outputs": [
    {
     "name": "stdout",
     "output_type": "stream",
     "text": [
      "Train on 50000 samples, validate on 10000 samples\n",
      "Epoch 1/20\n",
      "50000/50000 [==============================] - 1s 29us/sample - loss: 0.6830 - sparse_categorical_accuracy: 0.7591 - val_loss: 0.4752 - val_sparse_categorical_accuracy: 0.8278\n",
      "Epoch 2/20\n",
      "50000/50000 [==============================] - 1s 18us/sample - loss: 0.4529 - sparse_categorical_accuracy: 0.8387 - val_loss: 0.4382 - val_sparse_categorical_accuracy: 0.8442\n",
      "Epoch 3/20\n",
      "50000/50000 [==============================] - 1s 18us/sample - loss: 0.4127 - sparse_categorical_accuracy: 0.8535 - val_loss: 0.4123 - val_sparse_categorical_accuracy: 0.8526\n",
      "Epoch 4/20\n",
      "50000/50000 [==============================] - 1s 18us/sample - loss: 0.3926 - sparse_categorical_accuracy: 0.8618 - val_loss: 0.3965 - val_sparse_categorical_accuracy: 0.8579\n",
      "Epoch 5/20\n",
      "50000/50000 [==============================] - 1s 17us/sample - loss: 0.3761 - sparse_categorical_accuracy: 0.8663 - val_loss: 0.3813 - val_sparse_categorical_accuracy: 0.8623\n",
      "Epoch 6/20\n",
      "50000/50000 [==============================] - 1s 17us/sample - loss: 0.3633 - sparse_categorical_accuracy: 0.8708 - val_loss: 0.3828 - val_sparse_categorical_accuracy: 0.8606\n",
      "Epoch 7/20\n",
      "50000/50000 [==============================] - 1s 17us/sample - loss: 0.3548 - sparse_categorical_accuracy: 0.8740 - val_loss: 0.3680 - val_sparse_categorical_accuracy: 0.8672\n",
      "Epoch 8/20\n",
      "50000/50000 [==============================] - 1s 17us/sample - loss: 0.3446 - sparse_categorical_accuracy: 0.8767 - val_loss: 0.3622 - val_sparse_categorical_accuracy: 0.8706\n",
      "Epoch 9/20\n",
      "50000/50000 [==============================] - 1s 17us/sample - loss: 0.3375 - sparse_categorical_accuracy: 0.8786 - val_loss: 0.3607 - val_sparse_categorical_accuracy: 0.8692\n",
      "Epoch 10/20\n",
      "50000/50000 [==============================] - 1s 17us/sample - loss: 0.3299 - sparse_categorical_accuracy: 0.8818 - val_loss: 0.3509 - val_sparse_categorical_accuracy: 0.8725\n",
      "Epoch 11/20\n",
      "50000/50000 [==============================] - 1s 17us/sample - loss: 0.3219 - sparse_categorical_accuracy: 0.8846 - val_loss: 0.3514 - val_sparse_categorical_accuracy: 0.8722\n",
      "Epoch 12/20\n",
      "50000/50000 [==============================] - 1s 17us/sample - loss: 0.3180 - sparse_categorical_accuracy: 0.8857 - val_loss: 0.3438 - val_sparse_categorical_accuracy: 0.8754\n",
      "Epoch 13/20\n",
      "50000/50000 [==============================] - 1s 17us/sample - loss: 0.3116 - sparse_categorical_accuracy: 0.8880 - val_loss: 0.3412 - val_sparse_categorical_accuracy: 0.8738\n",
      "Epoch 14/20\n",
      "50000/50000 [==============================] - 1s 17us/sample - loss: 0.3064 - sparse_categorical_accuracy: 0.8904 - val_loss: 0.3384 - val_sparse_categorical_accuracy: 0.8782\n",
      "Epoch 15/20\n",
      "50000/50000 [==============================] - 1s 17us/sample - loss: 0.3028 - sparse_categorical_accuracy: 0.8911 - val_loss: 0.3468 - val_sparse_categorical_accuracy: 0.8745\n",
      "Epoch 16/20\n",
      "50000/50000 [==============================] - 1s 17us/sample - loss: 0.2981 - sparse_categorical_accuracy: 0.8920 - val_loss: 0.3324 - val_sparse_categorical_accuracy: 0.8796\n",
      "Epoch 17/20\n",
      "50000/50000 [==============================] - 1s 17us/sample - loss: 0.2925 - sparse_categorical_accuracy: 0.8942 - val_loss: 0.3318 - val_sparse_categorical_accuracy: 0.8790\n",
      "Epoch 18/20\n",
      "50000/50000 [==============================] - 1s 17us/sample - loss: 0.2894 - sparse_categorical_accuracy: 0.8945 - val_loss: 0.3316 - val_sparse_categorical_accuracy: 0.8778\n",
      "Epoch 19/20\n",
      "50000/50000 [==============================] - 1s 18us/sample - loss: 0.2850 - sparse_categorical_accuracy: 0.8963 - val_loss: 0.3299 - val_sparse_categorical_accuracy: 0.8807\n",
      "Epoch 20/20\n",
      "50000/50000 [==============================] - 1s 18us/sample - loss: 0.2825 - sparse_categorical_accuracy: 0.8968 - val_loss: 0.3231 - val_sparse_categorical_accuracy: 0.8830\n"
     ]
    }
   ],
   "source": [
    "### ╰( ͡° ͜ʖ ͡° )つ──☆*:・ﾟ  создайте сеть по инструкции выше\n",
    "tf.random.set_seed(42)\n",
    "\n",
    "init = 'he_uniform'\n",
    "act = 'elu'\n",
    "\n",
    "input_tensor = L.Input(shape=(28, 28))\n",
    "\n",
    "x1 = L.Flatten()(input_tensor)\n",
    "x = L.Dense(100, kernel_initializer=init, activation=act)(x1)\n",
    "x = L.Dense(100, kernel_initializer=init, activation=act)(x)\n",
    "x = L.concatenate([x1, x])\n",
    "\n",
    "x2 = L.Dense(100, kernel_initializer=init, activation=act)(x)\n",
    "x = L.Dense(100, kernel_initializer=init, activation=act)(x2)\n",
    "x = L.Dense(100, kernel_initializer=init, activation=act)(x)\n",
    "x = L.concatenate([x2, x])\n",
    "\n",
    "x = L.Dense(100, kernel_initializer=init, activation=act)(x)\n",
    "output_tensor = L.Dense(10, kernel_initializer=init, \n",
    "                        activation='softmax')(x)\n",
    "\n",
    "model = keras.Model(input_tensor, output_tensor)\n",
    "\n",
    "model.compile(optimizer=opt, loss='sparse_categorical_crossentropy',\n",
    "               metrics=['sparse_categorical_accuracy'])\n",
    "\n",
    "history7 = model.fit(X_train, y_train, #validation_split= 0.2,\n",
    "            validation_data=(X_val, y_val),\n",
    "            batch_size=500, epochs=20, verbose=1)"
   ]
  },
  {
   "cell_type": "code",
   "execution_count": 59,
   "metadata": {},
   "outputs": [
    {
     "data": {
      "image/png": "[encoded data removed]",
      "text/plain": [
       "<Figure size 1152x720 with 1 Axes>"
      ]
     },
     "metadata": {
      "needs_background": "light"
     },
     "output_type": "display_data"
    }
   ],
   "source": [
    "plot_history([('relu', history1), \n",
    "              ('he_uniform', history2),\n",
    "              ('he_skip_connection', history7),\n",
    "              #('skip_connection', history8),\n",
    "             ],\n",
    "             start=0)"
   ]
  },
  {
   "cell_type": "markdown",
   "metadata": {},
   "source": [
    "И кое-что дополнительно :)\n",
    "\n",
    "    Как нам восстановить в керасе формулу, которую мы восстанавливали в тензорфлоу?\n",
    "\n",
    "$$ f = c \\times 1.8 + 32 $$"
   ]
  },
  {
   "cell_type": "code",
   "execution_count": 2,
   "metadata": {},
   "outputs": [
    {
     "name": "stdout",
     "output_type": "stream",
     "text": [
      "-40.0 degrees Celsius = -40.0 degrees Fahrenheit\n",
      "-10.0 degrees Celsius = 14.0 degrees Fahrenheit\n",
      "0.0 degrees Celsius = 32.0 degrees Fahrenheit\n",
      "8.0 degrees Celsius = 46.0 degrees Fahrenheit\n",
      "15.0 degrees Celsius = 59.0 degrees Fahrenheit\n",
      "22.0 degrees Celsius = 72.0 degrees Fahrenheit\n",
      "38.0 degrees Celsius = 100.0 degrees Fahrenheit\n"
     ]
    }
   ],
   "source": [
    "import numpy as np\n",
    "celsius    = np.array([-40, -10,  0,  8, 15, 22,  38],  dtype=float)\n",
    "fahrenheit = np.array([-40,  14, 32, 46, 59, 72, 100],  dtype=float)\n",
    "\n",
    "for i,c in enumerate(celsius):\n",
    "    print(\"{} degrees Celsius = {} degrees Fahrenheit\".format(c, fahrenheit[i]))"
   ]
  },
  {
   "cell_type": "code",
   "execution_count": null,
   "metadata": {},
   "outputs": [],
   "source": []
  }
 ],
 "metadata": {
  "kernelspec": {
   "display_name": "Python 3",
   "language": "python",
   "name": "python3"
  },
  "language_info": {
   "codemirror_mode": {
    "name": "ipython",
    "version": 3
   },
   "file_extension": ".py",
   "mimetype": "text/x-python",
   "name": "python",
   "nbconvert_exporter": "python",
   "pygments_lexer": "ipython3",
   "version": "3.7.3"
  }
 },
 "nbformat": 4,
 "nbformat_minor": 2
}
