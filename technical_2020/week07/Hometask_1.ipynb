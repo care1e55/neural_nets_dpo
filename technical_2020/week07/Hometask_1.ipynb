{
 "cells": [
  {
   "cell_type": "markdown",
   "metadata": {},
   "source": [
    "Товарищи, мы все уже великие специалисты в нейронных сетях, поэтому пришло время показать это миру. Мы будем решать конкурс от роснефти по сегментации изображений. У нас будут изображения с трехмерного куба, где надо найти различные области на этих снимках. А дальше уже смотрите сами :)\n",
    "\n",
    "Более подробно о данном конкурсе можно посмотреть вот тута :\n",
    "[ссылочка](https://boosters.pro/championship/seismic_challenge/overview)\n",
    "\n",
    "\n",
    "В рамках данной домашки попробуем вспомнить все, что нам мы делали.\n",
    "\n",
    "Дальше будет о подгрузке данных и небольшие направления деятельности, но в основном ваше фантазия решает этот конкурс :)\n"
   ]
  },
  {
   "cell_type": "code",
   "execution_count": 1,
   "metadata": {},
   "outputs": [],
   "source": [
    "import tensorflow as tf\n",
    "# import tensorflow_hub as hub\n",
    "\n",
    "\n",
    "import numpy as np\n",
    "import matplotlib.pyplot as plt\n",
    "%matplotlib inline\n",
    "\n",
    "\n",
    "\n",
    "\n",
    "import pandas as pd\n",
    "import numpy as np\n",
    "import cv2 # подгрузка и работа с данными\n",
    "import os\n",
    "import tqdm # счетчик и красивый прогресс бар\n",
    "\n",
    "IMAGE_PATH = '../make_rofneft_predict/data/train/images/'\n",
    "MASK_PATH = '../make_rofneft_predict/data/train/train.csv'\n",
    "TEST_PATH = '../make_rofneft_predict/data/test/images/'\n",
    "SAMPLE_PATH = '../make_rofneft_predict/data/sample_submission.csv'\n",
    "\n",
    "def rle2mask(mask_rle, shape):\n",
    "    # эта функция взята с конкурса и я её оставил как есть\n",
    "    \"\"\"\n",
    "    mask_rle: run-length as string formated (start length)ы\n",
    "    shape: (width,height) of array to return\n",
    "    Returns numpy array, 1 - mask, 0 - background\n",
    "    \"\"\"\n",
    "    if mask_rle != mask_rle:\n",
    "        return np.zeros_like(shape)\n",
    "\n",
    "    s = mask_rle.split()\n",
    "    starts, lengths = [np.asarray(x, dtype=int) for x in (s[0:][::2], s[1:][::2])]\n",
    "    starts -= 1\n",
    "    ends = starts + lengths\n",
    "    img = np.zeros(shape[0]*shape[1], dtype=np.uint8)\n",
    "    for lo, hi in zip(starts, ends):\n",
    "        img[lo:hi] = 1\n",
    "    return img.reshape(shape).T\n",
    "\n",
    "class TrainDataset():\n",
    "    # немного переписанный загрузчик данных опять же с конкурса\n",
    "    def __init__(self, image_dir, train):\n",
    "        self.image_dir = image_dir\n",
    "        self.train = train\n",
    "        self.image_uses = []\n",
    "\n",
    "    def __getitem__(self, index):\n",
    "        \n",
    "        \n",
    "        img_name = self.train.iloc[index]['ImageId']\n",
    "        if img_name in self.image_uses:\n",
    "            return 'hups'\n",
    "        else:\n",
    "            self.image_uses.append(img_name)\n",
    "            path = os.path.join(self.image_dir, img_name)\n",
    "            img = cv2.imread(path)\n",
    "            img = cv2.resize(img,(384,384))\n",
    "\n",
    "            ce_mask = [\n",
    "                (i + 1) * rle2mask(rle, shape=(img.shape[0], img.shape[1])) \\\n",
    "                    for i, rle in enumerate(self.train[self.train['ImageId']==img_name]['EncodedPixels'])\n",
    "            ]\n",
    "            ce_mask = np.sum(ce_mask, axis=0, dtype=np.float32)\n",
    "\n",
    "\n",
    "            result = {\n",
    "                'image':img, \n",
    "                'mask': ce_mask,\n",
    "                'pick_name':img_name\n",
    "            }\n",
    "            return result\n",
    "    \n",
    "    def __len__(self, ):\n",
    "        return len(self.train)\n",
    "    \n",
    "train = pd.read_csv(MASK_PATH)\n",
    "train_dataset = TrainDataset(\n",
    "    image_dir=IMAGE_PATH, \n",
    "    train=train)\n"
   ]
  },
  {
   "cell_type": "markdown",
   "metadata": {},
   "source": [
    "Кстати, посмотрев на данные, какие особенности данных мы видим?"
   ]
  },
  {
   "cell_type": "code",
   "execution_count": 2,
   "metadata": {},
   "outputs": [],
   "source": [
    "x_images = []\n",
    "y_images = []\n",
    "for i in train_dataset:\n",
    "    if type(i)==str:\n",
    "        pass\n",
    "    else:\n",
    "        x_images.append(i['image'])\n",
    "        y_images.append(i['mask']) \n",
    "            "
   ]
  },
  {
   "cell_type": "markdown",
   "metadata": {},
   "source": [
    "Такс, что мы хотим делать с данными дальше ? Можем ли мы что-то предположить заранее?"
   ]
  },
  {
   "cell_type": "code",
   "execution_count": null,
   "metadata": {},
   "outputs": [],
   "source": [
    "#### Ваш код игры с данными"
   ]
  },
  {
   "cell_type": "markdown",
   "metadata": {},
   "source": [
    "В самой задачке на бустере используется метрика dice по границе и всей области.\n",
    "Мы упростим задачу, просто берем dice по области.\n",
    "\n",
    "Собственно нам надо реализовать следующую формулу\n",
    "\n",
    "\\begin{equation}\n",
    "dice = \\sum_{k=0}^7(\\cfrac{2*|prediction \\cap truch|}{|prediction| + |truch|})\n",
    "\\end{equation}\n",
    "\n",
    "Ну и чтобы в случае чего не делить на ноль, надо добавить небольшой эпсилон к верхней и нижней части."
   ]
  },
  {
   "cell_type": "code",
   "execution_count": 13,
   "metadata": {},
   "outputs": [],
   "source": [
    "def dice_metric(y_true,y_pred):\n",
    "    # по доке мы принимаем на вход 2 тензора\n",
    "    # отдавать же должны скаляр\n",
    "    pass"
   ]
  },
  {
   "cell_type": "markdown",
   "metadata": {},
   "source": [
    "Придумываем бейзлайн для всего нашего кусочка - должны же мы его превзойти!"
   ]
  },
  {
   "cell_type": "code",
   "execution_count": null,
   "metadata": {},
   "outputs": [],
   "source": [
    "# Код бейзлайна\n",
    "\n"
   ]
  },
  {
   "cell_type": "markdown",
   "metadata": {},
   "source": [
    "Ну что же, теперь пришло время к моделям!\n",
    "Начнем с простой модельки - fully-convolution-net.\n",
    "\n",
    "И да - архитектура на ваш вкус и цвет :)\n",
    "\n",
    "Но прежде чем начинать, какие callback нам точно потребуются? (вне зависимости от архитектуры)"
   ]
  },
  {
   "cell_type": "code",
   "execution_count": null,
   "metadata": {},
   "outputs": [],
   "source": [
    "# Собираем fully-convolution-net\n"
   ]
  },
  {
   "cell_type": "markdown",
   "metadata": {},
   "source": [
    "Собираем u-net. Смотрим как оно :)"
   ]
  },
  {
   "cell_type": "code",
   "execution_count": null,
   "metadata": {},
   "outputs": [],
   "source": [
    "# Собираем fully-convolution-net"
   ]
  },
  {
   "cell_type": "markdown",
   "metadata": {},
   "source": [
    "Ну чтож, время вашего творчества - меняем архитектуры, смотрим и вспоминаем, что же ещё мы не учли и что может нам помочь. Да и вообще -какие подходы ещё не использованы !"
   ]
  },
  {
   "cell_type": "code",
   "execution_count": null,
   "metadata": {},
   "outputs": [],
   "source": [
    "### играемся на все деньги"
   ]
  },
  {
   "cell_type": "markdown",
   "metadata": {},
   "source": [
    "И доп задачка для всех - а что если обучить часть (или весь) unet как автоэнкодер.....\n"
   ]
  },
  {
   "cell_type": "code",
   "execution_count": null,
   "metadata": {},
   "outputs": [],
   "source": [
    "##############################"
   ]
  }
 ],
 "metadata": {
  "kernelspec": {
   "display_name": "Python 3",
   "language": "python",
   "name": "python3"
  },
  "language_info": {
   "codemirror_mode": {
    "name": "ipython",
    "version": 3
   },
   "file_extension": ".py",
   "mimetype": "text/x-python",
   "name": "python",
   "nbconvert_exporter": "python",
   "pygments_lexer": "ipython3",
   "version": "3.7.3"
  }
 },
 "nbformat": 4,
 "nbformat_minor": 2
}
