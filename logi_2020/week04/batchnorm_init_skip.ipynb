{
 "cells": [
  {
   "cell_type": "markdown",
   "metadata": {},
   "source": [
    "# Пробуем разные приколы! \n",
    "\n",
    "На самой первой паре мы много говорили про Keras, высокоуровневое API для Tensorflow. Он позволяет быстро и без боли учить нейронки, в которых не встречается особо много извращений. В этой тетрадке мы окунёмся в него чуть глубже. Работать по-прежнему будем с одеждой. "
   ]
  },
  {
   "cell_type": "code",
   "execution_count": 1,
   "metadata": {},
   "outputs": [
    {
     "data": {
      "text/plain": [
       "'2.0.0'"
      ]
     },
     "execution_count": 1,
     "metadata": {},
     "output_type": "execute_result"
    }
   ],
   "source": [
    "import numpy as np\n",
    "import tensorflow as tf\n",
    "tf.__version__ "
   ]
  },
  {
   "cell_type": "code",
   "execution_count": 2,
   "metadata": {},
   "outputs": [],
   "source": [
    "from tensorflow.keras import Sequential\n",
    "keras, L = tf.keras, tf.keras.layers\n",
    "\n",
    "from sklearn.model_selection import train_test_split\n",
    "import matplotlib.pyplot as plt\n",
    "%matplotlib inline"
   ]
  },
  {
   "cell_type": "code",
   "execution_count": 3,
   "metadata": {},
   "outputs": [],
   "source": [
    "fashion_mnist = tf.keras.datasets.fashion_mnist\n",
    "\n",
    "(X_train, y_train), (X_test, y_test) = fashion_mnist.load_data()\n",
    "\n",
    "X_train, X_val, y_train, y_val = train_test_split(X_train, y_train, test_size=10**4, random_state=42)\n",
    "\n",
    "X_train = X_train/ 255.\n",
    "X_val = X_val/ 255.\n",
    "X_test = X_test/ 255.\n",
    "\n",
    "class_names = ['T-shirt/top', 'Trouser', 'Pullover', 'Dress', 'Coat',\n",
    "               'Sandal', 'Shirt', 'Sneaker', 'Bag', 'Ankle boot']"
   ]
  },
  {
   "cell_type": "code",
   "execution_count": 4,
   "metadata": {},
   "outputs": [
    {
     "data": {
      "text/plain": [
       "((50000, 28, 28), (10000, 28, 28), (10000, 28, 28))"
      ]
     },
     "execution_count": 4,
     "metadata": {},
     "output_type": "execute_result"
    }
   ],
   "source": [
    "X_train.shape, X_val.shape, X_test.shape"
   ]
  },
  {
   "cell_type": "markdown",
   "metadata": {},
   "source": [
    "# 1. Инициализация и батчнорм\n",
    "\n",
    "Разговор на прошлой паре мы закончили батч-нормализацией и рассказом про то, как правильно в нейросетках делается инициализация весов. Давайте закрепим эти знания на практике, и переработаем их в навыки. "
   ]
  },
  {
   "cell_type": "code",
   "execution_count": 6,
   "metadata": {},
   "outputs": [],
   "source": [
    "# Помните зачем эта функция? :3 \n",
    "# Мы довольно активно использовали её, когда говорили про градиентные спуски\n",
    "\n",
    "def plot_history(histories, key='loss', start=0):\n",
    "    plt.figure(figsize=(16,10))\n",
    "\n",
    "    for name, history in histories:\n",
    "        val = plt.plot(history.epoch[start:], history.history['val_'+key][start:],\n",
    "                       #'--', \n",
    "                       label=name.title()+' Val')\n",
    "            #plt.plot(history.epoch[start:], history.history[key][start:], color=val[0].get_color(),\n",
    "            #     label=name.title()+' Train')\n",
    "\n",
    "    plt.xlabel('Epochs')\n",
    "    plt.ylabel(key.replace('_',' ').title())\n",
    "    plt.legend()\n",
    "\n",
    "    plt.xlim([start, max(history.epoch)])\n",
    "    pass"
   ]
  },
  {
   "cell_type": "markdown",
   "metadata": {},
   "source": [
    "### Задание 1:\n",
    "\n",
    "Для начала реализуйте простую нейросеть:\n",
    "* принимает на вход картинки размера 28 x 28\n",
    "* вытягивает их в вектор (`keras.layers.Flatten`)\n",
    "* пропускает через $6$ полносвязных слоёв с сотней нейронов и вашей любимой функцией активации\n",
    "* на выходе предсказывает веротятности принадлежности к каждому из 10 классов\n",
    "* при обучении сетки поставьте размер батча $500$, учите сетку $20$ эпох\n",
    "\n",
    "__Важно:__ поскольку в y_train лежат номера классов, керасу нужно либо указать sparse функции потерь и метрики (`sparse_categorical_crossentropy` и `sparse_categorical_accuracy`), либо конвертировать y в one-hot формат.\n",
    "\n",
    "__Ещё важнее:__ при большом батче модель будет быстрее проходить эпохи. Когда он очень большой, необходимо довольно много эпох для сходимости. Градиент обновляется редко. Когда размер батча совсем маленький, сетка может обучаться довольно шумно. "
   ]
  },
  {
   "cell_type": "code",
   "execution_count": 38,
   "metadata": {},
   "outputs": [],
   "source": [
    "### ╰( ͡° ͜ʖ ͡° )つ──☆*:・ﾟ  создайте сеть по инструкции выше\n",
    "tf.random.set_seed(42)\n",
    "model = Sequential() \n",
    "\n",
    "#model.add(L.InputLayer(shape=[28,28]))\n",
    "model.add(L.Flatten(input_shape=(28, 28)))\n",
    "\n",
    "model.add(L.Dense(100, kernel_initializer = 'uniform'))\n",
    "model.add(L.ReLU())\n",
    "\n",
    "model.add(L.Dense(100, kernel_initializer = 'uniform'))\n",
    "model.add(L.ReLU())\n",
    "\n",
    "model.add(L.Dense(100, kernel_initializer = 'uniform'))\n",
    "model.add(L.ReLU())\n",
    "\n",
    "model.add(L.Dense(100, kernel_initializer = 'uniform'))\n",
    "model.add(L.ReLU())\n",
    "\n",
    "model.add(L.Dense(100, kernel_initializer = 'uniform'))\n",
    "model.add(L.ReLU())\n",
    "\n",
    "model.add(L.Dense(100, kernel_initializer = 'uniform'))\n",
    "model.add(L.ReLU())\n",
    "\n",
    "model.add(L.Dense(10, kernel_initializer = 'uniform'))\n",
    "model.add(L.Softmax())\n",
    "\n",
    "opt = keras.optimizers.Adam(learning_rate=1e-4)\n",
    "# model.summary()\n",
    "model.compile(optimizer=opt, loss='sparse_categorical_crossentropy',\n",
    "               metrics=['sparse_categorical_accuracy'])"
   ]
  },
  {
   "cell_type": "code",
   "execution_count": 39,
   "metadata": {},
   "outputs": [
    {
     "name": "stdout",
     "output_type": "stream",
     "text": [
      "Train on 50000 samples, validate on 10000 samples\n",
      "Epoch 1/20\n",
      "50000/50000 [==============================] - 1s 27us/sample - loss: 2.2790 - sparse_categorical_accuracy: 0.2198 - val_loss: 2.0976 - val_sparse_categorical_accuracy: 0.2657\n",
      "Epoch 2/20\n",
      "50000/50000 [==============================] - 1s 12us/sample - loss: 1.4833 - sparse_categorical_accuracy: 0.3669 - val_loss: 1.1892 - val_sparse_categorical_accuracy: 0.4521\n",
      "Epoch 3/20\n",
      "50000/50000 [==============================] - 1s 12us/sample - loss: 1.1085 - sparse_categorical_accuracy: 0.4940 - val_loss: 1.0632 - val_sparse_categorical_accuracy: 0.5530\n",
      "Epoch 4/20\n",
      "50000/50000 [==============================] - 1s 12us/sample - loss: 1.0076 - sparse_categorical_accuracy: 0.5757 - val_loss: 0.9907 - val_sparse_categorical_accuracy: 0.5748\n",
      "Epoch 5/20\n",
      "50000/50000 [==============================] - 1s 12us/sample - loss: 0.9591 - sparse_categorical_accuracy: 0.5923 - val_loss: 0.9584 - val_sparse_categorical_accuracy: 0.5938\n",
      "Epoch 6/20\n",
      "50000/50000 [==============================] - 1s 12us/sample - loss: 0.9261 - sparse_categorical_accuracy: 0.6154 - val_loss: 0.9338 - val_sparse_categorical_accuracy: 0.6150\n",
      "Epoch 7/20\n",
      "50000/50000 [==============================] - 1s 12us/sample - loss: 0.9020 - sparse_categorical_accuracy: 0.6325 - val_loss: 0.9162 - val_sparse_categorical_accuracy: 0.6177\n",
      "Epoch 8/20\n",
      "50000/50000 [==============================] - 1s 12us/sample - loss: 0.8827 - sparse_categorical_accuracy: 0.6442 - val_loss: 0.8986 - val_sparse_categorical_accuracy: 0.6326\n",
      "Epoch 9/20\n",
      "50000/50000 [==============================] - 1s 12us/sample - loss: 0.8638 - sparse_categorical_accuracy: 0.6560 - val_loss: 0.8815 - val_sparse_categorical_accuracy: 0.6501\n",
      "Epoch 10/20\n",
      "50000/50000 [==============================] - 1s 12us/sample - loss: 0.8493 - sparse_categorical_accuracy: 0.6650 - val_loss: 0.8707 - val_sparse_categorical_accuracy: 0.6534\n",
      "Epoch 11/20\n",
      "50000/50000 [==============================] - 1s 12us/sample - loss: 0.8348 - sparse_categorical_accuracy: 0.6743 - val_loss: 0.8539 - val_sparse_categorical_accuracy: 0.6631\n",
      "Epoch 12/20\n",
      "50000/50000 [==============================] - 1s 12us/sample - loss: 0.8238 - sparse_categorical_accuracy: 0.6803 - val_loss: 0.8400 - val_sparse_categorical_accuracy: 0.6679\n",
      "Epoch 13/20\n",
      "50000/50000 [==============================] - 1s 12us/sample - loss: 0.8102 - sparse_categorical_accuracy: 0.6885 - val_loss: 0.8285 - val_sparse_categorical_accuracy: 0.6714\n",
      "Epoch 14/20\n",
      "50000/50000 [==============================] - 1s 12us/sample - loss: 0.8007 - sparse_categorical_accuracy: 0.6935 - val_loss: 0.8198 - val_sparse_categorical_accuracy: 0.6788\n",
      "Epoch 15/20\n",
      "50000/50000 [==============================] - 1s 12us/sample - loss: 0.7884 - sparse_categorical_accuracy: 0.6988 - val_loss: 0.8082 - val_sparse_categorical_accuracy: 0.6841\n",
      "Epoch 16/20\n",
      "50000/50000 [==============================] - 1s 12us/sample - loss: 0.7787 - sparse_categorical_accuracy: 0.7017 - val_loss: 0.7974 - val_sparse_categorical_accuracy: 0.6909\n",
      "Epoch 17/20\n",
      "50000/50000 [==============================] - 1s 12us/sample - loss: 0.7672 - sparse_categorical_accuracy: 0.7070 - val_loss: 0.7890 - val_sparse_categorical_accuracy: 0.6961\n",
      "Epoch 18/20\n",
      "50000/50000 [==============================] - 1s 12us/sample - loss: 0.7556 - sparse_categorical_accuracy: 0.7130 - val_loss: 0.7852 - val_sparse_categorical_accuracy: 0.6938\n",
      "Epoch 19/20\n",
      "50000/50000 [==============================] - 1s 12us/sample - loss: 0.7506 - sparse_categorical_accuracy: 0.7160 - val_loss: 0.7764 - val_sparse_categorical_accuracy: 0.7068\n",
      "Epoch 20/20\n",
      "50000/50000 [==============================] - 1s 12us/sample - loss: 0.7447 - sparse_categorical_accuracy: 0.7171 - val_loss: 0.7748 - val_sparse_categorical_accuracy: 0.7000\n"
     ]
    }
   ],
   "source": [
    "# model.variables\n",
    "history1 = model.fit(X_train, y_train, #validation_split= 0.2,\n",
    "            validation_data=(X_val, y_val),\n",
    "            batch_size=500, epochs=20, verbose=1)"
   ]
  },
  {
   "cell_type": "markdown",
   "metadata": {},
   "source": [
    "### Задание 2:\n",
    "\n",
    "Возьмите ту же нейросетку и в качестве инициализации используйте либо инициализацию Хе либо Глорота (в зависимости от выбранных вами функций активации). "
   ]
  },
  {
   "cell_type": "code",
   "execution_count": 44,
   "metadata": {},
   "outputs": [
    {
     "name": "stdout",
     "output_type": "stream",
     "text": [
      "Train on 50000 samples, validate on 10000 samples\n",
      "Epoch 1/20\n",
      "50000/50000 [==============================] - 1s 28us/sample - loss: 1.4363 - sparse_categorical_accuracy: 0.5475 - val_loss: 0.7614 - val_sparse_categorical_accuracy: 0.7348\n",
      "Epoch 2/20\n",
      "50000/50000 [==============================] - 1s 12us/sample - loss: 0.6244 - sparse_categorical_accuracy: 0.7843 - val_loss: 0.5559 - val_sparse_categorical_accuracy: 0.8122\n",
      "Epoch 3/20\n",
      "50000/50000 [==============================] - 1s 12us/sample - loss: 0.5113 - sparse_categorical_accuracy: 0.8231 - val_loss: 0.4936 - val_sparse_categorical_accuracy: 0.8292\n",
      "Epoch 4/20\n",
      "50000/50000 [==============================] - 1s 12us/sample - loss: 0.4663 - sparse_categorical_accuracy: 0.8380 - val_loss: 0.4622 - val_sparse_categorical_accuracy: 0.8399\n",
      "Epoch 5/20\n",
      "50000/50000 [==============================] - 1s 12us/sample - loss: 0.4376 - sparse_categorical_accuracy: 0.8476 - val_loss: 0.4395 - val_sparse_categorical_accuracy: 0.8456\n",
      "Epoch 6/20\n",
      "50000/50000 [==============================] - 1s 12us/sample - loss: 0.4159 - sparse_categorical_accuracy: 0.8556 - val_loss: 0.4254 - val_sparse_categorical_accuracy: 0.8517\n",
      "Epoch 7/20\n",
      "50000/50000 [==============================] - 1s 12us/sample - loss: 0.4016 - sparse_categorical_accuracy: 0.8603 - val_loss: 0.4140 - val_sparse_categorical_accuracy: 0.8549\n",
      "Epoch 8/20\n",
      "50000/50000 [==============================] - 1s 12us/sample - loss: 0.3884 - sparse_categorical_accuracy: 0.8648 - val_loss: 0.4037 - val_sparse_categorical_accuracy: 0.8582\n",
      "Epoch 9/20\n",
      "50000/50000 [==============================] - 1s 12us/sample - loss: 0.3805 - sparse_categorical_accuracy: 0.8671 - val_loss: 0.3980 - val_sparse_categorical_accuracy: 0.8606\n",
      "Epoch 10/20\n",
      "50000/50000 [==============================] - 1s 12us/sample - loss: 0.3693 - sparse_categorical_accuracy: 0.8698 - val_loss: 0.3898 - val_sparse_categorical_accuracy: 0.8610\n",
      "Epoch 11/20\n",
      "50000/50000 [==============================] - 1s 12us/sample - loss: 0.3587 - sparse_categorical_accuracy: 0.8736 - val_loss: 0.3855 - val_sparse_categorical_accuracy: 0.8626\n",
      "Epoch 12/20\n",
      "50000/50000 [==============================] - 1s 12us/sample - loss: 0.3525 - sparse_categorical_accuracy: 0.8758 - val_loss: 0.3774 - val_sparse_categorical_accuracy: 0.8634\n",
      "Epoch 13/20\n",
      "50000/50000 [==============================] - 1s 12us/sample - loss: 0.3450 - sparse_categorical_accuracy: 0.8782 - val_loss: 0.3721 - val_sparse_categorical_accuracy: 0.8668\n",
      "Epoch 14/20\n",
      "50000/50000 [==============================] - 1s 12us/sample - loss: 0.3398 - sparse_categorical_accuracy: 0.8790 - val_loss: 0.3718 - val_sparse_categorical_accuracy: 0.8682\n",
      "Epoch 15/20\n",
      "50000/50000 [==============================] - 1s 12us/sample - loss: 0.3338 - sparse_categorical_accuracy: 0.8812 - val_loss: 0.3693 - val_sparse_categorical_accuracy: 0.8678\n",
      "Epoch 16/20\n",
      "50000/50000 [==============================] - 1s 12us/sample - loss: 0.3276 - sparse_categorical_accuracy: 0.8836 - val_loss: 0.3606 - val_sparse_categorical_accuracy: 0.8713\n",
      "Epoch 17/20\n",
      "50000/50000 [==============================] - 1s 12us/sample - loss: 0.3208 - sparse_categorical_accuracy: 0.8857 - val_loss: 0.3577 - val_sparse_categorical_accuracy: 0.8735\n",
      "Epoch 18/20\n",
      "50000/50000 [==============================] - 1s 12us/sample - loss: 0.3171 - sparse_categorical_accuracy: 0.8861 - val_loss: 0.3618 - val_sparse_categorical_accuracy: 0.8706\n",
      "Epoch 19/20\n",
      "50000/50000 [==============================] - 1s 12us/sample - loss: 0.3121 - sparse_categorical_accuracy: 0.8898 - val_loss: 0.3553 - val_sparse_categorical_accuracy: 0.8697\n",
      "Epoch 20/20\n",
      "50000/50000 [==============================] - 1s 12us/sample - loss: 0.3081 - sparse_categorical_accuracy: 0.8890 - val_loss: 0.3587 - val_sparse_categorical_accuracy: 0.8722\n"
     ]
    }
   ],
   "source": [
    "### ╰( ͡° ͜ʖ ͡° )つ──☆*:・ﾟ  создайте сеть по инструкции выше\n",
    "tf.random.set_seed(42)\n",
    "model = Sequential() \n",
    "\n",
    "#model.add(L.InputLayer(shape=[28,28]))\n",
    "model.add(L.Flatten(input_shape=(28, 28)))\n",
    "\n",
    "init = 'he_uniform'\n",
    "\n",
    "model.add(L.Dense(100, kernel_initializer = init))\n",
    "model.add(L.ReLU())\n",
    "\n",
    "model.add(L.Dense(100, kernel_initializer = init))\n",
    "model.add(L.ReLU())\n",
    "\n",
    "model.add(L.Dense(100, kernel_initializer = init))\n",
    "model.add(L.ReLU())\n",
    "\n",
    "model.add(L.Dense(100, kernel_initializer = init))\n",
    "model.add(L.ReLU())\n",
    "\n",
    "model.add(L.Dense(100, kernel_initializer = init))\n",
    "model.add(L.ReLU())\n",
    "\n",
    "model.add(L.Dense(100, kernel_initializer = init))\n",
    "model.add(L.ReLU())\n",
    "\n",
    "model.add(L.Dense(10, kernel_initializer = init))\n",
    "model.add(L.Softmax())\n",
    "\n",
    "opt = keras.optimizers.Adam(learning_rate=1e-4)\n",
    "# model.summary()\n",
    "model.compile(optimizer=opt, loss='sparse_categorical_crossentropy',\n",
    "               metrics=['sparse_categorical_accuracy'])\n",
    "\n",
    "# model.variables\n",
    "history2 = model.fit(X_train, y_train, #validation_split= 0.2,\n",
    "            validation_data=(X_val, y_val),\n",
    "            batch_size=500, epochs=20, verbose=1)"
   ]
  },
  {
   "cell_type": "markdown",
   "metadata": {},
   "source": [
    "### Задание 3:\n",
    "\n",
    "Берём ту же самую сетку и добавляем в неё батч-нормализацию после каждго слоя. Инициализацию замените назад на равномерную. "
   ]
  },
  {
   "cell_type": "code",
   "execution_count": 47,
   "metadata": {},
   "outputs": [
    {
     "name": "stdout",
     "output_type": "stream",
     "text": [
      "Train on 50000 samples, validate on 10000 samples\n",
      "Epoch 1/20\n",
      "50000/50000 [==============================] - 3s 58us/sample - loss: 1.6123 - sparse_categorical_accuracy: 0.6436 - val_loss: 2.3020 - val_sparse_categorical_accuracy: 0.0997\n",
      "Epoch 2/20\n",
      "50000/50000 [==============================] - 1s 23us/sample - loss: 0.9674 - sparse_categorical_accuracy: 0.8097 - val_loss: 2.2624 - val_sparse_categorical_accuracy: 0.1533\n",
      "Epoch 3/20\n",
      "50000/50000 [==============================] - 1s 23us/sample - loss: 0.6992 - sparse_categorical_accuracy: 0.8533 - val_loss: 1.8237 - val_sparse_categorical_accuracy: 0.6664\n",
      "Epoch 4/20\n",
      "50000/50000 [==============================] - 1s 23us/sample - loss: 0.5539 - sparse_categorical_accuracy: 0.8709 - val_loss: 0.9557 - val_sparse_categorical_accuracy: 0.8595\n",
      "Epoch 5/20\n",
      "50000/50000 [==============================] - 1s 23us/sample - loss: 0.4659 - sparse_categorical_accuracy: 0.8813 - val_loss: 0.5919 - val_sparse_categorical_accuracy: 0.8673\n",
      "Epoch 6/20\n",
      "50000/50000 [==============================] - 1s 23us/sample - loss: 0.4081 - sparse_categorical_accuracy: 0.8903 - val_loss: 0.4640 - val_sparse_categorical_accuracy: 0.8701\n",
      "Epoch 7/20\n",
      "50000/50000 [==============================] - 1s 23us/sample - loss: 0.3663 - sparse_categorical_accuracy: 0.8968 - val_loss: 0.4285 - val_sparse_categorical_accuracy: 0.8726\n",
      "Epoch 8/20\n",
      "50000/50000 [==============================] - 1s 23us/sample - loss: 0.3338 - sparse_categorical_accuracy: 0.9022 - val_loss: 0.4070 - val_sparse_categorical_accuracy: 0.8731\n",
      "Epoch 9/20\n",
      "50000/50000 [==============================] - 1s 23us/sample - loss: 0.3108 - sparse_categorical_accuracy: 0.9067 - val_loss: 0.3766 - val_sparse_categorical_accuracy: 0.8813\n",
      "Epoch 10/20\n",
      "50000/50000 [==============================] - 1s 23us/sample - loss: 0.2888 - sparse_categorical_accuracy: 0.9120 - val_loss: 0.3891 - val_sparse_categorical_accuracy: 0.8741\n",
      "Epoch 11/20\n",
      "50000/50000 [==============================] - 1s 23us/sample - loss: 0.2677 - sparse_categorical_accuracy: 0.9160 - val_loss: 0.3724 - val_sparse_categorical_accuracy: 0.8801\n",
      "Epoch 12/20\n",
      "50000/50000 [==============================] - 1s 23us/sample - loss: 0.2524 - sparse_categorical_accuracy: 0.9213 - val_loss: 0.3606 - val_sparse_categorical_accuracy: 0.8798\n",
      "Epoch 13/20\n",
      "50000/50000 [==============================] - 1s 24us/sample - loss: 0.2391 - sparse_categorical_accuracy: 0.9240 - val_loss: 0.3732 - val_sparse_categorical_accuracy: 0.8773\n",
      "Epoch 14/20\n",
      "50000/50000 [==============================] - 1s 23us/sample - loss: 0.2241 - sparse_categorical_accuracy: 0.9297 - val_loss: 0.3538 - val_sparse_categorical_accuracy: 0.8818\n",
      "Epoch 15/20\n",
      "50000/50000 [==============================] - 1s 23us/sample - loss: 0.2115 - sparse_categorical_accuracy: 0.9340 - val_loss: 0.3669 - val_sparse_categorical_accuracy: 0.8811\n",
      "Epoch 16/20\n",
      "50000/50000 [==============================] - 1s 23us/sample - loss: 0.2018 - sparse_categorical_accuracy: 0.9362 - val_loss: 0.3616 - val_sparse_categorical_accuracy: 0.8813\n",
      "Epoch 17/20\n",
      "50000/50000 [==============================] - 1s 23us/sample - loss: 0.1865 - sparse_categorical_accuracy: 0.9423 - val_loss: 0.3643 - val_sparse_categorical_accuracy: 0.8815\n",
      "Epoch 18/20\n",
      "50000/50000 [==============================] - 1s 24us/sample - loss: 0.1806 - sparse_categorical_accuracy: 0.9428 - val_loss: 0.3550 - val_sparse_categorical_accuracy: 0.8839\n",
      "Epoch 19/20\n",
      "50000/50000 [==============================] - 1s 24us/sample - loss: 0.1702 - sparse_categorical_accuracy: 0.9467 - val_loss: 0.3684 - val_sparse_categorical_accuracy: 0.8770\n",
      "Epoch 20/20\n",
      "50000/50000 [==============================] - 1s 24us/sample - loss: 0.1612 - sparse_categorical_accuracy: 0.9492 - val_loss: 0.3740 - val_sparse_categorical_accuracy: 0.8769\n"
     ]
    }
   ],
   "source": [
    "### ╰( ͡° ͜ʖ ͡° )つ──☆*:・ﾟ  создайте сеть по инструкции выше\n",
    "tf.random.set_seed(42)\n",
    "model = Sequential() \n",
    "\n",
    "#model.add(L.InputLayer(shape=[28,28]))\n",
    "model.add(L.Flatten(input_shape=(28, 28)))\n",
    "\n",
    "init = 'uniform'\n",
    "\n",
    "model.add(L.Dense(100, kernel_initializer = init))\n",
    "model.add(L.BatchNormalization())\n",
    "model.add(L.ReLU())\n",
    "\n",
    "model.add(L.Dense(100, kernel_initializer = init))\n",
    "model.add(L.BatchNormalization())\n",
    "model.add(L.ReLU())\n",
    "\n",
    "model.add(L.Dense(100, kernel_initializer = init))\n",
    "model.add(L.BatchNormalization())\n",
    "model.add(L.ReLU())\n",
    "\n",
    "model.add(L.Dense(100, kernel_initializer = init))\n",
    "model.add(L.BatchNormalization())\n",
    "model.add(L.ReLU())\n",
    "\n",
    "model.add(L.Dense(100, kernel_initializer = init))\n",
    "model.add(L.BatchNormalization())\n",
    "model.add(L.ReLU())\n",
    "\n",
    "model.add(L.Dense(100, kernel_initializer = init))\n",
    "model.add(L.BatchNormalization())\n",
    "model.add(L.ReLU())\n",
    "\n",
    "model.add(L.Dense(10, kernel_initializer = init))\n",
    "model.add(L.Softmax())\n",
    "\n",
    "opt = keras.optimizers.Adam(learning_rate=1e-4)\n",
    "# model.summary()\n",
    "model.compile(optimizer=opt, loss='sparse_categorical_crossentropy',\n",
    "               metrics=['sparse_categorical_accuracy'])\n",
    "\n",
    "# model.variables\n",
    "history3 = model.fit(X_train, y_train, #validation_split= 0.2,\n",
    "            validation_data=(X_val, y_val),\n",
    "            batch_size=500, epochs=20, verbose=1)"
   ]
  },
  {
   "cell_type": "markdown",
   "metadata": {},
   "source": [
    "### Задание 4:\n",
    "\n",
    "А теперь сразу и инициализация и батч-нормализация."
   ]
  },
  {
   "cell_type": "code",
   "execution_count": 48,
   "metadata": {},
   "outputs": [
    {
     "name": "stdout",
     "output_type": "stream",
     "text": [
      "Train on 50000 samples, validate on 10000 samples\n",
      "Epoch 1/20\n",
      "50000/50000 [==============================] - 3s 53us/sample - loss: 1.6176 - sparse_categorical_accuracy: 0.4924 - val_loss: 1.6253 - val_sparse_categorical_accuracy: 0.5952\n",
      "Epoch 2/20\n",
      "50000/50000 [==============================] - 1s 24us/sample - loss: 0.8757 - sparse_categorical_accuracy: 0.7407 - val_loss: 0.9539 - val_sparse_categorical_accuracy: 0.7324\n",
      "Epoch 3/20\n",
      "50000/50000 [==============================] - 1s 24us/sample - loss: 0.6628 - sparse_categorical_accuracy: 0.7923 - val_loss: 0.6768 - val_sparse_categorical_accuracy: 0.7865\n",
      "Epoch 4/20\n",
      "50000/50000 [==============================] - 1s 24us/sample - loss: 0.5582 - sparse_categorical_accuracy: 0.8178 - val_loss: 0.5630 - val_sparse_categorical_accuracy: 0.8136\n",
      "Epoch 5/20\n",
      "50000/50000 [==============================] - 1s 24us/sample - loss: 0.4960 - sparse_categorical_accuracy: 0.8336 - val_loss: 0.5029 - val_sparse_categorical_accuracy: 0.8268\n",
      "Epoch 6/20\n",
      "50000/50000 [==============================] - 1s 25us/sample - loss: 0.4525 - sparse_categorical_accuracy: 0.8472 - val_loss: 0.4691 - val_sparse_categorical_accuracy: 0.8393\n",
      "Epoch 7/20\n",
      "50000/50000 [==============================] - 1s 24us/sample - loss: 0.4200 - sparse_categorical_accuracy: 0.8553 - val_loss: 0.4424 - val_sparse_categorical_accuracy: 0.8442\n",
      "Epoch 8/20\n",
      "50000/50000 [==============================] - 1s 25us/sample - loss: 0.3952 - sparse_categorical_accuracy: 0.8636 - val_loss: 0.4224 - val_sparse_categorical_accuracy: 0.8516\n",
      "Epoch 9/20\n",
      "50000/50000 [==============================] - 1s 24us/sample - loss: 0.3756 - sparse_categorical_accuracy: 0.8698 - val_loss: 0.4074 - val_sparse_categorical_accuracy: 0.8554\n",
      "Epoch 10/20\n",
      "50000/50000 [==============================] - 1s 25us/sample - loss: 0.3576 - sparse_categorical_accuracy: 0.8756 - val_loss: 0.4000 - val_sparse_categorical_accuracy: 0.8579\n",
      "Epoch 11/20\n",
      "50000/50000 [==============================] - 1s 25us/sample - loss: 0.3426 - sparse_categorical_accuracy: 0.8798 - val_loss: 0.3883 - val_sparse_categorical_accuracy: 0.8615\n",
      "Epoch 12/20\n",
      "50000/50000 [==============================] - 1s 25us/sample - loss: 0.3303 - sparse_categorical_accuracy: 0.8845 - val_loss: 0.3853 - val_sparse_categorical_accuracy: 0.8615\n",
      "Epoch 13/20\n",
      "50000/50000 [==============================] - 1s 25us/sample - loss: 0.3183 - sparse_categorical_accuracy: 0.8881 - val_loss: 0.3751 - val_sparse_categorical_accuracy: 0.8656\n",
      "Epoch 14/20\n",
      "50000/50000 [==============================] - 1s 25us/sample - loss: 0.3074 - sparse_categorical_accuracy: 0.8911 - val_loss: 0.3770 - val_sparse_categorical_accuracy: 0.8653\n",
      "Epoch 15/20\n",
      "50000/50000 [==============================] - 1s 25us/sample - loss: 0.2967 - sparse_categorical_accuracy: 0.8954 - val_loss: 0.3714 - val_sparse_categorical_accuracy: 0.8668\n",
      "Epoch 16/20\n",
      "50000/50000 [==============================] - 1s 26us/sample - loss: 0.2881 - sparse_categorical_accuracy: 0.8985 - val_loss: 0.3701 - val_sparse_categorical_accuracy: 0.8685\n",
      "Epoch 17/20\n",
      "50000/50000 [==============================] - 1s 25us/sample - loss: 0.2779 - sparse_categorical_accuracy: 0.9025 - val_loss: 0.3667 - val_sparse_categorical_accuracy: 0.8695\n",
      "Epoch 18/20\n",
      "50000/50000 [==============================] - 1s 25us/sample - loss: 0.2716 - sparse_categorical_accuracy: 0.9045 - val_loss: 0.3594 - val_sparse_categorical_accuracy: 0.8711\n",
      "Epoch 19/20\n",
      "50000/50000 [==============================] - 1s 25us/sample - loss: 0.2633 - sparse_categorical_accuracy: 0.9069 - val_loss: 0.3643 - val_sparse_categorical_accuracy: 0.8709\n",
      "Epoch 20/20\n",
      "50000/50000 [==============================] - 1s 25us/sample - loss: 0.2545 - sparse_categorical_accuracy: 0.9112 - val_loss: 0.3561 - val_sparse_categorical_accuracy: 0.8737\n"
     ]
    }
   ],
   "source": [
    "### ╰( ͡° ͜ʖ ͡° )つ──☆*:・ﾟ  создайте сеть по инструкции выше\n",
    "tf.random.set_seed(42)\n",
    "model = Sequential() \n",
    "\n",
    "#model.add(L.InputLayer(shape=[28,28]))\n",
    "model.add(L.Flatten(input_shape=(28, 28)))\n",
    "\n",
    "init = 'he_uniform'\n",
    "\n",
    "model.add(L.Dense(100, kernel_initializer = init))\n",
    "model.add(L.BatchNormalization())\n",
    "model.add(L.ReLU())\n",
    "\n",
    "model.add(L.Dense(100, kernel_initializer = init))\n",
    "model.add(L.BatchNormalization())\n",
    "model.add(L.ReLU())\n",
    "\n",
    "model.add(L.Dense(100, kernel_initializer = init))\n",
    "model.add(L.BatchNormalization())\n",
    "model.add(L.ReLU())\n",
    "\n",
    "model.add(L.Dense(100, kernel_initializer = init))\n",
    "model.add(L.BatchNormalization())\n",
    "model.add(L.ReLU())\n",
    "\n",
    "model.add(L.Dense(100, kernel_initializer = init))\n",
    "model.add(L.BatchNormalization())\n",
    "model.add(L.ReLU())\n",
    "\n",
    "model.add(L.Dense(100, kernel_initializer = init))\n",
    "model.add(L.BatchNormalization())\n",
    "model.add(L.ReLU())\n",
    "\n",
    "model.add(L.Dense(10, kernel_initializer = init))\n",
    "model.add(L.Softmax())\n",
    "\n",
    "opt = keras.optimizers.Adam(learning_rate=1e-4)\n",
    "# model.summary()\n",
    "model.compile(optimizer=opt, loss='sparse_categorical_crossentropy',\n",
    "               metrics=['sparse_categorical_accuracy'])\n",
    "\n",
    "# model.variables\n",
    "history4 = model.fit(X_train, y_train, #validation_split= 0.2,\n",
    "            validation_data=(X_val, y_val),\n",
    "            batch_size=500, epochs=20, verbose=1)"
   ]
  },
  {
   "cell_type": "markdown",
   "metadata": {},
   "source": [
    "### Задание 5:\n",
    "\n",
    "Дело осталось за малым. Нарисовать траектории обучения всех сеток на одной картинке и сравнить их между собой."
   ]
  },
  {
   "cell_type": "code",
   "execution_count": 49,
   "metadata": {},
   "outputs": [
    {
     "data": {
      "image/png": "[encoded data removed]",
      "text/plain": [
       "<Figure size 1152x720 with 1 Axes>"
      ]
     },
     "metadata": {
      "needs_background": "light"
     },
     "output_type": "display_data"
    }
   ],
   "source": [
    "plot_history([('uniform',    history1), \n",
    "              ('he_uniform', history2),\n",
    "              ('batch_norm', history3),\n",
    "              ('together',   history4)\n",
    "             ],\n",
    "             start=0)"
   ]
  },
  {
   "cell_type": "markdown",
   "metadata": {},
   "source": [
    "## 2. Функции активации  \n",
    "\n",
    "### Задание 6:\n",
    "\n",
    "Давайте попробуем поймать эффект, когда у нашей нейронки наступает паралич. Возьмите самый первый вариант нейросетки и замените все функции активации на сигмоиды. \n",
    "\n"
   ]
  },
  {
   "cell_type": "code",
   "execution_count": 50,
   "metadata": {
    "scrolled": false
   },
   "outputs": [
    {
     "name": "stdout",
     "output_type": "stream",
     "text": [
      "Train on 50000 samples, validate on 10000 samples\n",
      "Epoch 1/20\n",
      "50000/50000 [==============================] - 2s 32us/sample - loss: 2.3037 - sparse_categorical_accuracy: 0.0985 - val_loss: 2.3026 - val_sparse_categorical_accuracy: 0.1008\n",
      "Epoch 2/20\n",
      "50000/50000 [==============================] - 1s 13us/sample - loss: 2.3029 - sparse_categorical_accuracy: 0.0996 - val_loss: 2.3028 - val_sparse_categorical_accuracy: 0.1002\n",
      "Epoch 3/20\n",
      "50000/50000 [==============================] - 1s 13us/sample - loss: 2.3029 - sparse_categorical_accuracy: 0.0968 - val_loss: 2.3028 - val_sparse_categorical_accuracy: 0.0947\n",
      "Epoch 4/20\n",
      "50000/50000 [==============================] - 1s 12us/sample - loss: 2.3028 - sparse_categorical_accuracy: 0.0999 - val_loss: 2.3027 - val_sparse_categorical_accuracy: 0.1001\n",
      "Epoch 5/20\n",
      "50000/50000 [==============================] - 1s 12us/sample - loss: 2.3029 - sparse_categorical_accuracy: 0.0971 - val_loss: 2.3027 - val_sparse_categorical_accuracy: 0.0997\n",
      "Epoch 6/20\n",
      "50000/50000 [==============================] - 1s 12us/sample - loss: 2.3028 - sparse_categorical_accuracy: 0.0986 - val_loss: 2.3026 - val_sparse_categorical_accuracy: 0.0997\n",
      "Epoch 7/20\n",
      "50000/50000 [==============================] - 1s 12us/sample - loss: 2.3028 - sparse_categorical_accuracy: 0.0956 - val_loss: 2.3028 - val_sparse_categorical_accuracy: 0.0947\n",
      "Epoch 8/20\n",
      "50000/50000 [==============================] - 1s 12us/sample - loss: 2.3028 - sparse_categorical_accuracy: 0.0977 - val_loss: 2.3027 - val_sparse_categorical_accuracy: 0.0947\n",
      "Epoch 9/20\n",
      "50000/50000 [==============================] - 1s 12us/sample - loss: 2.3028 - sparse_categorical_accuracy: 0.0995 - val_loss: 2.3028 - val_sparse_categorical_accuracy: 0.1001\n",
      "Epoch 10/20\n",
      "50000/50000 [==============================] - 1s 12us/sample - loss: 2.3029 - sparse_categorical_accuracy: 0.0978 - val_loss: 2.3027 - val_sparse_categorical_accuracy: 0.1016\n",
      "Epoch 11/20\n",
      "50000/50000 [==============================] - 1s 12us/sample - loss: 2.3028 - sparse_categorical_accuracy: 0.0973 - val_loss: 2.3027 - val_sparse_categorical_accuracy: 0.1002\n",
      "Epoch 12/20\n",
      "50000/50000 [==============================] - 1s 12us/sample - loss: 2.3029 - sparse_categorical_accuracy: 0.0986 - val_loss: 2.3029 - val_sparse_categorical_accuracy: 0.1001\n",
      "Epoch 13/20\n",
      "50000/50000 [==============================] - 1s 12us/sample - loss: 2.3028 - sparse_categorical_accuracy: 0.1008 - val_loss: 2.3028 - val_sparse_categorical_accuracy: 0.0947\n",
      "Epoch 14/20\n",
      "50000/50000 [==============================] - 1s 12us/sample - loss: 2.3028 - sparse_categorical_accuracy: 0.0982 - val_loss: 2.3027 - val_sparse_categorical_accuracy: 0.1008\n",
      "Epoch 15/20\n",
      "50000/50000 [==============================] - 1s 13us/sample - loss: 2.3028 - sparse_categorical_accuracy: 0.0990 - val_loss: 2.3027 - val_sparse_categorical_accuracy: 0.1001\n",
      "Epoch 16/20\n",
      "50000/50000 [==============================] - 1s 12us/sample - loss: 2.3029 - sparse_categorical_accuracy: 0.0994 - val_loss: 2.3029 - val_sparse_categorical_accuracy: 0.1008\n",
      "Epoch 17/20\n",
      "50000/50000 [==============================] - 1s 12us/sample - loss: 2.3029 - sparse_categorical_accuracy: 0.0999 - val_loss: 2.3027 - val_sparse_categorical_accuracy: 0.0997\n",
      "Epoch 18/20\n",
      "50000/50000 [==============================] - 1s 12us/sample - loss: 2.3029 - sparse_categorical_accuracy: 0.0971 - val_loss: 2.3027 - val_sparse_categorical_accuracy: 0.1002\n",
      "Epoch 19/20\n",
      "50000/50000 [==============================] - 1s 12us/sample - loss: 2.3028 - sparse_categorical_accuracy: 0.0977 - val_loss: 2.3028 - val_sparse_categorical_accuracy: 0.0947\n",
      "Epoch 20/20\n",
      "50000/50000 [==============================] - 1s 12us/sample - loss: 2.3029 - sparse_categorical_accuracy: 0.0997 - val_loss: 2.3027 - val_sparse_categorical_accuracy: 0.0997\n"
     ]
    }
   ],
   "source": [
    "### ╰( ͡° ͜ʖ ͡° )つ──☆*:・ﾟ  создайте сеть по инструкции выше\n",
    "tf.random.set_seed(42)\n",
    "model = Sequential() \n",
    "\n",
    "act = 'sigmoid'\n",
    "\n",
    "#model.add(L.InputLayer(shape=[28,28]))\n",
    "model.add(L.Flatten(input_shape=(28, 28)))\n",
    "\n",
    "model.add(L.Dense(100, kernel_initializer = 'uniform',\n",
    "                        activation=act))\n",
    "model.add(L.Dense(100, kernel_initializer = 'uniform',\n",
    "                        activation=act))\n",
    "model.add(L.Dense(100, kernel_initializer = 'uniform',\n",
    "                        activation=act))\n",
    "model.add(L.Dense(100, kernel_initializer = 'uniform',\n",
    "                        activation=act))\n",
    "model.add(L.Dense(100, kernel_initializer = 'uniform',\n",
    "                        activation=act))\n",
    "model.add(L.Dense(100, kernel_initializer = 'uniform',\n",
    "                        activation=act))\n",
    "\n",
    "model.add(L.Dense(10, kernel_initializer = 'uniform',\n",
    "                        activation='softmax'))\n",
    "\n",
    "opt = keras.optimizers.Adam(learning_rate=1e-4)\n",
    "\n",
    "model.compile(optimizer=opt, loss='sparse_categorical_crossentropy',\n",
    "               metrics=['sparse_categorical_accuracy'])\n",
    "\n",
    "history5 = model.fit(X_train, y_train, #validation_split= 0.2,\n",
    "            validation_data=(X_val, y_val),\n",
    "            batch_size=500, epochs=20, verbose=1)"
   ]
  },
  {
   "cell_type": "markdown",
   "metadata": {},
   "source": [
    "### Задание 7:  \n",
    "\n",
    "Теперь попробуем взять вместо сигмоид elu"
   ]
  },
  {
   "cell_type": "code",
   "execution_count": 51,
   "metadata": {},
   "outputs": [
    {
     "name": "stdout",
     "output_type": "stream",
     "text": [
      "Train on 50000 samples, validate on 10000 samples\n",
      "Epoch 1/20\n",
      "50000/50000 [==============================] - 1s 24us/sample - loss: 2.1243 - sparse_categorical_accuracy: 0.2255 - val_loss: 1.7067 - val_sparse_categorical_accuracy: 0.1962\n",
      "Epoch 2/20\n",
      "50000/50000 [==============================] - 1s 13us/sample - loss: 1.6374 - sparse_categorical_accuracy: 0.2337 - val_loss: 1.5277 - val_sparse_categorical_accuracy: 0.3736\n",
      "Epoch 3/20\n",
      "50000/50000 [==============================] - 1s 13us/sample - loss: 1.2166 - sparse_categorical_accuracy: 0.4786 - val_loss: 1.0278 - val_sparse_categorical_accuracy: 0.5876\n",
      "Epoch 4/20\n",
      "50000/50000 [==============================] - 1s 13us/sample - loss: 0.9650 - sparse_categorical_accuracy: 0.6103 - val_loss: 0.9246 - val_sparse_categorical_accuracy: 0.6359\n",
      "Epoch 5/20\n",
      "50000/50000 [==============================] - 1s 13us/sample - loss: 0.8928 - sparse_categorical_accuracy: 0.6488 - val_loss: 0.8776 - val_sparse_categorical_accuracy: 0.6557\n",
      "Epoch 6/20\n",
      "50000/50000 [==============================] - 1s 13us/sample - loss: 0.8440 - sparse_categorical_accuracy: 0.6753 - val_loss: 0.8344 - val_sparse_categorical_accuracy: 0.6797\n",
      "Epoch 7/20\n",
      "50000/50000 [==============================] - 1s 13us/sample - loss: 0.8036 - sparse_categorical_accuracy: 0.6958 - val_loss: 0.8004 - val_sparse_categorical_accuracy: 0.6927\n",
      "Epoch 8/20\n",
      "50000/50000 [==============================] - 1s 13us/sample - loss: 0.7706 - sparse_categorical_accuracy: 0.7116 - val_loss: 0.7692 - val_sparse_categorical_accuracy: 0.7092\n",
      "Epoch 9/20\n",
      "50000/50000 [==============================] - 1s 13us/sample - loss: 0.7417 - sparse_categorical_accuracy: 0.7243 - val_loss: 0.7449 - val_sparse_categorical_accuracy: 0.7217\n",
      "Epoch 10/20\n",
      "50000/50000 [==============================] - 1s 13us/sample - loss: 0.7173 - sparse_categorical_accuracy: 0.7347 - val_loss: 0.7229 - val_sparse_categorical_accuracy: 0.7307\n",
      "Epoch 11/20\n",
      "50000/50000 [==============================] - 1s 13us/sample - loss: 0.6947 - sparse_categorical_accuracy: 0.7444 - val_loss: 0.7055 - val_sparse_categorical_accuracy: 0.7336\n",
      "Epoch 12/20\n",
      "50000/50000 [==============================] - 1s 13us/sample - loss: 0.6751 - sparse_categorical_accuracy: 0.7521 - val_loss: 0.6806 - val_sparse_categorical_accuracy: 0.7476\n",
      "Epoch 13/20\n",
      "50000/50000 [==============================] - 1s 13us/sample - loss: 0.6537 - sparse_categorical_accuracy: 0.7621 - val_loss: 0.6584 - val_sparse_categorical_accuracy: 0.7576\n",
      "Epoch 14/20\n",
      "50000/50000 [==============================] - 1s 13us/sample - loss: 0.6341 - sparse_categorical_accuracy: 0.7715 - val_loss: 0.6388 - val_sparse_categorical_accuracy: 0.7681\n",
      "Epoch 15/20\n",
      "50000/50000 [==============================] - 1s 13us/sample - loss: 0.6167 - sparse_categorical_accuracy: 0.7776 - val_loss: 0.6242 - val_sparse_categorical_accuracy: 0.7754\n",
      "Epoch 16/20\n",
      "50000/50000 [==============================] - 1s 13us/sample - loss: 0.6018 - sparse_categorical_accuracy: 0.7826 - val_loss: 0.6175 - val_sparse_categorical_accuracy: 0.7738\n",
      "Epoch 17/20\n",
      "50000/50000 [==============================] - 1s 13us/sample - loss: 0.5917 - sparse_categorical_accuracy: 0.7868 - val_loss: 0.6022 - val_sparse_categorical_accuracy: 0.7829\n",
      "Epoch 18/20\n",
      "50000/50000 [==============================] - 1s 13us/sample - loss: 0.5823 - sparse_categorical_accuracy: 0.7889 - val_loss: 0.6061 - val_sparse_categorical_accuracy: 0.7821\n",
      "Epoch 19/20\n",
      "50000/50000 [==============================] - 1s 13us/sample - loss: 0.5753 - sparse_categorical_accuracy: 0.7915 - val_loss: 0.5899 - val_sparse_categorical_accuracy: 0.7867\n",
      "Epoch 20/20\n",
      "50000/50000 [==============================] - 1s 13us/sample - loss: 0.5670 - sparse_categorical_accuracy: 0.7949 - val_loss: 0.5809 - val_sparse_categorical_accuracy: 0.7884\n"
     ]
    }
   ],
   "source": [
    "### ╰( ͡° ͜ʖ ͡° )つ──☆*:・ﾟ  создайте сеть по инструкции выше\n",
    "tf.random.set_seed(42)\n",
    "model = Sequential() \n",
    "\n",
    "act = 'elu'\n",
    "\n",
    "#model.add(L.InputLayer(shape=[28,28]))\n",
    "model.add(L.Flatten(input_shape=(28, 28)))\n",
    "\n",
    "model.add(L.Dense(100, kernel_initializer = 'uniform',\n",
    "                        activation=act))\n",
    "model.add(L.Dense(100, kernel_initializer = 'uniform',\n",
    "                        activation=act))\n",
    "model.add(L.Dense(100, kernel_initializer = 'uniform',\n",
    "                        activation=act))\n",
    "model.add(L.Dense(100, kernel_initializer = 'uniform',\n",
    "                        activation=act))\n",
    "model.add(L.Dense(100, kernel_initializer = 'uniform',\n",
    "                        activation=act))\n",
    "model.add(L.Dense(100, kernel_initializer = 'uniform',\n",
    "                        activation=act))\n",
    "\n",
    "model.add(L.Dense(10, kernel_initializer = 'uniform',\n",
    "                        activation='softmax'))\n",
    "\n",
    "opt = keras.optimizers.Adam(learning_rate=1e-4)\n",
    "\n",
    "model.compile(optimizer=opt, loss='sparse_categorical_crossentropy',\n",
    "               metrics=['sparse_categorical_accuracy'])\n",
    "\n",
    "history6 = model.fit(X_train, y_train, #validation_split= 0.2,\n",
    "            validation_data=(X_val, y_val),\n",
    "            batch_size=500, epochs=20, verbose=1)"
   ]
  },
  {
   "cell_type": "markdown",
   "metadata": {},
   "source": [
    "### Задание 8:\n",
    "\n",
    "Снова сравниваем модели между собой."
   ]
  },
  {
   "cell_type": "code",
   "execution_count": 52,
   "metadata": {},
   "outputs": [
    {
     "data": {
      "image/png": "[encoded data removed]",
      "text/plain": [
       "<Figure size 1152x720 with 1 Axes>"
      ]
     },
     "metadata": {
      "needs_background": "light"
     },
     "output_type": "display_data"
    }
   ],
   "source": [
    "plot_history([('relu',   history1), \n",
    "              ('sigmoid', history5),\n",
    "              ('elu',   history6),\n",
    "             ],\n",
    "             start=0)"
   ]
  },
  {
   "cell_type": "markdown",
   "metadata": {},
   "source": [
    "# 3. Keras бывет разным, про skip-connection\n",
    "\n",
    "На первой паре мы с вами говорили, что в Keras задавать модели можно по-разному. Второй способ делать это: функциональный стиль. Он даёт на порядок больше возможностей. Давайте посмотрим как это выглядит и попробуем собрать пару моделей. "
   ]
  },
  {
   "cell_type": "code",
   "execution_count": 53,
   "metadata": {},
   "outputs": [],
   "source": [
    "init = 'uniform'\n",
    "act = 'relu'\n",
    "\n",
    "input_tensor = L.Input(shape=(28, 28))\n",
    "\n",
    "x = L.Flatten()(input_tensor)\n",
    "x = L.Dense(100, kernel_initializer=init, activation=act)(x)\n",
    "x = L.Dense(100, kernel_initializer=init, activation=act)(x)\n",
    "x = L.Dense(100, kernel_initializer=init, activation=act)(x)\n",
    "x = L.Dense(100, kernel_initializer=init, activation=act)(x)\n",
    "x = L.Dense(100, kernel_initializer=init, activation=act)(x)\n",
    "x = L.Dense(100, kernel_initializer=init, activation=act)(x)\n",
    "output_tensor = L.Dense(10, kernel_initializer=init, \n",
    "                        activation='softmax')(x)\n",
    "\n",
    "model = keras.Model(input_tensor, output_tensor)"
   ]
  },
  {
   "cell_type": "code",
   "execution_count": 54,
   "metadata": {},
   "outputs": [
    {
     "name": "stdout",
     "output_type": "stream",
     "text": [
      "Train on 50000 samples, validate on 10000 samples\n",
      "50000/50000 [==============================] - 1s 23us/sample - loss: 1.5006 - sparse_categorical_accuracy: 0.3747 - val_loss: 1.1101 - val_sparse_categorical_accuracy: 0.5256\n"
     ]
    },
    {
     "data": {
      "text/plain": [
       "<tensorflow.python.keras.callbacks.History at 0x144d846d8>"
      ]
     },
     "execution_count": 54,
     "metadata": {},
     "output_type": "execute_result"
    }
   ],
   "source": [
    "model.compile(\"adam\", \"sparse_categorical_crossentropy\", metrics=[\"sparse_categorical_accuracy\"])\n",
    "\n",
    "model.fit(X_train, y_train, validation_data=(X_val, y_val), epochs=1, batch_size=500, verbose=1)"
   ]
  },
  {
   "cell_type": "markdown",
   "metadata": {},
   "source": [
    "Помните статью про то, как люди рисовали функции потерь? [Теперь появилась галерея!](https://losslandscape.com/gallery/) На паре про градиентный спуск мы говорили, что skip-connection довольно здорово меняет ландшафт функции потерь. \n",
    "\n",
    "![](https://i.stack.imgur.com/UDvbg.png)\n",
    "\n",
    "Такую модель нельзя собрать через `Sequence`-стиль, но можно через функциональный стиль. Давайте попробуем сделать это. Заодно посмотрим насколько сильно в нашей ситуации будет меняться траектория обучения. "
   ]
  },
  {
   "cell_type": "code",
   "execution_count": 58,
   "metadata": {},
   "outputs": [
    {
     "name": "stdout",
     "output_type": "stream",
     "text": [
      "Train on 50000 samples, validate on 10000 samples\n",
      "Epoch 1/20\n",
      "50000/50000 [==============================] - 1s 29us/sample - loss: 0.6830 - sparse_categorical_accuracy: 0.7591 - val_loss: 0.4752 - val_sparse_categorical_accuracy: 0.8278\n",
      "Epoch 2/20\n",
      "50000/50000 [==============================] - 1s 18us/sample - loss: 0.4529 - sparse_categorical_accuracy: 0.8387 - val_loss: 0.4382 - val_sparse_categorical_accuracy: 0.8442\n",
      "Epoch 3/20\n",
      "50000/50000 [==============================] - 1s 18us/sample - loss: 0.4127 - sparse_categorical_accuracy: 0.8535 - val_loss: 0.4123 - val_sparse_categorical_accuracy: 0.8526\n",
      "Epoch 4/20\n",
      "50000/50000 [==============================] - 1s 18us/sample - loss: 0.3926 - sparse_categorical_accuracy: 0.8618 - val_loss: 0.3965 - val_sparse_categorical_accuracy: 0.8579\n",
      "Epoch 5/20\n",
      "50000/50000 [==============================] - 1s 17us/sample - loss: 0.3761 - sparse_categorical_accuracy: 0.8663 - val_loss: 0.3813 - val_sparse_categorical_accuracy: 0.8623\n",
      "Epoch 6/20\n",
      "50000/50000 [==============================] - 1s 17us/sample - loss: 0.3633 - sparse_categorical_accuracy: 0.8708 - val_loss: 0.3828 - val_sparse_categorical_accuracy: 0.8606\n",
      "Epoch 7/20\n",
      "50000/50000 [==============================] - 1s 17us/sample - loss: 0.3548 - sparse_categorical_accuracy: 0.8740 - val_loss: 0.3680 - val_sparse_categorical_accuracy: 0.8672\n",
      "Epoch 8/20\n",
      "50000/50000 [==============================] - 1s 17us/sample - loss: 0.3446 - sparse_categorical_accuracy: 0.8767 - val_loss: 0.3622 - val_sparse_categorical_accuracy: 0.8706\n",
      "Epoch 9/20\n",
      "50000/50000 [==============================] - 1s 17us/sample - loss: 0.3375 - sparse_categorical_accuracy: 0.8786 - val_loss: 0.3607 - val_sparse_categorical_accuracy: 0.8692\n",
      "Epoch 10/20\n",
      "50000/50000 [==============================] - 1s 17us/sample - loss: 0.3299 - sparse_categorical_accuracy: 0.8818 - val_loss: 0.3509 - val_sparse_categorical_accuracy: 0.8725\n",
      "Epoch 11/20\n",
      "50000/50000 [==============================] - 1s 17us/sample - loss: 0.3219 - sparse_categorical_accuracy: 0.8846 - val_loss: 0.3514 - val_sparse_categorical_accuracy: 0.8722\n",
      "Epoch 12/20\n",
      "50000/50000 [==============================] - 1s 17us/sample - loss: 0.3180 - sparse_categorical_accuracy: 0.8857 - val_loss: 0.3438 - val_sparse_categorical_accuracy: 0.8754\n",
      "Epoch 13/20\n",
      "50000/50000 [==============================] - 1s 17us/sample - loss: 0.3116 - sparse_categorical_accuracy: 0.8880 - val_loss: 0.3412 - val_sparse_categorical_accuracy: 0.8738\n",
      "Epoch 14/20\n",
      "50000/50000 [==============================] - 1s 17us/sample - loss: 0.3064 - sparse_categorical_accuracy: 0.8904 - val_loss: 0.3384 - val_sparse_categorical_accuracy: 0.8782\n",
      "Epoch 15/20\n",
      "50000/50000 [==============================] - 1s 17us/sample - loss: 0.3028 - sparse_categorical_accuracy: 0.8911 - val_loss: 0.3468 - val_sparse_categorical_accuracy: 0.8745\n",
      "Epoch 16/20\n",
      "50000/50000 [==============================] - 1s 17us/sample - loss: 0.2981 - sparse_categorical_accuracy: 0.8920 - val_loss: 0.3324 - val_sparse_categorical_accuracy: 0.8796\n",
      "Epoch 17/20\n",
      "50000/50000 [==============================] - 1s 17us/sample - loss: 0.2925 - sparse_categorical_accuracy: 0.8942 - val_loss: 0.3318 - val_sparse_categorical_accuracy: 0.8790\n",
      "Epoch 18/20\n",
      "50000/50000 [==============================] - 1s 17us/sample - loss: 0.2894 - sparse_categorical_accuracy: 0.8945 - val_loss: 0.3316 - val_sparse_categorical_accuracy: 0.8778\n",
      "Epoch 19/20\n",
      "50000/50000 [==============================] - 1s 18us/sample - loss: 0.2850 - sparse_categorical_accuracy: 0.8963 - val_loss: 0.3299 - val_sparse_categorical_accuracy: 0.8807\n",
      "Epoch 20/20\n",
      "50000/50000 [==============================] - 1s 18us/sample - loss: 0.2825 - sparse_categorical_accuracy: 0.8968 - val_loss: 0.3231 - val_sparse_categorical_accuracy: 0.8830\n"
     ]
    }
   ],
   "source": [
    "### ╰( ͡° ͜ʖ ͡° )つ──☆*:・ﾟ  создайте сеть по инструкции выше\n",
    "tf.random.set_seed(42)\n",
    "\n",
    "init = 'he_uniform'\n",
    "act = 'elu'\n",
    "\n",
    "input_tensor = L.Input(shape=(28, 28))\n",
    "\n",
    "x1 = L.Flatten()(input_tensor)\n",
    "x = L.Dense(100, kernel_initializer=init, activation=act)(x1)\n",
    "x = L.Dense(100, kernel_initializer=init, activation=act)(x)\n",
    "x = L.concatenate([x1, x])\n",
    "\n",
    "x2 = L.Dense(100, kernel_initializer=init, activation=act)(x)\n",
    "x = L.Dense(100, kernel_initializer=init, activation=act)(x2)\n",
    "x = L.Dense(100, kernel_initializer=init, activation=act)(x)\n",
    "x = L.concatenate([x2, x])\n",
    "\n",
    "x = L.Dense(100, kernel_initializer=init, activation=act)(x)\n",
    "output_tensor = L.Dense(10, kernel_initializer=init, \n",
    "                        activation='softmax')(x)\n",
    "\n",
    "model = keras.Model(input_tensor, output_tensor)\n",
    "\n",
    "model.compile(optimizer=opt, loss='sparse_categorical_crossentropy',\n",
    "               metrics=['sparse_categorical_accuracy'])\n",
    "\n",
    "history7 = model.fit(X_train, y_train, #validation_split= 0.2,\n",
    "            validation_data=(X_val, y_val),\n",
    "            batch_size=500, epochs=20, verbose=1)"
   ]
  },
  {
   "cell_type": "code",
   "execution_count": 59,
   "metadata": {},
   "outputs": [
    {
     "data": {
      "image/png": "[encoded data removed]",
      "text/plain": [
       "<Figure size 1152x720 with 1 Axes>"
      ]
     },
     "metadata": {
      "needs_background": "light"
     },
     "output_type": "display_data"
    }
   ],
   "source": [
    "plot_history([('relu', history1), \n",
    "              ('he_uniform', history2),\n",
    "              ('he_skip_connection', history7),\n",
    "              #('skip_connection', history8),\n",
    "             ],\n",
    "             start=0)"
   ]
  },
  {
   "cell_type": "markdown",
   "metadata": {},
   "source": [
    "# 4. Ещё немного функционального API \n",
    "\n",
    "\n",
    "## 4.1 Несколько входов\n",
    "\n",
    "В этом примере на вход идёт две картинки."
   ]
  },
  {
   "cell_type": "code",
   "execution_count": null,
   "metadata": {},
   "outputs": [],
   "source": [
    "input_1 = L.Input(shape=(28, 28))\n",
    "input_2 = L.Input(shape=(28, 28))\n",
    "\n",
    "x1 = L.Flatten()(input_1)\n",
    "x1 = L.Dense(100, kernel_initializer=init, activation=act)(x1)\n",
    "x1 = L.Dense(100, kernel_initializer=init, activation=act)(x1)\n",
    "\n",
    "x2 = L.Flatten()(input_2)\n",
    "x2 = L.Dense(100, kernel_initializer=init, activation=act)(x2)\n",
    "x2 = L.Dense(100, kernel_initializer=init, activation=act)(x2)\n",
    "\n",
    "x = L.concatenate([x1, x2])\n",
    "output = L.Dense(10, kernel_initializer=init, activation='softmax')(x)\n",
    "\n",
    "model = keras.Model([input_1, input_2], output)\n",
    "model.summary()"
   ]
  },
  {
   "cell_type": "markdown",
   "metadata": {},
   "source": [
    "Немного бессмысленный пример обучения, когда на вход идут две одинаковые картиночки."
   ]
  },
  {
   "cell_type": "code",
   "execution_count": null,
   "metadata": {},
   "outputs": [],
   "source": [
    "model.compile(\"adam\", \"sparse_categorical_crossentropy\", metrics=[\"sparse_categorical_accuracy\"])\n",
    "\n",
    "model.fit([X_train, X_train], y_train, validation_data=([X_val, X_val], y_val),\n",
    "          epochs=2, batch_size=500)"
   ]
  },
  {
   "cell_type": "markdown",
   "metadata": {},
   "source": [
    "## 4.2 Несколько выходов и функций потерь"
   ]
  },
  {
   "cell_type": "code",
   "execution_count": null,
   "metadata": {},
   "outputs": [],
   "source": [
    "init = 'uniform'\n",
    "act = 'relu'\n",
    "\n",
    "input_tensor = L.Input(shape=(28, 28))\n",
    "\n",
    "x = L.Flatten()(input_tensor)\n",
    "x1 = L.Dense(100, kernel_initializer=init, activation=act)(x)\n",
    "x2 = L.Dense(100, kernel_initializer=init, activation=act)(x)\n",
    "x3 = L.Dense(100, kernel_initializer=init, activation=act)(x)\n",
    "\n",
    "output_1 = L.Dense(10, kernel_initializer=init, activation='softmax')(x1)\n",
    "output_2 = L.Dense(10, kernel_initializer=init, activation='softmax')(x2)\n",
    "output_3 = L.Dense(10, kernel_initializer=init, activation='softmax')(x3)\n",
    "\n",
    "model = keras.Model(input_tensor, [output_1, output_2, output_3])\n",
    "\n",
    "model.summary()"
   ]
  },
  {
   "cell_type": "code",
   "execution_count": null,
   "metadata": {},
   "outputs": [],
   "source": [
    "model.compile(optimizer='adam', loss=['sparse_categorical_crossentropy',\n",
    "                                      'sparse_categorical_crossentropy', \n",
    "                                      'sparse_categorical_crossentropy'],\n",
    "                                    loss_weights=[0.25, 1., 10.])\n",
    "\n",
    "model.fit(X_train, [y_train, y_train, y_train], epochs=2, batch_size=500)"
   ]
  },
  {
   "cell_type": "markdown",
   "metadata": {},
   "source": [
    "Пример с разными функциями потерь:"
   ]
  },
  {
   "cell_type": "raw",
   "metadata": {},
   "source": [
    "model.compile(optimizer='adam', loss=['mse', 'categorical_crossentropy', 'binary_crossentropy'],\n",
    "                                    loss_weights=[0.25, 1., 10.])\n",
    "\n",
    "\n",
    "# если дали выходам имена, можно вот так: \n",
    "\n",
    "model.compile(optimizer='adam',\n",
    "\n",
    "              loss={'age': 'mse',\n",
    "                    'income': 'categorical_crossentropy',\n",
    "                    'gender': 'binary_crossentropy'},\n",
    "                    \n",
    "              loss_weights={'age': 0.25,\n",
    "                            'income': 1.,\n",
    "                            'gender': 10.})"
   ]
  },
  {
   "cell_type": "markdown",
   "metadata": {},
   "source": [
    " "
   ]
  }
 ],
 "metadata": {
  "kernelspec": {
   "display_name": "Python 3",
   "language": "python",
   "name": "python3"
  },
  "language_info": {
   "codemirror_mode": {
    "name": "ipython",
    "version": 3
   },
   "file_extension": ".py",
   "mimetype": "text/x-python",
   "name": "python",
   "nbconvert_exporter": "python",
   "pygments_lexer": "ipython3",
   "version": "3.7.2"
  }
 },
 "nbformat": 4,
 "nbformat_minor": 2
}
