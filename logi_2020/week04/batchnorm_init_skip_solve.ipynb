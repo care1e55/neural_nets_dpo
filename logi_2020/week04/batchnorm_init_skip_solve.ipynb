{
 "cells": [
  {
   "cell_type": "markdown",
   "metadata": {},
   "source": [
    "# Пробуем разные приколы! \n",
    "\n",
    "На самой первой паре мы много говорили про Keras, высокоуровневое API для Tensorflow. Он позволяет быстро и без боли учить нейронки, в которых не встречается особо много извращений. В этой тетрадке мы окунёмся в него чуть глубже. Работать по-прежнему будем с одеждой. "
   ]
  },
  {
   "cell_type": "code",
   "execution_count": 1,
   "metadata": {},
   "outputs": [
    {
     "data": {
      "text/plain": [
       "'2.0.0'"
      ]
     },
     "execution_count": 1,
     "metadata": {},
     "output_type": "execute_result"
    }
   ],
   "source": [
    "import numpy as np\n",
    "import tensorflow as tf\n",
    "tf.__version__ "
   ]
  },
  {
   "cell_type": "code",
   "execution_count": 13,
   "metadata": {},
   "outputs": [],
   "source": [
    "from tensorflow.keras import Sequential\n",
    "keras, L = tf.keras, tf.keras.layers\n",
    "\n",
    "from sklearn.model_selection import train_test_split\n",
    "import matplotlib.pyplot as plt\n",
    "%matplotlib inline"
   ]
  },
  {
   "cell_type": "code",
   "execution_count": 14,
   "metadata": {},
   "outputs": [],
   "source": [
    "fashion_mnist = tf.keras.datasets.fashion_mnist\n",
    "\n",
    "(X_train, y_train), (X_test, y_test) = fashion_mnist.load_data()\n",
    "\n",
    "X_train, X_val, y_train, y_val = train_test_split(X_train, y_train, test_size=10**4, random_state=42)\n",
    "\n",
    "X_train = X_train/ 255.\n",
    "X_val = X_val/ 255.\n",
    "X_test = X_test/ 255.\n",
    "\n",
    "class_names = ['T-shirt/top', 'Trouser', 'Pullover', 'Dress', 'Coat',\n",
    "               'Sandal', 'Shirt', 'Sneaker', 'Bag', 'Ankle boot']"
   ]
  },
  {
   "cell_type": "code",
   "execution_count": 15,
   "metadata": {},
   "outputs": [
    {
     "data": {
      "text/plain": [
       "((50000, 28, 28), (10000, 28, 28), (10000, 28, 28))"
      ]
     },
     "execution_count": 15,
     "metadata": {},
     "output_type": "execute_result"
    }
   ],
   "source": [
    "X_train.shape, X_val.shape, X_test.shape"
   ]
  },
  {
   "cell_type": "markdown",
   "metadata": {},
   "source": [
    "# 1. Инициализация и батчнорм\n",
    "\n",
    "Разговор на прошлой паре мы закончили батч-нормализацией и рассказом про то, как правильно в нейросетках делается инициализация весов. Давайте закрепим эти знания на практике, и переработаем их в навыки. "
   ]
  },
  {
   "cell_type": "code",
   "execution_count": 16,
   "metadata": {},
   "outputs": [],
   "source": [
    "# Помните зачем эта функция? :3 \n",
    "# Мы довольно активно использовали её, когда говорили про градиентные спуски\n",
    "\n",
    "def plot_history(histories, key='loss', start=0):\n",
    "    plt.figure(figsize=(16,10))\n",
    "\n",
    "    for name, history in histories:\n",
    "        val = plt.plot(history.epoch[start:], history.history['val_'+key][start:],\n",
    "                       #'--', \n",
    "                       label=name.title()+' Val')\n",
    "            #plt.plot(history.epoch[start:], history.history[key][start:], color=val[0].get_color(),\n",
    "            #     label=name.title()+' Train')\n",
    "\n",
    "    plt.xlabel('Epochs')\n",
    "    plt.ylabel(key.replace('_',' ').title())\n",
    "    plt.legend()\n",
    "\n",
    "    plt.xlim([start, max(history.epoch)])\n",
    "    pass"
   ]
  },
  {
   "cell_type": "markdown",
   "metadata": {},
   "source": [
    "### Задание 1:\n",
    "\n",
    "Для начала реализуйте простую нейросеть:\n",
    "* принимает на вход картинки размера 28 x 28\n",
    "* вытягивает их в вектор (`keras.layers.Flatten`)\n",
    "* пропускает через $6$ полносвязных слоёв с сотней нейронов и вашей любимой функцией активации\n",
    "* на выходе предсказывает веротятности принадлежности к каждому из 10 классов\n",
    "* при обучении сетки поставьте размер батча $500$, учите сетку $20$ эпох\n",
    "\n",
    "__Важно:__ поскольку в y_train лежат номера классов, керасу нужно либо указать sparse функции потерь и метрики (`sparse_categorical_crossentropy` и `sparse_categorical_accuracy`), либо конвертировать y в one-hot формат.\n",
    "\n",
    "__Ещё важнее:__ при большом батче модель будет быстрее проходить эпохи. Когда он очень большой, необходимо довольно много эпох для сходимости. Градиент обновляется редко. Когда размер батча совсем маленький, сетка может обучаться довольно шумно. "
   ]
  },
  {
   "cell_type": "code",
   "execution_count": 54,
   "metadata": {},
   "outputs": [
    {
     "name": "stdout",
     "output_type": "stream",
     "text": [
      "Train on 50000 samples, validate on 10000 samples\n",
      "Epoch 1/20\n",
      "50000/50000 [==============================] - 1s 26us/sample - loss: 1.3885 - sparse_categorical_accuracy: 0.4300 - val_loss: 0.8793 - val_sparse_categorical_accuracy: 0.6366\n",
      "Epoch 2/20\n",
      "50000/50000 [==============================] - 1s 20us/sample - loss: 0.7645 - sparse_categorical_accuracy: 0.7036 - val_loss: 0.7753 - val_sparse_categorical_accuracy: 0.7209\n",
      "Epoch 3/20\n",
      "50000/50000 [==============================] - 1s 16us/sample - loss: 0.6328 - sparse_categorical_accuracy: 0.7718 - val_loss: 0.6089 - val_sparse_categorical_accuracy: 0.7854\n",
      "Epoch 4/20\n",
      "50000/50000 [==============================] - 1s 16us/sample - loss: 0.5684 - sparse_categorical_accuracy: 0.7928 - val_loss: 0.5800 - val_sparse_categorical_accuracy: 0.7904\n",
      "Epoch 5/20\n",
      "50000/50000 [==============================] - 1s 17us/sample - loss: 0.5285 - sparse_categorical_accuracy: 0.8062 - val_loss: 0.5611 - val_sparse_categorical_accuracy: 0.7895\n",
      "Epoch 6/20\n",
      "50000/50000 [==============================] - 1s 17us/sample - loss: 0.4865 - sparse_categorical_accuracy: 0.8237 - val_loss: 0.5156 - val_sparse_categorical_accuracy: 0.8116\n",
      "Epoch 7/20\n",
      "50000/50000 [==============================] - 1s 18us/sample - loss: 0.4537 - sparse_categorical_accuracy: 0.8390 - val_loss: 0.4552 - val_sparse_categorical_accuracy: 0.8383\n",
      "Epoch 8/20\n",
      "50000/50000 [==============================] - 1s 16us/sample - loss: 0.4209 - sparse_categorical_accuracy: 0.8525 - val_loss: 0.4466 - val_sparse_categorical_accuracy: 0.8416\n",
      "Epoch 9/20\n",
      "50000/50000 [==============================] - 1s 13us/sample - loss: 0.4037 - sparse_categorical_accuracy: 0.8571 - val_loss: 0.4350 - val_sparse_categorical_accuracy: 0.8454\n",
      "Epoch 10/20\n",
      "50000/50000 [==============================] - 1s 14us/sample - loss: 0.3782 - sparse_categorical_accuracy: 0.8657 - val_loss: 0.4080 - val_sparse_categorical_accuracy: 0.8536\n",
      "Epoch 11/20\n",
      "50000/50000 [==============================] - 1s 15us/sample - loss: 0.3645 - sparse_categorical_accuracy: 0.8714 - val_loss: 0.3988 - val_sparse_categorical_accuracy: 0.8602\n",
      "Epoch 12/20\n",
      "50000/50000 [==============================] - 1s 16us/sample - loss: 0.3551 - sparse_categorical_accuracy: 0.8730 - val_loss: 0.4069 - val_sparse_categorical_accuracy: 0.8557\n",
      "Epoch 13/20\n",
      "50000/50000 [==============================] - 1s 15us/sample - loss: 0.3419 - sparse_categorical_accuracy: 0.8788 - val_loss: 0.3839 - val_sparse_categorical_accuracy: 0.8672\n",
      "Epoch 14/20\n",
      "50000/50000 [==============================] - 1s 16us/sample - loss: 0.3259 - sparse_categorical_accuracy: 0.8835 - val_loss: 0.3727 - val_sparse_categorical_accuracy: 0.8691\n",
      "Epoch 15/20\n",
      "50000/50000 [==============================] - 1s 16us/sample - loss: 0.3219 - sparse_categorical_accuracy: 0.8844 - val_loss: 0.3889 - val_sparse_categorical_accuracy: 0.8600\n",
      "Epoch 16/20\n",
      "50000/50000 [==============================] - 1s 15us/sample - loss: 0.3153 - sparse_categorical_accuracy: 0.8865 - val_loss: 0.3799 - val_sparse_categorical_accuracy: 0.8683\n",
      "Epoch 17/20\n",
      "50000/50000 [==============================] - 1s 15us/sample - loss: 0.3022 - sparse_categorical_accuracy: 0.8906 - val_loss: 0.3729 - val_sparse_categorical_accuracy: 0.8730\n",
      "Epoch 18/20\n",
      "50000/50000 [==============================] - 1s 15us/sample - loss: 0.2985 - sparse_categorical_accuracy: 0.8932 - val_loss: 0.3658 - val_sparse_categorical_accuracy: 0.8708\n",
      "Epoch 19/20\n",
      "50000/50000 [==============================] - 1s 15us/sample - loss: 0.2872 - sparse_categorical_accuracy: 0.8977 - val_loss: 0.3637 - val_sparse_categorical_accuracy: 0.8734\n",
      "Epoch 20/20\n",
      "50000/50000 [==============================] - 1s 15us/sample - loss: 0.2899 - sparse_categorical_accuracy: 0.8957 - val_loss: 0.3979 - val_sparse_categorical_accuracy: 0.8650\n"
     ]
    }
   ],
   "source": [
    "# создайте сеть по инструкции выше\n",
    "init = 'uniform'\n",
    "\n",
    "model = Sequential()\n",
    "model.add(L.InputLayer(input_shape=(28, 28)))\n",
    "model.add(L.Flatten())\n",
    "\n",
    "model.add(L.Dense(100, kernel_initializer=init))\n",
    "model.add(L.ReLU())  \n",
    "\n",
    "model.add(L.Dense(100, kernel_initializer=init))\n",
    "model.add(L.ReLU())  \n",
    "\n",
    "model.add(L.Dense(100, kernel_initializer=init))\n",
    "model.add(L.ReLU())  \n",
    "\n",
    "model.add(L.Dense(100, kernel_initializer=init))\n",
    "model.add(L.ReLU())  \n",
    "\n",
    "model.add(L.Dense(100, kernel_initializer=init))\n",
    "model.add(L.ReLU()) \n",
    "\n",
    "model.add(L.Dense(100, kernel_initializer=init))\n",
    "model.add(L.ReLU()) \n",
    "\n",
    "model.add(L.Dense(10, kernel_initializer=init))\n",
    "model.add(L.Softmax())\n",
    "\n",
    "model.compile(\"adam\", \"sparse_categorical_crossentropy\", metrics=[\"sparse_categorical_accuracy\"])\n",
    "\n",
    "history1 = model.fit(X_train, y_train, validation_data=(X_val, y_val), epochs=20, batch_size=500, verbose=1)"
   ]
  },
  {
   "cell_type": "markdown",
   "metadata": {},
   "source": [
    "### Задание 2:\n",
    "\n",
    "Возьмите ту же нейросетку и в качестве инициализации используйте либо инициализацию Хе либо Глорота (в зависимости от выбранных вами функций активации). "
   ]
  },
  {
   "cell_type": "code",
   "execution_count": 46,
   "metadata": {},
   "outputs": [
    {
     "name": "stdout",
     "output_type": "stream",
     "text": [
      "Train on 50000 samples, validate on 10000 samples\n",
      "Epoch 1/20\n",
      "50000/50000 [==============================] - 1s 30us/sample - loss: 0.7332 - sparse_categorical_accuracy: 0.7389 - val_loss: 0.4772 - val_sparse_categorical_accuracy: 0.8250\n",
      "Epoch 2/20\n",
      "50000/50000 [==============================] - 1s 13us/sample - loss: 0.4299 - sparse_categorical_accuracy: 0.8463 - val_loss: 0.4010 - val_sparse_categorical_accuracy: 0.8525\n",
      "Epoch 3/20\n",
      "50000/50000 [==============================] - 1s 13us/sample - loss: 0.3828 - sparse_categorical_accuracy: 0.8605 - val_loss: 0.3884 - val_sparse_categorical_accuracy: 0.8592\n",
      "Epoch 4/20\n",
      "50000/50000 [==============================] - 1s 14us/sample - loss: 0.3479 - sparse_categorical_accuracy: 0.8738 - val_loss: 0.3639 - val_sparse_categorical_accuracy: 0.8699\n",
      "Epoch 5/20\n",
      "50000/50000 [==============================] - 1s 13us/sample - loss: 0.3292 - sparse_categorical_accuracy: 0.8791 - val_loss: 0.3637 - val_sparse_categorical_accuracy: 0.8660\n",
      "Epoch 6/20\n",
      "50000/50000 [==============================] - 1s 13us/sample - loss: 0.3120 - sparse_categorical_accuracy: 0.8859 - val_loss: 0.3390 - val_sparse_categorical_accuracy: 0.8758\n",
      "Epoch 7/20\n",
      "50000/50000 [==============================] - 1s 13us/sample - loss: 0.2932 - sparse_categorical_accuracy: 0.8920 - val_loss: 0.3412 - val_sparse_categorical_accuracy: 0.8759\n",
      "Epoch 8/20\n",
      "50000/50000 [==============================] - 1s 13us/sample - loss: 0.2865 - sparse_categorical_accuracy: 0.8932 - val_loss: 0.3280 - val_sparse_categorical_accuracy: 0.8796\n",
      "Epoch 9/20\n",
      "50000/50000 [==============================] - 1s 16us/sample - loss: 0.2703 - sparse_categorical_accuracy: 0.8989 - val_loss: 0.3334 - val_sparse_categorical_accuracy: 0.8775\n",
      "Epoch 10/20\n",
      "50000/50000 [==============================] - 1s 14us/sample - loss: 0.2617 - sparse_categorical_accuracy: 0.9016 - val_loss: 0.3325 - val_sparse_categorical_accuracy: 0.8817\n",
      "Epoch 11/20\n",
      "50000/50000 [==============================] - 1s 14us/sample - loss: 0.2520 - sparse_categorical_accuracy: 0.9055 - val_loss: 0.3162 - val_sparse_categorical_accuracy: 0.8874\n",
      "Epoch 12/20\n",
      "50000/50000 [==============================] - 1s 15us/sample - loss: 0.2416 - sparse_categorical_accuracy: 0.9086 - val_loss: 0.3242 - val_sparse_categorical_accuracy: 0.8857\n",
      "Epoch 13/20\n",
      "50000/50000 [==============================] - 1s 14us/sample - loss: 0.2421 - sparse_categorical_accuracy: 0.9080 - val_loss: 0.3443 - val_sparse_categorical_accuracy: 0.8809\n",
      "Epoch 14/20\n",
      "50000/50000 [==============================] - 1s 13us/sample - loss: 0.2285 - sparse_categorical_accuracy: 0.9139 - val_loss: 0.3385 - val_sparse_categorical_accuracy: 0.8827\n",
      "Epoch 15/20\n",
      "50000/50000 [==============================] - 1s 13us/sample - loss: 0.2208 - sparse_categorical_accuracy: 0.9174 - val_loss: 0.3428 - val_sparse_categorical_accuracy: 0.8810\n",
      "Epoch 16/20\n",
      "50000/50000 [==============================] - 1s 13us/sample - loss: 0.2231 - sparse_categorical_accuracy: 0.9143 - val_loss: 0.3383 - val_sparse_categorical_accuracy: 0.8862\n",
      "Epoch 17/20\n",
      "50000/50000 [==============================] - 1s 13us/sample - loss: 0.2075 - sparse_categorical_accuracy: 0.9218 - val_loss: 0.3495 - val_sparse_categorical_accuracy: 0.8829\n",
      "Epoch 18/20\n",
      "50000/50000 [==============================] - 1s 13us/sample - loss: 0.2069 - sparse_categorical_accuracy: 0.9217 - val_loss: 0.3421 - val_sparse_categorical_accuracy: 0.8847\n",
      "Epoch 19/20\n",
      "50000/50000 [==============================] - 1s 14us/sample - loss: 0.1991 - sparse_categorical_accuracy: 0.9254 - val_loss: 0.3399 - val_sparse_categorical_accuracy: 0.8859\n",
      "Epoch 20/20\n",
      "50000/50000 [==============================] - 1s 14us/sample - loss: 0.1967 - sparse_categorical_accuracy: 0.9263 - val_loss: 0.3704 - val_sparse_categorical_accuracy: 0.8722\n"
     ]
    }
   ],
   "source": [
    "# создайте сеть по инструкции выше\n",
    "init = 'he_uniform'\n",
    "\n",
    "model = Sequential()\n",
    "model.add(L.InputLayer(input_shape=(28, 28)))\n",
    "model.add(L.Flatten())\n",
    "\n",
    "model.add(L.Dense(100, kernel_initializer=init))\n",
    "model.add(L.ReLU())  \n",
    "\n",
    "model.add(L.Dense(100, kernel_initializer=init))\n",
    "model.add(L.ReLU())  \n",
    "\n",
    "model.add(L.Dense(100, kernel_initializer=init))\n",
    "model.add(L.ReLU())  \n",
    "\n",
    "model.add(L.Dense(100, kernel_initializer=init))\n",
    "model.add(L.ReLU())  \n",
    "\n",
    "model.add(L.Dense(100, kernel_initializer=init))\n",
    "model.add(L.ReLU()) \n",
    "\n",
    "model.add(L.Dense(100, kernel_initializer=init))\n",
    "model.add(L.ReLU()) \n",
    "\n",
    "model.add(L.Dense(10, kernel_initializer=init))\n",
    "model.add(L.Softmax())\n",
    "\n",
    "model.compile(\"adam\", \"sparse_categorical_crossentropy\", metrics=[\"sparse_categorical_accuracy\"])\n",
    "\n",
    "history2 = model.fit(X_train, y_train, validation_data=(X_val, y_val), epochs=20, batch_size=500, verbose=1)"
   ]
  },
  {
   "cell_type": "markdown",
   "metadata": {},
   "source": [
    "### Задание 3:\n",
    "\n",
    "Берём ту же самую сетку и добавляем в неё батч-нормализацию после каждго слоя. Инициализацию замените назад на равномерную. "
   ]
  },
  {
   "cell_type": "code",
   "execution_count": 47,
   "metadata": {},
   "outputs": [
    {
     "name": "stdout",
     "output_type": "stream",
     "text": [
      "Train on 50000 samples, validate on 10000 samples\n",
      "Epoch 1/20\n",
      "50000/50000 [==============================] - 4s 77us/sample - loss: 0.7499 - sparse_categorical_accuracy: 0.8023 - val_loss: 2.1616 - val_sparse_categorical_accuracy: 0.2235\n",
      "Epoch 2/20\n",
      "50000/50000 [==============================] - 1s 27us/sample - loss: 0.3682 - sparse_categorical_accuracy: 0.8737 - val_loss: 1.1247 - val_sparse_categorical_accuracy: 0.7720\n",
      "Epoch 3/20\n",
      "50000/50000 [==============================] - 1s 28us/sample - loss: 0.3153 - sparse_categorical_accuracy: 0.8873 - val_loss: 0.4644 - val_sparse_categorical_accuracy: 0.8620\n",
      "Epoch 4/20\n",
      "50000/50000 [==============================] - 1s 29us/sample - loss: 0.2885 - sparse_categorical_accuracy: 0.8960 - val_loss: 0.3831 - val_sparse_categorical_accuracy: 0.8609\n",
      "Epoch 5/20\n",
      "50000/50000 [==============================] - 2s 30us/sample - loss: 0.2664 - sparse_categorical_accuracy: 0.9036 - val_loss: 0.3840 - val_sparse_categorical_accuracy: 0.8565\n",
      "Epoch 6/20\n",
      "50000/50000 [==============================] - 1s 30us/sample - loss: 0.2441 - sparse_categorical_accuracy: 0.9103 - val_loss: 0.3800 - val_sparse_categorical_accuracy: 0.8659\n",
      "Epoch 7/20\n",
      "50000/50000 [==============================] - 2s 32us/sample - loss: 0.2370 - sparse_categorical_accuracy: 0.9135 - val_loss: 0.4103 - val_sparse_categorical_accuracy: 0.8579\n",
      "Epoch 8/20\n",
      "50000/50000 [==============================] - 1s 29us/sample - loss: 0.2192 - sparse_categorical_accuracy: 0.9199 - val_loss: 0.3828 - val_sparse_categorical_accuracy: 0.8679\n",
      "Epoch 9/20\n",
      "50000/50000 [==============================] - 1s 29us/sample - loss: 0.2111 - sparse_categorical_accuracy: 0.9218 - val_loss: 0.4476 - val_sparse_categorical_accuracy: 0.8512\n",
      "Epoch 10/20\n",
      "50000/50000 [==============================] - 1s 29us/sample - loss: 0.1993 - sparse_categorical_accuracy: 0.9269 - val_loss: 0.3871 - val_sparse_categorical_accuracy: 0.8683\n",
      "Epoch 11/20\n",
      "50000/50000 [==============================] - 1s 27us/sample - loss: 0.1877 - sparse_categorical_accuracy: 0.9302 - val_loss: 0.4094 - val_sparse_categorical_accuracy: 0.8618\n",
      "Epoch 12/20\n",
      "50000/50000 [==============================] - 1s 27us/sample - loss: 0.1767 - sparse_categorical_accuracy: 0.9355 - val_loss: 0.3896 - val_sparse_categorical_accuracy: 0.8757\n",
      "Epoch 13/20\n",
      "50000/50000 [==============================] - 2s 30us/sample - loss: 0.1719 - sparse_categorical_accuracy: 0.9371 - val_loss: 0.4161 - val_sparse_categorical_accuracy: 0.8728\n",
      "Epoch 14/20\n",
      "50000/50000 [==============================] - 1s 30us/sample - loss: 0.1616 - sparse_categorical_accuracy: 0.9413 - val_loss: 0.3974 - val_sparse_categorical_accuracy: 0.8693\n",
      "Epoch 15/20\n",
      "50000/50000 [==============================] - 2s 30us/sample - loss: 0.1567 - sparse_categorical_accuracy: 0.9427 - val_loss: 0.4192 - val_sparse_categorical_accuracy: 0.8681\n",
      "Epoch 16/20\n",
      "50000/50000 [==============================] - 2s 33us/sample - loss: 0.1421 - sparse_categorical_accuracy: 0.9476 - val_loss: 0.4810 - val_sparse_categorical_accuracy: 0.8654\n",
      "Epoch 17/20\n",
      "50000/50000 [==============================] - 2s 37us/sample - loss: 0.1448 - sparse_categorical_accuracy: 0.9468 - val_loss: 0.4420 - val_sparse_categorical_accuracy: 0.8640\n",
      "Epoch 18/20\n",
      "50000/50000 [==============================] - 2s 32us/sample - loss: 0.1334 - sparse_categorical_accuracy: 0.9504 - val_loss: 0.3636 - val_sparse_categorical_accuracy: 0.8801\n",
      "Epoch 19/20\n",
      "50000/50000 [==============================] - 2s 34us/sample - loss: 0.1269 - sparse_categorical_accuracy: 0.9533 - val_loss: 0.4112 - val_sparse_categorical_accuracy: 0.8821\n",
      "Epoch 20/20\n",
      "50000/50000 [==============================] - 2s 36us/sample - loss: 0.1169 - sparse_categorical_accuracy: 0.9575 - val_loss: 0.4705 - val_sparse_categorical_accuracy: 0.8619\n"
     ]
    }
   ],
   "source": [
    "# создайте сеть по инструкции выше\n",
    "init = 'uniform'\n",
    "\n",
    "model = Sequential()\n",
    "model.add(L.InputLayer(input_shape=(28, 28)))\n",
    "model.add(L.Flatten())\n",
    "\n",
    "model.add(L.Dense(100, kernel_initializer=init))\n",
    "model.add(L.BatchNormalization()) \n",
    "model.add(L.ReLU())  \n",
    "\n",
    "model.add(L.Dense(100, kernel_initializer=init))\n",
    "model.add(L.BatchNormalization()) \n",
    "model.add(L.ReLU())  \n",
    "\n",
    "model.add(L.Dense(100, kernel_initializer=init))\n",
    "model.add(L.BatchNormalization()) \n",
    "model.add(L.ReLU())  \n",
    "\n",
    "model.add(L.Dense(100, kernel_initializer=init))\n",
    "model.add(L.BatchNormalization()) \n",
    "model.add(L.ReLU())  \n",
    "\n",
    "model.add(L.Dense(100, kernel_initializer=init))\n",
    "model.add(L.BatchNormalization()) \n",
    "model.add(L.ReLU()) \n",
    "\n",
    "model.add(L.Dense(100, kernel_initializer=init))\n",
    "model.add(L.BatchNormalization()) \n",
    "model.add(L.ReLU()) \n",
    "\n",
    "model.add(L.Dense(10, kernel_initializer=init))\n",
    "model.add(L.Softmax())\n",
    "\n",
    "model.compile(\"adam\", \"sparse_categorical_crossentropy\", metrics=[\"sparse_categorical_accuracy\"])\n",
    "\n",
    "history3 = model.fit(X_train, y_train, validation_data=(X_val, y_val), epochs=20, batch_size=500, verbose=1)"
   ]
  },
  {
   "cell_type": "markdown",
   "metadata": {},
   "source": [
    "### Задание 4:\n",
    "\n",
    "А теперь сразу и инициализация и батч-нормализация."
   ]
  },
  {
   "cell_type": "code",
   "execution_count": 48,
   "metadata": {},
   "outputs": [
    {
     "name": "stdout",
     "output_type": "stream",
     "text": [
      "Train on 50000 samples, validate on 10000 samples\n",
      "Epoch 1/20\n",
      "50000/50000 [==============================] - 3s 70us/sample - loss: 0.7081 - sparse_categorical_accuracy: 0.7710 - val_loss: 0.6495 - val_sparse_categorical_accuracy: 0.8128\n",
      "Epoch 2/20\n",
      "50000/50000 [==============================] - 2s 31us/sample - loss: 0.3759 - sparse_categorical_accuracy: 0.8664 - val_loss: 0.4185 - val_sparse_categorical_accuracy: 0.8542\n",
      "Epoch 3/20\n",
      "50000/50000 [==============================] - 1s 30us/sample - loss: 0.3209 - sparse_categorical_accuracy: 0.8845 - val_loss: 0.3752 - val_sparse_categorical_accuracy: 0.8622\n",
      "Epoch 4/20\n",
      "50000/50000 [==============================] - 2s 30us/sample - loss: 0.2862 - sparse_categorical_accuracy: 0.8961 - val_loss: 0.3885 - val_sparse_categorical_accuracy: 0.8575\n",
      "Epoch 5/20\n",
      "50000/50000 [==============================] - 1s 28us/sample - loss: 0.2580 - sparse_categorical_accuracy: 0.9064 - val_loss: 0.3511 - val_sparse_categorical_accuracy: 0.8775\n",
      "Epoch 6/20\n",
      "50000/50000 [==============================] - 1s 28us/sample - loss: 0.2381 - sparse_categorical_accuracy: 0.9117 - val_loss: 0.3981 - val_sparse_categorical_accuracy: 0.8572\n",
      "Epoch 7/20\n",
      "50000/50000 [==============================] - 1s 28us/sample - loss: 0.2234 - sparse_categorical_accuracy: 0.9171 - val_loss: 0.3520 - val_sparse_categorical_accuracy: 0.8731\n",
      "Epoch 8/20\n",
      "50000/50000 [==============================] - 1s 28us/sample - loss: 0.2083 - sparse_categorical_accuracy: 0.9231 - val_loss: 0.3685 - val_sparse_categorical_accuracy: 0.8690\n",
      "Epoch 9/20\n",
      "50000/50000 [==============================] - 1s 28us/sample - loss: 0.1929 - sparse_categorical_accuracy: 0.9298 - val_loss: 0.3693 - val_sparse_categorical_accuracy: 0.8725\n",
      "Epoch 10/20\n",
      "50000/50000 [==============================] - 1s 29us/sample - loss: 0.1793 - sparse_categorical_accuracy: 0.9343 - val_loss: 0.4149 - val_sparse_categorical_accuracy: 0.8618\n",
      "Epoch 11/20\n",
      "50000/50000 [==============================] - 2s 33us/sample - loss: 0.1704 - sparse_categorical_accuracy: 0.9369 - val_loss: 0.3805 - val_sparse_categorical_accuracy: 0.8702\n",
      "Epoch 12/20\n",
      "50000/50000 [==============================] - 1s 29us/sample - loss: 0.1546 - sparse_categorical_accuracy: 0.9430 - val_loss: 0.4249 - val_sparse_categorical_accuracy: 0.8598\n",
      "Epoch 13/20\n",
      "50000/50000 [==============================] - 1s 28us/sample - loss: 0.1497 - sparse_categorical_accuracy: 0.9451 - val_loss: 0.4232 - val_sparse_categorical_accuracy: 0.8664\n",
      "Epoch 14/20\n",
      "50000/50000 [==============================] - 1s 28us/sample - loss: 0.1395 - sparse_categorical_accuracy: 0.9484 - val_loss: 0.3953 - val_sparse_categorical_accuracy: 0.8739\n",
      "Epoch 15/20\n",
      "50000/50000 [==============================] - 1s 28us/sample - loss: 0.1367 - sparse_categorical_accuracy: 0.9499 - val_loss: 0.4298 - val_sparse_categorical_accuracy: 0.8679\n",
      "Epoch 16/20\n",
      "50000/50000 [==============================] - 1s 29us/sample - loss: 0.1220 - sparse_categorical_accuracy: 0.9563 - val_loss: 0.4452 - val_sparse_categorical_accuracy: 0.8710\n",
      "Epoch 17/20\n",
      "50000/50000 [==============================] - 2s 31us/sample - loss: 0.1147 - sparse_categorical_accuracy: 0.9582 - val_loss: 0.4312 - val_sparse_categorical_accuracy: 0.8774\n",
      "Epoch 18/20\n",
      "50000/50000 [==============================] - 1s 29us/sample - loss: 0.1069 - sparse_categorical_accuracy: 0.9599 - val_loss: 0.5089 - val_sparse_categorical_accuracy: 0.8604\n",
      "Epoch 19/20\n",
      "50000/50000 [==============================] - 1s 28us/sample - loss: 0.1027 - sparse_categorical_accuracy: 0.9611 - val_loss: 0.4704 - val_sparse_categorical_accuracy: 0.8662\n",
      "Epoch 20/20\n",
      "50000/50000 [==============================] - 1s 30us/sample - loss: 0.1070 - sparse_categorical_accuracy: 0.9606 - val_loss: 0.5142 - val_sparse_categorical_accuracy: 0.8657\n"
     ]
    }
   ],
   "source": [
    "# создайте сеть по инструкции выше\n",
    "init = 'he_uniform'\n",
    "\n",
    "model = Sequential()\n",
    "model.add(L.InputLayer(input_shape=(28, 28)))\n",
    "model.add(L.Flatten())\n",
    "\n",
    "model.add(L.Dense(100, kernel_initializer=init))\n",
    "model.add(L.BatchNormalization()) \n",
    "model.add(L.ReLU())  \n",
    "\n",
    "model.add(L.Dense(100, kernel_initializer=init))\n",
    "model.add(L.BatchNormalization()) \n",
    "model.add(L.ReLU())  \n",
    "\n",
    "model.add(L.Dense(100, kernel_initializer=init))\n",
    "model.add(L.BatchNormalization()) \n",
    "model.add(L.ReLU())  \n",
    "\n",
    "model.add(L.Dense(100, kernel_initializer=init))\n",
    "model.add(L.BatchNormalization()) \n",
    "model.add(L.ReLU())  \n",
    "\n",
    "model.add(L.Dense(100, kernel_initializer=init))\n",
    "model.add(L.BatchNormalization()) \n",
    "model.add(L.ReLU()) \n",
    "\n",
    "model.add(L.Dense(100, kernel_initializer=init))\n",
    "model.add(L.BatchNormalization()) \n",
    "model.add(L.ReLU()) \n",
    "\n",
    "model.add(L.Dense(10, kernel_initializer=init))\n",
    "model.add(L.Softmax())\n",
    "\n",
    "model.compile(\"adam\", \"sparse_categorical_crossentropy\", metrics=[\"sparse_categorical_accuracy\"])\n",
    "\n",
    "history4 = model.fit(X_train, y_train, validation_data=(X_val, y_val), epochs=20, batch_size=500, verbose=1)"
   ]
  },
  {
   "cell_type": "markdown",
   "metadata": {},
   "source": [
    "### Задание 5:\n",
    "\n",
    "Дело осталось за малым. Нарисовать траектории обучения всех сеток на одной картинке и сравнить их между собой."
   ]
  },
  {
   "cell_type": "code",
   "execution_count": 49,
   "metadata": {},
   "outputs": [
    {
     "data": {
      "image/png": "[encoded data removed]",
      "text/plain": [
       "<Figure size 1152x720 with 1 Axes>"
      ]
     },
     "metadata": {
      "needs_background": "light"
     },
     "output_type": "display_data"
    }
   ],
   "source": [
    "plot_history([('uniform', history1), \n",
    "              ('he_uniform', history2),\n",
    "              ('batch_norm', history3),\n",
    "              ('together', history4)\n",
    "             ],\n",
    "             start=0)"
   ]
  },
  {
   "cell_type": "markdown",
   "metadata": {},
   "source": [
    "## 2. Функции активации  \n",
    "\n",
    "### Задание 6:\n",
    "\n",
    "Давайте попробуем поймать эффект, когда у нашей нейронки наступает паралич. Возьмите самый первый вариант нейросетки и замените все функции активации на сигмоиды. \n",
    "\n"
   ]
  },
  {
   "cell_type": "code",
   "execution_count": 55,
   "metadata": {
    "scrolled": false
   },
   "outputs": [
    {
     "name": "stdout",
     "output_type": "stream",
     "text": [
      "Train on 50000 samples, validate on 10000 samples\n",
      "Epoch 1/20\n",
      "50000/50000 [==============================] - 2s 33us/sample - loss: 2.3050 - sparse_categorical_accuracy: 0.0975 - val_loss: 2.3058 - val_sparse_categorical_accuracy: 0.1016\n",
      "Epoch 2/20\n",
      "50000/50000 [==============================] - 1s 19us/sample - loss: 2.3041 - sparse_categorical_accuracy: 0.1010 - val_loss: 2.3032 - val_sparse_categorical_accuracy: 0.1009\n",
      "Epoch 3/20\n",
      "50000/50000 [==============================] - 1s 19us/sample - loss: 2.3041 - sparse_categorical_accuracy: 0.1009 - val_loss: 2.3040 - val_sparse_categorical_accuracy: 0.0997\n",
      "Epoch 4/20\n",
      "50000/50000 [==============================] - 1s 21us/sample - loss: 2.3036 - sparse_categorical_accuracy: 0.1000 - val_loss: 2.3035 - val_sparse_categorical_accuracy: 0.0947\n",
      "Epoch 5/20\n",
      "50000/50000 [==============================] - 1s 22us/sample - loss: 2.3031 - sparse_categorical_accuracy: 0.0983 - val_loss: 2.3031 - val_sparse_categorical_accuracy: 0.0997\n",
      "Epoch 6/20\n",
      "50000/50000 [==============================] - 1s 19us/sample - loss: 2.3030 - sparse_categorical_accuracy: 0.0986 - val_loss: 2.3027 - val_sparse_categorical_accuracy: 0.1008\n",
      "Epoch 7/20\n",
      "50000/50000 [==============================] - 1s 18us/sample - loss: 2.3028 - sparse_categorical_accuracy: 0.1005 - val_loss: 2.3028 - val_sparse_categorical_accuracy: 0.1008\n",
      "Epoch 8/20\n",
      "50000/50000 [==============================] - 1s 18us/sample - loss: 2.3027 - sparse_categorical_accuracy: 0.0995 - val_loss: 2.3027 - val_sparse_categorical_accuracy: 0.0947\n",
      "Epoch 9/20\n",
      "50000/50000 [==============================] - 1s 17us/sample - loss: 2.3028 - sparse_categorical_accuracy: 0.0988 - val_loss: 2.3027 - val_sparse_categorical_accuracy: 0.1015\n",
      "Epoch 10/20\n",
      "50000/50000 [==============================] - 1s 16us/sample - loss: 2.3027 - sparse_categorical_accuracy: 0.1001 - val_loss: 2.3027 - val_sparse_categorical_accuracy: 0.0947\n",
      "Epoch 11/20\n",
      "50000/50000 [==============================] - 1s 17us/sample - loss: 2.3017 - sparse_categorical_accuracy: 0.0995 - val_loss: 2.2810 - val_sparse_categorical_accuracy: 0.0947\n",
      "Epoch 12/20\n",
      "50000/50000 [==============================] - 1s 17us/sample - loss: 1.9699 - sparse_categorical_accuracy: 0.1740 - val_loss: 1.8771 - val_sparse_categorical_accuracy: 0.2013\n",
      "Epoch 13/20\n",
      "50000/50000 [==============================] - 1s 17us/sample - loss: 1.8583 - sparse_categorical_accuracy: 0.1982 - val_loss: 1.8310 - val_sparse_categorical_accuracy: 0.1953\n",
      "Epoch 14/20\n",
      "50000/50000 [==============================] - 1s 18us/sample - loss: 1.8100 - sparse_categorical_accuracy: 0.1979 - val_loss: 1.7971 - val_sparse_categorical_accuracy: 0.1952\n",
      "Epoch 15/20\n",
      "50000/50000 [==============================] - 1s 17us/sample - loss: 1.7806 - sparse_categorical_accuracy: 0.2000 - val_loss: 1.7680 - val_sparse_categorical_accuracy: 0.2040\n",
      "Epoch 16/20\n",
      "50000/50000 [==============================] - 1s 17us/sample - loss: 1.6703 - sparse_categorical_accuracy: 0.2617 - val_loss: 1.5668 - val_sparse_categorical_accuracy: 0.2968\n",
      "Epoch 17/20\n",
      "50000/50000 [==============================] - 1s 17us/sample - loss: 1.5438 - sparse_categorical_accuracy: 0.2931 - val_loss: 1.5375 - val_sparse_categorical_accuracy: 0.2925\n",
      "Epoch 18/20\n",
      "50000/50000 [==============================] - 1s 19us/sample - loss: 1.5201 - sparse_categorical_accuracy: 0.2977 - val_loss: 1.5171 - val_sparse_categorical_accuracy: 0.2998\n",
      "Epoch 19/20\n",
      "50000/50000 [==============================] - 1s 19us/sample - loss: 1.4855 - sparse_categorical_accuracy: 0.3077 - val_loss: 1.4124 - val_sparse_categorical_accuracy: 0.3967\n",
      "Epoch 20/20\n",
      "50000/50000 [==============================] - 1s 18us/sample - loss: 1.3494 - sparse_categorical_accuracy: 0.3933 - val_loss: 1.3197 - val_sparse_categorical_accuracy: 0.4143\n"
     ]
    }
   ],
   "source": [
    "# создайте сеть по инструкции выше\n",
    "init = 'uniform'\n",
    "act = 'sigmoid'\n",
    "\n",
    "model = Sequential()\n",
    "model.add(L.InputLayer(input_shape=(28, 28)))\n",
    "model.add(L.Flatten())\n",
    "\n",
    "model.add(L.Dense(100, kernel_initializer=init, activation=act))\n",
    "model.add(L.Dense(100, kernel_initializer=init, activation=act)) \n",
    "model.add(L.Dense(100, kernel_initializer=init, activation=act))\n",
    "model.add(L.Dense(100, kernel_initializer=init, activation=act))\n",
    "model.add(L.Dense(100, kernel_initializer=init, activation=act))\n",
    "model.add(L.Dense(100, kernel_initializer=init, activation=act))\n",
    "\n",
    "model.add(L.Dense(10, kernel_initializer=init))\n",
    "model.add(L.Softmax())\n",
    "\n",
    "model.compile(\"adam\", \"sparse_categorical_crossentropy\", metrics=[\"sparse_categorical_accuracy\"])\n",
    "\n",
    "history5 = model.fit(X_train, y_train, validation_data=(X_val, y_val), epochs=20, batch_size=500, verbose=1)"
   ]
  },
  {
   "cell_type": "markdown",
   "metadata": {},
   "source": [
    "### Задание 7:  \n",
    "\n",
    "Теперь попробуем взять вместо сигмоид elu"
   ]
  },
  {
   "cell_type": "code",
   "execution_count": 56,
   "metadata": {},
   "outputs": [
    {
     "name": "stdout",
     "output_type": "stream",
     "text": [
      "Train on 50000 samples, validate on 10000 samples\n",
      "Epoch 1/20\n",
      "50000/50000 [==============================] - 1s 26us/sample - loss: 1.1933 - sparse_categorical_accuracy: 0.5431 - val_loss: 0.8023 - val_sparse_categorical_accuracy: 0.6918\n",
      "Epoch 2/20\n",
      "50000/50000 [==============================] - 1s 15us/sample - loss: 0.7134 - sparse_categorical_accuracy: 0.7354 - val_loss: 0.6605 - val_sparse_categorical_accuracy: 0.7586\n",
      "Epoch 3/20\n",
      "50000/50000 [==============================] - 1s 14us/sample - loss: 0.6255 - sparse_categorical_accuracy: 0.7665 - val_loss: 0.6080 - val_sparse_categorical_accuracy: 0.7691\n",
      "Epoch 4/20\n",
      "50000/50000 [==============================] - 1s 14us/sample - loss: 0.5714 - sparse_categorical_accuracy: 0.7863 - val_loss: 0.6062 - val_sparse_categorical_accuracy: 0.7709\n",
      "Epoch 5/20\n",
      "50000/50000 [==============================] - 1s 14us/sample - loss: 0.5392 - sparse_categorical_accuracy: 0.7983 - val_loss: 0.5311 - val_sparse_categorical_accuracy: 0.7957\n",
      "Epoch 6/20\n",
      "50000/50000 [==============================] - 1s 15us/sample - loss: 0.5066 - sparse_categorical_accuracy: 0.8108 - val_loss: 0.5132 - val_sparse_categorical_accuracy: 0.8066\n",
      "Epoch 7/20\n",
      "50000/50000 [==============================] - 1s 14us/sample - loss: 0.4724 - sparse_categorical_accuracy: 0.8270 - val_loss: 0.4939 - val_sparse_categorical_accuracy: 0.8148\n",
      "Epoch 8/20\n",
      "50000/50000 [==============================] - 1s 14us/sample - loss: 0.4539 - sparse_categorical_accuracy: 0.8345 - val_loss: 0.4973 - val_sparse_categorical_accuracy: 0.8191\n",
      "Epoch 9/20\n",
      "50000/50000 [==============================] - 1s 14us/sample - loss: 0.4301 - sparse_categorical_accuracy: 0.8454 - val_loss: 0.4420 - val_sparse_categorical_accuracy: 0.8418\n",
      "Epoch 10/20\n",
      "50000/50000 [==============================] - 1s 15us/sample - loss: 0.4018 - sparse_categorical_accuracy: 0.8578 - val_loss: 0.4207 - val_sparse_categorical_accuracy: 0.8514\n",
      "Epoch 11/20\n",
      "50000/50000 [==============================] - 1s 15us/sample - loss: 0.3881 - sparse_categorical_accuracy: 0.8613 - val_loss: 0.4108 - val_sparse_categorical_accuracy: 0.8529\n",
      "Epoch 12/20\n",
      "50000/50000 [==============================] - 1s 15us/sample - loss: 0.3681 - sparse_categorical_accuracy: 0.8669 - val_loss: 0.3897 - val_sparse_categorical_accuracy: 0.8592\n",
      "Epoch 13/20\n",
      "50000/50000 [==============================] - 1s 15us/sample - loss: 0.3510 - sparse_categorical_accuracy: 0.8727 - val_loss: 0.3911 - val_sparse_categorical_accuracy: 0.8557\n",
      "Epoch 14/20\n",
      "50000/50000 [==============================] - 1s 14us/sample - loss: 0.3399 - sparse_categorical_accuracy: 0.8765 - val_loss: 0.3794 - val_sparse_categorical_accuracy: 0.8623\n",
      "Epoch 15/20\n",
      "50000/50000 [==============================] - 1s 14us/sample - loss: 0.3331 - sparse_categorical_accuracy: 0.8784 - val_loss: 0.3708 - val_sparse_categorical_accuracy: 0.8656\n",
      "Epoch 16/20\n",
      "50000/50000 [==============================] - 1s 14us/sample - loss: 0.3252 - sparse_categorical_accuracy: 0.8813 - val_loss: 0.3558 - val_sparse_categorical_accuracy: 0.8724\n",
      "Epoch 17/20\n",
      "50000/50000 [==============================] - 1s 14us/sample - loss: 0.3164 - sparse_categorical_accuracy: 0.8846 - val_loss: 0.3579 - val_sparse_categorical_accuracy: 0.8696\n",
      "Epoch 18/20\n",
      "50000/50000 [==============================] - 1s 14us/sample - loss: 0.3070 - sparse_categorical_accuracy: 0.8870 - val_loss: 0.3791 - val_sparse_categorical_accuracy: 0.8648\n",
      "Epoch 19/20\n",
      "50000/50000 [==============================] - 1s 14us/sample - loss: 0.3044 - sparse_categorical_accuracy: 0.8881 - val_loss: 0.3498 - val_sparse_categorical_accuracy: 0.8712\n",
      "Epoch 20/20\n",
      "50000/50000 [==============================] - 1s 15us/sample - loss: 0.2932 - sparse_categorical_accuracy: 0.8929 - val_loss: 0.3472 - val_sparse_categorical_accuracy: 0.8719\n"
     ]
    }
   ],
   "source": [
    "# создайте сеть по инструкции выше\n",
    "init = 'uniform'\n",
    "act = 'elu' # в таком варианте alpha = 1 \n",
    "            # если хочется его подергать: L.ELU(alpha=1.0)\n",
    "\n",
    "model = Sequential()\n",
    "model.add(L.InputLayer(input_shape=(28, 28)))\n",
    "model.add(L.Flatten())\n",
    "\n",
    "model.add(L.Dense(100, kernel_initializer=init, activation=act))\n",
    "model.add(L.Dense(100, kernel_initializer=init, activation=act)) \n",
    "model.add(L.Dense(100, kernel_initializer=init, activation=act))\n",
    "model.add(L.Dense(100, kernel_initializer=init, activation=act))\n",
    "model.add(L.Dense(100, kernel_initializer=init, activation=act))\n",
    "model.add(L.Dense(100, kernel_initializer=init, activation=act))\n",
    "\n",
    "model.add(L.Dense(10, kernel_initializer=init))\n",
    "model.add(L.Softmax())\n",
    "\n",
    "model.compile(\"adam\", \"sparse_categorical_crossentropy\", metrics=[\"sparse_categorical_accuracy\"])\n",
    "\n",
    "history6 = model.fit(X_train, y_train, validation_data=(X_val, y_val), epochs=20, batch_size=500, verbose=1)"
   ]
  },
  {
   "cell_type": "markdown",
   "metadata": {},
   "source": [
    "### Задание 8:\n",
    "\n",
    "Снова сравниваем модели между собой."
   ]
  },
  {
   "cell_type": "code",
   "execution_count": 57,
   "metadata": {},
   "outputs": [
    {
     "data": {
      "image/png": "[encoded data removed]",
      "text/plain": [
       "<Figure size 1152x720 with 1 Axes>"
      ]
     },
     "metadata": {
      "needs_background": "light"
     },
     "output_type": "display_data"
    }
   ],
   "source": [
    "plot_history([('relu', history1), \n",
    "              ('sigmid', history5),\n",
    "              ('elu', history6),\n",
    "             ],\n",
    "             start=0)"
   ]
  },
  {
   "cell_type": "markdown",
   "metadata": {},
   "source": [
    "# 3. Keras бывет разным, про skip-connection\n",
    "\n",
    "На первой паре мы с вами говорили, что в Keras задавать модели можно по-разному. Второй способ делать это: функциональный стиль. Он даёт на порядок больше возможностей. Давайте посмотрим как это выглядит и попробуем собрать пару моделей. "
   ]
  },
  {
   "cell_type": "code",
   "execution_count": 63,
   "metadata": {},
   "outputs": [],
   "source": [
    "init = 'uniform'\n",
    "act = 'relu'\n",
    "\n",
    "input_tensor = L.Input(shape=(28, 28))\n",
    "\n",
    "x = L.Flatten()(input_tensor)\n",
    "x = L.Dense(100, kernel_initializer=init, activation=act)(x)\n",
    "x = L.Dense(100, kernel_initializer=init, activation=act)(x)\n",
    "x = L.Dense(100, kernel_initializer=init, activation=act)(x)\n",
    "x = L.Dense(100, kernel_initializer=init, activation=act)(x)\n",
    "x = L.Dense(100, kernel_initializer=init, activation=act)(x)\n",
    "x = L.Dense(100, kernel_initializer=init, activation=act)(x)\n",
    "output_tensor = L.Dense(10, kernel_initializer=init, activation='softmax')(x)\n",
    "\n",
    "model = keras.Model(input_tensor, output_tensor)"
   ]
  },
  {
   "cell_type": "code",
   "execution_count": 65,
   "metadata": {},
   "outputs": [
    {
     "name": "stdout",
     "output_type": "stream",
     "text": [
      "Train on 50000 samples, validate on 10000 samples\n",
      "50000/50000 [==============================] - 1s 23us/sample - loss: 0.4741 - sparse_categorical_accuracy: 0.8338 - val_loss: 0.4754 - val_sparse_categorical_accuracy: 0.8343\n"
     ]
    }
   ],
   "source": [
    "model.compile(\"adam\", \"sparse_categorical_crossentropy\", metrics=[\"sparse_categorical_accuracy\"])\n",
    "\n",
    "model.fit(X_train, y_train, validation_data=(X_val, y_val), epochs=1, batch_size=500, verbose=1)"
   ]
  },
  {
   "cell_type": "markdown",
   "metadata": {},
   "source": [
    "Помните статью про то, как люди рисовали функции потерь? [Теперь появилась галерея!](https://losslandscape.com/gallery/) На паре про градиентный спуск мы говорили, что skip-connection довольно здорово меняет ландшафт функции потерь. \n",
    "\n",
    "![](https://i.stack.imgur.com/UDvbg.png)\n",
    "\n",
    "Такую модель нельзя собрать через `Sequence`-стиль, но можно через функциональный стиль. Давайте попробуем сделать это. Заодно посмотрим насколько сильно в нашей ситуации будет меняться траектория обучения. "
   ]
  },
  {
   "cell_type": "code",
   "execution_count": 74,
   "metadata": {},
   "outputs": [
    {
     "name": "stdout",
     "output_type": "stream",
     "text": [
      "Train on 50000 samples, validate on 10000 samples\n",
      "Epoch 1/20\n",
      "50000/50000 [==============================] - 2s 43us/sample - loss: 0.6607 - sparse_categorical_accuracy: 0.7730 - val_loss: 0.4577 - val_sparse_categorical_accuracy: 0.8357\n",
      "Epoch 2/20\n",
      "50000/50000 [==============================] - 1s 19us/sample - loss: 0.4192 - sparse_categorical_accuracy: 0.8488 - val_loss: 0.3891 - val_sparse_categorical_accuracy: 0.8586\n",
      "Epoch 3/20\n",
      "50000/50000 [==============================] - 1s 17us/sample - loss: 0.3620 - sparse_categorical_accuracy: 0.8683 - val_loss: 0.3688 - val_sparse_categorical_accuracy: 0.8699\n",
      "Epoch 4/20\n",
      "50000/50000 [==============================] - 1s 20us/sample - loss: 0.3446 - sparse_categorical_accuracy: 0.8759 - val_loss: 0.3500 - val_sparse_categorical_accuracy: 0.8710\n",
      "Epoch 5/20\n",
      "50000/50000 [==============================] - 1s 22us/sample - loss: 0.3107 - sparse_categorical_accuracy: 0.8860 - val_loss: 0.3649 - val_sparse_categorical_accuracy: 0.8685\n",
      "Epoch 6/20\n",
      "50000/50000 [==============================] - 1s 21us/sample - loss: 0.3008 - sparse_categorical_accuracy: 0.8896 - val_loss: 0.3338 - val_sparse_categorical_accuracy: 0.8794\n",
      "Epoch 7/20\n",
      "50000/50000 [==============================] - 1s 18us/sample - loss: 0.2875 - sparse_categorical_accuracy: 0.8934 - val_loss: 0.3243 - val_sparse_categorical_accuracy: 0.8816\n",
      "Epoch 8/20\n",
      "50000/50000 [==============================] - 1s 22us/sample - loss: 0.2663 - sparse_categorical_accuracy: 0.9015 - val_loss: 0.3195 - val_sparse_categorical_accuracy: 0.8835\n",
      "Epoch 9/20\n",
      "50000/50000 [==============================] - 1s 19us/sample - loss: 0.2672 - sparse_categorical_accuracy: 0.9000 - val_loss: 0.3425 - val_sparse_categorical_accuracy: 0.8767\n",
      "Epoch 10/20\n",
      "50000/50000 [==============================] - 1s 18us/sample - loss: 0.2509 - sparse_categorical_accuracy: 0.9067 - val_loss: 0.3169 - val_sparse_categorical_accuracy: 0.8844\n",
      "Epoch 11/20\n",
      "50000/50000 [==============================] - 1s 20us/sample - loss: 0.2394 - sparse_categorical_accuracy: 0.9116 - val_loss: 0.3344 - val_sparse_categorical_accuracy: 0.8831\n",
      "Epoch 12/20\n",
      "50000/50000 [==============================] - 1s 18us/sample - loss: 0.2338 - sparse_categorical_accuracy: 0.9120 - val_loss: 0.3175 - val_sparse_categorical_accuracy: 0.8839\n",
      "Epoch 13/20\n",
      "50000/50000 [==============================] - 1s 18us/sample - loss: 0.2271 - sparse_categorical_accuracy: 0.9156 - val_loss: 0.3350 - val_sparse_categorical_accuracy: 0.8789\n",
      "Epoch 14/20\n",
      "50000/50000 [==============================] - 1s 17us/sample - loss: 0.2181 - sparse_categorical_accuracy: 0.9174 - val_loss: 0.3331 - val_sparse_categorical_accuracy: 0.8803\n",
      "Epoch 15/20\n",
      "50000/50000 [==============================] - 1s 17us/sample - loss: 0.2086 - sparse_categorical_accuracy: 0.9227 - val_loss: 0.3266 - val_sparse_categorical_accuracy: 0.8846\n",
      "Epoch 16/20\n",
      "50000/50000 [==============================] - 1s 18us/sample - loss: 0.2018 - sparse_categorical_accuracy: 0.9246 - val_loss: 0.3171 - val_sparse_categorical_accuracy: 0.8889\n",
      "Epoch 17/20\n",
      "50000/50000 [==============================] - 1s 18us/sample - loss: 0.1942 - sparse_categorical_accuracy: 0.9269 - val_loss: 0.3198 - val_sparse_categorical_accuracy: 0.8903\n",
      "Epoch 18/20\n",
      "50000/50000 [==============================] - 1s 18us/sample - loss: 0.1965 - sparse_categorical_accuracy: 0.9262 - val_loss: 0.3342 - val_sparse_categorical_accuracy: 0.8869\n",
      "Epoch 19/20\n",
      "50000/50000 [==============================] - 1s 17us/sample - loss: 0.1821 - sparse_categorical_accuracy: 0.9319 - val_loss: 0.3265 - val_sparse_categorical_accuracy: 0.8899\n",
      "Epoch 20/20\n",
      "50000/50000 [==============================] - 1s 18us/sample - loss: 0.1818 - sparse_categorical_accuracy: 0.9316 - val_loss: 0.3476 - val_sparse_categorical_accuracy: 0.8830\n"
     ]
    }
   ],
   "source": [
    "init = 'he_uniform'\n",
    "act = 'relu'\n",
    "\n",
    "input_tensor = L.Input(shape=(28, 28))\n",
    "\n",
    "x = L.Flatten()(input_tensor)\n",
    "x1 = L.Dense(100, kernel_initializer=init, activation=act)(x)\n",
    "x = L.Dense(100, kernel_initializer=init, activation=act)(x1)\n",
    "x = L.concatenate([x, x1])\n",
    "\n",
    "x1 = L.Dense(100, kernel_initializer=init, activation=act)(x)\n",
    "x = L.Dense(100, kernel_initializer=init, activation=act)(x)\n",
    "x = L.concatenate([x, x1])\n",
    "\n",
    "x1 = L.Dense(100, kernel_initializer=init, activation=act)(x)\n",
    "x = L.Dense(100, kernel_initializer=init, activation=act)(x)\n",
    "x = L.concatenate([x, x1])\n",
    "\n",
    "output_tensor = L.Dense(10, kernel_initializer=init, activation='softmax')(x)\n",
    "\n",
    "model = keras.Model(input_tensor, output_tensor)\n",
    "\n",
    "model.compile(\"adam\", \"sparse_categorical_crossentropy\", metrics=[\"sparse_categorical_accuracy\"])\n",
    "\n",
    "history8 = model.fit(X_train, y_train, validation_data=(X_val, y_val), epochs=20, batch_size=500, verbose=1)"
   ]
  },
  {
   "cell_type": "code",
   "execution_count": 75,
   "metadata": {},
   "outputs": [
    {
     "data": {
      "image/png": "[encoded data removed]",
      "text/plain": [
       "<Figure size 1152x720 with 1 Axes>"
      ]
     },
     "metadata": {
      "needs_background": "light"
     },
     "output_type": "display_data"
    }
   ],
   "source": [
    "plot_history([('relu', history1), \n",
    "              ('he_uniform', history2),\n",
    "              ('skip_connection', history7),\n",
    "              ('he_skip_connection', history8),\n",
    "             ],\n",
    "             start=0)"
   ]
  },
  {
   "cell_type": "markdown",
   "metadata": {},
   "source": [
    "# 4. Ещё немного функционального API \n",
    "\n",
    "\n",
    "## 4.1 Несколько входов\n",
    "\n",
    "В этом примере на вход идёт две картинки."
   ]
  },
  {
   "cell_type": "code",
   "execution_count": 91,
   "metadata": {},
   "outputs": [
    {
     "name": "stdout",
     "output_type": "stream",
     "text": [
      "Model: \"model_11\"\n",
      "__________________________________________________________________________________________________\n",
      "Layer (type)                    Output Shape         Param #     Connected to                     \n",
      "==================================================================================================\n",
      "input_61 (InputLayer)           [(None, 28, 28)]     0                                            \n",
      "__________________________________________________________________________________________________\n",
      "input_62 (InputLayer)           [(None, 28, 28)]     0                                            \n",
      "__________________________________________________________________________________________________\n",
      "flatten_57 (Flatten)            (None, 784)          0           input_61[0][0]                   \n",
      "__________________________________________________________________________________________________\n",
      "flatten_58 (Flatten)            (None, 784)          0           input_62[0][0]                   \n",
      "__________________________________________________________________________________________________\n",
      "dense_267 (Dense)               (None, 100)          78500       flatten_57[0][0]                 \n",
      "__________________________________________________________________________________________________\n",
      "dense_269 (Dense)               (None, 100)          78500       flatten_58[0][0]                 \n",
      "__________________________________________________________________________________________________\n",
      "dense_268 (Dense)               (None, 100)          10100       dense_267[0][0]                  \n",
      "__________________________________________________________________________________________________\n",
      "dense_270 (Dense)               (None, 100)          10100       dense_269[0][0]                  \n",
      "__________________________________________________________________________________________________\n",
      "concatenate_17 (Concatenate)    (None, 200)          0           dense_268[0][0]                  \n",
      "                                                                 dense_270[0][0]                  \n",
      "__________________________________________________________________________________________________\n",
      "dense_271 (Dense)               (None, 10)           2010        concatenate_17[0][0]             \n",
      "==================================================================================================\n",
      "Total params: 179,210\n",
      "Trainable params: 179,210\n",
      "Non-trainable params: 0\n",
      "__________________________________________________________________________________________________\n"
     ]
    }
   ],
   "source": [
    "input_1 = L.Input(shape=(28, 28))\n",
    "input_2 = L.Input(shape=(28, 28))\n",
    "\n",
    "x1 = L.Flatten()(input_1)\n",
    "x1 = L.Dense(100, kernel_initializer=init, activation=act)(x1)\n",
    "x1 = L.Dense(100, kernel_initializer=init, activation=act)(x1)\n",
    "\n",
    "x2 = L.Flatten()(input_2)\n",
    "x2 = L.Dense(100, kernel_initializer=init, activation=act)(x2)\n",
    "x2 = L.Dense(100, kernel_initializer=init, activation=act)(x2)\n",
    "\n",
    "x = L.concatenate([x1, x2])\n",
    "output = L.Dense(10, kernel_initializer=init, activation='softmax')(x)\n",
    "\n",
    "model = keras.Model([input_1, input_2], output)\n",
    "model.summary()"
   ]
  },
  {
   "cell_type": "markdown",
   "metadata": {},
   "source": [
    "Немного бессмысленный пример обучения, когда на вход идут две одинаковые картиночки."
   ]
  },
  {
   "cell_type": "code",
   "execution_count": 87,
   "metadata": {},
   "outputs": [
    {
     "name": "stdout",
     "output_type": "stream",
     "text": [
      "Train on 50000 samples, validate on 10000 samples\n",
      "Epoch 1/2\n",
      "50000/50000 [==============================] - 1s 17us/sample - loss: 0.2929 - sparse_categorical_accuracy: 0.8929 - val_loss: 0.3245 - val_sparse_categorical_accuracy: 0.8836\n",
      "Epoch 2/2\n",
      "50000/50000 [==============================] - 1s 17us/sample - loss: 0.2819 - sparse_categorical_accuracy: 0.8969 - val_loss: 0.3271 - val_sparse_categorical_accuracy: 0.8790\n"
     ]
    },
    {
     "data": {
      "text/plain": [
       "<tensorflow.python.keras.callbacks.History at 0x14f903898>"
      ]
     },
     "execution_count": 87,
     "metadata": {},
     "output_type": "execute_result"
    }
   ],
   "source": [
    "model.compile(\"adam\", \"sparse_categorical_crossentropy\", metrics=[\"sparse_categorical_accuracy\"])\n",
    "\n",
    "model.fit([X_train, X_train], y_train, validation_data=([X_val, X_val], y_val),\n",
    "          epochs=2, batch_size=500)"
   ]
  },
  {
   "cell_type": "markdown",
   "metadata": {},
   "source": [
    "## 4.2 Несколько выходов и функций потерь"
   ]
  },
  {
   "cell_type": "code",
   "execution_count": 100,
   "metadata": {},
   "outputs": [
    {
     "name": "stdout",
     "output_type": "stream",
     "text": [
      "Model: \"model_14\"\n",
      "__________________________________________________________________________________________________\n",
      "Layer (type)                    Output Shape         Param #     Connected to                     \n",
      "==================================================================================================\n",
      "input_65 (InputLayer)           [(None, 28, 28)]     0                                            \n",
      "__________________________________________________________________________________________________\n",
      "flatten_61 (Flatten)            (None, 784)          0           input_65[0][0]                   \n",
      "__________________________________________________________________________________________________\n",
      "dense_284 (Dense)               (None, 100)          78500       flatten_61[0][0]                 \n",
      "__________________________________________________________________________________________________\n",
      "dense_285 (Dense)               (None, 100)          78500       flatten_61[0][0]                 \n",
      "__________________________________________________________________________________________________\n",
      "dense_286 (Dense)               (None, 100)          78500       flatten_61[0][0]                 \n",
      "__________________________________________________________________________________________________\n",
      "dense_287 (Dense)               (None, 10)           1010        dense_284[0][0]                  \n",
      "__________________________________________________________________________________________________\n",
      "dense_288 (Dense)               (None, 10)           1010        dense_285[0][0]                  \n",
      "__________________________________________________________________________________________________\n",
      "dense_289 (Dense)               (None, 10)           1010        dense_286[0][0]                  \n",
      "==================================================================================================\n",
      "Total params: 238,530\n",
      "Trainable params: 238,530\n",
      "Non-trainable params: 0\n",
      "__________________________________________________________________________________________________\n"
     ]
    }
   ],
   "source": [
    "init = 'uniform'\n",
    "act = 'relu'\n",
    "\n",
    "input_tensor = L.Input(shape=(28, 28))\n",
    "\n",
    "x = L.Flatten()(input_tensor)\n",
    "x1 = L.Dense(100, kernel_initializer=init, activation=act)(x)\n",
    "x2 = L.Dense(100, kernel_initializer=init, activation=act)(x)\n",
    "x3 = L.Dense(100, kernel_initializer=init, activation=act)(x)\n",
    "\n",
    "output_1 = L.Dense(10, kernel_initializer=init, activation='softmax')(x1)\n",
    "output_2 = L.Dense(10, kernel_initializer=init, activation='softmax')(x2)\n",
    "output_3 = L.Dense(10, kernel_initializer=init, activation='softmax')(x3)\n",
    "\n",
    "model = keras.Model(input_tensor, [output_1, output_2, output_3])\n",
    "\n",
    "model.summary()"
   ]
  },
  {
   "cell_type": "code",
   "execution_count": 102,
   "metadata": {},
   "outputs": [
    {
     "name": "stdout",
     "output_type": "stream",
     "text": [
      "Train on 50000 samples\n",
      "Epoch 1/2\n",
      "50000/50000 [==============================] - 1s 23us/sample - loss: 10.8418 - dense_287_loss: 0.9584 - dense_288_loss: 0.9684 - dense_289_loss: 0.9634\n",
      "Epoch 2/2\n",
      "50000/50000 [==============================] - 1s 14us/sample - loss: 6.0745 - dense_287_loss: 0.5321 - dense_288_loss: 0.5349 - dense_289_loss: 0.5407\n"
     ]
    },
    {
     "data": {
      "text/plain": [
       "<tensorflow.python.keras.callbacks.History at 0x150b40780>"
      ]
     },
     "execution_count": 102,
     "metadata": {},
     "output_type": "execute_result"
    }
   ],
   "source": [
    "model.compile(optimizer='adam', loss=['sparse_categorical_crossentropy',\n",
    "                                      'sparse_categorical_crossentropy', \n",
    "                                      'sparse_categorical_crossentropy'],\n",
    "                                    loss_weights=[0.25, 1., 10.])\n",
    "\n",
    "model.fit(X_train, [y_train, y_train, y_train], epochs=2, batch_size=500)"
   ]
  },
  {
   "cell_type": "markdown",
   "metadata": {},
   "source": [
    "Пример с разными функциями потерь:"
   ]
  },
  {
   "cell_type": "raw",
   "metadata": {},
   "source": [
    "model.compile(optimizer='adam', loss=['mse', 'categorical_crossentropy', 'binary_crossentropy'],\n",
    "                                    loss_weights=[0.25, 1., 10.])\n",
    "\n",
    "\n",
    "# если дали выходам имена, можно вот так: \n",
    "\n",
    "model.compile(optimizer='adam',\n",
    "\n",
    "              loss={'age': 'mse',\n",
    "                    'income': 'categorical_crossentropy',\n",
    "                    'gender': 'binary_crossentropy'},\n",
    "                    \n",
    "              loss_weights={'age': 0.25,\n",
    "                            'income': 1.,\n",
    "                            'gender': 10.})"
   ]
  },
  {
   "cell_type": "markdown",
   "metadata": {},
   "source": [
    " "
   ]
  }
 ],
 "metadata": {
  "kernelspec": {
   "display_name": "Python 3",
   "language": "python",
   "name": "python3"
  },
  "language_info": {
   "codemirror_mode": {
    "name": "ipython",
    "version": 3
   },
   "file_extension": ".py",
   "mimetype": "text/x-python",
   "name": "python",
   "nbconvert_exporter": "python",
   "pygments_lexer": "ipython3",
   "version": "3.7.2"
  }
 },
 "nbformat": 4,
 "nbformat_minor": 2
}
