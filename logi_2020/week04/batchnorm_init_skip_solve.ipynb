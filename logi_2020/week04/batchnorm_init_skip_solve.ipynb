{
 "cells": [
  {
   "cell_type": "markdown",
   "metadata": {},
   "source": [
    "# Пробуем разные приколы! \n",
    "\n",
    "На самой первой паре мы много говорили про Keras, высокоуровневое API для Tensorflow. Он позволяет быстро и без боли учить нейронки, в которых не встречается особо много извращений. В этой тетрадке мы окунёмся в него чуть глубже. Работать по-прежнему будем с одеждой. "
   ]
  },
  {
   "cell_type": "code",
   "execution_count": 1,
   "metadata": {},
   "outputs": [
    {
     "data": {
      "text/plain": [
       "'2.0.0'"
      ]
     },
     "execution_count": 1,
     "metadata": {},
     "output_type": "execute_result"
    }
   ],
   "source": [
    "import numpy as np\n",
    "import tensorflow as tf\n",
    "tf.__version__ "
   ]
  },
  {
   "cell_type": "code",
   "execution_count": 2,
   "metadata": {},
   "outputs": [],
   "source": [
    "from tensorflow.keras import Sequential\n",
    "keras, L = tf.keras, tf.keras.layers\n",
    "\n",
    "from sklearn.model_selection import train_test_split\n",
    "import matplotlib.pyplot as plt\n",
    "%matplotlib inline"
   ]
  },
  {
   "cell_type": "code",
   "execution_count": 3,
   "metadata": {},
   "outputs": [],
   "source": [
    "fashion_mnist = tf.keras.datasets.fashion_mnist\n",
    "\n",
    "(X_train, y_train), (X_test, y_test) = fashion_mnist.load_data()\n",
    "\n",
    "X_train, X_val, y_train, y_val = train_test_split(X_train, y_train, test_size=10**4, random_state=42)\n",
    "\n",
    "X_train = X_train / 255.\n",
    "X_val = X_val / 255.\n",
    "X_test = X_test / 255.\n",
    "\n",
    "class_names = ['T-shirt/top', 'Trouser', 'Pullover', 'Dress', 'Coat',\n",
    "               'Sandal', 'Shirt', 'Sneaker', 'Bag', 'Ankle boot']"
   ]
  },
  {
   "cell_type": "code",
   "execution_count": 4,
   "metadata": {},
   "outputs": [
    {
     "data": {
      "text/plain": [
       "((50000, 28, 28), (10000, 28, 28), (10000, 28, 28))"
      ]
     },
     "execution_count": 4,
     "metadata": {},
     "output_type": "execute_result"
    }
   ],
   "source": [
    "X_train.shape, X_val.shape, X_test.shape"
   ]
  },
  {
   "cell_type": "markdown",
   "metadata": {},
   "source": [
    "# 1. Инициализация и батчнорм\n",
    "\n",
    "Мы сегодня говорили о батч-нормализации и про то, как правильно в нейросетках делается инициализация весов. Давайте закрепим эти знания на практике, и переработаем их в навыки. "
   ]
  },
  {
   "cell_type": "code",
   "execution_count": 5,
   "metadata": {},
   "outputs": [],
   "source": [
    "# Помните зачем эта функция? :3 \n",
    "# Мы довольно активно использовали её, когда говорили про градиентные спуски\n",
    "\n",
    "def plot_history(histories, key='loss', start=0):\n",
    "    plt.figure(figsize=(16,10))\n",
    "\n",
    "    for name, history in histories:\n",
    "        val = plt.plot(history.epoch[start:], history.history['val_'+key][start:],\n",
    "                       #'--', \n",
    "                       label=name.title()+' Val')\n",
    "            #plt.plot(history.epoch[start:], history.history[key][start:], color=val[0].get_color(),\n",
    "            #     label=name.title()+' Train')\n",
    "\n",
    "    plt.xlabel('Epochs')\n",
    "    plt.ylabel(key.replace('_',' ').title())\n",
    "    plt.legend()\n",
    "\n",
    "    plt.xlim([start, max(history.epoch)])\n",
    "    pass"
   ]
  },
  {
   "cell_type": "markdown",
   "metadata": {},
   "source": [
    "### Задание 1:\n",
    "\n",
    "Для начала реализуйте простую нейросеть:\n",
    "* принимает на вход картинки размера 28 x 28\n",
    "* вытягивает их в вектор (`keras.layers.Flatten`)\n",
    "* пропускает через $6$ полносвязных слоёв с сотней нейронов и вашей любимой функцией активации\n",
    "* на выходе предсказывает веротятности принадлежности к каждому из 10 классов\n",
    "* при обучении сетки поставьте размер батча $512$, учите сетку $20$ эпох\n",
    "\n",
    "__Важно:__ поскольку в y_train лежат номера классов, керасу нужно либо указать sparse функции потерь и метрики (`sparse_categorical_crossentropy` и `sparse_categorical_accuracy`), либо конвертировать y в one-hot формат.\n",
    "\n",
    "__Ещё важнее:__ при большом батче модель будет быстрее проходить эпохи. Когда он очень большой, необходимо довольно много эпох для сходимости. Градиент обновляется редко. Когда размер батча совсем маленький, сетка может обучаться довольно шумно. "
   ]
  },
  {
   "cell_type": "code",
   "execution_count": 6,
   "metadata": {
    "scrolled": true
   },
   "outputs": [
    {
     "name": "stdout",
     "output_type": "stream",
     "text": [
      "Train on 50000 samples, validate on 10000 samples\n",
      "Epoch 1/20\n",
      "50000/50000 [==============================] - 2s 36us/sample - loss: 2.2790 - sparse_categorical_accuracy: 0.2198 - val_loss: 2.0977 - val_sparse_categorical_accuracy: 0.2657\n",
      "Epoch 2/20\n",
      "50000/50000 [==============================] - 1s 17us/sample - loss: 1.4822 - sparse_categorical_accuracy: 0.3670 - val_loss: 1.1877 - val_sparse_categorical_accuracy: 0.4519\n",
      "Epoch 3/20\n",
      "50000/50000 [==============================] - 1s 16us/sample - loss: 1.1067 - sparse_categorical_accuracy: 0.4985 - val_loss: 1.0602 - val_sparse_categorical_accuracy: 0.5548\n",
      "Epoch 4/20\n",
      "50000/50000 [==============================] - 1s 17us/sample - loss: 1.0053 - sparse_categorical_accuracy: 0.5761 - val_loss: 0.9895 - val_sparse_categorical_accuracy: 0.5749\n",
      "Epoch 5/20\n",
      "50000/50000 [==============================] - 1s 16us/sample - loss: 0.9587 - sparse_categorical_accuracy: 0.5923 - val_loss: 0.9581 - val_sparse_categorical_accuracy: 0.5948\n",
      "Epoch 6/20\n",
      "50000/50000 [==============================] - 1s 17us/sample - loss: 0.9262 - sparse_categorical_accuracy: 0.6152 - val_loss: 0.9338 - val_sparse_categorical_accuracy: 0.6151\n",
      "Epoch 7/20\n",
      "50000/50000 [==============================] - 1s 16us/sample - loss: 0.9014 - sparse_categorical_accuracy: 0.6332 - val_loss: 0.9156 - val_sparse_categorical_accuracy: 0.6185\n",
      "Epoch 8/20\n",
      "50000/50000 [==============================] - 1s 18us/sample - loss: 0.8820 - sparse_categorical_accuracy: 0.6453 - val_loss: 0.8979 - val_sparse_categorical_accuracy: 0.6332\n",
      "Epoch 9/20\n",
      "50000/50000 [==============================] - 1s 19us/sample - loss: 0.8632 - sparse_categorical_accuracy: 0.6564 - val_loss: 0.8807 - val_sparse_categorical_accuracy: 0.6501\n",
      "Epoch 10/20\n",
      "50000/50000 [==============================] - 1s 17us/sample - loss: 0.8488 - sparse_categorical_accuracy: 0.6659 - val_loss: 0.8700 - val_sparse_categorical_accuracy: 0.6549\n",
      "Epoch 11/20\n",
      "50000/50000 [==============================] - 1s 20us/sample - loss: 0.8339 - sparse_categorical_accuracy: 0.6746 - val_loss: 0.8532 - val_sparse_categorical_accuracy: 0.6634\n",
      "Epoch 12/20\n",
      "50000/50000 [==============================] - 1s 18us/sample - loss: 0.8216 - sparse_categorical_accuracy: 0.6805 - val_loss: 0.8380 - val_sparse_categorical_accuracy: 0.6680\n",
      "Epoch 13/20\n",
      "50000/50000 [==============================] - 1s 18us/sample - loss: 0.8070 - sparse_categorical_accuracy: 0.6888 - val_loss: 0.8254 - val_sparse_categorical_accuracy: 0.6727\n",
      "Epoch 14/20\n",
      "50000/50000 [==============================] - 1s 21us/sample - loss: 0.7970 - sparse_categorical_accuracy: 0.6943 - val_loss: 0.8164 - val_sparse_categorical_accuracy: 0.6795\n",
      "Epoch 15/20\n",
      "50000/50000 [==============================] - 1s 19us/sample - loss: 0.7854 - sparse_categorical_accuracy: 0.6998 - val_loss: 0.8066 - val_sparse_categorical_accuracy: 0.6845\n",
      "Epoch 16/20\n",
      "50000/50000 [==============================] - 1s 19us/sample - loss: 0.7760 - sparse_categorical_accuracy: 0.7030 - val_loss: 0.7957 - val_sparse_categorical_accuracy: 0.6919\n",
      "Epoch 17/20\n",
      "50000/50000 [==============================] - 1s 17us/sample - loss: 0.7654 - sparse_categorical_accuracy: 0.7077 - val_loss: 0.7879 - val_sparse_categorical_accuracy: 0.6960\n",
      "Epoch 18/20\n",
      "50000/50000 [==============================] - 1s 17us/sample - loss: 0.7543 - sparse_categorical_accuracy: 0.7139 - val_loss: 0.7844 - val_sparse_categorical_accuracy: 0.6927\n",
      "Epoch 19/20\n",
      "50000/50000 [==============================] - 1s 21us/sample - loss: 0.7493 - sparse_categorical_accuracy: 0.7166 - val_loss: 0.7758 - val_sparse_categorical_accuracy: 0.7069\n",
      "Epoch 20/20\n",
      "50000/50000 [==============================] - 1s 18us/sample - loss: 0.7440 - sparse_categorical_accuracy: 0.7184 - val_loss: 0.7737 - val_sparse_categorical_accuracy: 0.7014\n"
     ]
    }
   ],
   "source": [
    "### ╰( ͡° ͜ʖ ͡° )つ──☆*:・ﾟ  создайте сеть по инструкции выше\n",
    "tf.random.set_seed(42)\n",
    "\n",
    "init = 'uniform'\n",
    "\n",
    "model = Sequential()\n",
    "model.add(L.InputLayer(input_shape=(28, 28)))\n",
    "model.add(L.Flatten())\n",
    "\n",
    "model.add(L.Dense(100, kernel_initializer=init))\n",
    "model.add(L.ReLU())  \n",
    "\n",
    "model.add(L.Dense(100, kernel_initializer=init))\n",
    "model.add(L.ReLU())  \n",
    "\n",
    "model.add(L.Dense(100, kernel_initializer=init))\n",
    "model.add(L.ReLU())  \n",
    "\n",
    "model.add(L.Dense(100, kernel_initializer=init))\n",
    "model.add(L.ReLU())  \n",
    "\n",
    "model.add(L.Dense(100, kernel_initializer=init))\n",
    "model.add(L.ReLU()) \n",
    "\n",
    "model.add(L.Dense(100, kernel_initializer=init))\n",
    "model.add(L.ReLU()) \n",
    "\n",
    "model.add(L.Dense(10, kernel_initializer=init))\n",
    "model.add(L.Softmax())\n",
    "\n",
    "opt = keras.optimizers.Adam(learning_rate=1e-4)\n",
    "\n",
    "model.compile(optimizer=opt, loss=\"sparse_categorical_crossentropy\", \n",
    "              metrics=[\"sparse_categorical_accuracy\"])\n",
    "\n",
    "history1 = model.fit(X_train, y_train, validation_data=(X_val, y_val), \n",
    "                     epochs=20, batch_size=500, verbose=1)"
   ]
  },
  {
   "cell_type": "markdown",
   "metadata": {},
   "source": [
    "### Задание 2:\n",
    "\n",
    "Возьмите ту же нейросетку и в качестве инициализации используйте либо инициализацию Хе либо Глорота (в зависимости от выбранных вами функций активации). "
   ]
  },
  {
   "cell_type": "code",
   "execution_count": 7,
   "metadata": {},
   "outputs": [
    {
     "name": "stdout",
     "output_type": "stream",
     "text": [
      "Train on 50000 samples, validate on 10000 samples\n",
      "Epoch 1/20\n",
      "50000/50000 [==============================] - 2s 32us/sample - loss: 1.4363 - sparse_categorical_accuracy: 0.5476 - val_loss: 0.7614 - val_sparse_categorical_accuracy: 0.7348\n",
      "Epoch 2/20\n",
      "50000/50000 [==============================] - 1s 20us/sample - loss: 0.6242 - sparse_categorical_accuracy: 0.7844 - val_loss: 0.5563 - val_sparse_categorical_accuracy: 0.8127\n",
      "Epoch 3/20\n",
      "50000/50000 [==============================] - 1s 19us/sample - loss: 0.5113 - sparse_categorical_accuracy: 0.8225 - val_loss: 0.4936 - val_sparse_categorical_accuracy: 0.8297\n",
      "Epoch 4/20\n",
      "50000/50000 [==============================] - 1s 18us/sample - loss: 0.4665 - sparse_categorical_accuracy: 0.8381 - val_loss: 0.4620 - val_sparse_categorical_accuracy: 0.8392\n",
      "Epoch 5/20\n",
      "50000/50000 [==============================] - 1s 17us/sample - loss: 0.4377 - sparse_categorical_accuracy: 0.8479 - val_loss: 0.4405 - val_sparse_categorical_accuracy: 0.8456\n",
      "Epoch 6/20\n",
      "50000/50000 [==============================] - 1s 18us/sample - loss: 0.4162 - sparse_categorical_accuracy: 0.8555 - val_loss: 0.4256 - val_sparse_categorical_accuracy: 0.8521\n",
      "Epoch 7/20\n",
      "50000/50000 [==============================] - 1s 17us/sample - loss: 0.4020 - sparse_categorical_accuracy: 0.8599 - val_loss: 0.4150 - val_sparse_categorical_accuracy: 0.8550\n",
      "Epoch 8/20\n",
      "50000/50000 [==============================] - 1s 16us/sample - loss: 0.3890 - sparse_categorical_accuracy: 0.8638 - val_loss: 0.4048 - val_sparse_categorical_accuracy: 0.8560\n",
      "Epoch 9/20\n",
      "50000/50000 [==============================] - 1s 16us/sample - loss: 0.3808 - sparse_categorical_accuracy: 0.8669 - val_loss: 0.3988 - val_sparse_categorical_accuracy: 0.8599\n",
      "Epoch 10/20\n",
      "50000/50000 [==============================] - 1s 16us/sample - loss: 0.3696 - sparse_categorical_accuracy: 0.8698 - val_loss: 0.3906 - val_sparse_categorical_accuracy: 0.8613\n",
      "Epoch 11/20\n",
      "50000/50000 [==============================] - 1s 16us/sample - loss: 0.3591 - sparse_categorical_accuracy: 0.8729 - val_loss: 0.3882 - val_sparse_categorical_accuracy: 0.8628\n",
      "Epoch 12/20\n",
      "50000/50000 [==============================] - 1s 16us/sample - loss: 0.3529 - sparse_categorical_accuracy: 0.8761 - val_loss: 0.3782 - val_sparse_categorical_accuracy: 0.8628\n",
      "Epoch 13/20\n",
      "50000/50000 [==============================] - 1s 16us/sample - loss: 0.3450 - sparse_categorical_accuracy: 0.8776 - val_loss: 0.3725 - val_sparse_categorical_accuracy: 0.8651\n",
      "Epoch 14/20\n",
      "50000/50000 [==============================] - 1s 16us/sample - loss: 0.3403 - sparse_categorical_accuracy: 0.8790 - val_loss: 0.3720 - val_sparse_categorical_accuracy: 0.8671\n",
      "Epoch 15/20\n",
      "50000/50000 [==============================] - 1s 16us/sample - loss: 0.3338 - sparse_categorical_accuracy: 0.8815 - val_loss: 0.3710 - val_sparse_categorical_accuracy: 0.8668\n",
      "Epoch 16/20\n",
      "50000/50000 [==============================] - 1s 17us/sample - loss: 0.3281 - sparse_categorical_accuracy: 0.8830 - val_loss: 0.3615 - val_sparse_categorical_accuracy: 0.8699\n",
      "Epoch 17/20\n",
      "50000/50000 [==============================] - 1s 16us/sample - loss: 0.3214 - sparse_categorical_accuracy: 0.8858 - val_loss: 0.3588 - val_sparse_categorical_accuracy: 0.8726\n",
      "Epoch 18/20\n",
      "50000/50000 [==============================] - 1s 16us/sample - loss: 0.3174 - sparse_categorical_accuracy: 0.8863 - val_loss: 0.3634 - val_sparse_categorical_accuracy: 0.8693\n",
      "Epoch 19/20\n",
      "50000/50000 [==============================] - 1s 17us/sample - loss: 0.3126 - sparse_categorical_accuracy: 0.8885 - val_loss: 0.3561 - val_sparse_categorical_accuracy: 0.8705\n",
      "Epoch 20/20\n",
      "50000/50000 [==============================] - 1s 16us/sample - loss: 0.3091 - sparse_categorical_accuracy: 0.8883 - val_loss: 0.3591 - val_sparse_categorical_accuracy: 0.8728\n"
     ]
    }
   ],
   "source": [
    "### ╰( ͡° ͜ʖ ͡° )つ──☆*:・ﾟ  создайте сеть по инструкции выше\n",
    "tf.random.set_seed(42)\n",
    "\n",
    "init = 'he_uniform'\n",
    "\n",
    "model = Sequential()\n",
    "model.add(L.InputLayer(input_shape=(28, 28)))\n",
    "model.add(L.Flatten())\n",
    "\n",
    "model.add(L.Dense(100, kernel_initializer=init))\n",
    "model.add(L.ReLU())  \n",
    "\n",
    "model.add(L.Dense(100, kernel_initializer=init))\n",
    "model.add(L.ReLU())  \n",
    "\n",
    "model.add(L.Dense(100, kernel_initializer=init))\n",
    "model.add(L.ReLU())  \n",
    "\n",
    "model.add(L.Dense(100, kernel_initializer=init))\n",
    "model.add(L.ReLU())  \n",
    "\n",
    "model.add(L.Dense(100, kernel_initializer=init))\n",
    "model.add(L.ReLU()) \n",
    "\n",
    "model.add(L.Dense(100, kernel_initializer=init))\n",
    "model.add(L.ReLU()) \n",
    "\n",
    "model.add(L.Dense(10, kernel_initializer=init))\n",
    "model.add(L.Softmax())\n",
    "\n",
    "opt = keras.optimizers.Adam(learning_rate=1e-4)\n",
    "\n",
    "model.compile(optimizer=opt, loss=\"sparse_categorical_crossentropy\", \n",
    "              metrics=[\"sparse_categorical_accuracy\"])\n",
    "\n",
    "history2 = model.fit(X_train, y_train, validation_data=(X_val, y_val), \n",
    "                     epochs=20, batch_size=500, verbose=1)"
   ]
  },
  {
   "cell_type": "markdown",
   "metadata": {},
   "source": [
    "### Задание 3:\n",
    "\n",
    "Берём ту же самую сетку и добавляем в неё батч-нормализацию после каждого слоя. Инициализацию замените назад на равномерную. "
   ]
  },
  {
   "cell_type": "code",
   "execution_count": 8,
   "metadata": {
    "scrolled": true
   },
   "outputs": [
    {
     "name": "stdout",
     "output_type": "stream",
     "text": [
      "Train on 50000 samples, validate on 10000 samples\n",
      "Epoch 1/20\n",
      "50000/50000 [==============================] - 3s 52us/sample - loss: 1.6123 - sparse_categorical_accuracy: 0.6436 - val_loss: 2.3020 - val_sparse_categorical_accuracy: 0.0997\n",
      "Epoch 2/20\n",
      "50000/50000 [==============================] - 1s 24us/sample - loss: 0.9674 - sparse_categorical_accuracy: 0.8095 - val_loss: 2.2620 - val_sparse_categorical_accuracy: 0.1544\n",
      "Epoch 3/20\n",
      "50000/50000 [==============================] - 1s 24us/sample - loss: 0.6991 - sparse_categorical_accuracy: 0.8528 - val_loss: 1.8223 - val_sparse_categorical_accuracy: 0.6651\n",
      "Epoch 4/20\n",
      "50000/50000 [==============================] - 1s 25us/sample - loss: 0.5538 - sparse_categorical_accuracy: 0.8708 - val_loss: 0.9513 - val_sparse_categorical_accuracy: 0.8599\n",
      "Epoch 5/20\n",
      "50000/50000 [==============================] - 1s 24us/sample - loss: 0.4660 - sparse_categorical_accuracy: 0.8815 - val_loss: 0.5906 - val_sparse_categorical_accuracy: 0.8671\n",
      "Epoch 6/20\n",
      "50000/50000 [==============================] - 1s 25us/sample - loss: 0.4080 - sparse_categorical_accuracy: 0.8908 - val_loss: 0.4653 - val_sparse_categorical_accuracy: 0.8696\n",
      "Epoch 7/20\n",
      "50000/50000 [==============================] - 1s 25us/sample - loss: 0.3662 - sparse_categorical_accuracy: 0.8967 - val_loss: 0.4243 - val_sparse_categorical_accuracy: 0.8720\n",
      "Epoch 8/20\n",
      "50000/50000 [==============================] - 1s 24us/sample - loss: 0.3334 - sparse_categorical_accuracy: 0.9024 - val_loss: 0.4074 - val_sparse_categorical_accuracy: 0.8714\n",
      "Epoch 9/20\n",
      "50000/50000 [==============================] - 1s 24us/sample - loss: 0.3105 - sparse_categorical_accuracy: 0.9070 - val_loss: 0.3811 - val_sparse_categorical_accuracy: 0.8797\n",
      "Epoch 10/20\n",
      "50000/50000 [==============================] - 1s 25us/sample - loss: 0.2889 - sparse_categorical_accuracy: 0.9123 - val_loss: 0.3849 - val_sparse_categorical_accuracy: 0.8749\n",
      "Epoch 11/20\n",
      "50000/50000 [==============================] - 1s 25us/sample - loss: 0.2676 - sparse_categorical_accuracy: 0.9165 - val_loss: 0.3677 - val_sparse_categorical_accuracy: 0.8823\n",
      "Epoch 12/20\n",
      "50000/50000 [==============================] - 1s 25us/sample - loss: 0.2521 - sparse_categorical_accuracy: 0.9222 - val_loss: 0.3631 - val_sparse_categorical_accuracy: 0.8793\n",
      "Epoch 13/20\n",
      "50000/50000 [==============================] - 1s 25us/sample - loss: 0.2385 - sparse_categorical_accuracy: 0.9248 - val_loss: 0.3722 - val_sparse_categorical_accuracy: 0.8764\n",
      "Epoch 14/20\n",
      "50000/50000 [==============================] - 1s 25us/sample - loss: 0.2241 - sparse_categorical_accuracy: 0.9299 - val_loss: 0.3552 - val_sparse_categorical_accuracy: 0.8828\n",
      "Epoch 15/20\n",
      "50000/50000 [==============================] - 1s 25us/sample - loss: 0.2112 - sparse_categorical_accuracy: 0.9338 - val_loss: 0.3738 - val_sparse_categorical_accuracy: 0.8767\n",
      "Epoch 16/20\n",
      "50000/50000 [==============================] - 1s 25us/sample - loss: 0.2018 - sparse_categorical_accuracy: 0.9356 - val_loss: 0.3569 - val_sparse_categorical_accuracy: 0.8829\n",
      "Epoch 17/20\n",
      "50000/50000 [==============================] - 1s 25us/sample - loss: 0.1863 - sparse_categorical_accuracy: 0.9422 - val_loss: 0.3647 - val_sparse_categorical_accuracy: 0.8796\n",
      "Epoch 18/20\n",
      "50000/50000 [==============================] - 2s 30us/sample - loss: 0.1796 - sparse_categorical_accuracy: 0.9434 - val_loss: 0.3609 - val_sparse_categorical_accuracy: 0.8826\n",
      "Epoch 19/20\n",
      "50000/50000 [==============================] - 1s 29us/sample - loss: 0.1707 - sparse_categorical_accuracy: 0.9458 - val_loss: 0.3701 - val_sparse_categorical_accuracy: 0.8797\n",
      "Epoch 20/20\n",
      "50000/50000 [==============================] - 1s 29us/sample - loss: 0.1603 - sparse_categorical_accuracy: 0.9493 - val_loss: 0.3852 - val_sparse_categorical_accuracy: 0.8737\n"
     ]
    }
   ],
   "source": [
    "### ╰( ͡° ͜ʖ ͡° )つ──☆*:・ﾟ  создайте сеть по инструкции выше\n",
    "tf.random.set_seed(42)\n",
    "\n",
    "init = 'uniform'\n",
    "\n",
    "model = Sequential()\n",
    "model.add(L.InputLayer(input_shape=(28, 28)))\n",
    "model.add(L.Flatten())\n",
    "\n",
    "model.add(L.Dense(100, kernel_initializer=init))\n",
    "model.add(L.BatchNormalization()) \n",
    "model.add(L.ReLU())  \n",
    "\n",
    "model.add(L.Dense(100, kernel_initializer=init))\n",
    "model.add(L.BatchNormalization()) \n",
    "model.add(L.ReLU())  \n",
    "\n",
    "model.add(L.Dense(100, kernel_initializer=init))\n",
    "model.add(L.BatchNormalization()) \n",
    "model.add(L.ReLU())  \n",
    "\n",
    "model.add(L.Dense(100, kernel_initializer=init))\n",
    "model.add(L.BatchNormalization()) \n",
    "model.add(L.ReLU())  \n",
    "\n",
    "model.add(L.Dense(100, kernel_initializer=init))\n",
    "model.add(L.BatchNormalization()) \n",
    "model.add(L.ReLU()) \n",
    "\n",
    "model.add(L.Dense(100, kernel_initializer=init))\n",
    "model.add(L.BatchNormalization()) \n",
    "model.add(L.ReLU()) \n",
    "\n",
    "model.add(L.Dense(10, kernel_initializer=init))\n",
    "model.add(L.Softmax())\n",
    "\n",
    "opt = keras.optimizers.Adam(learning_rate=1e-4)\n",
    "\n",
    "model.compile(optimizer=opt, loss=\"sparse_categorical_crossentropy\", \n",
    "              metrics=[\"sparse_categorical_accuracy\"])\n",
    "\n",
    "history3 = model.fit(X_train, y_train, validation_data=(X_val, y_val), \n",
    "                     epochs=20, batch_size=500, verbose=1)"
   ]
  },
  {
   "cell_type": "markdown",
   "metadata": {},
   "source": [
    "### Задание 4:\n",
    "\n",
    "А теперь сразу и инициализация и батч-нормализация."
   ]
  },
  {
   "cell_type": "code",
   "execution_count": 9,
   "metadata": {
    "scrolled": true
   },
   "outputs": [
    {
     "name": "stdout",
     "output_type": "stream",
     "text": [
      "Train on 50000 samples, validate on 10000 samples\n",
      "Epoch 1/20\n",
      "50000/50000 [==============================] - 3s 56us/sample - loss: 1.6175 - sparse_categorical_accuracy: 0.4922 - val_loss: 1.6273 - val_sparse_categorical_accuracy: 0.5953\n",
      "Epoch 2/20\n",
      "50000/50000 [==============================] - 1s 24us/sample - loss: 0.8755 - sparse_categorical_accuracy: 0.7412 - val_loss: 0.9538 - val_sparse_categorical_accuracy: 0.7335\n",
      "Epoch 3/20\n",
      "50000/50000 [==============================] - 1s 24us/sample - loss: 0.6624 - sparse_categorical_accuracy: 0.7922 - val_loss: 0.6770 - val_sparse_categorical_accuracy: 0.7861\n",
      "Epoch 4/20\n",
      "50000/50000 [==============================] - 1s 24us/sample - loss: 0.5579 - sparse_categorical_accuracy: 0.8182 - val_loss: 0.5617 - val_sparse_categorical_accuracy: 0.8124\n",
      "Epoch 5/20\n",
      "50000/50000 [==============================] - 1s 25us/sample - loss: 0.4961 - sparse_categorical_accuracy: 0.8340 - val_loss: 0.5022 - val_sparse_categorical_accuracy: 0.8296\n",
      "Epoch 6/20\n",
      "50000/50000 [==============================] - 1s 24us/sample - loss: 0.4526 - sparse_categorical_accuracy: 0.8479 - val_loss: 0.4686 - val_sparse_categorical_accuracy: 0.8399\n",
      "Epoch 7/20\n",
      "50000/50000 [==============================] - 1s 24us/sample - loss: 0.4202 - sparse_categorical_accuracy: 0.8547 - val_loss: 0.4423 - val_sparse_categorical_accuracy: 0.8434\n",
      "Epoch 8/20\n",
      "50000/50000 [==============================] - 1s 23us/sample - loss: 0.3954 - sparse_categorical_accuracy: 0.8638 - val_loss: 0.4211 - val_sparse_categorical_accuracy: 0.8522\n",
      "Epoch 9/20\n",
      "50000/50000 [==============================] - 1s 25us/sample - loss: 0.3762 - sparse_categorical_accuracy: 0.8695 - val_loss: 0.4069 - val_sparse_categorical_accuracy: 0.8576\n",
      "Epoch 10/20\n",
      "50000/50000 [==============================] - 1s 24us/sample - loss: 0.3583 - sparse_categorical_accuracy: 0.8754 - val_loss: 0.3990 - val_sparse_categorical_accuracy: 0.8579\n",
      "Epoch 11/20\n",
      "50000/50000 [==============================] - 1s 25us/sample - loss: 0.3431 - sparse_categorical_accuracy: 0.8797 - val_loss: 0.3905 - val_sparse_categorical_accuracy: 0.8618\n",
      "Epoch 12/20\n",
      "50000/50000 [==============================] - 1s 24us/sample - loss: 0.3308 - sparse_categorical_accuracy: 0.8846 - val_loss: 0.3828 - val_sparse_categorical_accuracy: 0.8612\n",
      "Epoch 13/20\n",
      "50000/50000 [==============================] - 1s 26us/sample - loss: 0.3186 - sparse_categorical_accuracy: 0.8880 - val_loss: 0.3744 - val_sparse_categorical_accuracy: 0.8665\n",
      "Epoch 14/20\n",
      "50000/50000 [==============================] - 1s 26us/sample - loss: 0.3079 - sparse_categorical_accuracy: 0.8911 - val_loss: 0.3748 - val_sparse_categorical_accuracy: 0.8668\n",
      "Epoch 15/20\n",
      "50000/50000 [==============================] - 1s 26us/sample - loss: 0.2971 - sparse_categorical_accuracy: 0.8959 - val_loss: 0.3709 - val_sparse_categorical_accuracy: 0.8663\n",
      "Epoch 16/20\n",
      "50000/50000 [==============================] - 1s 27us/sample - loss: 0.2887 - sparse_categorical_accuracy: 0.8977 - val_loss: 0.3697 - val_sparse_categorical_accuracy: 0.8682\n",
      "Epoch 17/20\n",
      "50000/50000 [==============================] - 1s 27us/sample - loss: 0.2781 - sparse_categorical_accuracy: 0.9017 - val_loss: 0.3657 - val_sparse_categorical_accuracy: 0.8701\n",
      "Epoch 18/20\n",
      "50000/50000 [==============================] - 1s 26us/sample - loss: 0.2721 - sparse_categorical_accuracy: 0.9047 - val_loss: 0.3585 - val_sparse_categorical_accuracy: 0.8713\n",
      "Epoch 19/20\n",
      "50000/50000 [==============================] - 1s 26us/sample - loss: 0.2636 - sparse_categorical_accuracy: 0.9069 - val_loss: 0.3616 - val_sparse_categorical_accuracy: 0.8699\n",
      "Epoch 20/20\n",
      "50000/50000 [==============================] - 1s 30us/sample - loss: 0.2548 - sparse_categorical_accuracy: 0.9108 - val_loss: 0.3538 - val_sparse_categorical_accuracy: 0.8754\n"
     ]
    }
   ],
   "source": [
    "### ╰( ͡° ͜ʖ ͡° )つ──☆*:・ﾟ  создайте сеть по инструкции выше\n",
    "tf.random.set_seed(42)\n",
    "\n",
    "init = 'he_uniform'\n",
    "\n",
    "model = Sequential()\n",
    "model.add(L.InputLayer(input_shape=(28, 28)))\n",
    "model.add(L.Flatten())\n",
    "\n",
    "model.add(L.Dense(100, kernel_initializer = init))\n",
    "model.add(L.BatchNormalization())\n",
    "model.add(L.ReLU())\n",
    "\n",
    "model.add(L.Dense(100, kernel_initializer = init))\n",
    "model.add(L.BatchNormalization())\n",
    "model.add(L.ReLU())\n",
    "\n",
    "model.add(L.Dense(100, kernel_initializer = init))\n",
    "model.add(L.BatchNormalization())\n",
    "model.add(L.ReLU())\n",
    "\n",
    "model.add(L.Dense(100, kernel_initializer = init))\n",
    "model.add(L.BatchNormalization())\n",
    "model.add(L.ReLU())\n",
    "\n",
    "model.add(L.Dense(100, kernel_initializer = init))\n",
    "model.add(L.BatchNormalization())\n",
    "model.add(L.ReLU())\n",
    "\n",
    "model.add(L.Dense(100, kernel_initializer = init))\n",
    "model.add(L.BatchNormalization())\n",
    "model.add(L.ReLU())\n",
    "\n",
    "model.add(L.Dense(10, kernel_initializer = init))\n",
    "model.add(L.Softmax())\n",
    "\n",
    "opt = keras.optimizers.Adam(learning_rate=1e-4)\n",
    "\n",
    "model.compile(optimizer=opt, loss=\"sparse_categorical_crossentropy\", \n",
    "              metrics=[\"sparse_categorical_accuracy\"])\n",
    "\n",
    "history4 = model.fit(X_train, y_train, validation_data=(X_val, y_val), \n",
    "                     epochs=20, batch_size=500, verbose=1)"
   ]
  },
  {
   "cell_type": "markdown",
   "metadata": {},
   "source": [
    "### Задание 5:\n",
    "\n",
    "Дело осталось за малым. Нарисовать траектории обучения всех сеток на одной картинке и сравнить их между собой."
   ]
  },
  {
   "cell_type": "code",
   "execution_count": 12,
   "metadata": {},
   "outputs": [
    {
     "data": {
      "image/png": "[encoded data removed]",
      "text/plain": [
       "<Figure size 1152x720 with 1 Axes>"
      ]
     },
     "metadata": {
      "needs_background": "light"
     },
     "output_type": "display_data"
    }
   ],
   "source": [
    "plot_history([('uniform', history1), \n",
    "              ('he_uniform', history2),\n",
    "              ('batch_norm', history3),\n",
    "              ('together', history4)\n",
    "             ],\n",
    "             start=0)"
   ]
  },
  {
   "cell_type": "markdown",
   "metadata": {},
   "source": [
    "## 2. Функции активации  \n",
    "\n",
    "### Задание 6:\n",
    "\n",
    "Давайте попробуем поймать эффект, когда у нашей нейронки наступает паралич. Возьмите самый первый вариант нейросетки и замените все функции активации на сигмоиды. \n",
    "\n"
   ]
  },
  {
   "cell_type": "code",
   "execution_count": 13,
   "metadata": {
    "scrolled": true
   },
   "outputs": [
    {
     "name": "stdout",
     "output_type": "stream",
     "text": [
      "Train on 50000 samples, validate on 10000 samples\n",
      "Epoch 1/20\n",
      "50000/50000 [==============================] - 2s 35us/sample - loss: 2.3037 - sparse_categorical_accuracy: 0.0985 - val_loss: 2.3026 - val_sparse_categorical_accuracy: 0.1008\n",
      "Epoch 2/20\n",
      "50000/50000 [==============================] - 1s 22us/sample - loss: 2.3029 - sparse_categorical_accuracy: 0.0996 - val_loss: 2.3028 - val_sparse_categorical_accuracy: 0.1002\n",
      "Epoch 3/20\n",
      "50000/50000 [==============================] - 1s 18us/sample - loss: 2.3029 - sparse_categorical_accuracy: 0.0968 - val_loss: 2.3028 - val_sparse_categorical_accuracy: 0.0947\n",
      "Epoch 4/20\n",
      "50000/50000 [==============================] - 1s 18us/sample - loss: 2.3028 - sparse_categorical_accuracy: 0.0999 - val_loss: 2.3027 - val_sparse_categorical_accuracy: 0.1001\n",
      "Epoch 5/20\n",
      "50000/50000 [==============================] - 1s 21us/sample - loss: 2.3029 - sparse_categorical_accuracy: 0.0971 - val_loss: 2.3027 - val_sparse_categorical_accuracy: 0.0997\n",
      "Epoch 6/20\n",
      "50000/50000 [==============================] - 1s 17us/sample - loss: 2.3028 - sparse_categorical_accuracy: 0.0986 - val_loss: 2.3026 - val_sparse_categorical_accuracy: 0.0997\n",
      "Epoch 7/20\n",
      "50000/50000 [==============================] - 1s 17us/sample - loss: 2.3028 - sparse_categorical_accuracy: 0.0956 - val_loss: 2.3028 - val_sparse_categorical_accuracy: 0.0947\n",
      "Epoch 8/20\n",
      "50000/50000 [==============================] - 1s 17us/sample - loss: 2.3028 - sparse_categorical_accuracy: 0.0977 - val_loss: 2.3027 - val_sparse_categorical_accuracy: 0.0947\n",
      "Epoch 9/20\n",
      "50000/50000 [==============================] - 1s 20us/sample - loss: 2.3028 - sparse_categorical_accuracy: 0.0995 - val_loss: 2.3028 - val_sparse_categorical_accuracy: 0.1001\n",
      "Epoch 10/20\n",
      "50000/50000 [==============================] - 1s 21us/sample - loss: 2.3029 - sparse_categorical_accuracy: 0.0978 - val_loss: 2.3027 - val_sparse_categorical_accuracy: 0.1016\n",
      "Epoch 11/20\n",
      "50000/50000 [==============================] - 1s 17us/sample - loss: 2.3028 - sparse_categorical_accuracy: 0.0973 - val_loss: 2.3027 - val_sparse_categorical_accuracy: 0.1002\n",
      "Epoch 12/20\n",
      "50000/50000 [==============================] - 1s 16us/sample - loss: 2.3029 - sparse_categorical_accuracy: 0.0986 - val_loss: 2.3029 - val_sparse_categorical_accuracy: 0.1001\n",
      "Epoch 13/20\n",
      "50000/50000 [==============================] - 1s 17us/sample - loss: 2.3028 - sparse_categorical_accuracy: 0.1008 - val_loss: 2.3028 - val_sparse_categorical_accuracy: 0.0947\n",
      "Epoch 14/20\n",
      "50000/50000 [==============================] - 1s 17us/sample - loss: 2.3028 - sparse_categorical_accuracy: 0.0982 - val_loss: 2.3027 - val_sparse_categorical_accuracy: 0.1008\n",
      "Epoch 15/20\n",
      "50000/50000 [==============================] - 1s 17us/sample - loss: 2.3028 - sparse_categorical_accuracy: 0.0990 - val_loss: 2.3027 - val_sparse_categorical_accuracy: 0.1001\n",
      "Epoch 16/20\n",
      "50000/50000 [==============================] - 1s 17us/sample - loss: 2.3029 - sparse_categorical_accuracy: 0.0994 - val_loss: 2.3029 - val_sparse_categorical_accuracy: 0.1008\n",
      "Epoch 17/20\n",
      "50000/50000 [==============================] - 1s 17us/sample - loss: 2.3029 - sparse_categorical_accuracy: 0.0999 - val_loss: 2.3027 - val_sparse_categorical_accuracy: 0.0997\n",
      "Epoch 18/20\n",
      "50000/50000 [==============================] - 1s 17us/sample - loss: 2.3029 - sparse_categorical_accuracy: 0.0971 - val_loss: 2.3027 - val_sparse_categorical_accuracy: 0.1002\n",
      "Epoch 19/20\n",
      "50000/50000 [==============================] - 1s 17us/sample - loss: 2.3028 - sparse_categorical_accuracy: 0.0977 - val_loss: 2.3028 - val_sparse_categorical_accuracy: 0.0947\n",
      "Epoch 20/20\n",
      "50000/50000 [==============================] - 1s 17us/sample - loss: 2.3029 - sparse_categorical_accuracy: 0.0997 - val_loss: 2.3027 - val_sparse_categorical_accuracy: 0.0997\n"
     ]
    }
   ],
   "source": [
    "### ╰( ͡° ͜ʖ ͡° )つ──☆*:・ﾟ  создайте сеть по инструкции выше\n",
    "tf.random.set_seed(42)\n",
    "\n",
    "init = 'uniform'\n",
    "act = 'sigmoid'\n",
    "\n",
    "model = Sequential()\n",
    "model.add(L.InputLayer(input_shape=(28, 28)))\n",
    "model.add(L.Flatten())\n",
    "\n",
    "model.add(L.Dense(100, kernel_initializer=init, activation=act))\n",
    "model.add(L.Dense(100, kernel_initializer=init, activation=act)) \n",
    "model.add(L.Dense(100, kernel_initializer=init, activation=act))\n",
    "model.add(L.Dense(100, kernel_initializer=init, activation=act))\n",
    "model.add(L.Dense(100, kernel_initializer=init, activation=act))\n",
    "model.add(L.Dense(100, kernel_initializer=init, activation=act))\n",
    "\n",
    "model.add(L.Dense(10, kernel_initializer=init))\n",
    "model.add(L.Softmax())\n",
    "\n",
    "opt = keras.optimizers.Adam(learning_rate=1e-4)\n",
    "\n",
    "model.compile(optimizer=opt, loss='sparse_categorical_crossentropy',\n",
    "               metrics=['sparse_categorical_accuracy'])\n",
    "\n",
    "history5 = model.fit(X_train, y_train, validation_data=(X_val, y_val), \n",
    "                     epochs=20, batch_size=500, verbose=1)"
   ]
  },
  {
   "cell_type": "markdown",
   "metadata": {},
   "source": [
    "### Задание 7:  \n",
    "\n",
    "Теперь попробуем взять вместо сигмоид elu"
   ]
  },
  {
   "cell_type": "code",
   "execution_count": 14,
   "metadata": {
    "scrolled": true
   },
   "outputs": [
    {
     "name": "stdout",
     "output_type": "stream",
     "text": [
      "Train on 50000 samples, validate on 10000 samples\n",
      "Epoch 1/20\n",
      "50000/50000 [==============================] - 1s 27us/sample - loss: 2.1243 - sparse_categorical_accuracy: 0.2255 - val_loss: 1.7067 - val_sparse_categorical_accuracy: 0.1962\n",
      "Epoch 2/20\n",
      "50000/50000 [==============================] - 1s 19us/sample - loss: 1.6374 - sparse_categorical_accuracy: 0.2337 - val_loss: 1.5277 - val_sparse_categorical_accuracy: 0.3736\n",
      "Epoch 3/20\n",
      "50000/50000 [==============================] - 1s 23us/sample - loss: 1.2166 - sparse_categorical_accuracy: 0.4786 - val_loss: 1.0278 - val_sparse_categorical_accuracy: 0.5876\n",
      "Epoch 4/20\n",
      "50000/50000 [==============================] - 1s 19us/sample - loss: 0.9650 - sparse_categorical_accuracy: 0.6103 - val_loss: 0.9246 - val_sparse_categorical_accuracy: 0.6359\n",
      "Epoch 5/20\n",
      "50000/50000 [==============================] - 1s 19us/sample - loss: 0.8928 - sparse_categorical_accuracy: 0.6488 - val_loss: 0.8776 - val_sparse_categorical_accuracy: 0.6557\n",
      "Epoch 6/20\n",
      "50000/50000 [==============================] - 1s 20us/sample - loss: 0.8440 - sparse_categorical_accuracy: 0.6753 - val_loss: 0.8344 - val_sparse_categorical_accuracy: 0.6797\n",
      "Epoch 7/20\n",
      "50000/50000 [==============================] - 1s 19us/sample - loss: 0.8036 - sparse_categorical_accuracy: 0.6958 - val_loss: 0.8004 - val_sparse_categorical_accuracy: 0.6927\n",
      "Epoch 8/20\n",
      "50000/50000 [==============================] - 1s 20us/sample - loss: 0.7706 - sparse_categorical_accuracy: 0.7116 - val_loss: 0.7692 - val_sparse_categorical_accuracy: 0.7092\n",
      "Epoch 9/20\n",
      "50000/50000 [==============================] - 1s 18us/sample - loss: 0.7417 - sparse_categorical_accuracy: 0.7243 - val_loss: 0.7449 - val_sparse_categorical_accuracy: 0.7217\n",
      "Epoch 10/20\n",
      "50000/50000 [==============================] - 1s 18us/sample - loss: 0.7173 - sparse_categorical_accuracy: 0.7347 - val_loss: 0.7229 - val_sparse_categorical_accuracy: 0.7307\n",
      "Epoch 11/20\n",
      "50000/50000 [==============================] - 1s 18us/sample - loss: 0.6947 - sparse_categorical_accuracy: 0.7444 - val_loss: 0.7055 - val_sparse_categorical_accuracy: 0.7336\n",
      "Epoch 12/20\n",
      "50000/50000 [==============================] - 1s 18us/sample - loss: 0.6751 - sparse_categorical_accuracy: 0.7521 - val_loss: 0.6806 - val_sparse_categorical_accuracy: 0.7476\n",
      "Epoch 13/20\n",
      "50000/50000 [==============================] - 1s 18us/sample - loss: 0.6537 - sparse_categorical_accuracy: 0.7621 - val_loss: 0.6584 - val_sparse_categorical_accuracy: 0.7576\n",
      "Epoch 14/20\n",
      "50000/50000 [==============================] - 1s 18us/sample - loss: 0.6341 - sparse_categorical_accuracy: 0.7715 - val_loss: 0.6388 - val_sparse_categorical_accuracy: 0.7681\n",
      "Epoch 15/20\n",
      "50000/50000 [==============================] - 1s 21us/sample - loss: 0.6167 - sparse_categorical_accuracy: 0.7776 - val_loss: 0.6242 - val_sparse_categorical_accuracy: 0.7754\n",
      "Epoch 16/20\n",
      "50000/50000 [==============================] - 1s 19us/sample - loss: 0.6018 - sparse_categorical_accuracy: 0.7826 - val_loss: 0.6175 - val_sparse_categorical_accuracy: 0.7738\n",
      "Epoch 17/20\n",
      "50000/50000 [==============================] - 1s 18us/sample - loss: 0.5917 - sparse_categorical_accuracy: 0.7868 - val_loss: 0.6022 - val_sparse_categorical_accuracy: 0.7829\n",
      "Epoch 18/20\n",
      "50000/50000 [==============================] - 1s 18us/sample - loss: 0.5823 - sparse_categorical_accuracy: 0.7889 - val_loss: 0.6061 - val_sparse_categorical_accuracy: 0.7821\n",
      "Epoch 19/20\n",
      "50000/50000 [==============================] - 1s 20us/sample - loss: 0.5753 - sparse_categorical_accuracy: 0.7915 - val_loss: 0.5899 - val_sparse_categorical_accuracy: 0.7867\n",
      "Epoch 20/20\n",
      "50000/50000 [==============================] - 1s 18us/sample - loss: 0.5670 - sparse_categorical_accuracy: 0.7949 - val_loss: 0.5809 - val_sparse_categorical_accuracy: 0.7884\n"
     ]
    }
   ],
   "source": [
    "### ╰( ͡° ͜ʖ ͡° )つ──☆*:・ﾟ  создайте сеть по инструкции выше\n",
    "tf.random.set_seed(42)\n",
    "\n",
    "init = 'uniform'\n",
    "act = 'elu' # в таком варианте alpha = 1 \n",
    "            # если хочется его подергать: L.ELU(alpha=1.0)\n",
    "\n",
    "model = Sequential()\n",
    "model.add(L.InputLayer(input_shape=(28, 28)))\n",
    "model.add(L.Flatten())\n",
    "\n",
    "model.add(L.Dense(100, kernel_initializer=init, activation=act))\n",
    "model.add(L.Dense(100, kernel_initializer=init, activation=act)) \n",
    "model.add(L.Dense(100, kernel_initializer=init, activation=act))\n",
    "model.add(L.Dense(100, kernel_initializer=init, activation=act))\n",
    "model.add(L.Dense(100, kernel_initializer=init, activation=act))\n",
    "model.add(L.Dense(100, kernel_initializer=init, activation=act))\n",
    "\n",
    "model.add(L.Dense(10, kernel_initializer=init))\n",
    "model.add(L.Softmax())\n",
    "\n",
    "opt = keras.optimizers.Adam(learning_rate=1e-4)\n",
    "\n",
    "model.compile(optimizer=opt, loss='sparse_categorical_crossentropy',\n",
    "               metrics=['sparse_categorical_accuracy'])\n",
    "\n",
    "history6 = model.fit(X_train, y_train, validation_data=(X_val, y_val), \n",
    "                     epochs=20, batch_size=500, verbose=1)"
   ]
  },
  {
   "cell_type": "markdown",
   "metadata": {},
   "source": [
    "### Задание 8:\n",
    "\n",
    "Снова сравниваем модели между собой."
   ]
  },
  {
   "cell_type": "code",
   "execution_count": 15,
   "metadata": {
    "scrolled": false
   },
   "outputs": [
    {
     "data": {
      "image/png": "[encoded data removed]",
      "text/plain": [
       "<Figure size 1152x720 with 1 Axes>"
      ]
     },
     "metadata": {
      "needs_background": "light"
     },
     "output_type": "display_data"
    }
   ],
   "source": [
    "plot_history([('relu', history1), \n",
    "              ('sigmoid', history5),\n",
    "              ('elu', history6),\n",
    "             ],\n",
    "             start=0)"
   ]
  },
  {
   "cell_type": "markdown",
   "metadata": {},
   "source": [
    "# 3. Keras бывет разным, про skip-connection\n",
    "\n",
    "На первой паре мы с вами говорили, что в Keras задавать модели можно по-разному. Второй способ делать это: функциональный стиль. Он даёт на порядок больше возможностей. Давайте посмотрим как это выглядит и попробуем собрать пару моделей. "
   ]
  },
  {
   "cell_type": "code",
   "execution_count": 16,
   "metadata": {},
   "outputs": [],
   "source": [
    "init = 'uniform'\n",
    "act = 'relu'\n",
    "\n",
    "input_tensor = L.Input(shape=(28, 28))\n",
    "\n",
    "x = L.Flatten()(input_tensor)\n",
    "x = L.Dense(100, kernel_initializer=init, activation=act)(x)\n",
    "x = L.Dense(100, kernel_initializer=init, activation=act)(x)\n",
    "x = L.Dense(100, kernel_initializer=init, activation=act)(x)\n",
    "x = L.Dense(100, kernel_initializer=init, activation=act)(x)\n",
    "x = L.Dense(100, kernel_initializer=init, activation=act)(x)\n",
    "x = L.Dense(100, kernel_initializer=init, activation=act)(x)\n",
    "output_tensor = L.Dense(10, kernel_initializer=init, activation='softmax')(x)\n",
    "\n",
    "model = keras.Model(input_tensor, output_tensor)"
   ]
  },
  {
   "cell_type": "code",
   "execution_count": 17,
   "metadata": {},
   "outputs": [
    {
     "name": "stdout",
     "output_type": "stream",
     "text": [
      "Train on 50000 samples, validate on 10000 samples\n",
      "50000/50000 [==============================] - 1s 26us/sample - loss: 1.5006 - sparse_categorical_accuracy: 0.3747 - val_loss: 1.1101 - val_sparse_categorical_accuracy: 0.5256\n"
     ]
    },
    {
     "data": {
      "text/plain": [
       "<tensorflow.python.keras.callbacks.History at 0x1a355accf8>"
      ]
     },
     "execution_count": 17,
     "metadata": {},
     "output_type": "execute_result"
    }
   ],
   "source": [
    "model.compile(\"adam\", loss=\"sparse_categorical_crossentropy\", \n",
    "              metrics=[\"sparse_categorical_accuracy\"])\n",
    "\n",
    "model.fit(X_train, y_train, validation_data=(X_val, y_val), \n",
    "          epochs=1, batch_size=500, verbose=1)"
   ]
  },
  {
   "cell_type": "markdown",
   "metadata": {},
   "source": [
    "Помните статью про то, как люди рисовали функции потерь? [Теперь появилась галерея!](https://losslandscape.com/gallery/) На паре про градиентный спуск мы говорили, что skip-connection довольно здорово меняет ландшафт функции потерь. \n",
    "\n",
    "![](https://i.stack.imgur.com/UDvbg.png)\n",
    "\n",
    "Такую модель нельзя собрать через `Sequence`-стиль, но можно через функциональный стиль. Давайте попробуем сделать это. Заодно посмотрим насколько сильно в нашей ситуации будет меняться траектория обучения. "
   ]
  },
  {
   "cell_type": "code",
   "execution_count": 18,
   "metadata": {
    "scrolled": true
   },
   "outputs": [
    {
     "name": "stdout",
     "output_type": "stream",
     "text": [
      "Train on 50000 samples, validate on 10000 samples\n",
      "Epoch 1/20\n",
      "50000/50000 [==============================] - 2s 38us/sample - loss: 0.6347 - sparse_categorical_accuracy: 0.7703 - val_loss: 0.4727 - val_sparse_categorical_accuracy: 0.8212\n",
      "Epoch 2/20\n",
      "50000/50000 [==============================] - 1s 26us/sample - loss: 0.4159 - sparse_categorical_accuracy: 0.8509 - val_loss: 0.4187 - val_sparse_categorical_accuracy: 0.8451\n",
      "Epoch 3/20\n",
      "50000/50000 [==============================] - 1s 28us/sample - loss: 0.3782 - sparse_categorical_accuracy: 0.8638 - val_loss: 0.3893 - val_sparse_categorical_accuracy: 0.8577\n",
      "Epoch 4/20\n",
      "50000/50000 [==============================] - 1s 24us/sample - loss: 0.3529 - sparse_categorical_accuracy: 0.8718 - val_loss: 0.3719 - val_sparse_categorical_accuracy: 0.8609\n",
      "Epoch 5/20\n",
      "50000/50000 [==============================] - 1s 25us/sample - loss: 0.3225 - sparse_categorical_accuracy: 0.8819 - val_loss: 0.3546 - val_sparse_categorical_accuracy: 0.8688\n",
      "Epoch 6/20\n",
      "50000/50000 [==============================] - 1s 24us/sample - loss: 0.3037 - sparse_categorical_accuracy: 0.8872 - val_loss: 0.3334 - val_sparse_categorical_accuracy: 0.8791\n",
      "Epoch 7/20\n",
      "50000/50000 [==============================] - 1s 29us/sample - loss: 0.2984 - sparse_categorical_accuracy: 0.8903 - val_loss: 0.3505 - val_sparse_categorical_accuracy: 0.8706\n",
      "Epoch 8/20\n",
      "50000/50000 [==============================] - 1s 24us/sample - loss: 0.2868 - sparse_categorical_accuracy: 0.8941 - val_loss: 0.3344 - val_sparse_categorical_accuracy: 0.8778\n",
      "Epoch 9/20\n",
      "50000/50000 [==============================] - 1s 27us/sample - loss: 0.2784 - sparse_categorical_accuracy: 0.8966 - val_loss: 0.3254 - val_sparse_categorical_accuracy: 0.8829\n",
      "Epoch 10/20\n",
      "50000/50000 [==============================] - 1s 27us/sample - loss: 0.2621 - sparse_categorical_accuracy: 0.9021 - val_loss: 0.3058 - val_sparse_categorical_accuracy: 0.8895\n",
      "Epoch 11/20\n",
      "50000/50000 [==============================] - 1s 24us/sample - loss: 0.2520 - sparse_categorical_accuracy: 0.9052 - val_loss: 0.3108 - val_sparse_categorical_accuracy: 0.8873\n",
      "Epoch 12/20\n",
      "50000/50000 [==============================] - 1s 25us/sample - loss: 0.2416 - sparse_categorical_accuracy: 0.9100 - val_loss: 0.3023 - val_sparse_categorical_accuracy: 0.8919\n",
      "Epoch 13/20\n",
      "50000/50000 [==============================] - 1s 28us/sample - loss: 0.2366 - sparse_categorical_accuracy: 0.9110 - val_loss: 0.3077 - val_sparse_categorical_accuracy: 0.8891\n",
      "Epoch 14/20\n",
      "50000/50000 [==============================] - 1s 26us/sample - loss: 0.2311 - sparse_categorical_accuracy: 0.9132 - val_loss: 0.3112 - val_sparse_categorical_accuracy: 0.8904\n",
      "Epoch 15/20\n",
      "50000/50000 [==============================] - 1s 26us/sample - loss: 0.2216 - sparse_categorical_accuracy: 0.9167 - val_loss: 0.3269 - val_sparse_categorical_accuracy: 0.8852\n",
      "Epoch 16/20\n",
      "50000/50000 [==============================] - 1s 27us/sample - loss: 0.2157 - sparse_categorical_accuracy: 0.9187 - val_loss: 0.3103 - val_sparse_categorical_accuracy: 0.8883\n",
      "Epoch 17/20\n",
      "50000/50000 [==============================] - 1s 26us/sample - loss: 0.2098 - sparse_categorical_accuracy: 0.9225 - val_loss: 0.3171 - val_sparse_categorical_accuracy: 0.8898\n",
      "Epoch 18/20\n",
      "50000/50000 [==============================] - 1s 25us/sample - loss: 0.2052 - sparse_categorical_accuracy: 0.9221 - val_loss: 0.3106 - val_sparse_categorical_accuracy: 0.8932\n",
      "Epoch 19/20\n",
      "50000/50000 [==============================] - 1s 25us/sample - loss: 0.1964 - sparse_categorical_accuracy: 0.9254 - val_loss: 0.3219 - val_sparse_categorical_accuracy: 0.8866\n",
      "Epoch 20/20\n",
      "50000/50000 [==============================] - 1s 26us/sample - loss: 0.1924 - sparse_categorical_accuracy: 0.9273 - val_loss: 0.3304 - val_sparse_categorical_accuracy: 0.8858\n"
     ]
    }
   ],
   "source": [
    "### ╰( ͡° ͜ʖ ͡° )つ──☆*:・ﾟ  создайте сеть по инструкции выше\n",
    "tf.random.set_seed(42)\n",
    "\n",
    "init = 'he_uniform'\n",
    "act = 'elu'\n",
    "\n",
    "input_tensor = L.Input(shape=(28, 28))\n",
    "\n",
    "x = L.Flatten()(input_tensor)\n",
    "x1 = L.Dense(100, kernel_initializer=init, activation=act)(x)\n",
    "x = L.Dense(100, kernel_initializer=init, activation=act)(x1)\n",
    "x = L.concatenate([x, x1])\n",
    "\n",
    "x1 = L.Dense(100, kernel_initializer=init, activation=act)(x)\n",
    "x = L.Dense(100, kernel_initializer=init, activation=act)(x)\n",
    "x = L.concatenate([x, x1])\n",
    "\n",
    "x1 = L.Dense(100, kernel_initializer=init, activation=act)(x)\n",
    "x = L.Dense(100, kernel_initializer=init, activation=act)(x)\n",
    "x = L.concatenate([x, x1])\n",
    "\n",
    "output_tensor = L.Dense(10, kernel_initializer=init, activation='softmax')(x)\n",
    "\n",
    "model = keras.Model(input_tensor, output_tensor)\n",
    "\n",
    "model.compile(\"adam\", loss=\"sparse_categorical_crossentropy\", \n",
    "              metrics=[\"sparse_categorical_accuracy\"])\n",
    "\n",
    "history7 = model.fit(X_train, y_train, validation_data=(X_val, y_val), \n",
    "                     epochs=20, batch_size=500, verbose=1)"
   ]
  },
  {
   "cell_type": "code",
   "execution_count": 19,
   "metadata": {},
   "outputs": [
    {
     "data": {
      "image/png": "[encoded data removed]",
      "text/plain": [
       "<Figure size 1152x720 with 1 Axes>"
      ]
     },
     "metadata": {
      "needs_background": "light"
     },
     "output_type": "display_data"
    }
   ],
   "source": [
    "plot_history([('relu', history1), \n",
    "              ('he_uniform', history2),\n",
    "              ('he_skip_connection', history7)\n",
    "             ],\n",
    "             start=0)"
   ]
  },
  {
   "cell_type": "markdown",
   "metadata": {},
   "source": [
    "# 4. Ещё немного функционального API \n",
    "\n",
    "\n",
    "## 4.1 Несколько входов\n",
    "\n",
    "В этом примере на вход идёт две картинки."
   ]
  },
  {
   "cell_type": "code",
   "execution_count": 20,
   "metadata": {},
   "outputs": [
    {
     "name": "stdout",
     "output_type": "stream",
     "text": [
      "Model: \"model_2\"\n",
      "__________________________________________________________________________________________________\n",
      "Layer (type)                    Output Shape         Param #     Connected to                     \n",
      "==================================================================================================\n",
      "input_9 (InputLayer)            [(None, 28, 28)]     0                                            \n",
      "__________________________________________________________________________________________________\n",
      "input_10 (InputLayer)           [(None, 28, 28)]     0                                            \n",
      "__________________________________________________________________________________________________\n",
      "flatten_8 (Flatten)             (None, 784)          0           input_9[0][0]                    \n",
      "__________________________________________________________________________________________________\n",
      "flatten_9 (Flatten)             (None, 784)          0           input_10[0][0]                   \n",
      "__________________________________________________________________________________________________\n",
      "dense_56 (Dense)                (None, 100)          78500       flatten_8[0][0]                  \n",
      "__________________________________________________________________________________________________\n",
      "dense_58 (Dense)                (None, 100)          78500       flatten_9[0][0]                  \n",
      "__________________________________________________________________________________________________\n",
      "dense_57 (Dense)                (None, 100)          10100       dense_56[0][0]                   \n",
      "__________________________________________________________________________________________________\n",
      "dense_59 (Dense)                (None, 100)          10100       dense_58[0][0]                   \n",
      "__________________________________________________________________________________________________\n",
      "concatenate_3 (Concatenate)     (None, 200)          0           dense_57[0][0]                   \n",
      "                                                                 dense_59[0][0]                   \n",
      "__________________________________________________________________________________________________\n",
      "dense_60 (Dense)                (None, 10)           2010        concatenate_3[0][0]              \n",
      "==================================================================================================\n",
      "Total params: 179,210\n",
      "Trainable params: 179,210\n",
      "Non-trainable params: 0\n",
      "__________________________________________________________________________________________________\n"
     ]
    }
   ],
   "source": [
    "input_1 = L.Input(shape=(28, 28))\n",
    "input_2 = L.Input(shape=(28, 28))\n",
    "\n",
    "x1 = L.Flatten()(input_1)\n",
    "x1 = L.Dense(100, kernel_initializer=init, activation=act)(x1)\n",
    "x1 = L.Dense(100, kernel_initializer=init, activation=act)(x1)\n",
    "\n",
    "x2 = L.Flatten()(input_2)\n",
    "x2 = L.Dense(100, kernel_initializer=init, activation=act)(x2)\n",
    "x2 = L.Dense(100, kernel_initializer=init, activation=act)(x2)\n",
    "\n",
    "x = L.concatenate([x1, x2])\n",
    "output = L.Dense(10, kernel_initializer=init, activation='softmax')(x)\n",
    "\n",
    "model = keras.Model([input_1, input_2], output)\n",
    "model.summary()"
   ]
  },
  {
   "cell_type": "markdown",
   "metadata": {},
   "source": [
    "Немного бессмысленный пример обучения, когда на вход идут две одинаковые картиночки."
   ]
  },
  {
   "cell_type": "code",
   "execution_count": 21,
   "metadata": {},
   "outputs": [
    {
     "name": "stdout",
     "output_type": "stream",
     "text": [
      "Train on 50000 samples, validate on 10000 samples\n",
      "Epoch 1/2\n",
      "50000/50000 [==============================] - 2s 34us/sample - loss: 0.6186 - sparse_categorical_accuracy: 0.7808 - val_loss: 0.4820 - val_sparse_categorical_accuracy: 0.8215\n",
      "Epoch 2/2\n",
      "50000/50000 [==============================] - 1s 24us/sample - loss: 0.4259 - sparse_categorical_accuracy: 0.8492 - val_loss: 0.4201 - val_sparse_categorical_accuracy: 0.8477\n"
     ]
    },
    {
     "data": {
      "text/plain": [
       "<tensorflow.python.keras.callbacks.History at 0x1a519a0278>"
      ]
     },
     "execution_count": 21,
     "metadata": {},
     "output_type": "execute_result"
    }
   ],
   "source": [
    "model.compile(\"adam\", loss=\"sparse_categorical_crossentropy\", \n",
    "              metrics=[\"sparse_categorical_accuracy\"])\n",
    "\n",
    "model.fit([X_train, X_train], y_train, validation_data=([X_val, X_val], y_val),\n",
    "          epochs=2, batch_size=500)"
   ]
  },
  {
   "cell_type": "markdown",
   "metadata": {},
   "source": [
    "## 4.2 Несколько выходов и функций потерь"
   ]
  },
  {
   "cell_type": "code",
   "execution_count": 22,
   "metadata": {
    "scrolled": true
   },
   "outputs": [
    {
     "name": "stdout",
     "output_type": "stream",
     "text": [
      "Model: \"model_3\"\n",
      "__________________________________________________________________________________________________\n",
      "Layer (type)                    Output Shape         Param #     Connected to                     \n",
      "==================================================================================================\n",
      "input_11 (InputLayer)           [(None, 28, 28)]     0                                            \n",
      "__________________________________________________________________________________________________\n",
      "flatten_10 (Flatten)            (None, 784)          0           input_11[0][0]                   \n",
      "__________________________________________________________________________________________________\n",
      "dense_61 (Dense)                (None, 100)          78500       flatten_10[0][0]                 \n",
      "__________________________________________________________________________________________________\n",
      "dense_62 (Dense)                (None, 100)          78500       flatten_10[0][0]                 \n",
      "__________________________________________________________________________________________________\n",
      "dense_63 (Dense)                (None, 100)          78500       flatten_10[0][0]                 \n",
      "__________________________________________________________________________________________________\n",
      "dense_64 (Dense)                (None, 10)           1010        dense_61[0][0]                   \n",
      "__________________________________________________________________________________________________\n",
      "dense_65 (Dense)                (None, 10)           1010        dense_62[0][0]                   \n",
      "__________________________________________________________________________________________________\n",
      "dense_66 (Dense)                (None, 10)           1010        dense_63[0][0]                   \n",
      "==================================================================================================\n",
      "Total params: 238,530\n",
      "Trainable params: 238,530\n",
      "Non-trainable params: 0\n",
      "__________________________________________________________________________________________________\n"
     ]
    }
   ],
   "source": [
    "init = 'uniform'\n",
    "act = 'relu'\n",
    "\n",
    "input_tensor = L.Input(shape=(28, 28))\n",
    "\n",
    "x = L.Flatten()(input_tensor)\n",
    "x1 = L.Dense(100, kernel_initializer=init, activation=act)(x)\n",
    "x2 = L.Dense(100, kernel_initializer=init, activation=act)(x)\n",
    "x3 = L.Dense(100, kernel_initializer=init, activation=act)(x)\n",
    "\n",
    "output_1 = L.Dense(10, kernel_initializer=init, activation='softmax')(x1)\n",
    "output_2 = L.Dense(10, kernel_initializer=init, activation='softmax')(x2)\n",
    "output_3 = L.Dense(10, kernel_initializer=init, activation='softmax')(x3)\n",
    "\n",
    "model = keras.Model(input_tensor, [output_1, output_2, output_3])\n",
    "\n",
    "model.summary()"
   ]
  },
  {
   "cell_type": "code",
   "execution_count": 23,
   "metadata": {},
   "outputs": [
    {
     "name": "stdout",
     "output_type": "stream",
     "text": [
      "Train on 50000 samples\n",
      "Epoch 1/2\n",
      "50000/50000 [==============================] - 1s 30us/sample - loss: 10.6010 - dense_64_loss: 0.9506 - dense_65_loss: 0.9336 - dense_66_loss: 0.9430\n",
      "Epoch 2/2\n",
      "50000/50000 [==============================] - 1s 19us/sample - loss: 5.9841 - dense_64_loss: 0.5334 - dense_65_loss: 0.5317 - dense_66_loss: 0.5319\n"
     ]
    },
    {
     "data": {
      "text/plain": [
       "<tensorflow.python.keras.callbacks.History at 0x1a522c3828>"
      ]
     },
     "execution_count": 23,
     "metadata": {},
     "output_type": "execute_result"
    }
   ],
   "source": [
    "model.compile(optimizer='adam', loss=['sparse_categorical_crossentropy',\n",
    "                                      'sparse_categorical_crossentropy', \n",
    "                                      'sparse_categorical_crossentropy'],\n",
    "                                    loss_weights=[0.25, 1., 10.])\n",
    "\n",
    "model.fit(X_train, [y_train, y_train, y_train], epochs=2, batch_size=500)"
   ]
  },
  {
   "cell_type": "markdown",
   "metadata": {},
   "source": [
    "Пример с разными функциями потерь:"
   ]
  },
  {
   "cell_type": "raw",
   "metadata": {},
   "source": [
    "model.compile(optimizer='adam', loss=['mse', 'categorical_crossentropy', 'binary_crossentropy'],\n",
    "                                    loss_weights=[0.25, 1., 10.])\n",
    "\n",
    "\n",
    "# если дали выходам имена, можно вот так: \n",
    "\n",
    "model.compile(optimizer='adam',\n",
    "\n",
    "              loss={'age': 'mse',\n",
    "                    'income': 'categorical_crossentropy',\n",
    "                    'gender': 'binary_crossentropy'},\n",
    "                    \n",
    "              loss_weights={'age': 0.25,\n",
    "                            'income': 1.,\n",
    "                            'gender': 10.})"
   ]
  },
  {
   "cell_type": "markdown",
   "metadata": {},
   "source": [
    "### Дополнительное задание  :\n",
    "\n",
    "Мы говорили, что если мы используем BN, то нужно уменьшить силу Dropout. Поэтому попробуйте сравнить Dropout + BN c разным p."
   ]
  },
  {
   "cell_type": "markdown",
   "metadata": {},
   "source": [
    " ---"
   ]
  }
 ],
 "metadata": {
  "kernelspec": {
   "display_name": "Python 3",
   "language": "python",
   "name": "python3"
  },
  "language_info": {
   "codemirror_mode": {
    "name": "ipython",
    "version": 3
   },
   "file_extension": ".py",
   "mimetype": "text/x-python",
   "name": "python",
   "nbconvert_exporter": "python",
   "pygments_lexer": "ipython3",
   "version": "3.7.3"
  }
 },
 "nbformat": 4,
 "nbformat_minor": 2
}
