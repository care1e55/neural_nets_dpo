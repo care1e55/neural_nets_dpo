{
 "cells": [
  {
   "cell_type": "markdown",
   "metadata": {},
   "source": [
    "# Использование  pre-trained моделей\n",
    "\n",
    "У нас мало данных, слабые машины, но задачу решать нужно. Что же мы можем сделать? Правильно-взять какую-то предобученную для похожей задачи модель, немного покрутить ее и использовать для нашей задачи!\n"
   ]
  },
  {
   "cell_type": "markdown",
   "metadata": {},
   "source": [
    "## Feature extraction\n",
    "\n",
    "Когда мы обучаем сверточные сети, то свертки пытаются найти патерны в данных и мы можем пытаться взять эту информацию из уже обученных сетей. Делается это примерно следующим образом\n",
    "\n",
    "![swapping FC classifiers](https://s3.amazonaws.com/book.keras.io/img/ch5/swapping_fc_classifier.png)\n",
    "\n",
    "Почему не использовать и полносвязные слои для такого подхода? Полносвязные слои по своей архитектуре учат слишком мелкие зависимости и могут использоваться только для изначальной задачи. Можно, конечно, попробавть использовать и переобучать и их, но значительно сложнее.\n"
   ]
  },
  {
   "cell_type": "markdown",
   "metadata": {},
   "source": [
    "Мы возьмем модельку VGG16. В керасе уже лежат часть моделей из ImageNet победитель.\n",
    "\n",
    "* Xception\n",
    "* InceptionV3\n",
    "* ResNet50\n",
    "* VGG16\n",
    "* VGG19\n",
    "* MobileNet\n"
   ]
  },
  {
   "cell_type": "code",
   "execution_count": 2,
   "metadata": {},
   "outputs": [],
   "source": [
    "from keras.applications import VGG16\n",
    "\n",
    "conv_base = VGG16(weights='imagenet',\n",
    "                  include_top=False,\n",
    "                  input_shape=(150, 150, 3))"
   ]
  },
  {
   "cell_type": "markdown",
   "metadata": {},
   "source": [
    "We passed three arguments to the constructor:\n",
    "\n",
    "* `weights`, на каком датасете обучалась нейронная сеть\n",
    "* `include_top`, Включать ли итоговый полносвязный слой, который и выдавал вероятность угадывания класса картинки.\n",
    "* `input_shape`, Входящий слой, какая размерность нашей итоговой картинки.\n"
   ]
  },
  {
   "cell_type": "code",
   "execution_count": 2,
   "metadata": {},
   "outputs": [
    {
     "name": "stdout",
     "output_type": "stream",
     "text": [
      "_________________________________________________________________\n",
      "Layer (type)                 Output Shape              Param #   \n",
      "=================================================================\n",
      "input_1 (InputLayer)         (None, 150, 150, 3)       0         \n",
      "_________________________________________________________________\n",
      "block1_conv1 (Conv2D)        (None, 150, 150, 64)      1792      \n",
      "_________________________________________________________________\n",
      "block1_conv2 (Conv2D)        (None, 150, 150, 64)      36928     \n",
      "_________________________________________________________________\n",
      "block1_pool (MaxPooling2D)   (None, 75, 75, 64)        0         \n",
      "_________________________________________________________________\n",
      "block2_conv1 (Conv2D)        (None, 75, 75, 128)       73856     \n",
      "_________________________________________________________________\n",
      "block2_conv2 (Conv2D)        (None, 75, 75, 128)       147584    \n",
      "_________________________________________________________________\n",
      "block2_pool (MaxPooling2D)   (None, 37, 37, 128)       0         \n",
      "_________________________________________________________________\n",
      "block3_conv1 (Conv2D)        (None, 37, 37, 256)       295168    \n",
      "_________________________________________________________________\n",
      "block3_conv2 (Conv2D)        (None, 37, 37, 256)       590080    \n",
      "_________________________________________________________________\n",
      "block3_conv3 (Conv2D)        (None, 37, 37, 256)       590080    \n",
      "_________________________________________________________________\n",
      "block3_pool (MaxPooling2D)   (None, 18, 18, 256)       0         \n",
      "_________________________________________________________________\n",
      "block4_conv1 (Conv2D)        (None, 18, 18, 512)       1180160   \n",
      "_________________________________________________________________\n",
      "block4_conv2 (Conv2D)        (None, 18, 18, 512)       2359808   \n",
      "_________________________________________________________________\n",
      "block4_conv3 (Conv2D)        (None, 18, 18, 512)       2359808   \n",
      "_________________________________________________________________\n",
      "block4_pool (MaxPooling2D)   (None, 9, 9, 512)         0         \n",
      "_________________________________________________________________\n",
      "block5_conv1 (Conv2D)        (None, 9, 9, 512)         2359808   \n",
      "_________________________________________________________________\n",
      "block5_conv2 (Conv2D)        (None, 9, 9, 512)         2359808   \n",
      "_________________________________________________________________\n",
      "block5_conv3 (Conv2D)        (None, 9, 9, 512)         2359808   \n",
      "_________________________________________________________________\n",
      "block5_pool (MaxPooling2D)   (None, 4, 4, 512)         0         \n",
      "=================================================================\n",
      "Total params: 14,714,688\n",
      "Trainable params: 14,714,688\n",
      "Non-trainable params: 0\n",
      "_________________________________________________________________\n"
     ]
    }
   ],
   "source": [
    "# посмотрим на нашего монстра\n",
    "conv_base.summary()"
   ]
  },
  {
   "cell_type": "code",
   "execution_count": 3,
   "metadata": {},
   "outputs": [
    {
     "name": "stdout",
     "output_type": "stream",
     "text": [
      "Found 2000 images belonging to 2 classes.\n",
      "Found 1000 images belonging to 2 classes.\n",
      "Found 1000 images belonging to 2 classes.\n"
     ]
    }
   ],
   "source": [
    "# загрузка данных\n",
    "import os\n",
    "import numpy as np\n",
    "from tensorflow.keras.preprocessing.image import ImageDataGenerator\n",
    "import matplotlib.pyplot as plt\n",
    "%matplotlib inline\n",
    "\n",
    "\n",
    "datagen = ImageDataGenerator(rescale=1./255)\n",
    "batch_size = 20\n",
    "\n",
    "def extract_features(directory, sample_count):\n",
    "    features = np.zeros(shape=(sample_count, 4, 4, 512))\n",
    "    labels = np.zeros(shape=(sample_count))\n",
    "    generator = datagen.flow_from_directory(\n",
    "        directory,\n",
    "        target_size=(150, 150),\n",
    "        batch_size=batch_size,\n",
    "        class_mode='binary')\n",
    "    i = 0\n",
    "    for inputs_batch, labels_batch in generator:\n",
    "        features_batch = conv_base.predict(inputs_batch)\n",
    "        features[i * batch_size : (i + 1) * batch_size] = features_batch\n",
    "        labels[i * batch_size : (i + 1) * batch_size] = labels_batch\n",
    "        i += 1\n",
    "        if i * batch_size >= sample_count:\n",
    "            # Мы должны остановится, если подали хоть раз экземляр\n",
    "            break\n",
    "    return features, labels\n",
    "\n",
    "train_features, train_labels = extract_features(train_dir, 2000)\n",
    "validation_features, validation_labels = extract_features(validation_dir, 1000)\n",
    "test_features, test_labels = extract_features(test_dir, 1000)"
   ]
  },
  {
   "cell_type": "markdown",
   "metadata": {},
   "source": [
    "Последний слой мы должны скормить полносвязнному слою и наши картинки тоже должны быть в определенном формате. Воспользуемся этим."
   ]
  },
  {
   "cell_type": "code",
   "execution_count": 4,
   "metadata": {},
   "outputs": [],
   "source": [
    "train_features = np.reshape(train_features, (2000, 4 * 4 * 512))\n",
    "validation_features = np.reshape(validation_features, (1000, 4 * 4 * 512))\n",
    "test_features = np.reshape(test_features, (1000, 4 * 4 * 512))"
   ]
  },
  {
   "cell_type": "code",
   "execution_count": 1,
   "metadata": {},
   "outputs": [],
   "source": [
    "# обучаем модель \n",
    "# а какую - ну это уже на ваш вкус и цвет"
   ]
  },
  {
   "cell_type": "markdown",
   "metadata": {},
   "source": [
    "Обучаемся очень быстро. Посмотрим,что там у нас получилось."
   ]
  },
  {
   "cell_type": "code",
   "execution_count": 3,
   "metadata": {},
   "outputs": [],
   "source": [
    "\n",
    "# Ну и можем глянуть, какое качетсво мы получим"
   ]
  },
  {
   "cell_type": "markdown",
   "metadata": {},
   "source": [
    "\n",
    "Также мы можем попробовать дообучить нашу модель, собрав одну большу модель.\n",
    "### Вперед!"
   ]
  },
  {
   "cell_type": "code",
   "execution_count": 8,
   "metadata": {},
   "outputs": [],
   "source": [
    "#### ВАШ КОД ####"
   ]
  },
  {
   "cell_type": "markdown",
   "metadata": {},
   "source": [
    "должно получится что-то такое."
   ]
  },
  {
   "cell_type": "code",
   "execution_count": 9,
   "metadata": {},
   "outputs": [
    {
     "name": "stdout",
     "output_type": "stream",
     "text": [
      "_________________________________________________________________\n",
      "Layer (type)                 Output Shape              Param #   \n",
      "=================================================================\n",
      "vgg16 (Model)                (None, 4, 4, 512)         14714688  \n",
      "_________________________________________________________________\n",
      "flatten_1 (Flatten)          (None, 8192)              0         \n",
      "_________________________________________________________________\n",
      "dense_3 (Dense)              (None, 256)               2097408   \n",
      "_________________________________________________________________\n",
      "dense_4 (Dense)              (None, 1)                 257       \n",
      "=================================================================\n",
      "Total params: 16,812,353\n",
      "Trainable params: 16,812,353\n",
      "Non-trainable params: 0\n",
      "_________________________________________________________________\n"
     ]
    }
   ],
   "source": [
    "model.summary()"
   ]
  },
  {
   "cell_type": "markdown",
   "metadata": {},
   "source": [
    "Очень много параметров нам надо оценить. Хотим ли мы их учить все и сразу?\n"
   ]
  },
  {
   "cell_type": "markdown",
   "metadata": {},
   "source": [
    "У нас осталось только несколько тренировочных параметров. Также добавим data aurgementation и посмотрим, что получится."
   ]
  },
  {
   "cell_type": "code",
   "execution_count": 13,
   "metadata": {},
   "outputs": [
    {
     "name": "stdout",
     "output_type": "stream",
     "text": [
      "Found 2000 images belonging to 2 classes.\n",
      "Found 1000 images belonging to 2 classes.\n",
      "Epoch 1/30\n",
      " - 16s - loss: 0.6018 - acc: 0.6800 - val_loss: 0.4729 - val_acc: 0.7830\n",
      "Epoch 2/30\n",
      " - 15s - loss: 0.4882 - acc: 0.7850 - val_loss: 0.3711 - val_acc: 0.8650\n",
      "Epoch 3/30\n",
      " - 15s - loss: 0.4429 - acc: 0.8080 - val_loss: 0.3418 - val_acc: 0.8670\n",
      "Epoch 4/30\n",
      " - 15s - loss: 0.4002 - acc: 0.8255 - val_loss: 0.3039 - val_acc: 0.8820\n",
      "Epoch 5/30\n",
      " - 15s - loss: 0.3747 - acc: 0.8435 - val_loss: 0.2914 - val_acc: 0.8850\n",
      "Epoch 6/30\n",
      " - 15s - loss: 0.3638 - acc: 0.8375 - val_loss: 0.2800 - val_acc: 0.8860\n",
      "Epoch 7/30\n",
      " - 15s - loss: 0.3594 - acc: 0.8390 - val_loss: 0.2745 - val_acc: 0.8870\n",
      "Epoch 8/30\n",
      " - 15s - loss: 0.3423 - acc: 0.8540 - val_loss: 0.2692 - val_acc: 0.8900\n",
      "Epoch 9/30\n",
      " - 15s - loss: 0.3428 - acc: 0.8465 - val_loss: 0.2703 - val_acc: 0.8860\n",
      "Epoch 10/30\n",
      " - 15s - loss: 0.3370 - acc: 0.8595 - val_loss: 0.2599 - val_acc: 0.8910\n",
      "Epoch 11/30\n",
      " - 15s - loss: 0.3375 - acc: 0.8490 - val_loss: 0.2558 - val_acc: 0.8960\n",
      "Epoch 12/30\n",
      " - 15s - loss: 0.3278 - acc: 0.8575 - val_loss: 0.2543 - val_acc: 0.8930\n",
      "Epoch 13/30\n",
      " - 15s - loss: 0.3229 - acc: 0.8590 - val_loss: 0.2516 - val_acc: 0.8910\n",
      "Epoch 14/30\n",
      " - 15s - loss: 0.3276 - acc: 0.8525 - val_loss: 0.2523 - val_acc: 0.8940\n",
      "Epoch 15/30\n",
      " - 15s - loss: 0.3078 - acc: 0.8665 - val_loss: 0.2568 - val_acc: 0.8950\n",
      "Epoch 16/30\n",
      " - 15s - loss: 0.3163 - acc: 0.8620 - val_loss: 0.2450 - val_acc: 0.8980\n",
      "Epoch 17/30\n",
      " - 15s - loss: 0.3120 - acc: 0.8635 - val_loss: 0.2474 - val_acc: 0.8960\n",
      "Epoch 18/30\n",
      " - 15s - loss: 0.3089 - acc: 0.8625 - val_loss: 0.2438 - val_acc: 0.8970\n",
      "Epoch 19/30\n",
      " - 15s - loss: 0.3159 - acc: 0.8580 - val_loss: 0.2407 - val_acc: 0.9000\n",
      "Epoch 20/30\n",
      " - 15s - loss: 0.2987 - acc: 0.8680 - val_loss: 0.2384 - val_acc: 0.9060\n",
      "Epoch 21/30\n",
      " - 15s - loss: 0.2822 - acc: 0.8825 - val_loss: 0.2380 - val_acc: 0.9020\n",
      "Epoch 22/30\n",
      " - 15s - loss: 0.3098 - acc: 0.8665 - val_loss: 0.2387 - val_acc: 0.9000\n",
      "Epoch 23/30\n",
      " - 15s - loss: 0.2910 - acc: 0.8725 - val_loss: 0.2407 - val_acc: 0.9020\n",
      "Epoch 24/30\n",
      " - 15s - loss: 0.3012 - acc: 0.8680 - val_loss: 0.2393 - val_acc: 0.9010\n",
      "Epoch 25/30\n",
      " - 15s - loss: 0.2984 - acc: 0.8675 - val_loss: 0.2387 - val_acc: 0.9030\n",
      "Epoch 26/30\n",
      " - 15s - loss: 0.3003 - acc: 0.8770 - val_loss: 0.2383 - val_acc: 0.9030\n",
      "Epoch 27/30\n",
      " - 15s - loss: 0.2919 - acc: 0.8760 - val_loss: 0.2364 - val_acc: 0.9010\n",
      "Epoch 28/30\n",
      " - 15s - loss: 0.2950 - acc: 0.8665 - val_loss: 0.2351 - val_acc: 0.9040\n",
      "Epoch 29/30\n",
      " - 15s - loss: 0.2935 - acc: 0.8765 - val_loss: 0.2411 - val_acc: 0.8970\n",
      "Epoch 30/30\n",
      " - 15s - loss: 0.2761 - acc: 0.8880 - val_loss: 0.2468 - val_acc: 0.8980\n"
     ]
    }
   ],
   "source": [
    "from keras.preprocessing.image import ImageDataGenerator\n",
    "\n",
    "train_datagen = ImageDataGenerator(\n",
    "      rescale=1./255,\n",
    "      rotation_range=40,\n",
    "      width_shift_range=0.2,\n",
    "      height_shift_range=0.2,\n",
    "      shear_range=0.2,\n",
    "      zoom_range=0.2,\n",
    "      horizontal_flip=True,\n",
    "      fill_mode='nearest')\n",
    "\n",
    "test_datagen = ImageDataGenerator(rescale=1./255)\n",
    "\n",
    "train_generator = train_datagen.flow_from_directory(\n",
    "        train_dir,\n",
    "        target_size=(150, 150),\n",
    "        batch_size=20,\n",
    "        class_mode='binary')\n",
    "\n",
    "validation_generator = test_datagen.flow_from_directory(\n",
    "        validation_dir,\n",
    "        target_size=(150, 150),\n",
    "        batch_size=20,\n",
    "        class_mode='binary')\n",
    "\n",
    "model.compile(loss='binary_crossentropy',\n",
    "              optimizer=optimizers.RMSprop(lr=2e-5),\n",
    "              metrics=['acc'])\n",
    "\n",
    "history = model.fit_generator(\n",
    "      train_generator,\n",
    "      steps_per_epoch=100,\n",
    "      epochs=30,\n",
    "      validation_data=validation_generator,\n",
    "      validation_steps=50,\n",
    "      verbose=2)"
   ]
  },
  {
   "cell_type": "code",
   "execution_count": 14,
   "metadata": {},
   "outputs": [],
   "source": [
    "model.save('cats_and_dogs_small_3.h5')"
   ]
  },
  {
   "cell_type": "markdown",
   "metadata": {},
   "source": [
    "Нарисуем полученные результаты"
   ]
  },
  {
   "cell_type": "code",
   "execution_count": 15,
   "metadata": {},
   "outputs": [
    {
     "data": {
      "image/png": "[encoded data removed]",
      "text/plain": [
       "<Figure size 432x288 with 1 Axes>"
      ]
     },
     "metadata": {},
     "output_type": "display_data"
    },
    {
     "data": {
      "image/png": "[encoded data removed]",
      "text/plain": [
       "<Figure size 432x288 with 1 Axes>"
      ]
     },
     "metadata": {},
     "output_type": "display_data"
    }
   ],
   "source": [
    "acc = history.history['acc']\n",
    "val_acc = history.history['val_acc']\n",
    "loss = history.history['loss']\n",
    "val_loss = history.history['val_loss']\n",
    "\n",
    "epochs = range(len(acc))\n",
    "\n",
    "plt.plot(epochs, acc, 'bo', label='Training acc')\n",
    "plt.plot(epochs, val_acc, 'b', label='Validation acc')\n",
    "plt.title('Training and validation accuracy')\n",
    "plt.legend()\n",
    "\n",
    "plt.figure()\n",
    "\n",
    "plt.plot(epochs, loss, 'bo', label='Training loss')\n",
    "plt.plot(epochs, val_loss, 'b', label='Validation loss')\n",
    "plt.title('Training and validation loss')\n",
    "plt.legend()\n",
    "\n",
    "plt.show()"
   ]
  },
  {
   "cell_type": "markdown",
   "metadata": {},
   "source": [
    "Точность на валидации 90%, уже совсем неплохо."
   ]
  },
  {
   "cell_type": "markdown",
   "metadata": {},
   "source": [
    "## Fine-tuning\n",
    "\n",
    "Также мы можем морозить только определенные слои, блоки. Что может быть удобным\n",
    "\n",
    "![fine-tuning VGG16](https://s3.amazonaws.com/book.keras.io/img/ch5/vgg16_fine_tuning.png)"
   ]
  },
  {
   "cell_type": "markdown",
   "metadata": {},
   "source": [
    "Вспомним, структуру модели VGG16"
   ]
  },
  {
   "cell_type": "code",
   "execution_count": 17,
   "metadata": {},
   "outputs": [
    {
     "name": "stdout",
     "output_type": "stream",
     "text": [
      "_________________________________________________________________\n",
      "Layer (type)                 Output Shape              Param #   \n",
      "=================================================================\n",
      "input_1 (InputLayer)         (None, 150, 150, 3)       0         \n",
      "_________________________________________________________________\n",
      "block1_conv1 (Conv2D)        (None, 150, 150, 64)      1792      \n",
      "_________________________________________________________________\n",
      "block1_conv2 (Conv2D)        (None, 150, 150, 64)      36928     \n",
      "_________________________________________________________________\n",
      "block1_pool (MaxPooling2D)   (None, 75, 75, 64)        0         \n",
      "_________________________________________________________________\n",
      "block2_conv1 (Conv2D)        (None, 75, 75, 128)       73856     \n",
      "_________________________________________________________________\n",
      "block2_conv2 (Conv2D)        (None, 75, 75, 128)       147584    \n",
      "_________________________________________________________________\n",
      "block2_pool (MaxPooling2D)   (None, 37, 37, 128)       0         \n",
      "_________________________________________________________________\n",
      "block3_conv1 (Conv2D)        (None, 37, 37, 256)       295168    \n",
      "_________________________________________________________________\n",
      "block3_conv2 (Conv2D)        (None, 37, 37, 256)       590080    \n",
      "_________________________________________________________________\n",
      "block3_conv3 (Conv2D)        (None, 37, 37, 256)       590080    \n",
      "_________________________________________________________________\n",
      "block3_pool (MaxPooling2D)   (None, 18, 18, 256)       0         \n",
      "_________________________________________________________________\n",
      "block4_conv1 (Conv2D)        (None, 18, 18, 512)       1180160   \n",
      "_________________________________________________________________\n",
      "block4_conv2 (Conv2D)        (None, 18, 18, 512)       2359808   \n",
      "_________________________________________________________________\n",
      "block4_conv3 (Conv2D)        (None, 18, 18, 512)       2359808   \n",
      "_________________________________________________________________\n",
      "block4_pool (MaxPooling2D)   (None, 9, 9, 512)         0         \n",
      "_________________________________________________________________\n",
      "block5_conv1 (Conv2D)        (None, 9, 9, 512)         2359808   \n",
      "_________________________________________________________________\n",
      "block5_conv2 (Conv2D)        (None, 9, 9, 512)         2359808   \n",
      "_________________________________________________________________\n",
      "block5_conv3 (Conv2D)        (None, 9, 9, 512)         2359808   \n",
      "_________________________________________________________________\n",
      "block5_pool (MaxPooling2D)   (None, 4, 4, 512)         0         \n",
      "=================================================================\n",
      "Total params: 14,714,688\n",
      "Trainable params: 0\n",
      "Non-trainable params: 14,714,688\n",
      "_________________________________________________________________\n"
     ]
    }
   ],
   "source": [
    "conv_base.summary()"
   ]
  },
  {
   "cell_type": "markdown",
   "metadata": {},
   "source": [
    "\n",
    "Почему мы отключаем последнии слои? чем сложнее модель, чем глубже слой, тем более сложные фичи она использует, и более обучается под специфичные данные. Также все упирается в данные и мошности, если мощностей нет или недостаточно данных, чем меньше мы параметров обучаем, тем нам лучше. Наверное стоит заморозить не все, а только часть весов. \n",
    "\n",
    "#### Сможете?"
   ]
  },
  {
   "cell_type": "markdown",
   "metadata": {},
   "source": [
    "Какой learning_rate мы должны делать в таком случае?"
   ]
  },
  {
   "cell_type": "code",
   "execution_count": null,
   "metadata": {},
   "outputs": [
    {
     "name": "stdout",
     "output_type": "stream",
     "text": [
      "Epoch 1/100\n",
      "100/100 [==============================] - 16s 165ms/step - loss: 0.2785 - acc: 0.8785 - val_loss: 0.2354 - val_acc: 0.9130\n",
      "Epoch 2/100\n",
      "100/100 [==============================] - 15s 152ms/step - loss: 0.2562 - acc: 0.8990 - val_loss: 0.2128 - val_acc: 0.9160\n",
      "Epoch 3/100\n",
      "100/100 [==============================] - 15s 152ms/step - loss: 0.2409 - acc: 0.8970 - val_loss: 0.2103 - val_acc: 0.9190\n",
      "Epoch 4/100\n",
      "100/100 [==============================] - 15s 153ms/step - loss: 0.2151 - acc: 0.9120 - val_loss: 0.2726 - val_acc: 0.8970\n",
      "Epoch 5/100\n",
      "100/100 [==============================] - 15s 152ms/step - loss: 0.1957 - acc: 0.9205 - val_loss: 0.2211 - val_acc: 0.9170\n",
      "Epoch 6/100\n",
      "100/100 [==============================] - 15s 151ms/step - loss: 0.2089 - acc: 0.9115 - val_loss: 0.2371 - val_acc: 0.9080\n",
      "Epoch 7/100\n",
      "100/100 [==============================] - 15s 151ms/step - loss: 0.1936 - acc: 0.9290 - val_loss: 0.1946 - val_acc: 0.9260\n",
      "Epoch 8/100\n",
      "100/100 [==============================] - 15s 151ms/step - loss: 0.1645 - acc: 0.9365 - val_loss: 0.2247 - val_acc: 0.9160\n",
      "Epoch 9/100\n",
      "100/100 [==============================] - 15s 151ms/step - loss: 0.1718 - acc: 0.9280 - val_loss: 0.1855 - val_acc: 0.9250\n",
      "Epoch 10/100\n",
      "100/100 [==============================] - 15s 151ms/step - loss: 0.1590 - acc: 0.9375 - val_loss: 0.2238 - val_acc: 0.9090\n",
      "Epoch 11/100\n",
      "100/100 [==============================] - 15s 151ms/step - loss: 0.1508 - acc: 0.9380 - val_loss: 0.1955 - val_acc: 0.9270\n",
      "Epoch 12/100\n",
      "100/100 [==============================] - 15s 151ms/step - loss: 0.1392 - acc: 0.9390 - val_loss: 0.1835 - val_acc: 0.9320\n",
      "Epoch 13/100\n",
      "100/100 [==============================] - 15s 151ms/step - loss: 0.1307 - acc: 0.9470 - val_loss: 0.1910 - val_acc: 0.9240\n",
      "Epoch 14/100\n",
      "100/100 [==============================] - 15s 151ms/step - loss: 0.1161 - acc: 0.9545 - val_loss: 0.1864 - val_acc: 0.9330\n",
      "Epoch 15/100\n",
      "100/100 [==============================] - 15s 151ms/step - loss: 0.1156 - acc: 0.9535 - val_loss: 0.1882 - val_acc: 0.9270\n",
      "Epoch 16/100\n",
      "100/100 [==============================] - 15s 151ms/step - loss: 0.1152 - acc: 0.9530 - val_loss: 0.1780 - val_acc: 0.9320\n",
      "Epoch 17/100\n",
      "100/100 [==============================] - 15s 151ms/step - loss: 0.1177 - acc: 0.9560 - val_loss: 0.1996 - val_acc: 0.9290\n",
      "Epoch 18/100\n",
      "100/100 [==============================] - 15s 151ms/step - loss: 0.0918 - acc: 0.9675 - val_loss: 0.1932 - val_acc: 0.9320\n",
      "Epoch 19/100\n",
      "100/100 [==============================] - 15s 151ms/step - loss: 0.1134 - acc: 0.9600 - val_loss: 0.2040 - val_acc: 0.9220\n",
      "Epoch 20/100\n",
      "100/100 [==============================] - 15s 151ms/step - loss: 0.0935 - acc: 0.9655 - val_loss: 0.2379 - val_acc: 0.9230\n",
      "Epoch 21/100\n",
      "100/100 [==============================] - 15s 151ms/step - loss: 0.0940 - acc: 0.9630 - val_loss: 0.2103 - val_acc: 0.9270\n",
      "Epoch 22/100\n",
      "100/100 [==============================] - 15s 151ms/step - loss: 0.0888 - acc: 0.9660 - val_loss: 0.1992 - val_acc: 0.9270\n",
      "Epoch 23/100\n",
      "100/100 [==============================] - 15s 151ms/step - loss: 0.0777 - acc: 0.9670 - val_loss: 0.2127 - val_acc: 0.9350\n",
      "Epoch 24/100\n",
      "100/100 [==============================] - 15s 151ms/step - loss: 0.0879 - acc: 0.9705 - val_loss: 0.1999 - val_acc: 0.9270\n",
      "Epoch 25/100\n",
      "100/100 [==============================] - 15s 151ms/step - loss: 0.0879 - acc: 0.9670 - val_loss: 0.1911 - val_acc: 0.9270\n",
      "Epoch 26/100\n",
      "100/100 [==============================] - 15s 151ms/step - loss: 0.0756 - acc: 0.9755 - val_loss: 0.2008 - val_acc: 0.9380\n",
      "Epoch 27/100\n",
      "100/100 [==============================] - 15s 151ms/step - loss: 0.0769 - acc: 0.9690 - val_loss: 0.2257 - val_acc: 0.9280\n",
      "Epoch 28/100\n",
      "100/100 [==============================] - 15s 151ms/step - loss: 0.0774 - acc: 0.9710 - val_loss: 0.1799 - val_acc: 0.9320\n",
      "Epoch 29/100\n",
      "100/100 [==============================] - 15s 151ms/step - loss: 0.0711 - acc: 0.9710 - val_loss: 0.1952 - val_acc: 0.9320\n",
      "Epoch 30/100\n",
      "100/100 [==============================] - 15s 151ms/step - loss: 0.0775 - acc: 0.9710 - val_loss: 0.1901 - val_acc: 0.9330\n",
      "Epoch 31/100\n",
      "100/100 [==============================] - 15s 151ms/step - loss: 0.0662 - acc: 0.9745 - val_loss: 0.1930 - val_acc: 0.9340\n",
      "Epoch 32/100\n",
      "100/100 [==============================] - 15s 151ms/step - loss: 0.0727 - acc: 0.9720 - val_loss: 0.1955 - val_acc: 0.9340\n",
      "Epoch 33/100\n",
      "100/100 [==============================] - 15s 152ms/step - loss: 0.0705 - acc: 0.9725 - val_loss: 0.2037 - val_acc: 0.9350\n",
      "Epoch 34/100\n",
      "100/100 [==============================] - 15s 151ms/step - loss: 0.0606 - acc: 0.9770 - val_loss: 0.1967 - val_acc: 0.9350\n",
      "Epoch 35/100\n",
      "100/100 [==============================] - 15s 151ms/step - loss: 0.0689 - acc: 0.9760 - val_loss: 0.1970 - val_acc: 0.9380\n",
      "Epoch 36/100\n",
      "100/100 [==============================] - 15s 151ms/step - loss: 0.0511 - acc: 0.9790 - val_loss: 0.2151 - val_acc: 0.9400\n",
      "Epoch 37/100\n",
      "100/100 [==============================] - 15s 151ms/step - loss: 0.0593 - acc: 0.9765 - val_loss: 0.1886 - val_acc: 0.9360\n",
      "Epoch 38/100\n",
      "100/100 [==============================] - 15s 152ms/step - loss: 0.0582 - acc: 0.9775 - val_loss: 0.2050 - val_acc: 0.9320\n",
      "Epoch 39/100\n",
      "100/100 [==============================] - 15s 152ms/step - loss: 0.0491 - acc: 0.9840 - val_loss: 0.2131 - val_acc: 0.9290\n",
      "Epoch 40/100\n",
      "100/100 [==============================] - 15s 153ms/step - loss: 0.0505 - acc: 0.9820 - val_loss: 0.2343 - val_acc: 0.9290\n",
      "Epoch 41/100\n",
      "100/100 [==============================] - 16s 158ms/step - loss: 0.0438 - acc: 0.9825 - val_loss: 0.3982 - val_acc: 0.9020\n",
      "Epoch 42/100\n",
      "100/100 [==============================] - 15s 152ms/step - loss: 0.0567 - acc: 0.9810 - val_loss: 0.3112 - val_acc: 0.9170\n",
      "Epoch 43/100\n",
      "100/100 [==============================] - 15s 151ms/step - loss: 0.0445 - acc: 0.9825 - val_loss: 0.2589 - val_acc: 0.9270\n",
      "Epoch 44/100\n",
      "100/100 [==============================] - 15s 151ms/step - loss: 0.0464 - acc: 0.9850 - val_loss: 0.1965 - val_acc: 0.9380\n",
      "Epoch 45/100\n",
      "100/100 [==============================] - 15s 151ms/step - loss: 0.0577 - acc: 0.9770 - val_loss: 0.1858 - val_acc: 0.9410\n",
      "Epoch 46/100\n",
      "100/100 [==============================] - 15s 151ms/step - loss: 0.0395 - acc: 0.9845 - val_loss: 0.1938 - val_acc: 0.9380\n",
      "Epoch 47/100\n",
      "100/100 [==============================] - 15s 153ms/step - loss: 0.0478 - acc: 0.9825 - val_loss: 0.3235 - val_acc: 0.9170\n",
      "Epoch 48/100\n",
      "100/100 [==============================] - 15s 151ms/step - loss: 0.0426 - acc: 0.9815 - val_loss: 0.1937 - val_acc: 0.9400\n",
      "Epoch 49/100\n",
      "100/100 [==============================] - 15s 151ms/step - loss: 0.0357 - acc: 0.9885 - val_loss: 0.2126 - val_acc: 0.9430\n",
      "Epoch 50/100\n",
      "100/100 [==============================] - 15s 152ms/step - loss: 0.0487 - acc: 0.9810 - val_loss: 0.2041 - val_acc: 0.9380\n",
      "Epoch 51/100\n",
      "100/100 [==============================] - 15s 153ms/step - loss: 0.0409 - acc: 0.9870 - val_loss: 0.2392 - val_acc: 0.9360\n",
      "Epoch 52/100\n",
      "100/100 [==============================] - 15s 151ms/step - loss: 0.0348 - acc: 0.9870 - val_loss: 0.1948 - val_acc: 0.9410\n",
      "Epoch 53/100\n",
      "100/100 [==============================] - 15s 153ms/step - loss: 0.0336 - acc: 0.9875 - val_loss: 0.4190 - val_acc: 0.9060\n",
      "Epoch 54/100\n",
      "100/100 [==============================] - 15s 152ms/step - loss: 0.0383 - acc: 0.9870 - val_loss: 0.2476 - val_acc: 0.9340\n",
      "Epoch 55/100\n",
      "100/100 [==============================] - 15s 151ms/step - loss: 0.0467 - acc: 0.9865 - val_loss: 0.2768 - val_acc: 0.9290\n",
      "Epoch 56/100\n",
      "100/100 [==============================] - 15s 151ms/step - loss: 0.0277 - acc: 0.9895 - val_loss: 0.2344 - val_acc: 0.9360\n",
      "Epoch 57/100\n",
      "100/100 [==============================] - 15s 151ms/step - loss: 0.0226 - acc: 0.9905 - val_loss: 0.2291 - val_acc: 0.9370\n",
      "Epoch 58/100\n",
      "100/100 [==============================] - 15s 151ms/step - loss: 0.0359 - acc: 0.9875 - val_loss: 0.2313 - val_acc: 0.9330\n",
      "Epoch 59/100\n",
      "100/100 [==============================] - 15s 151ms/step - loss: 0.0281 - acc: 0.9900 - val_loss: 0.2652 - val_acc: 0.9350\n",
      "Epoch 60/100\n",
      "100/100 [==============================] - 15s 152ms/step - loss: 0.0384 - acc: 0.9865 - val_loss: 0.2327 - val_acc: 0.9420\n"
     ]
    },
    {
     "name": "stdout",
     "output_type": "stream",
     "text": [
      "Epoch 61/100\n",
      "100/100 [==============================] - 15s 151ms/step - loss: 0.0292 - acc: 0.9880 - val_loss: 0.2305 - val_acc: 0.9390\n",
      "Epoch 62/100\n",
      "100/100 [==============================] - 15s 153ms/step - loss: 0.0295 - acc: 0.9885 - val_loss: 0.2057 - val_acc: 0.9370\n",
      "Epoch 63/100\n",
      "100/100 [==============================] - 15s 152ms/step - loss: 0.0284 - acc: 0.9900 - val_loss: 0.2409 - val_acc: 0.9410\n",
      "Epoch 64/100\n",
      "100/100 [==============================] - 15s 152ms/step - loss: 0.0261 - acc: 0.9895 - val_loss: 0.2489 - val_acc: 0.9400\n",
      "Epoch 65/100\n",
      "100/100 [==============================] - 15s 152ms/step - loss: 0.0288 - acc: 0.9885 - val_loss: 0.2212 - val_acc: 0.9400\n",
      "Epoch 66/100\n",
      "100/100 [==============================] - 15s 152ms/step - loss: 0.0372 - acc: 0.9880 - val_loss: 0.2689 - val_acc: 0.9340\n",
      "Epoch 67/100\n",
      "100/100 [==============================] - 15s 151ms/step - loss: 0.0317 - acc: 0.9890 - val_loss: 0.4028 - val_acc: 0.9190\n",
      "Epoch 68/100\n",
      "100/100 [==============================] - 15s 151ms/step - loss: 0.0300 - acc: 0.9900 - val_loss: 0.3149 - val_acc: 0.9280\n",
      "Epoch 69/100\n",
      "100/100 [==============================] - 15s 151ms/step - loss: 0.0370 - acc: 0.9885 - val_loss: 0.2425 - val_acc: 0.9340\n",
      "Epoch 70/100\n",
      "100/100 [==============================] - 15s 152ms/step - loss: 0.0190 - acc: 0.9925 - val_loss: 0.2613 - val_acc: 0.9320\n",
      "Epoch 71/100\n",
      "100/100 [==============================] - 15s 154ms/step - loss: 0.0202 - acc: 0.9945 - val_loss: 0.2468 - val_acc: 0.9340\n",
      "Epoch 72/100\n",
      "100/100 [==============================] - 16s 159ms/step - loss: 0.0191 - acc: 0.9920 - val_loss: 0.2496 - val_acc: 0.9440\n",
      "Epoch 73/100\n",
      "100/100 [==============================] - 15s 151ms/step - loss: 0.0239 - acc: 0.9920 - val_loss: 0.2961 - val_acc: 0.9330\n",
      "Epoch 74/100\n",
      "100/100 [==============================] - 15s 151ms/step - loss: 0.0341 - acc: 0.9880 - val_loss: 0.2656 - val_acc: 0.9350\n",
      "Epoch 75/100\n",
      "100/100 [==============================] - 15s 151ms/step - loss: 0.0157 - acc: 0.9955 - val_loss: 0.3049 - val_acc: 0.9330\n",
      "Epoch 76/100\n",
      "100/100 [==============================] - 15s 152ms/step - loss: 0.0200 - acc: 0.9920 - val_loss: 0.4621 - val_acc: 0.9180\n",
      "Epoch 77/100\n",
      "100/100 [==============================] - 15s 152ms/step - loss: 0.0223 - acc: 0.9905 - val_loss: 0.2396 - val_acc: 0.9440\n",
      "Epoch 78/100\n",
      "100/100 [==============================] - 15s 151ms/step - loss: 0.0214 - acc: 0.9905 - val_loss: 0.2733 - val_acc: 0.9360\n",
      "Epoch 79/100\n",
      "100/100 [==============================] - 15s 151ms/step - loss: 0.0193 - acc: 0.9955 - val_loss: 0.2661 - val_acc: 0.9360\n",
      "Epoch 80/100\n",
      "100/100 [==============================] - 15s 151ms/step - loss: 0.0218 - acc: 0.9930 - val_loss: 0.4199 - val_acc: 0.9230\n",
      "Epoch 81/100\n",
      "100/100 [==============================] - 15s 151ms/step - loss: 0.0201 - acc: 0.9935 - val_loss: 0.2608 - val_acc: 0.9400\n",
      "Epoch 82/100\n",
      "100/100 [==============================] - 15s 151ms/step - loss: 0.0340 - acc: 0.9880 - val_loss: 0.2350 - val_acc: 0.9430\n",
      "Epoch 83/100\n",
      "100/100 [==============================] - 15s 153ms/step - loss: 0.0217 - acc: 0.9910 - val_loss: 0.2608 - val_acc: 0.9360\n",
      "Epoch 84/100\n",
      "100/100 [==============================] - 15s 153ms/step - loss: 0.0268 - acc: 0.9895 - val_loss: 0.2480 - val_acc: 0.9430\n",
      "Epoch 85/100\n",
      "100/100 [==============================] - 15s 154ms/step - loss: 0.0178 - acc: 0.9930 - val_loss: 0.2495 - val_acc: 0.9420\n",
      "Epoch 86/100\n",
      "100/100 [==============================] - 15s 153ms/step - loss: 0.0224 - acc: 0.9930 - val_loss: 0.2805 - val_acc: 0.9340\n",
      "Epoch 87/100\n",
      "100/100 [==============================] - 15s 152ms/step - loss: 0.0215 - acc: 0.9925 - val_loss: 0.3181 - val_acc: 0.9300\n",
      "Epoch 88/100\n",
      "100/100 [==============================] - 15s 152ms/step - loss: 0.0148 - acc: 0.9940 - val_loss: 0.2692 - val_acc: 0.9380\n",
      "Epoch 89/100\n",
      "100/100 [==============================] - 15s 152ms/step - loss: 0.0226 - acc: 0.9925 - val_loss: 0.2605 - val_acc: 0.9410\n",
      "Epoch 90/100\n",
      " 99/100 [============================>.] - ETA: 0s - loss: 0.0228 - acc: 0.9939"
     ]
    }
   ],
   "source": [
    "model.compile(loss='binary_crossentropy',\n",
    "              optimizer=optimizers.RMSprop(lr=1e-5),\n",
    "              metrics=['acc'])\n",
    "\n",
    "history = model.fit_generator(\n",
    "      train_generator,\n",
    "      steps_per_epoch=100,\n",
    "      epochs=100,\n",
    "      validation_data=validation_generator,\n",
    "      validation_steps=50)"
   ]
  },
  {
   "cell_type": "code",
   "execution_count": null,
   "metadata": {},
   "outputs": [],
   "source": [
    "model.save('cats_and_dogs_small_4.h5')"
   ]
  },
  {
   "cell_type": "markdown",
   "metadata": {},
   "source": [
    "По традиции нарисуем результаты!"
   ]
  },
  {
   "cell_type": "code",
   "execution_count": 22,
   "metadata": {},
   "outputs": [
    {
     "data": {
      "image/png": "[encoded data removed]",
      "text/plain": [
       "<matplotlib.figure.Figure at 0x7fd5442d3ef0>"
      ]
     },
     "metadata": {},
     "output_type": "display_data"
    },
    {
     "data": {
      "image/png": "[encoded data removed]",
      "text/plain": [
       "<matplotlib.figure.Figure at 0x7fd53ce2a048>"
      ]
     },
     "metadata": {},
     "output_type": "display_data"
    }
   ],
   "source": [
    "acc = history.history['acc']\n",
    "val_acc = history.history['val_acc']\n",
    "loss = history.history['loss']\n",
    "val_loss = history.history['val_loss']\n",
    "\n",
    "epochs = range(len(acc))\n",
    "\n",
    "plt.plot(epochs, acc, 'bo', label='Training acc')\n",
    "plt.plot(epochs, val_acc, 'b', label='Validation acc')\n",
    "plt.title('Training and validation accuracy')\n",
    "plt.legend()\n",
    "\n",
    "plt.figure()\n",
    "\n",
    "plt.plot(epochs, loss, 'bo', label='Training loss')\n",
    "plt.plot(epochs, val_loss, 'b', label='Validation loss')\n",
    "plt.title('Training and validation loss')\n",
    "plt.legend()\n",
    "\n",
    "plt.show()"
   ]
  }
 ],
 "metadata": {
  "kernelspec": {
   "display_name": "Python 3",
   "language": "python",
   "name": "python3"
  },
  "language_info": {
   "codemirror_mode": {
    "name": "ipython",
    "version": 3
   },
   "file_extension": ".py",
   "mimetype": "text/x-python",
   "name": "python",
   "nbconvert_exporter": "python",
   "pygments_lexer": "ipython3",
   "version": "3.7.4"
  }
 },
 "nbformat": 4,
 "nbformat_minor": 2
}
