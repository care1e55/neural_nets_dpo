{
 "cells": [
  {
   "cell_type": "markdown",
   "metadata": {},
   "source": [
    "# Введение в RL\n",
    "\n",
    "### Авторские права и почиташки: \n",
    "\n",
    "* [Непревзайдённый оригинал](http://karpathy.github.io/2016/05/31/rl/) из блога Andrej Karpathy\n",
    "* Его же [код без tensorflow](https://gist.github.com/karpathy/a4166c7fe253700972fcbc77e4ea32c5)\n",
    "* [Другой подход к коду для той же задачки](https://nbviewer.jupyter.org/github/thinkingparticle/deep_rl_pong_keras/blob/master/reinforcement_learning_pong_keras_policy_gradients.ipynb)\n",
    "* Deep Q-Learning на [Altary games](https://keon.io/deep-q-learning/) в Keras\n",
    "* Забавный текст про [интуитивный RL](https://habr.com/ru/post/442522/) "
   ]
  },
  {
   "cell_type": "code",
   "execution_count": null,
   "metadata": {},
   "outputs": [],
   "source": [
    "# !pip install gym  "
   ]
  },
  {
   "cell_type": "code",
   "execution_count": 1,
   "metadata": {},
   "outputs": [],
   "source": [
    "# !pip install gym[atari]"
   ]
  },
  {
   "cell_type": "code",
   "execution_count": 2,
   "metadata": {},
   "outputs": [],
   "source": [
    "import gym"
   ]
  },
  {
   "cell_type": "code",
   "execution_count": 3,
   "metadata": {},
   "outputs": [],
   "source": [
    "import numpy as np\n",
    "\n",
    "import matplotlib.pyplot as plt\n",
    "%matplotlib inline"
   ]
  },
  {
   "cell_type": "markdown",
   "metadata": {},
   "source": [
    "Библиотека `gym` обычно используется для того, чтобы посимулировать какие-нибудь простенькие проблемы для RL. Внутри `gym` есть куча разных иг. Мы будем использовать `Pong`."
   ]
  },
  {
   "cell_type": "markdown",
   "metadata": {},
   "source": [
    "# 1. Посмотрим на игру\n",
    "\n",
    "Смотрим на игру [по аналогии с документацией.](https://gym.openai.com/docs/) "
   ]
  },
  {
   "cell_type": "code",
   "execution_count": 4,
   "metadata": {},
   "outputs": [
    {
     "data": {
      "text/plain": [
       "(210, 160, 3)"
      ]
     },
     "execution_count": 4,
     "metadata": {},
     "output_type": "execute_result"
    }
   ],
   "source": [
    "env = gym.make('Pong-v0')\n",
    "observation = env.reset()\n",
    "observation.shape"
   ]
  },
  {
   "cell_type": "code",
   "execution_count": 5,
   "metadata": {},
   "outputs": [
    {
     "data": {
      "image/png": "[encoded data removed]",
      "text/plain": [
       "<Figure size 432x288 with 1 Axes>"
      ]
     },
     "metadata": {
      "needs_background": "light"
     },
     "output_type": "display_data"
    }
   ],
   "source": [
    "plt.imshow(observation);"
   ]
  },
  {
   "cell_type": "markdown",
   "metadata": {},
   "source": [
    "У `env` есть много методов. Метод `step` делает какое-то действие. Ноль это обычно бездействие. "
   ]
  },
  {
   "cell_type": "code",
   "execution_count": 6,
   "metadata": {},
   "outputs": [
    {
     "data": {
      "text/plain": [
       "4"
      ]
     },
     "execution_count": 6,
     "metadata": {},
     "output_type": "execute_result"
    }
   ],
   "source": [
    "len(env.step(0))"
   ]
  },
  {
   "cell_type": "markdown",
   "metadata": {},
   "source": [
    "После каждого шага мы на выход получаем четыре объекта: \n",
    "\n",
    "* `observation` - текущее состояние нашей игры;\n",
    "* `reward` - вознаграждение за наши действия;\n",
    "* `done` - завершилась ли игра, и надо ли сбросить настройки и начать заново;\n",
    "* `info` - полезная второстепенная информация.\n"
   ]
  },
  {
   "cell_type": "code",
   "execution_count": 7,
   "metadata": {},
   "outputs": [],
   "source": [
    "for i in range(30):\n",
    "    obs, rew, dn, inf = env.step(3) # 0 означает ничего не делать "
   ]
  },
  {
   "cell_type": "code",
   "execution_count": 8,
   "metadata": {},
   "outputs": [
    {
     "data": {
      "text/plain": [
       "Discrete(6)"
      ]
     },
     "execution_count": 8,
     "metadata": {},
     "output_type": "execute_result"
    }
   ],
   "source": [
    "env.action_space"
   ]
  },
  {
   "cell_type": "code",
   "execution_count": 9,
   "metadata": {},
   "outputs": [
    {
     "data": {
      "text/plain": [
       "(210, 160, 3)"
      ]
     },
     "execution_count": 9,
     "metadata": {},
     "output_type": "execute_result"
    }
   ],
   "source": [
    "obs.shape"
   ]
  },
  {
   "cell_type": "code",
   "execution_count": 10,
   "metadata": {},
   "outputs": [
    {
     "data": {
      "image/png": "[encoded data removed]",
      "text/plain": [
       "<Figure size 432x288 with 1 Axes>"
      ]
     },
     "metadata": {
      "needs_background": "light"
     },
     "output_type": "display_data"
    }
   ],
   "source": [
    "plt.imshow(obs);"
   ]
  },
  {
   "cell_type": "code",
   "execution_count": 12,
   "metadata": {},
   "outputs": [
    {
     "data": {
      "text/plain": [
       "0.0"
      ]
     },
     "execution_count": 12,
     "metadata": {},
     "output_type": "execute_result"
    }
   ],
   "source": [
    "rew # ничего не проиграли и не выиграли"
   ]
  },
  {
   "cell_type": "code",
   "execution_count": 13,
   "metadata": {},
   "outputs": [
    {
     "data": {
      "text/plain": [
       "False"
      ]
     },
     "execution_count": 13,
     "metadata": {},
     "output_type": "execute_result"
    }
   ],
   "source": [
    "dn  # игра ещё не окончена "
   ]
  },
  {
   "cell_type": "code",
   "execution_count": 14,
   "metadata": {},
   "outputs": [
    {
     "data": {
      "text/plain": [
       "{'ale.lives': 0}"
      ]
     },
     "execution_count": 14,
     "metadata": {},
     "output_type": "execute_result"
    }
   ],
   "source": [
    "inf  # что-то второстепенное и очень полезное..."
   ]
  },
  {
   "cell_type": "markdown",
   "metadata": {},
   "source": [
    "Среда для игры это ящик  из пикселей. "
   ]
  },
  {
   "cell_type": "code",
   "execution_count": 15,
   "metadata": {},
   "outputs": [
    {
     "data": {
      "text/plain": [
       "Box(210, 160, 3)"
      ]
     },
     "execution_count": 15,
     "metadata": {},
     "output_type": "execute_result"
    }
   ],
   "source": [
    "env.observation_space"
   ]
  },
  {
   "cell_type": "markdown",
   "metadata": {},
   "source": [
    "На самом деле можно задавать свои разные среды и как угодно играться с ними, но мы не будем. Давайте лучше выберем какое-нибудь рандомное действие. "
   ]
  },
  {
   "cell_type": "code",
   "execution_count": 16,
   "metadata": {},
   "outputs": [
    {
     "data": {
      "text/plain": [
       "0"
      ]
     },
     "execution_count": 16,
     "metadata": {},
     "output_type": "execute_result"
    }
   ],
   "source": [
    "env.action_space.sample()"
   ]
  },
  {
   "cell_type": "markdown",
   "metadata": {},
   "source": [
    "А после аопробуем сыграть партию со случайной стратегией.  Ради фана можно попробовать другие игры: [`MsPacman-v0`](https://gym.openai.com/envs/MsPacman-v0/) или [`MountainCar-v0.`](https://gym.openai.com/envs/MountainCar-v0/)"
   ]
  },
  {
   "cell_type": "code",
   "execution_count": 17,
   "metadata": {},
   "outputs": [],
   "source": [
    "env_test = gym.make('Pong-v0')   # создали тестовую симуляцию \n",
    "env_test.reset()                 # сбросили её до заводских настроек       \n",
    "\n",
    "for _ in range(1000):\n",
    "    env_test.render()            # рэндерим! \n",
    "    env_test.step(env_test.action_space.sample()) # сделали рандомное действие\n",
    "env_test.close() # убили симуляцию "
   ]
  },
  {
   "cell_type": "markdown",
   "metadata": {},
   "source": [
    "Мы проиграли :(\n",
    "\n",
    "__Наша задача__ - выучить нейронку, которая будет генрировать последовательность действий, которая приведёт нас к победе над компьютером. \n",
    "\n",
    "Вспомним [лекцию.](http://karpathy.github.io/2016/05/31/rl/) В ней говорилось, что лучше бы сделать финт ушами и на вход нейронке подавать не голые изображения, а разницу в пикселях между текущим состоянием среды и будущим. Давайте напишем функцию, которая будет считать такие разницы: "
   ]
  },
  {
   "cell_type": "code",
   "execution_count": 18,
   "metadata": {},
   "outputs": [],
   "source": [
    "def preprocess_frames(new_frame, last_frame):\n",
    "    \n",
    "    # На вход идёт две картинки \n",
    "    n_frame = new_frame.astype(np.int32)\n",
    "    l_frame = last_frame.astype(np.int32)\n",
    "    \n",
    "#   n_frame[(n_frame==144)|(n_frame==109)]=0 # удаляем фон\n",
    "#   l_frame[(l_frame==144)|(l_frame==109)]=0 # удаляем фон \n",
    "    \n",
    "    # находим разницу \n",
    "    diff = n_frame - l_frame\n",
    "    \n",
    "    # обрезаем лишние части изображения\n",
    "    diff = diff[35:195]\n",
    "    \n",
    "    # down sample \n",
    "    diff=diff[::2,::2]\n",
    "    \n",
    "    # превратим картинку в серую и одномерную\n",
    "    diff = diff[:,:,0] * 299. / 1000 + diff[:,:,1] * 587. / 1000 + diff[:,:,2] * 114. / 1000\n",
    "    \n",
    "    # rescale numbers between 0 and 1\n",
    "    max_val = diff.max() if diff.max() > abs(diff.min())  else abs(diff.min())\n",
    "    \n",
    "    if max_val != 0:\n",
    "        diff=diff/max_val\n",
    "    return diff"
   ]
  },
  {
   "cell_type": "code",
   "execution_count": 19,
   "metadata": {},
   "outputs": [],
   "source": [
    "# Сделаем шаг игры \n",
    "new_obs, rew, dn, inf = env.step(2)"
   ]
  },
  {
   "cell_type": "code",
   "execution_count": 20,
   "metadata": {},
   "outputs": [
    {
     "data": {
      "image/png": "[encoded data removed]",
      "text/plain": [
       "<Figure size 432x288 with 1 Axes>"
      ]
     },
     "metadata": {
      "needs_background": "light"
     },
     "output_type": "display_data"
    }
   ],
   "source": [
    "plt.imshow(preprocess_frames(new_obs, obs), cmap='gray');"
   ]
  },
  {
   "cell_type": "code",
   "execution_count": 21,
   "metadata": {},
   "outputs": [
    {
     "data": {
      "text/plain": [
       "array([[0., 0., 0., ..., 0., 0., 0.],\n",
       "       [0., 0., 0., ..., 0., 0., 0.],\n",
       "       [0., 0., 0., ..., 0., 0., 0.],\n",
       "       ...,\n",
       "       [0., 0., 0., ..., 0., 0., 0.],\n",
       "       [0., 0., 0., ..., 0., 0., 0.],\n",
       "       [0., 0., 0., ..., 0., 0., 0.]])"
      ]
     },
     "execution_count": 21,
     "metadata": {},
     "output_type": "execute_result"
    }
   ],
   "source": [
    "diff = preprocess_frames(new_obs, obs)\n",
    "diff"
   ]
  },
  {
   "cell_type": "code",
   "execution_count": 22,
   "metadata": {},
   "outputs": [
    {
     "data": {
      "text/plain": [
       "(80, 80)"
      ]
     },
     "execution_count": 22,
     "metadata": {},
     "output_type": "execute_result"
    }
   ],
   "source": [
    "diff.shape"
   ]
  },
  {
   "cell_type": "markdown",
   "metadata": {},
   "source": [
    "# 2. Модель\n",
    "\n",
    "Прикрутим модель к среде. Наша первая модель будет очень простой полносвязной сеткой. "
   ]
  },
  {
   "cell_type": "code",
   "execution_count": 23,
   "metadata": {},
   "outputs": [
    {
     "name": "stdout",
     "output_type": "stream",
     "text": [
      "Model: \"sequential\"\n",
      "_________________________________________________________________\n",
      "Layer (type)                 Output Shape              Param #   \n",
      "=================================================================\n",
      "flatten (Flatten)            (None, 6400)              0         \n",
      "_________________________________________________________________\n",
      "dense (Dense)                (None, 200)               1280200   \n",
      "_________________________________________________________________\n",
      "dense_1 (Dense)              (None, 1)                 201       \n",
      "=================================================================\n",
      "Total params: 1,280,401\n",
      "Trainable params: 1,280,401\n",
      "Non-trainable params: 0\n",
      "_________________________________________________________________\n"
     ]
    }
   ],
   "source": [
    "from tensorflow.keras import layers as L\n",
    "from tensorflow.keras.models import Sequential\n",
    "\n",
    "model = Sequential()\n",
    "\n",
    "# На вход в сетку пойдет картинка\n",
    "model.add(L.Input(shape=(80,80)))\n",
    "model.add(L.Flatten())\n",
    "    \n",
    "model.add(L.Dense(units=200, activation='relu', \n",
    "                  kernel_initializer='glorot_uniform'))\n",
    "\n",
    "model.add(L.Dense(units=1, activation='sigmoid', \n",
    "                  kernel_initializer='RandomNormal'))\n",
    "\n",
    "# Компилирует модель\n",
    "model.compile(loss='binary_crossentropy', \n",
    "              optimizer='adam', metrics=['accuracy'])\n",
    "\n",
    "model.summary()"
   ]
  },
  {
   "cell_type": "markdown",
   "metadata": {},
   "source": [
    "# 3. Модель взаимодействует с игрой\n",
    "\n",
    "Давайте вытащим из модели предсказание. Если она выплюнет $1$, будем идти вверх. Если $0$, вниз. "
   ]
  },
  {
   "cell_type": "code",
   "execution_count": 24,
   "metadata": {},
   "outputs": [],
   "source": [
    "# действия, которые мы можем предпринять \n",
    "UP_ACTION = 2\n",
    "DOWN_ACTION = 3\n",
    "\n",
    "# для накопления обучающей выборки\n",
    "y_train = [ ]\n",
    "x_train = [ ]\n",
    "\n",
    "# награды на каждом шаге и суммарная\n",
    "rewards = [ ]\n",
    "reward_sum = 0 "
   ]
  },
  {
   "cell_type": "code",
   "execution_count": 25,
   "metadata": {},
   "outputs": [
    {
     "data": {
      "text/plain": [
       "(80, 80)"
      ]
     },
     "execution_count": 25,
     "metadata": {},
     "output_type": "execute_result"
    }
   ],
   "source": [
    "diff.shape"
   ]
  },
  {
   "cell_type": "code",
   "execution_count": 26,
   "metadata": {},
   "outputs": [
    {
     "data": {
      "text/plain": [
       "(1, 80, 80)"
      ]
     },
     "execution_count": 26,
     "metadata": {},
     "output_type": "execute_result"
    }
   ],
   "source": [
    "diff[np.newaxis,:,:].shape"
   ]
  },
  {
   "cell_type": "code",
   "execution_count": 27,
   "metadata": {},
   "outputs": [
    {
     "data": {
      "text/plain": [
       "array([[0.50262237]], dtype=float32)"
      ]
     },
     "execution_count": 27,
     "metadata": {},
     "output_type": "execute_result"
    }
   ],
   "source": [
    "# Пробуем предсказать что должен сделать игрок в текущем состоянии игры\n",
    "proba = model.predict(diff[np.newaxis,:,:])\n",
    "proba"
   ]
  },
  {
   "cell_type": "code",
   "execution_count": 28,
   "metadata": {},
   "outputs": [
    {
     "data": {
      "text/plain": [
       "2"
      ]
     },
     "execution_count": 28,
     "metadata": {},
     "output_type": "execute_result"
    }
   ],
   "source": [
    "# Мы пойдём в ... \n",
    "action = UP_ACTION if 0.5 < proba else DOWN_ACTION\n",
    "action"
   ]
  },
  {
   "cell_type": "code",
   "execution_count": 29,
   "metadata": {},
   "outputs": [],
   "source": [
    "# копим обучающую выборку \n",
    "y = 1 if action == UP_ACTION else 0\n",
    "\n",
    "x_train.append(diff)\n",
    "y_train.append(y)"
   ]
  },
  {
   "cell_type": "code",
   "execution_count": 30,
   "metadata": {},
   "outputs": [
    {
     "data": {
      "text/plain": [
       "[1]"
      ]
     },
     "execution_count": 30,
     "metadata": {},
     "output_type": "execute_result"
    }
   ],
   "source": [
    "y_train"
   ]
  },
  {
   "cell_type": "code",
   "execution_count": 31,
   "metadata": {},
   "outputs": [
    {
     "data": {
      "text/plain": [
       "[array([[0., 0., 0., ..., 0., 0., 0.],\n",
       "        [0., 0., 0., ..., 0., 0., 0.],\n",
       "        [0., 0., 0., ..., 0., 0., 0.],\n",
       "        ...,\n",
       "        [0., 0., 0., ..., 0., 0., 0.],\n",
       "        [0., 0., 0., ..., 0., 0., 0.],\n",
       "        [0., 0., 0., ..., 0., 0., 0.]])]"
      ]
     },
     "execution_count": 31,
     "metadata": {},
     "output_type": "execute_result"
    }
   ],
   "source": [
    "x_train"
   ]
  },
  {
   "cell_type": "code",
   "execution_count": 32,
   "metadata": {},
   "outputs": [],
   "source": [
    "# делаем один шаг внутри игры \n",
    "obs = new_obs\n",
    "new_obs, rew, dn, inf = env.step(action)\n",
    "\n",
    "# расчитываем новую разницу\n",
    "diff = preprocess_frames(new_obs, obs)\n",
    "\n",
    "# копим награду за один шаг игры\n",
    "rewards.append(rew)\n",
    "reward_sum += rew"
   ]
  },
  {
   "cell_type": "code",
   "execution_count": 33,
   "metadata": {},
   "outputs": [
    {
     "data": {
      "text/plain": [
       "([0.0], 0.0)"
      ]
     },
     "execution_count": 33,
     "metadata": {},
     "output_type": "execute_result"
    }
   ],
   "source": [
    "rewards, reward_sum"
   ]
  },
  {
   "cell_type": "markdown",
   "metadata": {},
   "source": [
    "Такие шаги мы будем делать много-много раз, пока игра не кончится. Если игра закончилась, то есть один из игроков набрал $21$ очко, мы останавливаем симуляцию и начинаем обучать модель."
   ]
  },
  {
   "cell_type": "raw",
   "metadata": {},
   "source": [
    "model.fit(x=np.array(x_train), y=np.vstack(y_train), verbose=1, \n",
    "              sample_weight=discount_rewards(rewards, gamma))"
   ]
  },
  {
   "cell_type": "markdown",
   "metadata": {},
   "source": [
    "Обратите внимание, что все наблюдения, которые мы накопили в ходе игры мы будем брать в функцию потерь с разными весами. Для этого в метод `fit` мы подаём аргумент `sample_weight`.  Давайте напишем функцию, которая будет это взвешивание производить. "
   ]
  },
  {
   "cell_type": "code",
   "execution_count": 34,
   "metadata": {},
   "outputs": [],
   "source": [
    "def discount_rewards(r, gamma):\n",
    "    r = np.array(r)                 # наши выигрыши \n",
    "    discounted_r = np.zeros_like(r) # дисконты для выигрышей \n",
    "    \n",
    "    # накопление награды \n",
    "    running_add = 0 \n",
    "    \n",
    "    # идём от последней награды к первой\n",
    "    for t in reversed(range(0, r.size)): \n",
    "        \n",
    "        # если игра кончилась, сбрасываем накопленную награду\n",
    "        if r[t] != 0: running_add = 0 \n",
    "          \n",
    "        # умножаем накопленную награду на дисконт и плюсуем новую\n",
    "        running_add = running_add * gamma + r[t]\n",
    "        discounted_r[t] = running_add\n",
    "        \n",
    "    # центрируем и нормируем \n",
    "    discounted_r -= np.mean(discounted_r) \n",
    "    discounted_r /= np.std(discounted_r)\n",
    "    \n",
    "    return discounted_r"
   ]
  },
  {
   "cell_type": "markdown",
   "metadata": {},
   "source": [
    "# 4. Обучение \n",
    "\n",
    "Соединяем все, что было выше в единое целое!  Для начала напишем функцию, которая генерирует нам на выход одну игру. "
   ]
  },
  {
   "cell_type": "code",
   "execution_count": 35,
   "metadata": {},
   "outputs": [],
   "source": [
    "# закодировали действия \n",
    "UP_ACTION = 2\n",
    "DOWN_ACTION = 3\n",
    "\n",
    "# гиперпараметр (дисконт) \n",
    "gamma = 0.99"
   ]
  },
  {
   "cell_type": "markdown",
   "metadata": {},
   "source": [
    "Теперь главный цикл. "
   ]
  },
  {
   "cell_type": "code",
   "execution_count": 36,
   "metadata": {},
   "outputs": [],
   "source": [
    "from IPython import display"
   ]
  },
  {
   "cell_type": "code",
   "execution_count": 38,
   "metadata": {},
   "outputs": [],
   "source": [
    "def generate_episode(verbose=1):\n",
    "    \n",
    "    # Инициализировали среду \n",
    "    env = gym.make(\"Pong-v0\")\n",
    "\n",
    "    observation = env.reset()\n",
    "\n",
    "    # сделали первый шаг игры \n",
    "    prev_obs = np.zeros((210, 160, 3))\n",
    "    obs, rew, dn, inf  = env.step(0)\n",
    "    \n",
    "    # пустые вектора для выборок и наград\n",
    "    x_train, y_train, rewards = [],[],[]\n",
    "\n",
    "    # немного счётчиков :) \n",
    "    reward_sum = 0\n",
    "    \n",
    "    while (True):\n",
    "        # расчитываем разницу\n",
    "        diff = preprocess_frames(obs, prev_obs)\n",
    "        prev_obs = obs \n",
    "\n",
    "        # предсказали как нужно себя вести (policy)\n",
    "        proba = model.predict(diff[np.newaxis,:,:])\n",
    "\n",
    "        # что мы делаем\n",
    "        action = UP_ACTION if 0.5 < proba else DOWN_ACTION\n",
    "        y = 1 if action == 2 else 0 # метка класса\n",
    "\n",
    "        # накопили выборку \n",
    "        x_train.append(diff)\n",
    "        y_train.append(y)\n",
    "\n",
    "        # сделали ещё шаг игры \n",
    "        obs, rew, dn, inf  = env.step(action)\n",
    "        rewards.append(rew)\n",
    "        reward_sum += rew\n",
    "        \n",
    "        if verbose == 1:\n",
    "            if len(x_train) % 20 == 0:\n",
    "                display.clear_output(wait=True)\n",
    "                plt.imshow(obs)\n",
    "        \n",
    "        # если игра закончились, выходим из цикла\n",
    "        if dn:\n",
    "            break\n",
    "    \n",
    "    return x_train, y_train, rewards, reward_sum"
   ]
  },
  {
   "cell_type": "code",
   "execution_count": 39,
   "metadata": {},
   "outputs": [
    {
     "data": {
      "image/png": "[encoded data removed]",
      "text/plain": [
       "<Figure size 432x288 with 1 Axes>"
      ]
     },
     "metadata": {
      "needs_background": "light"
     },
     "output_type": "display_data"
    }
   ],
   "source": [
    "x_train, y_train, rewards, reward_sum = generate_episode()"
   ]
  },
  {
   "cell_type": "code",
   "execution_count": 40,
   "metadata": {},
   "outputs": [
    {
     "data": {
      "text/plain": [
       "(1174, 1174, -21.0)"
      ]
     },
     "execution_count": 40,
     "metadata": {},
     "output_type": "execute_result"
    }
   ],
   "source": [
    "len(x_train), len(y_train), reward_sum"
   ]
  },
  {
   "cell_type": "code",
   "execution_count": 41,
   "metadata": {},
   "outputs": [
    {
     "name": "stdout",
     "output_type": "stream",
     "text": [
      "[1, 0, 0, 1, 0, 0, 1, 1, 0, 1, 0, 1, 0, 1, 0, 1, 1, 0, 0, 0, 1, 1, 0, 1, 0, 0, 1, 0, 1, 0, 1, 0, 1, 0, 0, 0, 1, 0, 1, 0, 1, 1, 0, 1, 0, 0, 1, 1, 1, 0, 1, 0, 1, 0, 0, 1, 0, 1, 1, 1, 0, 1, 0, 0, 0, 1, 0, 0, 1, 0, 1, 0, 1, 0, 1, 0, 0, 0, 1, 1, 1, 0, 1, 0, 0, 0, 1, 1, 0, 1, 1, 0, 1, 0, 1, 1, 0, 1, 0, 0]\n"
     ]
    }
   ],
   "source": [
    "print(y_train[50:150])"
   ]
  },
  {
   "cell_type": "code",
   "execution_count": 42,
   "metadata": {},
   "outputs": [
    {
     "name": "stdout",
     "output_type": "stream",
     "text": [
      "[0.0, 0.0, 0.0, 0.0, 0.0, 0.0, 0.0, 0.0, 0.0, 0.0, 0.0, 0.0, 0.0, 0.0, 0.0, 0.0, 0.0, 0.0, 0.0, 0.0, 0.0, 0.0, 0.0, 0.0, 0.0, 0.0, 0.0, 0.0, 0.0, 0.0, 0.0, 0.0, 0.0, 0.0, 0.0, 0.0, 0.0, 0.0, -1.0, 0.0, 0.0, 0.0, 0.0, 0.0, 0.0, 0.0, 0.0, 0.0, 0.0, 0.0, 0.0, 0.0, 0.0, 0.0, 0.0, 0.0, 0.0, 0.0, 0.0, 0.0, 0.0, 0.0, 0.0, 0.0, 0.0, 0.0, 0.0, 0.0, 0.0, 0.0, 0.0, 0.0, 0.0, 0.0, 0.0, 0.0, 0.0, 0.0, 0.0, 0.0, 0.0, 0.0, 0.0, 0.0, 0.0, 0.0, 0.0, 0.0, 0.0, 0.0, 0.0, 0.0, 0.0, 0.0, 0.0, 0.0, 0.0, 0.0, 0.0, 0.0]\n"
     ]
    }
   ],
   "source": [
    "print(rewards[50:150])"
   ]
  },
  {
   "cell_type": "code",
   "execution_count": 43,
   "metadata": {},
   "outputs": [
    {
     "data": {
      "image/png": "[encoded data removed]",
      "text/plain": [
       "<Figure size 432x288 with 1 Axes>"
      ]
     },
     "metadata": {
      "needs_background": "light"
     },
     "output_type": "display_data"
    }
   ],
   "source": [
    "plt.plot(rewards,'.')\n",
    "ax=plt.gca()\n",
    "ax.grid(True)"
   ]
  },
  {
   "cell_type": "markdown",
   "metadata": {},
   "source": [
    "Как выглядит дисконтирование."
   ]
  },
  {
   "cell_type": "code",
   "execution_count": 44,
   "metadata": {},
   "outputs": [
    {
     "data": {
      "image/png": "[encoded data removed]",
      "text/plain": [
       "<Figure size 432x288 with 1 Axes>"
      ]
     },
     "metadata": {
      "needs_background": "light"
     },
     "output_type": "display_data"
    }
   ],
   "source": [
    "plt.plot(discount_rewards(rewards, gamma),'.')\n",
    "ax=plt.gca()\n",
    "ax.grid(True)"
   ]
  },
  {
   "cell_type": "markdown",
   "metadata": {},
   "source": [
    "Сделаем одну итерацию обучения модели."
   ]
  },
  {
   "cell_type": "code",
   "execution_count": 53,
   "metadata": {},
   "outputs": [
    {
     "name": "stdout",
     "output_type": "stream",
     "text": [
      "Train on 1174 samples\n",
      "1174/1174 [==============================] - 0s 143us/sample - loss: -9.9557 - accuracy: 0.4404\n"
     ]
    },
    {
     "data": {
      "text/plain": [
       "<tensorflow.python.keras.callbacks.History at 0x119c25860>"
      ]
     },
     "execution_count": 53,
     "metadata": {},
     "output_type": "execute_result"
    }
   ],
   "source": [
    "# обучаем модель\n",
    "model.fit(x=np.array(x_train), y=np.vstack(y_train), verbose=1, \n",
    "              sample_weight=discount_rewards(rewards, gamma))"
   ]
  },
  {
   "cell_type": "markdown",
   "metadata": {},
   "source": [
    "Сделаем около $100$ таких итераций и посмотрим что получится. "
   ]
  },
  {
   "cell_type": "code",
   "execution_count": 54,
   "metadata": {},
   "outputs": [
    {
     "name": "stdout",
     "output_type": "stream",
     "text": [
      "Train on 1241 samples\n",
      "1241/1241 [==============================] - 0s 142us/sample - loss: -0.0241 - accuracy: 0.9492\n",
      "Прошла 0-ая игра\n",
      "Train on 1546 samples\n",
      "1546/1546 [==============================] - 0s 133us/sample - loss: 0.0054 - accuracy: 0.9735\n",
      "Прошла 1-ая игра\n",
      "Train on 1103 samples\n",
      "1103/1103 [==============================] - 0s 137us/sample - loss: -0.0034 - accuracy: 0.9683\n",
      "Прошла 2-ая игра\n",
      "Train on 1020 samples\n",
      "1020/1020 [==============================] - 0s 133us/sample - loss: 0.0045 - accuracy: 0.9794\n",
      "Прошла 3-ая игра\n",
      "Train on 1216 samples\n",
      "1216/1216 [==============================] - 0s 275us/sample - loss: 0.0104 - accuracy: 0.9877\n",
      "Прошла 4-ая игра\n"
     ]
    }
   ],
   "source": [
    "epochs = 5\n",
    "for i in range(epochs):\n",
    "    \n",
    "    x_train, y_train, rewards, reward_sum = generate_episode(verbose=0)\n",
    "    \n",
    "    model.fit(x=np.array(x_train), y=np.vstack(y_train), \n",
    "              sample_weight=discount_rewards(rewards, gamma))\n",
    "    print('Прошла {}-ая игра'.format(i))"
   ]
  },
  {
   "cell_type": "markdown",
   "metadata": {},
   "source": [
    "Посмотрим научилась ли чему-то наша небольшая нейронка. "
   ]
  },
  {
   "cell_type": "code",
   "execution_count": 55,
   "metadata": {},
   "outputs": [
    {
     "data": {
      "image/png": "[encoded data removed]",
      "text/plain": [
       "<Figure size 432x288 with 1 Axes>"
      ]
     },
     "metadata": {
      "needs_background": "light"
     },
     "output_type": "display_data"
    }
   ],
   "source": [
    "plt.plot(rewards,'.')\n",
    "ax=plt.gca()\n",
    "ax.grid(True)"
   ]
  },
  {
   "cell_type": "code",
   "execution_count": null,
   "metadata": {},
   "outputs": [],
   "source": [
    "plt.plot(rewards,'.')\n",
    "ax=plt.gca()\n",
    "ax.grid(True)"
   ]
  },
  {
   "cell_type": "code",
   "execution_count": null,
   "metadata": {},
   "outputs": [],
   "source": [
    "plt.plot(discount_rewards(rewards, gamma),'.')\n",
    "ax=plt.gca()\n",
    "ax.grid(True)"
   ]
  }
 ],
 "metadata": {
  "kernelspec": {
   "display_name": "Python 3",
   "language": "python",
   "name": "python3"
  },
  "language_info": {
   "codemirror_mode": {
    "name": "ipython",
    "version": 3
   },
   "file_extension": ".py",
   "mimetype": "text/x-python",
   "name": "python",
   "nbconvert_exporter": "python",
   "pygments_lexer": "ipython3",
   "version": "3.7.2"
  }
 },
 "nbformat": 4,
 "nbformat_minor": 2
}
